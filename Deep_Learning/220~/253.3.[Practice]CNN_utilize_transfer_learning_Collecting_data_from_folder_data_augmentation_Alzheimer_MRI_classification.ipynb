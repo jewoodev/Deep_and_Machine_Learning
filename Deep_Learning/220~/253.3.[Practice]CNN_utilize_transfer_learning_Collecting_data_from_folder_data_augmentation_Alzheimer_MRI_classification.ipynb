{
 "cells": [
  {
   "cell_type": "markdown",
   "metadata": {},
   "source": [
    "# 253.3.[실습] CNN활용_전이학습_폴더에서 데이터수집_데이터증강_알츠하이머_MRI 분류"
   ]
  },
  {
   "cell_type": "code",
   "execution_count": 2,
   "metadata": {},
   "outputs": [],
   "source": [
    "# 출처: 모두의 딥러닝, 개정2판, 제20장"
   ]
  },
  {
   "cell_type": "markdown",
   "metadata": {},
   "source": [
    "### 실습: 치매 환자의 뇌인지 일반인의 뇌인지 예측하기"
   ]
  },
  {
   "cell_type": "markdown",
   "metadata": {},
   "source": [
    "## 1. 전이학습 없는 CNN 구현(ImageDataGenerator 활용- 데이터 증강 없음)"
   ]
  },
  {
   "cell_type": "code",
   "execution_count": 1,
   "metadata": {
    "scrolled": true
   },
   "outputs": [
    {
     "name": "stdout",
     "output_type": "stream",
     "text": [
      "Found 160 images belonging to 2 classes.\n",
      "Found 120 images belonging to 2 classes.\n",
      "Metal device set to: Apple M1 Max\n"
     ]
    },
    {
     "name": "stderr",
     "output_type": "stream",
     "text": [
      "2023-02-22 23:37:17.528484: I tensorflow/core/common_runtime/pluggable_device/pluggable_device_factory.cc:305] Could not identify NUMA node of platform GPU ID 0, defaulting to 0. Your kernel may not have been built with NUMA support.\n",
      "2023-02-22 23:37:17.528618: I tensorflow/core/common_runtime/pluggable_device/pluggable_device_factory.cc:271] Created TensorFlow device (/job:localhost/replica:0/task:0/device:GPU:0 with 0 MB memory) -> physical PluggableDevice (device: 0, name: METAL, pci bus id: <undefined>)\n"
     ]
    },
    {
     "name": "stdout",
     "output_type": "stream",
     "text": [
      "Model: \"sequential\"\n",
      "_________________________________________________________________\n",
      " Layer (type)                Output Shape              Param #   \n",
      "=================================================================\n",
      " conv2d (Conv2D)             (None, 148, 148, 32)      896       \n",
      "                                                                 \n",
      " activation (Activation)     (None, 148, 148, 32)      0         \n",
      "                                                                 \n",
      " max_pooling2d (MaxPooling2D  (None, 74, 74, 32)       0         \n",
      " )                                                               \n",
      "                                                                 \n",
      " conv2d_1 (Conv2D)           (None, 72, 72, 32)        9248      \n",
      "                                                                 \n",
      " activation_1 (Activation)   (None, 72, 72, 32)        0         \n",
      "                                                                 \n",
      " max_pooling2d_1 (MaxPooling  (None, 36, 36, 32)       0         \n",
      " 2D)                                                             \n",
      "                                                                 \n",
      " conv2d_2 (Conv2D)           (None, 34, 34, 64)        18496     \n",
      "                                                                 \n",
      " activation_2 (Activation)   (None, 34, 34, 64)        0         \n",
      "                                                                 \n",
      " max_pooling2d_2 (MaxPooling  (None, 17, 17, 64)       0         \n",
      " 2D)                                                             \n",
      "                                                                 \n",
      " flatten (Flatten)           (None, 18496)             0         \n",
      "                                                                 \n",
      " dense (Dense)               (None, 64)                1183808   \n",
      "                                                                 \n",
      " activation_3 (Activation)   (None, 64)                0         \n",
      "                                                                 \n",
      " dropout (Dropout)           (None, 64)                0         \n",
      "                                                                 \n",
      " dense_1 (Dense)             (None, 1)                 65        \n",
      "                                                                 \n",
      " activation_4 (Activation)   (None, 1)                 0         \n",
      "                                                                 \n",
      "=================================================================\n",
      "Total params: 1,212,513\n",
      "Trainable params: 1,212,513\n",
      "Non-trainable params: 0\n",
      "_________________________________________________________________\n"
     ]
    }
   ],
   "source": [
    "from tensorflow.keras.models import Sequential\n",
    "from tensorflow.keras.layers import Dense, Activation, Dropout, Flatten, Conv2D, MaxPooling2D\n",
    "from tensorflow.keras.preprocessing.image import ImageDataGenerator\n",
    "from tensorflow.keras.callbacks import EarlyStopping\n",
    "from tensorflow.keras import optimizers\n",
    "\n",
    "import numpy as np\n",
    "import matplotlib.pyplot as plt\n",
    "\n",
    "#학습셋의 변형을 설정하는 부분입니다. \n",
    "train_datagen = ImageDataGenerator(rescale=1./255,          # 주어진 이미지의 크기를 설정합니다.\n",
    "                                  horizontal_flip=True,     # 수평 대칭 이미지를 50% 확률로 만들어 추가합니다.\n",
    "                                  width_shift_range=0.1,    # 전체 크기의 15% 범위에서 좌우로 이동합니다.\n",
    "                                  height_shift_range=0.1,   # 마찬가지로 위, 아래로 이동합니다.\n",
    "                                  #rotation_range=5,        # 정해진 각도만큼 회전시킵니다.\n",
    "                                  #shear_range=0.7,         # 좌표 하나를 고정시키고 나머지를 이동시킵니다.\n",
    "                                  #zoom_range=1.2,          # 확대 또는 축소시킵니다.\n",
    "                                  #vertical_flip=True,      # 수직 대칭 이미지를 만듭니다.\n",
    "                                  #fill_mode='nearest'      # 빈 공간을 채우는 방법입니다. nearest 옵션은 가장 비슷한 색으로 채우게 됩니다.\n",
    "                                  )      \n",
    "\n",
    "train_generator = train_datagen.flow_from_directory(\n",
    "       './data/train',   # 학습셋이 있는 폴더의 위치입니다.\n",
    "       target_size=(150, 150),\n",
    "       batch_size=5,\n",
    "       class_mode='binary')\n",
    "\n",
    "# 테스트셋은 이미지 부풀리기 과정을 진행하지 않습니다.\n",
    "test_datagen = ImageDataGenerator(rescale=1./255)  \n",
    "\n",
    "test_generator = test_datagen.flow_from_directory(\n",
    "       './data/test',   # 테스트셋이 있는 폴더의 위치입니다.\n",
    "       target_size=(150, 150),\n",
    "       batch_size=5,\n",
    "       class_mode='binary')\n",
    "\n",
    "\n",
    "# 앞서 배운 CNN 모델을 만들어 적용해 보겠습니다.\n",
    "model = Sequential()\n",
    "model.add(Conv2D(32, (3, 3), input_shape=(150,150,3)))\n",
    "model.add(Activation('relu'))\n",
    "model.add(MaxPooling2D(pool_size=(2, 2)))\n",
    "\n",
    "model.add(Conv2D(32, (3, 3)))\n",
    "model.add(Activation('relu'))\n",
    "model.add(MaxPooling2D(pool_size=(2, 2)))\n",
    "\n",
    "model.add(Conv2D(64, (3, 3)))\n",
    "model.add(Activation('relu'))\n",
    "model.add(MaxPooling2D(pool_size=(2, 2)))\n",
    "\n",
    "model.add(Flatten())\n",
    "model.add(Dense(64))\n",
    "model.add(Activation('relu'))\n",
    "model.add(Dropout(0.5))\n",
    "model.add(Dense(1))\n",
    "model.add(Activation('sigmoid'))\n",
    "model.summary()"
   ]
  },
  {
   "cell_type": "code",
   "execution_count": 2,
   "metadata": {},
   "outputs": [],
   "source": [
    "# conda install SciPy\n",
    "#!pip install SciPy"
   ]
  },
  {
   "cell_type": "code",
   "execution_count": 3,
   "metadata": {
    "scrolled": true
   },
   "outputs": [
    {
     "name": "stdout",
     "output_type": "stream",
     "text": [
      "Epoch 1/100\n"
     ]
    },
    {
     "name": "stderr",
     "output_type": "stream",
     "text": [
      "2023-02-22 23:41:40.816294: W tensorflow/core/platform/profile_utils/cpu_utils.cc:128] Failed to get CPU frequency: 0 Hz\n",
      "2023-02-22 23:41:41.071915: I tensorflow/core/grappler/optimizers/custom_graph_optimizer_registry.cc:113] Plugin optimizer for device_type GPU is enabled.\n"
     ]
    },
    {
     "name": "stdout",
     "output_type": "stream",
     "text": [
      "32/32 [==============================] - 4s 27ms/step - loss: 0.7023 - accuracy: 0.4938 - val_loss: 0.6887 - val_accuracy: 0.6200\n",
      "Epoch 2/100\n",
      " 1/32 [..............................] - ETA: 1s - loss: 0.6583 - accuracy: 0.6000"
     ]
    },
    {
     "name": "stderr",
     "output_type": "stream",
     "text": [
      "2023-02-22 23:41:44.221698: I tensorflow/core/grappler/optimizers/custom_graph_optimizer_registry.cc:113] Plugin optimizer for device_type GPU is enabled.\n"
     ]
    },
    {
     "name": "stdout",
     "output_type": "stream",
     "text": [
      "32/32 [==============================] - 1s 17ms/step - loss: 0.7006 - accuracy: 0.4875 - val_loss: 0.7076 - val_accuracy: 0.4000\n",
      "Epoch 3/100\n",
      "32/32 [==============================] - 1s 17ms/step - loss: 0.6917 - accuracy: 0.5375 - val_loss: 0.6904 - val_accuracy: 0.6600\n",
      "Epoch 4/100\n",
      "32/32 [==============================] - 1s 17ms/step - loss: 0.6847 - accuracy: 0.6062 - val_loss: 0.6826 - val_accuracy: 0.7400\n",
      "Epoch 5/100\n",
      "32/32 [==============================] - 1s 17ms/step - loss: 0.6801 - accuracy: 0.5875 - val_loss: 0.6796 - val_accuracy: 0.7000\n",
      "Epoch 6/100\n",
      "32/32 [==============================] - 1s 16ms/step - loss: 0.6780 - accuracy: 0.5312 - val_loss: 0.6714 - val_accuracy: 0.6800\n",
      "Epoch 7/100\n",
      "32/32 [==============================] - 1s 17ms/step - loss: 0.6734 - accuracy: 0.6375 - val_loss: 0.6689 - val_accuracy: 0.5400\n",
      "Epoch 8/100\n",
      "32/32 [==============================] - 1s 17ms/step - loss: 0.6459 - accuracy: 0.6313 - val_loss: 0.6211 - val_accuracy: 0.7600\n",
      "Epoch 9/100\n",
      "32/32 [==============================] - 1s 16ms/step - loss: 0.5928 - accuracy: 0.7250 - val_loss: 0.6241 - val_accuracy: 0.6400\n",
      "Epoch 10/100\n",
      "32/32 [==============================] - 1s 18ms/step - loss: 0.5897 - accuracy: 0.7000 - val_loss: 0.5733 - val_accuracy: 0.7800\n",
      "Epoch 11/100\n",
      "32/32 [==============================] - 1s 17ms/step - loss: 0.5554 - accuracy: 0.7375 - val_loss: 0.4949 - val_accuracy: 0.7800\n",
      "Epoch 12/100\n",
      "32/32 [==============================] - 1s 18ms/step - loss: 0.4783 - accuracy: 0.8063 - val_loss: 0.4237 - val_accuracy: 0.9600\n",
      "Epoch 13/100\n",
      "32/32 [==============================] - 1s 17ms/step - loss: 0.5023 - accuracy: 0.7875 - val_loss: 0.4401 - val_accuracy: 0.9800\n",
      "Epoch 14/100\n",
      "32/32 [==============================] - 1s 17ms/step - loss: 0.4091 - accuracy: 0.8125 - val_loss: 0.3552 - val_accuracy: 0.9200\n",
      "Epoch 15/100\n",
      "32/32 [==============================] - 1s 17ms/step - loss: 0.3613 - accuracy: 0.8562 - val_loss: 0.3189 - val_accuracy: 0.8400\n",
      "Epoch 16/100\n",
      "32/32 [==============================] - 1s 17ms/step - loss: 0.3684 - accuracy: 0.8188 - val_loss: 0.2455 - val_accuracy: 0.9800\n",
      "Epoch 17/100\n",
      "32/32 [==============================] - 1s 17ms/step - loss: 0.2984 - accuracy: 0.9062 - val_loss: 0.2385 - val_accuracy: 0.9000\n",
      "Epoch 18/100\n",
      "32/32 [==============================] - 1s 17ms/step - loss: 0.2750 - accuracy: 0.8813 - val_loss: 0.1949 - val_accuracy: 0.9400\n",
      "Epoch 19/100\n",
      "32/32 [==============================] - 1s 17ms/step - loss: 0.2434 - accuracy: 0.9062 - val_loss: 0.1971 - val_accuracy: 0.9800\n",
      "Epoch 20/100\n",
      "32/32 [==============================] - 1s 17ms/step - loss: 0.2355 - accuracy: 0.9187 - val_loss: 0.2035 - val_accuracy: 0.9400\n",
      "Epoch 21/100\n",
      "32/32 [==============================] - 1s 17ms/step - loss: 0.2598 - accuracy: 0.9187 - val_loss: 0.2150 - val_accuracy: 0.9000\n",
      "Epoch 22/100\n",
      "32/32 [==============================] - 1s 17ms/step - loss: 0.1924 - accuracy: 0.9438 - val_loss: 0.1275 - val_accuracy: 0.9600\n",
      "Epoch 23/100\n",
      "32/32 [==============================] - 1s 17ms/step - loss: 0.1929 - accuracy: 0.9500 - val_loss: 0.1761 - val_accuracy: 0.9000\n",
      "Epoch 24/100\n",
      "32/32 [==============================] - 1s 18ms/step - loss: 0.2051 - accuracy: 0.9250 - val_loss: 0.1786 - val_accuracy: 0.9200\n",
      "Epoch 25/100\n",
      "32/32 [==============================] - 1s 17ms/step - loss: 0.1819 - accuracy: 0.9375 - val_loss: 0.1486 - val_accuracy: 0.9400\n",
      "Epoch 26/100\n",
      "32/32 [==============================] - 1s 17ms/step - loss: 0.1698 - accuracy: 0.9500 - val_loss: 0.3055 - val_accuracy: 0.8600\n",
      "Epoch 27/100\n",
      "32/32 [==============================] - 1s 17ms/step - loss: 0.1700 - accuracy: 0.9500 - val_loss: 0.2113 - val_accuracy: 0.9200\n"
     ]
    }
   ],
   "source": [
    "#모델 실행의 옵션을 설정합니다. \n",
    "model.compile(loss='binary_crossentropy', optimizer=optimizers.Adam(learning_rate=0.0002), metrics=['accuracy'])\n",
    "\n",
    "# 학습의 조기 중단을 설정합니다.\n",
    "early_stopping_callback = EarlyStopping(monitor='val_loss', patience=5)\n",
    "\n",
    "#모델을 실행합니다\n",
    "history = model.fit(\n",
    "       train_generator,\n",
    "       epochs=100,\n",
    "       validation_data=test_generator,\n",
    "       validation_steps=10, \n",
    "       callbacks=[early_stopping_callback])"
   ]
  },
  {
   "cell_type": "code",
   "execution_count": 4,
   "metadata": {},
   "outputs": [
    {
     "data": {
      "image/png": "[encoded data removed]",
      "text/plain": [
       "<Figure size 640x480 with 1 Axes>"
      ]
     },
     "metadata": {},
     "output_type": "display_data"
    }
   ],
   "source": [
    "# 검증셋과 학습셋의 오차를 저장합니다.\n",
    "y_vloss = history.history['val_loss']\n",
    "y_loss = history.history['loss']\n",
    "\n",
    "# 그래프로 표현해 봅니다.\n",
    "x_len = np.arange(len(y_loss))\n",
    "plt.plot(x_len, y_vloss, marker='.', c=\"red\", label='Testset_loss')\n",
    "plt.plot(x_len, y_loss, marker='.', c=\"blue\", label='Trainset_loss')\n",
    "\n",
    "# 그래프에 그리드를 주고 레이블을 표시하겠습니다.\n",
    "plt.legend(loc='upper right')\n",
    "plt.grid()\n",
    "plt.xlabel('epoch')\n",
    "plt.ylabel('loss')\n",
    "plt.show()"
   ]
  },
  {
   "cell_type": "code",
   "execution_count": null,
   "metadata": {},
   "outputs": [],
   "source": []
  }
 ],
 "metadata": {
  "kernelspec": {
   "display_name": "Python 3 (ipykernel)",
   "language": "python",
   "name": "python3"
  },
  "language_info": {
   "codemirror_mode": {
    "name": "ipython",
    "version": 3
   },
   "file_extension": ".py",
   "mimetype": "text/x-python",
   "name": "python",
   "nbconvert_exporter": "python",
   "pygments_lexer": "ipython3",
   "version": "3.8.16"
  }
 },
 "nbformat": 4,
 "nbformat_minor": 2
}
