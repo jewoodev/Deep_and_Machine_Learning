{
 "cells": [
  {
   "cell_type": "markdown",
   "id": "6a726f9f",
   "metadata": {},
   "source": [
    "# CNN_MNIST : Basic CNN"
   ]
  },
  {
   "cell_type": "code",
   "execution_count": null,
   "id": "ce9b3b75",
   "metadata": {},
   "outputs": [],
   "source": []
  },
  {
   "cell_type": "markdown",
   "id": "characteristic-adventure",
   "metadata": {
    "id": "characteristic-adventure"
   },
   "source": [
    "## import"
   ]
  },
  {
   "cell_type": "code",
   "execution_count": 122,
   "id": "opened-yield",
   "metadata": {
    "id": "opened-yield"
   },
   "outputs": [],
   "source": [
    "# tensorflow 모듈 import \n",
    "import tensorflow as tf\n",
    "from tensorflow import keras"
   ]
  },
  {
   "cell_type": "markdown",
   "id": "clinical-cowboy",
   "metadata": {
    "id": "clinical-cowboy"
   },
   "source": [
    "## Dataset"
   ]
  },
  {
   "cell_type": "code",
   "execution_count": 123,
   "id": "2d789944",
   "metadata": {},
   "outputs": [
    {
     "data": {
      "text/plain": [
       "'c:\\\\develop_dir\\\\deep_and_machine_learning\\\\Deep_Learning\\\\220~'"
      ]
     },
     "execution_count": 123,
     "metadata": {},
     "output_type": "execute_result"
    }
   ],
   "source": [
    "pwd"
   ]
  },
  {
   "cell_type": "code",
   "execution_count": 124,
   "id": "a085cc46",
   "metadata": {},
   "outputs": [
    {
     "name": "stdout",
     "output_type": "stream",
     "text": [
      "(60000, 28, 28)\n",
      "(60000,)\n",
      "(10000, 28, 28)\n"
     ]
    }
   ],
   "source": [
    "import numpy as np\n",
    "\n",
    "# 2차원 배열 파일 메모리에 로드\n",
    "loaded_X_train = np.loadtxt('../100~/data/skyggle_MNIST/X_train.txt', )\n",
    "loaded_y_train = np.loadtxt('../100~/data/skyggle_MNIST/y_train.txt')\n",
    "loaded_X_test = np.loadtxt('../100~/data/skyggle_MNIST/X_test.txt')\n",
    "\n",
    "# 2차원 배열을 3차원으로 \n",
    "\n",
    "X_train_np = loaded_X_train.reshape(60000, 28, 28)\n",
    "y_train_np = loaded_y_train.astype(int)\n",
    "X_test = loaded_X_test.reshape(10000, 28, 28)\n",
    "# X_train = X_train\n",
    "# y_train_all = y_train_all.astype(int)\n",
    "print(X_train_np.shape)\n",
    "print(y_train_np.shape)\n",
    "print(X_test.shape)"
   ]
  },
  {
   "cell_type": "code",
   "execution_count": 125,
   "id": "93555d15",
   "metadata": {},
   "outputs": [
    {
     "name": "stdout",
     "output_type": "stream",
     "text": [
      "[[  0.   0.   0.   0.   0.   0.   0.   0.   0.   0.   0.   0.   0.   0.\n",
      "    0.   0.   0.   0.   0.   0.   0.   0.   0.   0.   0.   0.   0.   0.]\n",
      " [  0.   0.   0.   0.   0.   0.   0.   0.   0.   0.   0.   0.   0.   0.\n",
      "    0.   0.   0.   0.   0.   0.   0.   0.   0.   0.   0.   0.   0.   0.]\n",
      " [  0.   0.   0.   0.   0.   0.   0.   0.   0.   0.   0.   0.   0.   0.\n",
      "    0.   0.   0.   0.   0.   0.   0.   0.   0.   0.   0.   0.   0.   0.]\n",
      " [  0.   0.   0.   0.   0.   0.   0.   0.   0.   0.   0.   0.   0.   0.\n",
      "    0.   0.   0.   0.   0.   0.   0.   0.   0.   0.   0.   0.   0.   0.]\n",
      " [  0.   0.   0.   0.   0.   0.   0.   0.   0.   0.   0.   0.   0.   0.\n",
      "    0.   0.   0.   0.   0.   0.   0.   0.   0.   0.   0.   0.   0.   0.]\n",
      " [  0.   0.   0.   0.   0.   0.   0.   0.   0.   0.   0.   0.   3.  18.\n",
      "   18.  18. 126. 136. 175.  26. 166. 255. 247. 127.   0.   0.   0.   0.]\n",
      " [  0.   0.   0.   0.   0.   0.   0.   0.  30.  36.  94. 154. 170. 253.\n",
      "  253. 253. 253. 253. 225. 172. 253. 242. 195.  64.   0.   0.   0.   0.]\n",
      " [  0.   0.   0.   0.   0.   0.   0.  49. 238. 253. 253. 253. 253. 253.\n",
      "  253. 253. 253. 251.  93.  82.  82.  56.  39.   0.   0.   0.   0.   0.]\n",
      " [  0.   0.   0.   0.   0.   0.   0.  18. 219. 253. 253. 253. 253. 253.\n",
      "  198. 182. 247. 241.   0.   0.   0.   0.   0.   0.   0.   0.   0.   0.]\n",
      " [  0.   0.   0.   0.   0.   0.   0.   0.  80. 156. 107. 253. 253. 205.\n",
      "   11.   0.  43. 154.   0.   0.   0.   0.   0.   0.   0.   0.   0.   0.]\n",
      " [  0.   0.   0.   0.   0.   0.   0.   0.   0.  14.   1. 154. 253.  90.\n",
      "    0.   0.   0.   0.   0.   0.   0.   0.   0.   0.   0.   0.   0.   0.]\n",
      " [  0.   0.   0.   0.   0.   0.   0.   0.   0.   0.   0. 139. 253. 190.\n",
      "    2.   0.   0.   0.   0.   0.   0.   0.   0.   0.   0.   0.   0.   0.]\n",
      " [  0.   0.   0.   0.   0.   0.   0.   0.   0.   0.   0.  11. 190. 253.\n",
      "   70.   0.   0.   0.   0.   0.   0.   0.   0.   0.   0.   0.   0.   0.]\n",
      " [  0.   0.   0.   0.   0.   0.   0.   0.   0.   0.   0.   0.  35. 241.\n",
      "  225. 160. 108.   1.   0.   0.   0.   0.   0.   0.   0.   0.   0.   0.]\n",
      " [  0.   0.   0.   0.   0.   0.   0.   0.   0.   0.   0.   0.   0.  81.\n",
      "  240. 253. 253. 119.  25.   0.   0.   0.   0.   0.   0.   0.   0.   0.]\n",
      " [  0.   0.   0.   0.   0.   0.   0.   0.   0.   0.   0.   0.   0.   0.\n",
      "   45. 186. 253. 253. 150.  27.   0.   0.   0.   0.   0.   0.   0.   0.]\n",
      " [  0.   0.   0.   0.   0.   0.   0.   0.   0.   0.   0.   0.   0.   0.\n",
      "    0.  16.  93. 252. 253. 187.   0.   0.   0.   0.   0.   0.   0.   0.]\n",
      " [  0.   0.   0.   0.   0.   0.   0.   0.   0.   0.   0.   0.   0.   0.\n",
      "    0.   0.   0. 249. 253. 249.  64.   0.   0.   0.   0.   0.   0.   0.]\n",
      " [  0.   0.   0.   0.   0.   0.   0.   0.   0.   0.   0.   0.   0.   0.\n",
      "   46. 130. 183. 253. 253. 207.   2.   0.   0.   0.   0.   0.   0.   0.]\n",
      " [  0.   0.   0.   0.   0.   0.   0.   0.   0.   0.   0.   0.  39. 148.\n",
      "  229. 253. 253. 253. 250. 182.   0.   0.   0.   0.   0.   0.   0.   0.]\n",
      " [  0.   0.   0.   0.   0.   0.   0.   0.   0.   0.  24. 114. 221. 253.\n",
      "  253. 253. 253. 201.  78.   0.   0.   0.   0.   0.   0.   0.   0.   0.]\n",
      " [  0.   0.   0.   0.   0.   0.   0.   0.  23.  66. 213. 253. 253. 253.\n",
      "  253. 198.  81.   2.   0.   0.   0.   0.   0.   0.   0.   0.   0.   0.]\n",
      " [  0.   0.   0.   0.   0.   0.  18. 171. 219. 253. 253. 253. 253. 195.\n",
      "   80.   9.   0.   0.   0.   0.   0.   0.   0.   0.   0.   0.   0.   0.]\n",
      " [  0.   0.   0.   0.  55. 172. 226. 253. 253. 253. 253. 244. 133.  11.\n",
      "    0.   0.   0.   0.   0.   0.   0.   0.   0.   0.   0.   0.   0.   0.]\n",
      " [  0.   0.   0.   0. 136. 253. 253. 253. 212. 135. 132.  16.   0.   0.\n",
      "    0.   0.   0.   0.   0.   0.   0.   0.   0.   0.   0.   0.   0.   0.]\n",
      " [  0.   0.   0.   0.   0.   0.   0.   0.   0.   0.   0.   0.   0.   0.\n",
      "    0.   0.   0.   0.   0.   0.   0.   0.   0.   0.   0.   0.   0.   0.]\n",
      " [  0.   0.   0.   0.   0.   0.   0.   0.   0.   0.   0.   0.   0.   0.\n",
      "    0.   0.   0.   0.   0.   0.   0.   0.   0.   0.   0.   0.   0.   0.]\n",
      " [  0.   0.   0.   0.   0.   0.   0.   0.   0.   0.   0.   0.   0.   0.\n",
      "    0.   0.   0.   0.   0.   0.   0.   0.   0.   0.   0.   0.   0.   0.]]\n"
     ]
    }
   ],
   "source": [
    "# x_train[0] 데이터 확인\n",
    "# x_train[0] 값 출력\n",
    "print(X_train_np[0])"
   ]
  },
  {
   "cell_type": "code",
   "execution_count": 126,
   "id": "64687c63",
   "metadata": {
    "scrolled": true
   },
   "outputs": [
    {
     "data": {
      "text/plain": [
       "5"
      ]
     },
     "execution_count": 126,
     "metadata": {},
     "output_type": "execute_result"
    }
   ],
   "source": [
    "y_train_np[0]"
   ]
  },
  {
   "cell_type": "code",
   "execution_count": 127,
   "id": "joUirjDUmlPu",
   "metadata": {
    "colab": {
     "base_uri": "https://localhost:8080/",
     "height": 303
    },
    "executionInfo": {
     "elapsed": 2324,
     "status": "ok",
     "timestamp": 1620127354673,
     "user": {
      "displayName": "오승환",
      "photoUrl": "https://lh3.googleusercontent.com/a-/AOh14GgBRB1w8bMEGhEpsp7aa7I9MQGz2D37o6hJeKeW=s64",
      "userId": "00933700884551564729"
     },
     "user_tz": -540
    },
    "id": "joUirjDUmlPu",
    "outputId": "719f4b6d-87e5-4ca1-a020-493490fe1b8d"
   },
   "outputs": [
    {
     "data": {
      "image/png": "[encoded data removed]",
      "text/plain": [
       "<Figure size 500x500 with 1 Axes>"
      ]
     },
     "metadata": {},
     "output_type": "display_data"
    }
   ],
   "source": [
    "# 샘플 이미지 출력\n",
    "import matplotlib.pyplot as plt\n",
    "\n",
    "plt.figure(figsize=(5, 5))\n",
    "plt.imshow(X_train_np[0], cmap='gray')\n",
    "# plt.axis('off')\n",
    "plt.show()"
   ]
  },
  {
   "cell_type": "code",
   "execution_count": null,
   "id": "04cb42e8",
   "metadata": {},
   "outputs": [],
   "source": []
  },
  {
   "cell_type": "code",
   "execution_count": 128,
   "id": "b2e862a0",
   "metadata": {},
   "outputs": [
    {
     "data": {
      "text/plain": [
       "1    6742\n",
       "7    6265\n",
       "3    6131\n",
       "2    5958\n",
       "9    5949\n",
       "0    5923\n",
       "6    5918\n",
       "8    5851\n",
       "4    5842\n",
       "5    5421\n",
       "dtype: int64"
      ]
     },
     "execution_count": 128,
     "metadata": {},
     "output_type": "execute_result"
    }
   ],
   "source": [
    "# 타겟 분포확인\n",
    "import pandas as pd\n",
    "pd.Series(y_train_np).value_counts()"
   ]
  },
  {
   "cell_type": "markdown",
   "id": "fc8869a8",
   "metadata": {},
   "source": [
    "#### 데이터 준비: 분할, 정규화, 차원 변경, 원핫인코딩"
   ]
  },
  {
   "cell_type": "code",
   "execution_count": 129,
   "id": "224cc0ff",
   "metadata": {},
   "outputs": [],
   "source": [
    "# 데이터 분할\n",
    "from sklearn.model_selection import train_test_split\n",
    "\n",
    "X_train, X_val, y_train, y_val = train_test_split(X_train_np, y_train_np, test_size=0.2, stratify=y_train_np, random_state=42)"
   ]
  },
  {
   "cell_type": "code",
   "execution_count": 130,
   "id": "d2c59bbf",
   "metadata": {},
   "outputs": [
    {
     "data": {
      "text/plain": [
       "((48000, 28, 28), (12000, 28, 28), (48000,), (12000,))"
      ]
     },
     "execution_count": 130,
     "metadata": {},
     "output_type": "execute_result"
    }
   ],
   "source": [
    "X_train.shape ,X_val.shape, y_train.shape, y_val.shape"
   ]
  },
  {
   "cell_type": "code",
   "execution_count": 131,
   "id": "485bf312",
   "metadata": {},
   "outputs": [],
   "source": [
    "# 데이터 정규화\n",
    "X_train = X_train / 255\n",
    "X_val = X_val / 255"
   ]
  },
  {
   "cell_type": "code",
   "execution_count": 164,
   "id": "891b91ff",
   "metadata": {},
   "outputs": [
    {
     "data": {
      "text/plain": [
       "((48000, 784), (12000, 784))"
      ]
     },
     "execution_count": 164,
     "metadata": {},
     "output_type": "execute_result"
    }
   ],
   "source": [
    "# 순차 심층 신경망 입력을 위해 데이터 차원 변경\n",
    "X_train = X_train.reshape(-1, 784)\n",
    "X_val = X_val.reshape(-1, 784)\n",
    "X_test = X_test.reshape(-1, 784)\n",
    "X_train.shape, X_val.shape"
   ]
  },
  {
   "cell_type": "code",
   "execution_count": 133,
   "id": "a6851efa",
   "metadata": {},
   "outputs": [
    {
     "ename": "NameError",
     "evalue": "name 'stop' is not defined",
     "output_type": "error",
     "traceback": [
      "\u001b[1;31m---------------------------------------------------------------------------\u001b[0m",
      "\u001b[1;31mNameError\u001b[0m                                 Traceback (most recent call last)",
      "Cell \u001b[1;32mIn[133], line 1\u001b[0m\n\u001b[1;32m----> 1\u001b[0m stop\n",
      "\u001b[1;31mNameError\u001b[0m: name 'stop' is not defined"
     ]
    }
   ],
   "source": [
    "stop"
   ]
  },
  {
   "cell_type": "code",
   "execution_count": 134,
   "id": "3c483747",
   "metadata": {},
   "outputs": [
    {
     "name": "stdout",
     "output_type": "stream",
     "text": [
      "learning_rate: 0.01000\n",
      "Epoch 1/5\n",
      "  73/1500 [>.............................] - ETA: 1:01 - loss: 2.1077 - accuracy: 0.2265"
     ]
    },
    {
     "ename": "KeyboardInterrupt",
     "evalue": "",
     "output_type": "error",
     "traceback": [
      "\u001b[1;31m---------------------------------------------------------------------------\u001b[0m",
      "\u001b[1;31mKeyboardInterrupt\u001b[0m                         Traceback (most recent call last)",
      "Cell \u001b[1;32mIn[134], line 62\u001b[0m\n\u001b[0;32m     59\u001b[0m \u001b[39m# 콜백 객체생성 및 scheduler 함수 적용\u001b[39;00m\n\u001b[0;32m     60\u001b[0m lr_scheduler \u001b[39m=\u001b[39m tf\u001b[39m.\u001b[39mkeras\u001b[39m.\u001b[39mcallbacks\u001b[39m.\u001b[39mLearningRateScheduler(scheduler)\n\u001b[1;32m---> 62\u001b[0m model\u001b[39m.\u001b[39;49mfit(X_train, y_train, \\\n\u001b[0;32m     63\u001b[0m     validation_data\u001b[39m=\u001b[39;49m(X_val, y_val),\n\u001b[0;32m     64\u001b[0m     epochs\u001b[39m=\u001b[39;49m\u001b[39m5\u001b[39;49m,\n\u001b[0;32m     65\u001b[0m     callbacks\u001b[39m=\u001b[39;49m[checkpoint, earlystopping, lr_scheduler])\n",
      "File \u001b[1;32mc:\\Users\\PlayData\\anaconda3\\envs\\tf2\\lib\\site-packages\\keras\\utils\\traceback_utils.py:64\u001b[0m, in \u001b[0;36mfilter_traceback.<locals>.error_handler\u001b[1;34m(*args, **kwargs)\u001b[0m\n\u001b[0;32m     62\u001b[0m filtered_tb \u001b[39m=\u001b[39m \u001b[39mNone\u001b[39;00m\n\u001b[0;32m     63\u001b[0m \u001b[39mtry\u001b[39;00m:\n\u001b[1;32m---> 64\u001b[0m   \u001b[39mreturn\u001b[39;00m fn(\u001b[39m*\u001b[39;49margs, \u001b[39m*\u001b[39;49m\u001b[39m*\u001b[39;49mkwargs)\n\u001b[0;32m     65\u001b[0m \u001b[39mexcept\u001b[39;00m \u001b[39mException\u001b[39;00m \u001b[39mas\u001b[39;00m e:  \u001b[39m# pylint: disable=broad-except\u001b[39;00m\n\u001b[0;32m     66\u001b[0m   filtered_tb \u001b[39m=\u001b[39m _process_traceback_frames(e\u001b[39m.\u001b[39m__traceback__)\n",
      "File \u001b[1;32mc:\\Users\\PlayData\\anaconda3\\envs\\tf2\\lib\\site-packages\\keras\\engine\\training.py:1409\u001b[0m, in \u001b[0;36mModel.fit\u001b[1;34m(self, x, y, batch_size, epochs, verbose, callbacks, validation_split, validation_data, shuffle, class_weight, sample_weight, initial_epoch, steps_per_epoch, validation_steps, validation_batch_size, validation_freq, max_queue_size, workers, use_multiprocessing)\u001b[0m\n\u001b[0;32m   1402\u001b[0m \u001b[39mwith\u001b[39;00m tf\u001b[39m.\u001b[39mprofiler\u001b[39m.\u001b[39mexperimental\u001b[39m.\u001b[39mTrace(\n\u001b[0;32m   1403\u001b[0m     \u001b[39m'\u001b[39m\u001b[39mtrain\u001b[39m\u001b[39m'\u001b[39m,\n\u001b[0;32m   1404\u001b[0m     epoch_num\u001b[39m=\u001b[39mepoch,\n\u001b[0;32m   1405\u001b[0m     step_num\u001b[39m=\u001b[39mstep,\n\u001b[0;32m   1406\u001b[0m     batch_size\u001b[39m=\u001b[39mbatch_size,\n\u001b[0;32m   1407\u001b[0m     _r\u001b[39m=\u001b[39m\u001b[39m1\u001b[39m):\n\u001b[0;32m   1408\u001b[0m   callbacks\u001b[39m.\u001b[39mon_train_batch_begin(step)\n\u001b[1;32m-> 1409\u001b[0m   tmp_logs \u001b[39m=\u001b[39m \u001b[39mself\u001b[39;49m\u001b[39m.\u001b[39;49mtrain_function(iterator)\n\u001b[0;32m   1410\u001b[0m   \u001b[39mif\u001b[39;00m data_handler\u001b[39m.\u001b[39mshould_sync:\n\u001b[0;32m   1411\u001b[0m     context\u001b[39m.\u001b[39masync_wait()\n",
      "File \u001b[1;32mc:\\Users\\PlayData\\anaconda3\\envs\\tf2\\lib\\site-packages\\tensorflow\\python\\util\\traceback_utils.py:150\u001b[0m, in \u001b[0;36mfilter_traceback.<locals>.error_handler\u001b[1;34m(*args, **kwargs)\u001b[0m\n\u001b[0;32m    148\u001b[0m filtered_tb \u001b[39m=\u001b[39m \u001b[39mNone\u001b[39;00m\n\u001b[0;32m    149\u001b[0m \u001b[39mtry\u001b[39;00m:\n\u001b[1;32m--> 150\u001b[0m   \u001b[39mreturn\u001b[39;00m fn(\u001b[39m*\u001b[39;49margs, \u001b[39m*\u001b[39;49m\u001b[39m*\u001b[39;49mkwargs)\n\u001b[0;32m    151\u001b[0m \u001b[39mexcept\u001b[39;00m \u001b[39mException\u001b[39;00m \u001b[39mas\u001b[39;00m e:\n\u001b[0;32m    152\u001b[0m   filtered_tb \u001b[39m=\u001b[39m _process_traceback_frames(e\u001b[39m.\u001b[39m__traceback__)\n",
      "File \u001b[1;32mc:\\Users\\PlayData\\anaconda3\\envs\\tf2\\lib\\site-packages\\tensorflow\\python\\eager\\def_function.py:915\u001b[0m, in \u001b[0;36mFunction.__call__\u001b[1;34m(self, *args, **kwds)\u001b[0m\n\u001b[0;32m    912\u001b[0m compiler \u001b[39m=\u001b[39m \u001b[39m\"\u001b[39m\u001b[39mxla\u001b[39m\u001b[39m\"\u001b[39m \u001b[39mif\u001b[39;00m \u001b[39mself\u001b[39m\u001b[39m.\u001b[39m_jit_compile \u001b[39melse\u001b[39;00m \u001b[39m\"\u001b[39m\u001b[39mnonXla\u001b[39m\u001b[39m\"\u001b[39m\n\u001b[0;32m    914\u001b[0m \u001b[39mwith\u001b[39;00m OptionalXlaContext(\u001b[39mself\u001b[39m\u001b[39m.\u001b[39m_jit_compile):\n\u001b[1;32m--> 915\u001b[0m   result \u001b[39m=\u001b[39m \u001b[39mself\u001b[39;49m\u001b[39m.\u001b[39;49m_call(\u001b[39m*\u001b[39;49margs, \u001b[39m*\u001b[39;49m\u001b[39m*\u001b[39;49mkwds)\n\u001b[0;32m    917\u001b[0m new_tracing_count \u001b[39m=\u001b[39m \u001b[39mself\u001b[39m\u001b[39m.\u001b[39mexperimental_get_tracing_count()\n\u001b[0;32m    918\u001b[0m without_tracing \u001b[39m=\u001b[39m (tracing_count \u001b[39m==\u001b[39m new_tracing_count)\n",
      "File \u001b[1;32mc:\\Users\\PlayData\\anaconda3\\envs\\tf2\\lib\\site-packages\\tensorflow\\python\\eager\\def_function.py:947\u001b[0m, in \u001b[0;36mFunction._call\u001b[1;34m(self, *args, **kwds)\u001b[0m\n\u001b[0;32m    944\u001b[0m   \u001b[39mself\u001b[39m\u001b[39m.\u001b[39m_lock\u001b[39m.\u001b[39mrelease()\n\u001b[0;32m    945\u001b[0m   \u001b[39m# In this case we have created variables on the first call, so we run the\u001b[39;00m\n\u001b[0;32m    946\u001b[0m   \u001b[39m# defunned version which is guaranteed to never create variables.\u001b[39;00m\n\u001b[1;32m--> 947\u001b[0m   \u001b[39mreturn\u001b[39;00m \u001b[39mself\u001b[39;49m\u001b[39m.\u001b[39;49m_stateless_fn(\u001b[39m*\u001b[39;49margs, \u001b[39m*\u001b[39;49m\u001b[39m*\u001b[39;49mkwds)  \u001b[39m# pylint: disable=not-callable\u001b[39;00m\n\u001b[0;32m    948\u001b[0m \u001b[39melif\u001b[39;00m \u001b[39mself\u001b[39m\u001b[39m.\u001b[39m_stateful_fn \u001b[39mis\u001b[39;00m \u001b[39mnot\u001b[39;00m \u001b[39mNone\u001b[39;00m:\n\u001b[0;32m    949\u001b[0m   \u001b[39m# Release the lock early so that multiple threads can perform the call\u001b[39;00m\n\u001b[0;32m    950\u001b[0m   \u001b[39m# in parallel.\u001b[39;00m\n\u001b[0;32m    951\u001b[0m   \u001b[39mself\u001b[39m\u001b[39m.\u001b[39m_lock\u001b[39m.\u001b[39mrelease()\n",
      "File \u001b[1;32mc:\\Users\\PlayData\\anaconda3\\envs\\tf2\\lib\\site-packages\\tensorflow\\python\\eager\\function.py:2453\u001b[0m, in \u001b[0;36mFunction.__call__\u001b[1;34m(self, *args, **kwargs)\u001b[0m\n\u001b[0;32m   2450\u001b[0m \u001b[39mwith\u001b[39;00m \u001b[39mself\u001b[39m\u001b[39m.\u001b[39m_lock:\n\u001b[0;32m   2451\u001b[0m   (graph_function,\n\u001b[0;32m   2452\u001b[0m    filtered_flat_args) \u001b[39m=\u001b[39m \u001b[39mself\u001b[39m\u001b[39m.\u001b[39m_maybe_define_function(args, kwargs)\n\u001b[1;32m-> 2453\u001b[0m \u001b[39mreturn\u001b[39;00m graph_function\u001b[39m.\u001b[39;49m_call_flat(\n\u001b[0;32m   2454\u001b[0m     filtered_flat_args, captured_inputs\u001b[39m=\u001b[39;49mgraph_function\u001b[39m.\u001b[39;49mcaptured_inputs)\n",
      "File \u001b[1;32mc:\\Users\\PlayData\\anaconda3\\envs\\tf2\\lib\\site-packages\\tensorflow\\python\\eager\\function.py:1860\u001b[0m, in \u001b[0;36mConcreteFunction._call_flat\u001b[1;34m(self, args, captured_inputs, cancellation_manager)\u001b[0m\n\u001b[0;32m   1856\u001b[0m possible_gradient_type \u001b[39m=\u001b[39m gradients_util\u001b[39m.\u001b[39mPossibleTapeGradientTypes(args)\n\u001b[0;32m   1857\u001b[0m \u001b[39mif\u001b[39;00m (possible_gradient_type \u001b[39m==\u001b[39m gradients_util\u001b[39m.\u001b[39mPOSSIBLE_GRADIENT_TYPES_NONE\n\u001b[0;32m   1858\u001b[0m     \u001b[39mand\u001b[39;00m executing_eagerly):\n\u001b[0;32m   1859\u001b[0m   \u001b[39m# No tape is watching; skip to running the function.\u001b[39;00m\n\u001b[1;32m-> 1860\u001b[0m   \u001b[39mreturn\u001b[39;00m \u001b[39mself\u001b[39m\u001b[39m.\u001b[39m_build_call_outputs(\u001b[39mself\u001b[39;49m\u001b[39m.\u001b[39;49m_inference_function\u001b[39m.\u001b[39;49mcall(\n\u001b[0;32m   1861\u001b[0m       ctx, args, cancellation_manager\u001b[39m=\u001b[39;49mcancellation_manager))\n\u001b[0;32m   1862\u001b[0m forward_backward \u001b[39m=\u001b[39m \u001b[39mself\u001b[39m\u001b[39m.\u001b[39m_select_forward_and_backward_functions(\n\u001b[0;32m   1863\u001b[0m     args,\n\u001b[0;32m   1864\u001b[0m     possible_gradient_type,\n\u001b[0;32m   1865\u001b[0m     executing_eagerly)\n\u001b[0;32m   1866\u001b[0m forward_function, args_with_tangents \u001b[39m=\u001b[39m forward_backward\u001b[39m.\u001b[39mforward()\n",
      "File \u001b[1;32mc:\\Users\\PlayData\\anaconda3\\envs\\tf2\\lib\\site-packages\\tensorflow\\python\\eager\\function.py:497\u001b[0m, in \u001b[0;36m_EagerDefinedFunction.call\u001b[1;34m(self, ctx, args, cancellation_manager)\u001b[0m\n\u001b[0;32m    495\u001b[0m \u001b[39mwith\u001b[39;00m _InterpolateFunctionError(\u001b[39mself\u001b[39m):\n\u001b[0;32m    496\u001b[0m   \u001b[39mif\u001b[39;00m cancellation_manager \u001b[39mis\u001b[39;00m \u001b[39mNone\u001b[39;00m:\n\u001b[1;32m--> 497\u001b[0m     outputs \u001b[39m=\u001b[39m execute\u001b[39m.\u001b[39;49mexecute(\n\u001b[0;32m    498\u001b[0m         \u001b[39mstr\u001b[39;49m(\u001b[39mself\u001b[39;49m\u001b[39m.\u001b[39;49msignature\u001b[39m.\u001b[39;49mname),\n\u001b[0;32m    499\u001b[0m         num_outputs\u001b[39m=\u001b[39;49m\u001b[39mself\u001b[39;49m\u001b[39m.\u001b[39;49m_num_outputs,\n\u001b[0;32m    500\u001b[0m         inputs\u001b[39m=\u001b[39;49margs,\n\u001b[0;32m    501\u001b[0m         attrs\u001b[39m=\u001b[39;49mattrs,\n\u001b[0;32m    502\u001b[0m         ctx\u001b[39m=\u001b[39;49mctx)\n\u001b[0;32m    503\u001b[0m   \u001b[39melse\u001b[39;00m:\n\u001b[0;32m    504\u001b[0m     outputs \u001b[39m=\u001b[39m execute\u001b[39m.\u001b[39mexecute_with_cancellation(\n\u001b[0;32m    505\u001b[0m         \u001b[39mstr\u001b[39m(\u001b[39mself\u001b[39m\u001b[39m.\u001b[39msignature\u001b[39m.\u001b[39mname),\n\u001b[0;32m    506\u001b[0m         num_outputs\u001b[39m=\u001b[39m\u001b[39mself\u001b[39m\u001b[39m.\u001b[39m_num_outputs,\n\u001b[1;32m   (...)\u001b[0m\n\u001b[0;32m    509\u001b[0m         ctx\u001b[39m=\u001b[39mctx,\n\u001b[0;32m    510\u001b[0m         cancellation_manager\u001b[39m=\u001b[39mcancellation_manager)\n",
      "File \u001b[1;32mc:\\Users\\PlayData\\anaconda3\\envs\\tf2\\lib\\site-packages\\tensorflow\\python\\eager\\execute.py:54\u001b[0m, in \u001b[0;36mquick_execute\u001b[1;34m(op_name, num_outputs, inputs, attrs, ctx, name)\u001b[0m\n\u001b[0;32m     52\u001b[0m \u001b[39mtry\u001b[39;00m:\n\u001b[0;32m     53\u001b[0m   ctx\u001b[39m.\u001b[39mensure_initialized()\n\u001b[1;32m---> 54\u001b[0m   tensors \u001b[39m=\u001b[39m pywrap_tfe\u001b[39m.\u001b[39;49mTFE_Py_Execute(ctx\u001b[39m.\u001b[39;49m_handle, device_name, op_name,\n\u001b[0;32m     55\u001b[0m                                       inputs, attrs, num_outputs)\n\u001b[0;32m     56\u001b[0m \u001b[39mexcept\u001b[39;00m core\u001b[39m.\u001b[39m_NotOkStatusException \u001b[39mas\u001b[39;00m e:\n\u001b[0;32m     57\u001b[0m   \u001b[39mif\u001b[39;00m name \u001b[39mis\u001b[39;00m \u001b[39mnot\u001b[39;00m \u001b[39mNone\u001b[39;00m:\n",
      "\u001b[1;31mKeyboardInterrupt\u001b[0m: "
     ]
    }
   ],
   "source": [
    "from sklearn.model_selection import train_test_split\n",
    "from tensorflow.keras.layers import Dropout, Dense\n",
    "from keras import optimizers\n",
    "from keras.models import Sequential\n",
    "\n",
    "model = tf.keras.models.Sequential([\n",
    "tf.keras.layers.Flatten(input_shape=(784, )),\n",
    "tf.keras.layers.Dense(1000),\n",
    "tf.keras.layers.Activation(\"relu\"),\n",
    "tf.keras.layers.Dropout(0.2),\n",
    "tf.keras.layers.Dense(900),\n",
    "tf.keras.layers.Activation(\"relu\"),\n",
    "tf.keras.layers.Dropout(0.2),\n",
    "tf.keras.layers.Dense(800),\n",
    "tf.keras.layers.Activation(\"relu\"),\n",
    "tf.keras.layers.Dropout(0.2),\n",
    "tf.keras.layers.Dense(700),\n",
    "tf.keras.layers.Activation(\"tanh\"),\n",
    "tf.keras.layers.Dropout(0.2),\n",
    "tf.keras.layers.Dense(600),\n",
    "tf.keras.layers.BatchNormalization(),\n",
    "tf.keras.layers.Activation(\"relu\"),\n",
    "tf.keras.layers.Dropout(0.2),\n",
    "tf.keras.layers.Dense(500),\n",
    "tf.keras.layers.Activation(\"relu\"),\n",
    "tf.keras.layers.Dropout(0.2),\n",
    "tf.keras.layers.Dense(400),\n",
    "tf.keras.layers.Activation(\"relu\"),\n",
    "tf.keras.layers.Dropout(0.2),\n",
    "tf.keras.layers.Dense(300),\n",
    "tf.keras.layers.Activation(\"relu\"),\n",
    "tf.keras.layers.Dropout(0.2),\n",
    "tf.keras.layers.Dense(200),\n",
    "tf.keras.layers.Activation(\"relu\"),\n",
    "tf.keras.layers.Dropout(0.2),\n",
    "tf.keras.layers.Dense(100),\n",
    "tf.keras.layers.Activation(\"relu\"),\n",
    "tf.keras.layers.Dense(10),\n",
    "tf.keras.layers.Activation(\"softmax\"),\n",
    "])\n",
    "model.compile(loss='sparse_categorical_crossentropy', metrics='accuracy', \\\n",
    "    optimizer='adam')\n",
    "\n",
    "checkpoint = tf.keras.callbacks.ModelCheckpoint(filepath='./tmp_checkpoints.ckpt', \\\n",
    "    save_weights_only=True, save_best_only=True, moniter='val_loss', \\\n",
    "        verbose=1)\n",
    "\n",
    "earlystopping = tf.keras.callbacks.EarlyStopping(monitor='val_loss', patience=10)\n",
    "\n",
    "def scheduler(epoch, lr):\n",
    "    tf.print(f'learning_rate: {lr:.5f}')\n",
    "    # 첫 5 에포크 동안 유지\n",
    "    if epoch < 5:\n",
    "        return lr\n",
    "    else:\n",
    "    # 학습률 감소 적용\n",
    "        return lr * tf.math.exp(-0.1)\n",
    "\n",
    "# 콜백 객체생성 및 scheduler 함수 적용\n",
    "lr_scheduler = tf.keras.callbacks.LearningRateScheduler(scheduler)\n",
    "\n",
    "model.fit(X_train, y_train, \\\n",
    "    validation_data=(X_val, y_val),\n",
    "    epochs=5,\n",
    "    callbacks=[checkpoint, earlystopping, lr_scheduler])"
   ]
  },
  {
   "cell_type": "code",
   "execution_count": null,
   "id": "e849edee",
   "metadata": {},
   "outputs": [
    {
     "name": "stdout",
     "output_type": "stream",
     "text": [
      "Model: \"sequential_6\"\n",
      "_________________________________________________________________\n",
      " Layer (type)                Output Shape              Param #   \n",
      "=================================================================\n",
      " flatten_6 (Flatten)         (None, 784)               0         \n",
      "                                                                 \n",
      " dense_66 (Dense)            (None, 1000)              785000    \n",
      "                                                                 \n",
      " activation_66 (Activation)  (None, 1000)              0         \n",
      "                                                                 \n",
      " dropout_54 (Dropout)        (None, 1000)              0         \n",
      "                                                                 \n",
      " dense_67 (Dense)            (None, 900)               900900    \n",
      "                                                                 \n",
      " activation_67 (Activation)  (None, 900)               0         \n",
      "                                                                 \n",
      " dropout_55 (Dropout)        (None, 900)               0         \n",
      "                                                                 \n",
      " dense_68 (Dense)            (None, 800)               720800    \n",
      "                                                                 \n",
      " activation_68 (Activation)  (None, 800)               0         \n",
      "                                                                 \n",
      " dropout_56 (Dropout)        (None, 800)               0         \n",
      "                                                                 \n",
      " dense_69 (Dense)            (None, 700)               560700    \n",
      "                                                                 \n",
      " activation_69 (Activation)  (None, 700)               0         \n",
      "                                                                 \n",
      " dropout_57 (Dropout)        (None, 700)               0         \n",
      "                                                                 \n",
      " dense_70 (Dense)            (None, 600)               420600    \n",
      "                                                                 \n",
      " batch_normalization_6 (Batc  (None, 600)              2400      \n",
      " hNormalization)                                                 \n",
      "                                                                 \n",
      " activation_70 (Activation)  (None, 600)               0         \n",
      "                                                                 \n",
      " dropout_58 (Dropout)        (None, 600)               0         \n",
      "                                                                 \n",
      " dense_71 (Dense)            (None, 500)               300500    \n",
      "                                                                 \n",
      " activation_71 (Activation)  (None, 500)               0         \n",
      "                                                                 \n",
      " dropout_59 (Dropout)        (None, 500)               0         \n",
      "                                                                 \n",
      " dense_72 (Dense)            (None, 400)               200400    \n",
      "                                                                 \n",
      " activation_72 (Activation)  (None, 400)               0         \n",
      "                                                                 \n",
      " dropout_60 (Dropout)        (None, 400)               0         \n",
      "                                                                 \n",
      " dense_73 (Dense)            (None, 300)               120300    \n",
      "                                                                 \n",
      " activation_73 (Activation)  (None, 300)               0         \n",
      "                                                                 \n",
      " dropout_61 (Dropout)        (None, 300)               0         \n",
      "                                                                 \n",
      " dense_74 (Dense)            (None, 200)               60200     \n",
      "                                                                 \n",
      " activation_74 (Activation)  (None, 200)               0         \n",
      "                                                                 \n",
      " dropout_62 (Dropout)        (None, 200)               0         \n",
      "                                                                 \n",
      " dense_75 (Dense)            (None, 100)               20100     \n",
      "                                                                 \n",
      " activation_75 (Activation)  (None, 100)               0         \n",
      "                                                                 \n",
      " dense_76 (Dense)            (None, 10)                1010      \n",
      "                                                                 \n",
      " activation_76 (Activation)  (None, 10)                0         \n",
      "                                                                 \n",
      "=================================================================\n",
      "Total params: 4,092,910\n",
      "Trainable params: 4,091,710\n",
      "Non-trainable params: 1,200\n",
      "_________________________________________________________________\n"
     ]
    }
   ],
   "source": [
    "#모델 구조 시각화\n",
    "dnn_model = model\n",
    "dnn_model.summary()"
   ]
  },
  {
   "cell_type": "code",
   "execution_count": null,
   "id": "d993b049",
   "metadata": {},
   "outputs": [
    {
     "name": "stdout",
     "output_type": "stream",
     "text": [
      "Epoch 1/5\n",
      "1500/1500 - 44s - loss: 0.0912 - accuracy: 0.9763 - val_loss: 0.1049 - val_accuracy: 0.9761 - 44s/epoch - 29ms/step\n",
      "Epoch 2/5\n",
      "1500/1500 - 40s - loss: 0.0821 - accuracy: 0.9778 - val_loss: 0.0971 - val_accuracy: 0.9766 - 40s/epoch - 27ms/step\n",
      "Epoch 3/5\n",
      "1500/1500 - 42s - loss: 0.0724 - accuracy: 0.9808 - val_loss: 0.0910 - val_accuracy: 0.9774 - 42s/epoch - 28ms/step\n",
      "Epoch 4/5\n",
      "1500/1500 - 43s - loss: 0.0621 - accuracy: 0.9842 - val_loss: 0.0907 - val_accuracy: 0.9786 - 43s/epoch - 29ms/step\n",
      "Epoch 5/5\n",
      "1500/1500 - 43s - loss: 0.0582 - accuracy: 0.9837 - val_loss: 0.0870 - val_accuracy: 0.9806 - 43s/epoch - 29ms/step\n"
     ]
    }
   ],
   "source": [
    "# dnn_model 학습 \n",
    "dnn_hist = dnn_model.fit(X_train, y_train, epochs= 5, validation_data=(X_val, y_val), verbose=2 )"
   ]
  },
  {
   "cell_type": "code",
   "execution_count": null,
   "id": "fc98b39f",
   "metadata": {},
   "outputs": [],
   "source": [
    "# 모델을 파일로 저장\n",
    "dnn_model.save('mnist_20230223.h5')"
   ]
  },
  {
   "cell_type": "code",
   "execution_count": null,
   "id": "d8b85fc2",
   "metadata": {},
   "outputs": [],
   "source": [
    "# 모델 복원\n",
    "h5_loaded = tf.keras.models.load_model('mnist_20230223.h5')"
   ]
  },
  {
   "cell_type": "code",
   "execution_count": null,
   "id": "71f4894c",
   "metadata": {},
   "outputs": [
    {
     "name": "stdout",
     "output_type": "stream",
     "text": [
      "375/375 [==============================] - 3s 8ms/step - loss: 0.0870 - accuracy: 0.9806\n",
      "[0.0869554653763771, 0.9805833101272583]\n"
     ]
    }
   ],
   "source": [
    "# 모델 성능 테스트 \n",
    "print(dnn_model.evaluate(X_val, y_val))"
   ]
  },
  {
   "cell_type": "code",
   "execution_count": null,
   "id": "564f74b9",
   "metadata": {},
   "outputs": [
    {
     "name": "stdout",
     "output_type": "stream",
     "text": [
      "375/375 [==============================] - 3s 8ms/step - loss: 0.0870 - accuracy: 0.9806\n",
      "[0.0869554653763771, 0.9805833101272583]\n"
     ]
    }
   ],
   "source": [
    "# 복원한 모델 성능 테스트\n",
    "print(h5_loaded.evaluate(X_val, y_val))"
   ]
  },
  {
   "cell_type": "code",
   "execution_count": 167,
   "id": "1e47881b",
   "metadata": {},
   "outputs": [
    {
     "name": "stdout",
     "output_type": "stream",
     "text": [
      "313/313 [==============================] - 3s 9ms/step\n"
     ]
    }
   ],
   "source": [
    "answer = h5_loaded.predict(X_test)\n",
    "answer = np.argmax(answer, axis=-1)"
   ]
  },
  {
   "cell_type": "code",
   "execution_count": 170,
   "id": "38818096",
   "metadata": {},
   "outputs": [],
   "source": [
    "submission = pd.read_csv('../100~/data/skyggle_MNIST/submission.csv')\n",
    "submission['label'] = answer\n",
    "submission.to_csv('DNN_MNIST_submission.csv', index=False)"
   ]
  },
  {
   "cell_type": "markdown",
   "id": "portuguese-oriental",
   "metadata": {
    "id": "portuguese-oriental"
   },
   "source": [
    "## Simple CNN"
   ]
  },
  {
   "cell_type": "markdown",
   "id": "c52cfb29",
   "metadata": {},
   "source": [
    "####  데이터셋 준비하기"
   ]
  },
  {
   "cell_type": "code",
   "execution_count": 135,
   "id": "d13076c4",
   "metadata": {},
   "outputs": [],
   "source": [
    "# 데이터 분할\n",
    "X_train, X_val, y_train, y_val = train_test_split(X_train_np, y_train_np, \\\n",
    "    stratify=y_train_np, test_size=0.2, random_state=42)"
   ]
  },
  {
   "cell_type": "code",
   "execution_count": 190,
   "id": "bd3a9750",
   "metadata": {},
   "outputs": [],
   "source": [
    "X_train = X_train.reshape(-1, 28, 28)\n",
    "X_val = X_val.reshape(-1, 28, 28)\n",
    "X_test = X_test.reshape(-1, 28, 28)"
   ]
  },
  {
   "cell_type": "code",
   "execution_count": 180,
   "id": "professional-quantity",
   "metadata": {
    "colab": {
     "base_uri": "https://localhost:8080/"
    },
    "executionInfo": {
     "elapsed": 4296,
     "status": "ok",
     "timestamp": 1617871380359,
     "user": {
      "displayName": "오승환",
      "photoUrl": "https://lh3.googleusercontent.com/a-/AOh14GgBRB1w8bMEGhEpsp7aa7I9MQGz2D37o6hJeKeW=s64",
      "userId": "00933700884551564729"
     },
     "user_tz": -540
    },
    "id": "professional-quantity",
    "outputId": "652adc39-35d6-456f-ff31-9fec9415535c"
   },
   "outputs": [
    {
     "name": "stdout",
     "output_type": "stream",
     "text": [
      "(48000, 28, 28, 1) (12000, 28, 28, 1) (10000, 784, 1)\n"
     ]
    }
   ],
   "source": [
    "# CNN은 (데이터샘플 수, 행의 갯수, 열의 갯수, 채널수)의 형태로 제공되어야 함.\n",
    "#When using this layer as the first layer in a model, \n",
    "#provide the keyword argument input_shape (tuple of integers or None, does not include the sample axis), \n",
    "#e.g. input_shape=(128, 128, 3) for 128x128 RGB pictures in data_format=\"channels_last\". \n",
    "#You can use None when a dimension has variable size.\n",
    "# https://www.tensorflow.org/api_docs/python/tf/keras/layers/Conv2D\n",
    "# 채널 추가 :minst 데이터셋은 색을 나타내는 채널이 1개인 모노컬러. 색상 채널 추가\n",
    "\n",
    "X_train_in = X_train[..., tf.newaxis]\n",
    "X_val_in = X_val[..., tf.newaxis]\n",
    "X_test_in = X_test[..., tf.newaxis]\n",
    "\n",
    "print(X_train_in.shape, X_val_in.shape, X_test_in.shape)"
   ]
  },
  {
   "cell_type": "raw",
   "id": "883e4d1f",
   "metadata": {},
   "source": [
    "# 방법 2) numpy의 newaxis를 이용하는 법\n",
    "import numpy as np\n",
    "x_train_in = x_train[:, :, :, np.newaxis]\n",
    "x_valid_in = x_valid[:, :, :, np.newaxis]\n",
    "\n",
    "print(x_train_in.shape, x_valid_in.shape)\n",
    "\n",
    "#채널 추가방법: \n",
    "tf.newaxis\n",
    "np.newaxis\n",
    "tf.expand_dims()\n",
    "tf.expand_dims(x_train, -1)"
   ]
  },
  {
   "cell_type": "code",
   "execution_count": null,
   "id": "7974ebc8",
   "metadata": {},
   "outputs": [],
   "source": []
  },
  {
   "cell_type": "code",
   "execution_count": 174,
   "id": "unusual-clone",
   "metadata": {
    "id": "unusual-clone"
   },
   "outputs": [],
   "source": [
    "from keras.layers import Conv2D, MaxPooling2D, Flatten\n",
    "# Sequential API를 사용하여 샘플 모델 생성: 합성곱 레이어1개, 풀링 레이어 1개\n",
    "cnn_model = tf.keras.Sequential([\n",
    "    Conv2D(filters=32, kernel_size=(3, 3), activation='relu',\n",
    "    input_shape=(28, 28, 1), name=\"conv_jewoos\"),\n",
    "    MaxPooling2D((2, 2), name='pool_jewoos'),\n",
    "    Flatten(),\n",
    "    tf.keras.layers.Dense(100),\n",
    "    tf.keras.layers.Activation(\"relu\"),\n",
    "    tf.keras.layers.Dropout(0.5),\n",
    "    tf.keras.layers.Dense(50),\n",
    "    tf.keras.layers.Activation(\"relu\"),\n",
    "    tf.keras.layers.Dropout(0.5),\n",
    "    tf.keras.layers.Dense(30),\n",
    "    tf.keras.layers.Activation(\"relu\"),\n",
    "    Dense(10, activation='softmax')\n",
    "])"
   ]
  },
  {
   "cell_type": "code",
   "execution_count": 194,
   "id": "211de37b",
   "metadata": {
    "colab": {
     "base_uri": "https://localhost:8080/"
    },
    "executionInfo": {
     "elapsed": 116071,
     "status": "ok",
     "timestamp": 1617871492139,
     "user": {
      "displayName": "오승환",
      "photoUrl": "https://lh3.googleusercontent.com/a-/AOh14GgBRB1w8bMEGhEpsp7aa7I9MQGz2D37o6hJeKeW=s64",
      "userId": "00933700884551564729"
     },
     "user_tz": -540
    },
    "id": "bulgarian-reader",
    "outputId": "c78392b6-0e9b-4273-b072-06ee73d14bf4"
   },
   "outputs": [],
   "source": [
    "# 모델 컴파일\n",
    "cnn_model.compile(loss='sparse_categorical_crossentropy', \\\n",
    "    metrics='accuracy', optimizer=optimizers.SGD(learning_rate=0.01, decay=1e-6, momentum=0.9, nesterov=True))"
   ]
  },
  {
   "cell_type": "code",
   "execution_count": 177,
   "id": "5a228e03",
   "metadata": {},
   "outputs": [
    {
     "name": "stdout",
     "output_type": "stream",
     "text": [
      "Model: \"sequential_11\"\n",
      "_________________________________________________________________\n",
      " Layer (type)                Output Shape              Param #   \n",
      "=================================================================\n",
      " conv_jewoos (Conv2D)        (None, 26, 26, 32)        320       \n",
      "                                                                 \n",
      " pool_jewoos (MaxPooling2D)  (None, 13, 13, 32)        0         \n",
      "                                                                 \n",
      " flatten_11 (Flatten)        (None, 5408)              0         \n",
      "                                                                 \n",
      " dense_92 (Dense)            (None, 100)               540900    \n",
      "                                                                 \n",
      " activation_89 (Activation)  (None, 100)               0         \n",
      "                                                                 \n",
      " dropout_73 (Dropout)        (None, 100)               0         \n",
      "                                                                 \n",
      " dense_93 (Dense)            (None, 50)                5050      \n",
      "                                                                 \n",
      " activation_90 (Activation)  (None, 50)                0         \n",
      "                                                                 \n",
      " dropout_74 (Dropout)        (None, 50)                0         \n",
      "                                                                 \n",
      " dense_94 (Dense)            (None, 30)                1530      \n",
      "                                                                 \n",
      " activation_91 (Activation)  (None, 30)                0         \n",
      "                                                                 \n",
      " dense_95 (Dense)            (None, 10)                310       \n",
      "                                                                 \n",
      "=================================================================\n",
      "Total params: 548,110\n",
      "Trainable params: 548,110\n",
      "Non-trainable params: 0\n",
      "_________________________________________________________________\n"
     ]
    }
   ],
   "source": [
    "#모델 구조 파악\n",
    "\n",
    "# conv 레이어 output( valid padding : 28, 28 -> 26, 26의 특성맵이 32는 커널(필터) 수만큼 생성)\n",
    "# (28, 28, 1) 이미지에 서로 다른 32개 커널을 적용해서 32종류의 피처(특징)을 추출\n",
    "# pool 레이어: (2, 2) 풀링을 적용하므로 이미지 크기가 1/2로 줄어듬(13, 13)\n",
    "\n",
    "# conv param: 320  (학습 가능한 파라미터 수)\n",
    "#  ( 3* 3(커널의 크기) * 1( 채널 수) * 필터수(32) = 288 ) + (32(필터별 상수항, 바이어스) = 320\n",
    "cnn_model.summary()"
   ]
  },
  {
   "cell_type": "code",
   "execution_count": 178,
   "id": "52137ccf",
   "metadata": {},
   "outputs": [
    {
     "data": {
      "image/png": "[encoded data removed]",
      "text/plain": [
       "<IPython.core.display.Image object>"
      ]
     },
     "execution_count": 178,
     "metadata": {},
     "output_type": "execute_result"
    }
   ],
   "source": [
    "#모델 구조 시각화\n",
    "from keras.utils import plot_model\n",
    "plot_model(cnn_model, show_shapes=True, to_file='mnist_cnn_20230223.png')"
   ]
  },
  {
   "cell_type": "markdown",
   "id": "fd509795",
   "metadata": {},
   "source": [
    "* 모델 구조 세부 확인"
   ]
  },
  {
   "cell_type": "code",
   "execution_count": 142,
   "id": "476624e4",
   "metadata": {},
   "outputs": [
    {
     "data": {
      "text/plain": [
       "<KerasTensor: shape=(None, 28, 28, 1) dtype=float32 (created by layer 'conv_jewoos_input')>"
      ]
     },
     "execution_count": 142,
     "metadata": {},
     "output_type": "execute_result"
    }
   ],
   "source": [
    "# 모델의 입력 텐서 확인\n",
    "cnn_model.input\n",
    "# (None, 28, 28, 1) : 가장 앞에 있는 축이 None인 것은 batch크가기 들어오는 자리로 배치 크리로 어떤 값이든 가능하다는 뜻"
   ]
  },
  {
   "cell_type": "code",
   "execution_count": 143,
   "id": "5c02d60f",
   "metadata": {},
   "outputs": [
    {
     "data": {
      "text/plain": [
       "<KerasTensor: shape=(None, 10) dtype=float32 (created by layer 'dense_89')>"
      ]
     },
     "execution_count": 143,
     "metadata": {},
     "output_type": "execute_result"
    }
   ],
   "source": [
    "# 모델의 출력 텐서 \n",
    "cnn_model.output"
   ]
  },
  {
   "cell_type": "code",
   "execution_count": 144,
   "id": "ac29f9e6",
   "metadata": {},
   "outputs": [
    {
     "data": {
      "text/plain": [
       "[<keras.layers.convolutional.conv2d.Conv2D at 0x226c6506790>,\n",
       " <keras.layers.pooling.max_pooling2d.MaxPooling2D at 0x226c65069d0>,\n",
       " <keras.layers.reshaping.flatten.Flatten at 0x226c6506880>,\n",
       " <keras.layers.core.dense.Dense at 0x226c6506ca0>]"
      ]
     },
     "execution_count": 144,
     "metadata": {},
     "output_type": "execute_result"
    }
   ],
   "source": [
    "# 모델을 구성하는 레이어 확인\n",
    "cnn_model.layers"
   ]
  },
  {
   "cell_type": "code",
   "execution_count": 145,
   "id": "26b6c6c5",
   "metadata": {},
   "outputs": [
    {
     "data": {
      "text/plain": [
       "<keras.layers.convolutional.conv2d.Conv2D at 0x226c6506790>"
      ]
     },
     "execution_count": 145,
     "metadata": {},
     "output_type": "execute_result"
    }
   ],
   "source": [
    "# 레이어 선택: 리스트 인덱싱\n",
    "cnn_model.layers[0]"
   ]
  },
  {
   "cell_type": "code",
   "execution_count": 146,
   "id": "2547ce24",
   "metadata": {},
   "outputs": [
    {
     "data": {
      "text/plain": [
       "<KerasTensor: shape=(None, 28, 28, 1) dtype=float32 (created by layer 'conv_jewoos_input')>"
      ]
     },
     "execution_count": 146,
     "metadata": {},
     "output_type": "execute_result"
    }
   ],
   "source": [
    "# 첫 번째 레이어 입력 정보\n",
    "cnn_model.layers[0].input"
   ]
  },
  {
   "cell_type": "code",
   "execution_count": 147,
   "id": "1b260628",
   "metadata": {},
   "outputs": [
    {
     "data": {
      "text/plain": [
       "<KerasTensor: shape=(None, 26, 26, 32) dtype=float32 (created by layer 'conv_jewoos')>"
      ]
     },
     "execution_count": 147,
     "metadata": {},
     "output_type": "execute_result"
    }
   ],
   "source": [
    "#첫 번째 레이어 출력\n",
    "cnn_model.layers[0].output"
   ]
  },
  {
   "cell_type": "code",
   "execution_count": 148,
   "id": "52bdebb4",
   "metadata": {},
   "outputs": [
    {
     "data": {
      "text/plain": [
       "<tf.Tensor: shape=(1, 32), dtype=float32, numpy=\n",
       "array([[-0.11949124, -0.12377535,  0.01283805,  0.08364786, -0.0808434 ,\n",
       "        -0.1242861 , -0.13086136, -0.1291631 , -0.02235416, -0.02127315,\n",
       "        -0.04708541, -0.11022465, -0.06026525, -0.00878824, -0.0195472 ,\n",
       "        -0.02965038, -0.10021541,  0.12711431, -0.03508499,  0.12176369,\n",
       "         0.1058659 ,  0.13912235,  0.12026893, -0.10675557,  0.05770144,\n",
       "        -0.0581108 ,  0.10503009,  0.0326937 , -0.1345781 ,  0.08470249,\n",
       "        -0.12383116,  0.01774718]], dtype=float32)>"
      ]
     },
     "execution_count": 148,
     "metadata": {},
     "output_type": "execute_result"
    }
   ],
   "source": [
    "# 첫 번째 레이어의 가중치\n",
    "cnn_model.layers[0].weights[0][0][0]"
   ]
  },
  {
   "cell_type": "code",
   "execution_count": 149,
   "id": "789c3c37",
   "metadata": {},
   "outputs": [
    {
     "data": {
      "text/plain": [
       "<tf.Variable 'conv_jewoos/kernel:0' shape=(3, 3, 1, 32) dtype=float32, numpy=\n",
       "array([[[[-0.11949124, -0.12377535,  0.01283805,  0.08364786,\n",
       "          -0.0808434 , -0.1242861 , -0.13086136, -0.1291631 ,\n",
       "          -0.02235416, -0.02127315, -0.04708541, -0.11022465,\n",
       "          -0.06026525, -0.00878824, -0.0195472 , -0.02965038,\n",
       "          -0.10021541,  0.12711431, -0.03508499,  0.12176369,\n",
       "           0.1058659 ,  0.13912235,  0.12026893, -0.10675557,\n",
       "           0.05770144, -0.0581108 ,  0.10503009,  0.0326937 ,\n",
       "          -0.1345781 ,  0.08470249, -0.12383116,  0.01774718]],\n",
       "\n",
       "        [[-0.06585141, -0.11978546,  0.07454206, -0.13934523,\n",
       "          -0.03435566, -0.043029  , -0.13826899, -0.04297281,\n",
       "          -0.06897928, -0.02735024,  0.12054877,  0.01530257,\n",
       "           0.0460228 , -0.04702546,  0.1049796 , -0.1222795 ,\n",
       "          -0.0256435 , -0.12286592,  0.08695184, -0.03583986,\n",
       "           0.04662773, -0.06319718,  0.11639254,  0.09166411,\n",
       "          -0.13188028, -0.05472765, -0.03165945, -0.02437042,\n",
       "          -0.00911011,  0.12981282,  0.11572449,  0.04949738]],\n",
       "\n",
       "        [[ 0.0855792 ,  0.08155084,  0.05252063, -0.13469067,\n",
       "          -0.02119904,  0.04512616, -0.07358959, -0.1345865 ,\n",
       "          -0.00319277,  0.0597581 ,  0.11052494,  0.02612683,\n",
       "           0.04659621,  0.11445265, -0.12385451, -0.12868014,\n",
       "          -0.06661143,  0.07673135, -0.00959507, -0.00944844,\n",
       "           0.0365106 , -0.10949685, -0.03592627,  0.0928937 ,\n",
       "           0.05128863,  0.06116004, -0.06059765, -0.03197847,\n",
       "          -0.10617189, -0.0036989 ,  0.00387722,  0.02517705]]],\n",
       "\n",
       "\n",
       "       [[[-0.03249874,  0.13407455, -0.09387719, -0.04222681,\n",
       "          -0.14105704, -0.07741919,  0.08262947,  0.11396326,\n",
       "           0.0397653 ,  0.07491685,  0.07533386,  0.02257772,\n",
       "           0.04822898, -0.08869565,  0.04161976,  0.11327575,\n",
       "          -0.07809819, -0.07264589,  0.02410887, -0.12651691,\n",
       "          -0.0210847 ,  0.01273297,  0.01807408,  0.05388565,\n",
       "           0.11993138, -0.04386561, -0.10435167,  0.0509323 ,\n",
       "          -0.10086154, -0.00922576,  0.01773894,  0.00391921]],\n",
       "\n",
       "        [[-0.13157056, -0.07805895, -0.02635249,  0.12792437,\n",
       "           0.11219262,  0.12790476, -0.095303  , -0.02850291,\n",
       "          -0.03217702, -0.03680996, -0.09966172,  0.1100813 ,\n",
       "          -0.05069678,  0.07533698,  0.10463585, -0.043447  ,\n",
       "           0.04721801,  0.12798204, -0.05782401, -0.01268952,\n",
       "          -0.10260325,  0.07054745,  0.09509297,  0.06063537,\n",
       "           0.05320503, -0.09801961,  0.00990768,  0.09827127,\n",
       "           0.06635857,  0.0984145 , -0.12973687, -0.09744468]],\n",
       "\n",
       "        [[-0.03630249, -0.01153928,  0.04644834,  0.01228639,\n",
       "          -0.10405732, -0.04276522,  0.11227481,  0.06089169,\n",
       "          -0.00241871,  0.07450531, -0.064978  , -0.12255727,\n",
       "          -0.00092787, -0.03357402,  0.02252783,  0.05697781,\n",
       "          -0.08884221,  0.12040813, -0.02801162,  0.12537546,\n",
       "           0.05979116, -0.02810277, -0.08332749,  0.10126439,\n",
       "          -0.06825785, -0.0072538 ,  0.0569464 , -0.0646278 ,\n",
       "          -0.08914544, -0.05400521,  0.02071878, -0.01638325]]],\n",
       "\n",
       "\n",
       "       [[[ 0.10589981, -0.06419235, -0.08562169, -0.0384985 ,\n",
       "           0.14123152,  0.0887174 ,  0.1406795 ,  0.06170478,\n",
       "          -0.07767199, -0.02864552, -0.0218263 ,  0.08901493,\n",
       "           0.0708296 , -0.14045243,  0.01655637,  0.12331621,\n",
       "          -0.07078398,  0.01071738, -0.1068433 , -0.03986286,\n",
       "           0.01745401, -0.02451377, -0.12736762,  0.00264789,\n",
       "           0.12779613, -0.07865428,  0.06760837, -0.0507446 ,\n",
       "           0.11961864,  0.05936842,  0.0846231 ,  0.11176644]],\n",
       "\n",
       "        [[ 0.0833851 ,  0.00578532, -0.09752086,  0.06766123,\n",
       "          -0.00533217, -0.1189297 ,  0.09328471, -0.03791679,\n",
       "          -0.03120733, -0.04508498,  0.06478146,  0.0673009 ,\n",
       "          -0.05888858,  0.10354868,  0.11511351,  0.10620937,\n",
       "           0.13141371,  0.12050439, -0.07797759,  0.06692924,\n",
       "           0.01311623, -0.08613048,  0.08133461,  0.1129653 ,\n",
       "          -0.06034129, -0.11671231,  0.09324065, -0.07756247,\n",
       "          -0.10733948, -0.02372121,  0.12335299,  0.00115848]],\n",
       "\n",
       "        [[ 0.04255803, -0.04689425,  0.14064534,  0.06602   ,\n",
       "           0.05542015, -0.08975096, -0.12546128, -0.1391157 ,\n",
       "          -0.02576878, -0.11264678,  0.10810666,  0.1207398 ,\n",
       "           0.10409304,  0.09339568, -0.12713355,  0.00054382,\n",
       "           0.0839792 ,  0.1386319 ,  0.1293395 , -0.02809247,\n",
       "          -0.00635126,  0.09927192, -0.04436314, -0.06676853,\n",
       "          -0.04322453,  0.1263863 , -0.03011467,  0.13383143,\n",
       "           0.02967247,  0.11638804,  0.11889507,  0.12551679]]]],\n",
       "      dtype=float32)>"
      ]
     },
     "execution_count": 149,
     "metadata": {},
     "output_type": "execute_result"
    }
   ],
   "source": [
    "# 첫번째 레이어의 커널, 필터의 가중치\n",
    "cnn_model.layers[0].kernel"
   ]
  },
  {
   "cell_type": "code",
   "execution_count": 221,
   "id": "15f14652",
   "metadata": {},
   "outputs": [
    {
     "data": {
      "text/plain": [
       "(48000, 28, 28, 1)"
      ]
     },
     "execution_count": 221,
     "metadata": {},
     "output_type": "execute_result"
    }
   ],
   "source": [
    "X_train_in.shape"
   ]
  },
  {
   "cell_type": "code",
   "execution_count": 219,
   "id": "c068ac27",
   "metadata": {},
   "outputs": [
    {
     "ename": "ValueError",
     "evalue": "Found array with dim 4. MinMaxScaler expected <= 2.",
     "output_type": "error",
     "traceback": [
      "\u001b[1;31m---------------------------------------------------------------------------\u001b[0m",
      "\u001b[1;31mValueError\u001b[0m                                Traceback (most recent call last)",
      "Cell \u001b[1;32mIn[219], line 4\u001b[0m\n\u001b[0;32m      1\u001b[0m \u001b[39mfrom\u001b[39;00m \u001b[39msklearn\u001b[39;00m\u001b[39m.\u001b[39;00m\u001b[39mpreprocessing\u001b[39;00m \u001b[39mimport\u001b[39;00m MinMaxScaler\n\u001b[0;32m      3\u001b[0m scaler \u001b[39m=\u001b[39m MinMaxScaler()\n\u001b[1;32m----> 4\u001b[0m X_train_in \u001b[39m=\u001b[39m scaler\u001b[39m.\u001b[39;49mfit_transform(X_train_in)\n\u001b[0;32m      5\u001b[0m X_test_in \u001b[39m=\u001b[39m scaler\u001b[39m.\u001b[39mfit_transform(X_test_in)\n\u001b[0;32m      6\u001b[0m X_val_in \u001b[39m=\u001b[39m scaler\u001b[39m.\u001b[39mfit_transform(X_val_in)\n",
      "File \u001b[1;32mc:\\Users\\PlayData\\anaconda3\\envs\\tf2\\lib\\site-packages\\sklearn\\utils\\_set_output.py:142\u001b[0m, in \u001b[0;36m_wrap_method_output.<locals>.wrapped\u001b[1;34m(self, X, *args, **kwargs)\u001b[0m\n\u001b[0;32m    140\u001b[0m \u001b[39m@wraps\u001b[39m(f)\n\u001b[0;32m    141\u001b[0m \u001b[39mdef\u001b[39;00m \u001b[39mwrapped\u001b[39m(\u001b[39mself\u001b[39m, X, \u001b[39m*\u001b[39margs, \u001b[39m*\u001b[39m\u001b[39m*\u001b[39mkwargs):\n\u001b[1;32m--> 142\u001b[0m     data_to_wrap \u001b[39m=\u001b[39m f(\u001b[39mself\u001b[39;49m, X, \u001b[39m*\u001b[39;49margs, \u001b[39m*\u001b[39;49m\u001b[39m*\u001b[39;49mkwargs)\n\u001b[0;32m    143\u001b[0m     \u001b[39mif\u001b[39;00m \u001b[39misinstance\u001b[39m(data_to_wrap, \u001b[39mtuple\u001b[39m):\n\u001b[0;32m    144\u001b[0m         \u001b[39m# only wrap the first output for cross decomposition\u001b[39;00m\n\u001b[0;32m    145\u001b[0m         \u001b[39mreturn\u001b[39;00m (\n\u001b[0;32m    146\u001b[0m             _wrap_data_with_container(method, data_to_wrap[\u001b[39m0\u001b[39m], X, \u001b[39mself\u001b[39m),\n\u001b[0;32m    147\u001b[0m             \u001b[39m*\u001b[39mdata_to_wrap[\u001b[39m1\u001b[39m:],\n\u001b[0;32m    148\u001b[0m         )\n",
      "File \u001b[1;32mc:\\Users\\PlayData\\anaconda3\\envs\\tf2\\lib\\site-packages\\sklearn\\base.py:859\u001b[0m, in \u001b[0;36mTransformerMixin.fit_transform\u001b[1;34m(self, X, y, **fit_params)\u001b[0m\n\u001b[0;32m    855\u001b[0m \u001b[39m# non-optimized default implementation; override when a better\u001b[39;00m\n\u001b[0;32m    856\u001b[0m \u001b[39m# method is possible for a given clustering algorithm\u001b[39;00m\n\u001b[0;32m    857\u001b[0m \u001b[39mif\u001b[39;00m y \u001b[39mis\u001b[39;00m \u001b[39mNone\u001b[39;00m:\n\u001b[0;32m    858\u001b[0m     \u001b[39m# fit method of arity 1 (unsupervised transformation)\u001b[39;00m\n\u001b[1;32m--> 859\u001b[0m     \u001b[39mreturn\u001b[39;00m \u001b[39mself\u001b[39;49m\u001b[39m.\u001b[39;49mfit(X, \u001b[39m*\u001b[39;49m\u001b[39m*\u001b[39;49mfit_params)\u001b[39m.\u001b[39mtransform(X)\n\u001b[0;32m    860\u001b[0m \u001b[39melse\u001b[39;00m:\n\u001b[0;32m    861\u001b[0m     \u001b[39m# fit method of arity 2 (supervised transformation)\u001b[39;00m\n\u001b[0;32m    862\u001b[0m     \u001b[39mreturn\u001b[39;00m \u001b[39mself\u001b[39m\u001b[39m.\u001b[39mfit(X, y, \u001b[39m*\u001b[39m\u001b[39m*\u001b[39mfit_params)\u001b[39m.\u001b[39mtransform(X)\n",
      "File \u001b[1;32mc:\\Users\\PlayData\\anaconda3\\envs\\tf2\\lib\\site-packages\\sklearn\\preprocessing\\_data.py:427\u001b[0m, in \u001b[0;36mMinMaxScaler.fit\u001b[1;34m(self, X, y)\u001b[0m\n\u001b[0;32m    425\u001b[0m \u001b[39m# Reset internal state before fitting\u001b[39;00m\n\u001b[0;32m    426\u001b[0m \u001b[39mself\u001b[39m\u001b[39m.\u001b[39m_reset()\n\u001b[1;32m--> 427\u001b[0m \u001b[39mreturn\u001b[39;00m \u001b[39mself\u001b[39;49m\u001b[39m.\u001b[39;49mpartial_fit(X, y)\n",
      "File \u001b[1;32mc:\\Users\\PlayData\\anaconda3\\envs\\tf2\\lib\\site-packages\\sklearn\\preprocessing\\_data.py:466\u001b[0m, in \u001b[0;36mMinMaxScaler.partial_fit\u001b[1;34m(self, X, y)\u001b[0m\n\u001b[0;32m    460\u001b[0m     \u001b[39mraise\u001b[39;00m \u001b[39mTypeError\u001b[39;00m(\n\u001b[0;32m    461\u001b[0m         \u001b[39m\"\u001b[39m\u001b[39mMinMaxScaler does not support sparse input. \u001b[39m\u001b[39m\"\u001b[39m\n\u001b[0;32m    462\u001b[0m         \u001b[39m\"\u001b[39m\u001b[39mConsider using MaxAbsScaler instead.\u001b[39m\u001b[39m\"\u001b[39m\n\u001b[0;32m    463\u001b[0m     )\n\u001b[0;32m    465\u001b[0m first_pass \u001b[39m=\u001b[39m \u001b[39mnot\u001b[39;00m \u001b[39mhasattr\u001b[39m(\u001b[39mself\u001b[39m, \u001b[39m\"\u001b[39m\u001b[39mn_samples_seen_\u001b[39m\u001b[39m\"\u001b[39m)\n\u001b[1;32m--> 466\u001b[0m X \u001b[39m=\u001b[39m \u001b[39mself\u001b[39;49m\u001b[39m.\u001b[39;49m_validate_data(\n\u001b[0;32m    467\u001b[0m     X,\n\u001b[0;32m    468\u001b[0m     reset\u001b[39m=\u001b[39;49mfirst_pass,\n\u001b[0;32m    469\u001b[0m     dtype\u001b[39m=\u001b[39;49mFLOAT_DTYPES,\n\u001b[0;32m    470\u001b[0m     force_all_finite\u001b[39m=\u001b[39;49m\u001b[39m\"\u001b[39;49m\u001b[39mallow-nan\u001b[39;49m\u001b[39m\"\u001b[39;49m,\n\u001b[0;32m    471\u001b[0m )\n\u001b[0;32m    473\u001b[0m data_min \u001b[39m=\u001b[39m np\u001b[39m.\u001b[39mnanmin(X, axis\u001b[39m=\u001b[39m\u001b[39m0\u001b[39m)\n\u001b[0;32m    474\u001b[0m data_max \u001b[39m=\u001b[39m np\u001b[39m.\u001b[39mnanmax(X, axis\u001b[39m=\u001b[39m\u001b[39m0\u001b[39m)\n",
      "File \u001b[1;32mc:\\Users\\PlayData\\anaconda3\\envs\\tf2\\lib\\site-packages\\sklearn\\base.py:546\u001b[0m, in \u001b[0;36mBaseEstimator._validate_data\u001b[1;34m(self, X, y, reset, validate_separately, **check_params)\u001b[0m\n\u001b[0;32m    544\u001b[0m     \u001b[39mraise\u001b[39;00m \u001b[39mValueError\u001b[39;00m(\u001b[39m\"\u001b[39m\u001b[39mValidation should be done on X, y or both.\u001b[39m\u001b[39m\"\u001b[39m)\n\u001b[0;32m    545\u001b[0m \u001b[39melif\u001b[39;00m \u001b[39mnot\u001b[39;00m no_val_X \u001b[39mand\u001b[39;00m no_val_y:\n\u001b[1;32m--> 546\u001b[0m     X \u001b[39m=\u001b[39m check_array(X, input_name\u001b[39m=\u001b[39;49m\u001b[39m\"\u001b[39;49m\u001b[39mX\u001b[39;49m\u001b[39m\"\u001b[39;49m, \u001b[39m*\u001b[39;49m\u001b[39m*\u001b[39;49mcheck_params)\n\u001b[0;32m    547\u001b[0m     out \u001b[39m=\u001b[39m X\n\u001b[0;32m    548\u001b[0m \u001b[39melif\u001b[39;00m no_val_X \u001b[39mand\u001b[39;00m \u001b[39mnot\u001b[39;00m no_val_y:\n",
      "File \u001b[1;32mc:\\Users\\PlayData\\anaconda3\\envs\\tf2\\lib\\site-packages\\sklearn\\utils\\validation.py:915\u001b[0m, in \u001b[0;36mcheck_array\u001b[1;34m(array, accept_sparse, accept_large_sparse, dtype, order, copy, force_all_finite, ensure_2d, allow_nd, ensure_min_samples, ensure_min_features, estimator, input_name)\u001b[0m\n\u001b[0;32m    910\u001b[0m     \u001b[39mraise\u001b[39;00m \u001b[39mValueError\u001b[39;00m(\n\u001b[0;32m    911\u001b[0m         \u001b[39m\"\u001b[39m\u001b[39mdtype=\u001b[39m\u001b[39m'\u001b[39m\u001b[39mnumeric\u001b[39m\u001b[39m'\u001b[39m\u001b[39m is not compatible with arrays of bytes/strings.\u001b[39m\u001b[39m\"\u001b[39m\n\u001b[0;32m    912\u001b[0m         \u001b[39m\"\u001b[39m\u001b[39mConvert your data to numeric values explicitly instead.\u001b[39m\u001b[39m\"\u001b[39m\n\u001b[0;32m    913\u001b[0m     )\n\u001b[0;32m    914\u001b[0m \u001b[39mif\u001b[39;00m \u001b[39mnot\u001b[39;00m allow_nd \u001b[39mand\u001b[39;00m array\u001b[39m.\u001b[39mndim \u001b[39m>\u001b[39m\u001b[39m=\u001b[39m \u001b[39m3\u001b[39m:\n\u001b[1;32m--> 915\u001b[0m     \u001b[39mraise\u001b[39;00m \u001b[39mValueError\u001b[39;00m(\n\u001b[0;32m    916\u001b[0m         \u001b[39m\"\u001b[39m\u001b[39mFound array with dim \u001b[39m\u001b[39m%d\u001b[39;00m\u001b[39m. \u001b[39m\u001b[39m%s\u001b[39;00m\u001b[39m expected <= 2.\u001b[39m\u001b[39m\"\u001b[39m\n\u001b[0;32m    917\u001b[0m         \u001b[39m%\u001b[39m (array\u001b[39m.\u001b[39mndim, estimator_name)\n\u001b[0;32m    918\u001b[0m     )\n\u001b[0;32m    920\u001b[0m \u001b[39mif\u001b[39;00m force_all_finite:\n\u001b[0;32m    921\u001b[0m     _assert_all_finite(\n\u001b[0;32m    922\u001b[0m         array,\n\u001b[0;32m    923\u001b[0m         input_name\u001b[39m=\u001b[39minput_name,\n\u001b[0;32m    924\u001b[0m         estimator_name\u001b[39m=\u001b[39mestimator_name,\n\u001b[0;32m    925\u001b[0m         allow_nan\u001b[39m=\u001b[39mforce_all_finite \u001b[39m==\u001b[39m \u001b[39m\"\u001b[39m\u001b[39mallow-nan\u001b[39m\u001b[39m\"\u001b[39m,\n\u001b[0;32m    926\u001b[0m     )\n",
      "\u001b[1;31mValueError\u001b[0m: Found array with dim 4. MinMaxScaler expected <= 2."
     ]
    }
   ],
   "source": [
    "from sklearn.preprocessing import MinMaxScaler\n",
    "\n",
    "scaler = MinMaxScaler()\n",
    "X_train_in = scaler.fit_transform(X_train_in)\n",
    "X_test_in = scaler.fit_transform(X_test_in)\n",
    "X_val_in = scaler.fit_transform(X_val_in)"
   ]
  },
  {
   "cell_type": "code",
   "execution_count": 235,
   "id": "bulgarian-reader",
   "metadata": {
    "colab": {
     "base_uri": "https://localhost:8080/"
    },
    "executionInfo": {
     "elapsed": 116071,
     "status": "ok",
     "timestamp": 1617871492139,
     "user": {
      "displayName": "오승환",
      "photoUrl": "https://lh3.googleusercontent.com/a-/AOh14GgBRB1w8bMEGhEpsp7aa7I9MQGz2D37o6hJeKeW=s64",
      "userId": "00933700884551564729"
     },
     "user_tz": -540
    },
    "id": "bulgarian-reader",
    "outputId": "c78392b6-0e9b-4273-b072-06ee73d14bf4",
    "scrolled": true
   },
   "outputs": [
    {
     "name": "stdout",
     "output_type": "stream",
     "text": [
      "learning_rate: 0.00100\n",
      "Epoch 1/20\n",
      "1499/1500 [============================>.] - ETA: 0s - loss: 2.9416 - acc: 0.3631\n",
      "Epoch 1: val_loss did not improve from 0.07990\n",
      "1500/1500 [==============================] - 81s 53ms/step - loss: 2.9401 - acc: 0.3634 - val_loss: 0.4868 - val_acc: 0.8509 - lr: 0.0010\n",
      "learning_rate: 0.00100\n",
      "Epoch 2/20\n",
      "1500/1500 [==============================] - ETA: 0s - loss: 0.4901 - acc: 0.8598\n",
      "Epoch 2: val_loss did not improve from 0.07990\n",
      "1500/1500 [==============================] - 79s 53ms/step - loss: 0.4901 - acc: 0.8598 - val_loss: 0.1616 - val_acc: 0.9648 - lr: 0.0010\n",
      "learning_rate: 0.00100\n",
      "Epoch 3/20\n",
      "1500/1500 [==============================] - ETA: 0s - loss: 0.2776 - acc: 0.9366\n",
      "Epoch 3: val_loss did not improve from 0.07990\n",
      "1500/1500 [==============================] - 78s 52ms/step - loss: 0.2776 - acc: 0.9366 - val_loss: 0.1264 - val_acc: 0.9707 - lr: 0.0010\n",
      "learning_rate: 0.00100\n",
      "Epoch 4/20\n",
      "1499/1500 [============================>.] - ETA: 0s - loss: 0.2297 - acc: 0.9489\n",
      "Epoch 4: val_loss did not improve from 0.07990\n",
      "1500/1500 [==============================] - 78s 52ms/step - loss: 0.2296 - acc: 0.9489 - val_loss: 0.1468 - val_acc: 0.9684 - lr: 0.0010\n",
      "learning_rate: 0.00100\n",
      "Epoch 5/20\n",
      "1499/1500 [============================>.] - ETA: 0s - loss: 0.1988 - acc: 0.9560\n",
      "Epoch 5: val_loss did not improve from 0.07990\n",
      "1500/1500 [==============================] - 73s 49ms/step - loss: 0.1987 - acc: 0.9561 - val_loss: 0.1296 - val_acc: 0.9763 - lr: 0.0010\n",
      "learning_rate: 0.00100\n",
      "Epoch 6/20\n",
      " 998/1500 [==================>...........] - ETA: 23s - loss: 0.1875 - acc: 0.9621"
     ]
    },
    {
     "ename": "KeyboardInterrupt",
     "evalue": "",
     "output_type": "error",
     "traceback": [
      "\u001b[1;31m---------------------------------------------------------------------------\u001b[0m",
      "\u001b[1;31mKeyboardInterrupt\u001b[0m                         Traceback (most recent call last)",
      "Cell \u001b[1;32mIn[235], line 46\u001b[0m\n\u001b[0;32m     44\u001b[0m \u001b[39m# 콜백 객체생성 및 scheduler 함수 적용\u001b[39;00m\n\u001b[0;32m     45\u001b[0m lr_scheduler \u001b[39m=\u001b[39m LearningRateScheduler(scheduler)\n\u001b[1;32m---> 46\u001b[0m hist \u001b[39m=\u001b[39m cnn_model\u001b[39m.\u001b[39;49mfit(X_train_in, y_train, validation_data\u001b[39m=\u001b[39;49m(X_val_in, y_val), epochs\u001b[39m=\u001b[39;49m\u001b[39m20\u001b[39;49m, \\\n\u001b[0;32m     47\u001b[0m     callbacks\u001b[39m=\u001b[39;49m[checkpoint, earlystopping, lr_scheduler])\n",
      "File \u001b[1;32mc:\\Users\\PlayData\\anaconda3\\envs\\tf2\\lib\\site-packages\\keras\\utils\\traceback_utils.py:64\u001b[0m, in \u001b[0;36mfilter_traceback.<locals>.error_handler\u001b[1;34m(*args, **kwargs)\u001b[0m\n\u001b[0;32m     62\u001b[0m filtered_tb \u001b[39m=\u001b[39m \u001b[39mNone\u001b[39;00m\n\u001b[0;32m     63\u001b[0m \u001b[39mtry\u001b[39;00m:\n\u001b[1;32m---> 64\u001b[0m   \u001b[39mreturn\u001b[39;00m fn(\u001b[39m*\u001b[39;49margs, \u001b[39m*\u001b[39;49m\u001b[39m*\u001b[39;49mkwargs)\n\u001b[0;32m     65\u001b[0m \u001b[39mexcept\u001b[39;00m \u001b[39mException\u001b[39;00m \u001b[39mas\u001b[39;00m e:  \u001b[39m# pylint: disable=broad-except\u001b[39;00m\n\u001b[0;32m     66\u001b[0m   filtered_tb \u001b[39m=\u001b[39m _process_traceback_frames(e\u001b[39m.\u001b[39m__traceback__)\n",
      "File \u001b[1;32mc:\\Users\\PlayData\\anaconda3\\envs\\tf2\\lib\\site-packages\\keras\\engine\\training.py:1409\u001b[0m, in \u001b[0;36mModel.fit\u001b[1;34m(self, x, y, batch_size, epochs, verbose, callbacks, validation_split, validation_data, shuffle, class_weight, sample_weight, initial_epoch, steps_per_epoch, validation_steps, validation_batch_size, validation_freq, max_queue_size, workers, use_multiprocessing)\u001b[0m\n\u001b[0;32m   1402\u001b[0m \u001b[39mwith\u001b[39;00m tf\u001b[39m.\u001b[39mprofiler\u001b[39m.\u001b[39mexperimental\u001b[39m.\u001b[39mTrace(\n\u001b[0;32m   1403\u001b[0m     \u001b[39m'\u001b[39m\u001b[39mtrain\u001b[39m\u001b[39m'\u001b[39m,\n\u001b[0;32m   1404\u001b[0m     epoch_num\u001b[39m=\u001b[39mepoch,\n\u001b[0;32m   1405\u001b[0m     step_num\u001b[39m=\u001b[39mstep,\n\u001b[0;32m   1406\u001b[0m     batch_size\u001b[39m=\u001b[39mbatch_size,\n\u001b[0;32m   1407\u001b[0m     _r\u001b[39m=\u001b[39m\u001b[39m1\u001b[39m):\n\u001b[0;32m   1408\u001b[0m   callbacks\u001b[39m.\u001b[39mon_train_batch_begin(step)\n\u001b[1;32m-> 1409\u001b[0m   tmp_logs \u001b[39m=\u001b[39m \u001b[39mself\u001b[39;49m\u001b[39m.\u001b[39;49mtrain_function(iterator)\n\u001b[0;32m   1410\u001b[0m   \u001b[39mif\u001b[39;00m data_handler\u001b[39m.\u001b[39mshould_sync:\n\u001b[0;32m   1411\u001b[0m     context\u001b[39m.\u001b[39masync_wait()\n",
      "File \u001b[1;32mc:\\Users\\PlayData\\anaconda3\\envs\\tf2\\lib\\site-packages\\tensorflow\\python\\util\\traceback_utils.py:150\u001b[0m, in \u001b[0;36mfilter_traceback.<locals>.error_handler\u001b[1;34m(*args, **kwargs)\u001b[0m\n\u001b[0;32m    148\u001b[0m filtered_tb \u001b[39m=\u001b[39m \u001b[39mNone\u001b[39;00m\n\u001b[0;32m    149\u001b[0m \u001b[39mtry\u001b[39;00m:\n\u001b[1;32m--> 150\u001b[0m   \u001b[39mreturn\u001b[39;00m fn(\u001b[39m*\u001b[39;49margs, \u001b[39m*\u001b[39;49m\u001b[39m*\u001b[39;49mkwargs)\n\u001b[0;32m    151\u001b[0m \u001b[39mexcept\u001b[39;00m \u001b[39mException\u001b[39;00m \u001b[39mas\u001b[39;00m e:\n\u001b[0;32m    152\u001b[0m   filtered_tb \u001b[39m=\u001b[39m _process_traceback_frames(e\u001b[39m.\u001b[39m__traceback__)\n",
      "File \u001b[1;32mc:\\Users\\PlayData\\anaconda3\\envs\\tf2\\lib\\site-packages\\tensorflow\\python\\eager\\def_function.py:915\u001b[0m, in \u001b[0;36mFunction.__call__\u001b[1;34m(self, *args, **kwds)\u001b[0m\n\u001b[0;32m    912\u001b[0m compiler \u001b[39m=\u001b[39m \u001b[39m\"\u001b[39m\u001b[39mxla\u001b[39m\u001b[39m\"\u001b[39m \u001b[39mif\u001b[39;00m \u001b[39mself\u001b[39m\u001b[39m.\u001b[39m_jit_compile \u001b[39melse\u001b[39;00m \u001b[39m\"\u001b[39m\u001b[39mnonXla\u001b[39m\u001b[39m\"\u001b[39m\n\u001b[0;32m    914\u001b[0m \u001b[39mwith\u001b[39;00m OptionalXlaContext(\u001b[39mself\u001b[39m\u001b[39m.\u001b[39m_jit_compile):\n\u001b[1;32m--> 915\u001b[0m   result \u001b[39m=\u001b[39m \u001b[39mself\u001b[39;49m\u001b[39m.\u001b[39;49m_call(\u001b[39m*\u001b[39;49margs, \u001b[39m*\u001b[39;49m\u001b[39m*\u001b[39;49mkwds)\n\u001b[0;32m    917\u001b[0m new_tracing_count \u001b[39m=\u001b[39m \u001b[39mself\u001b[39m\u001b[39m.\u001b[39mexperimental_get_tracing_count()\n\u001b[0;32m    918\u001b[0m without_tracing \u001b[39m=\u001b[39m (tracing_count \u001b[39m==\u001b[39m new_tracing_count)\n",
      "File \u001b[1;32mc:\\Users\\PlayData\\anaconda3\\envs\\tf2\\lib\\site-packages\\tensorflow\\python\\eager\\def_function.py:947\u001b[0m, in \u001b[0;36mFunction._call\u001b[1;34m(self, *args, **kwds)\u001b[0m\n\u001b[0;32m    944\u001b[0m   \u001b[39mself\u001b[39m\u001b[39m.\u001b[39m_lock\u001b[39m.\u001b[39mrelease()\n\u001b[0;32m    945\u001b[0m   \u001b[39m# In this case we have created variables on the first call, so we run the\u001b[39;00m\n\u001b[0;32m    946\u001b[0m   \u001b[39m# defunned version which is guaranteed to never create variables.\u001b[39;00m\n\u001b[1;32m--> 947\u001b[0m   \u001b[39mreturn\u001b[39;00m \u001b[39mself\u001b[39;49m\u001b[39m.\u001b[39;49m_stateless_fn(\u001b[39m*\u001b[39;49margs, \u001b[39m*\u001b[39;49m\u001b[39m*\u001b[39;49mkwds)  \u001b[39m# pylint: disable=not-callable\u001b[39;00m\n\u001b[0;32m    948\u001b[0m \u001b[39melif\u001b[39;00m \u001b[39mself\u001b[39m\u001b[39m.\u001b[39m_stateful_fn \u001b[39mis\u001b[39;00m \u001b[39mnot\u001b[39;00m \u001b[39mNone\u001b[39;00m:\n\u001b[0;32m    949\u001b[0m   \u001b[39m# Release the lock early so that multiple threads can perform the call\u001b[39;00m\n\u001b[0;32m    950\u001b[0m   \u001b[39m# in parallel.\u001b[39;00m\n\u001b[0;32m    951\u001b[0m   \u001b[39mself\u001b[39m\u001b[39m.\u001b[39m_lock\u001b[39m.\u001b[39mrelease()\n",
      "File \u001b[1;32mc:\\Users\\PlayData\\anaconda3\\envs\\tf2\\lib\\site-packages\\tensorflow\\python\\eager\\function.py:2453\u001b[0m, in \u001b[0;36mFunction.__call__\u001b[1;34m(self, *args, **kwargs)\u001b[0m\n\u001b[0;32m   2450\u001b[0m \u001b[39mwith\u001b[39;00m \u001b[39mself\u001b[39m\u001b[39m.\u001b[39m_lock:\n\u001b[0;32m   2451\u001b[0m   (graph_function,\n\u001b[0;32m   2452\u001b[0m    filtered_flat_args) \u001b[39m=\u001b[39m \u001b[39mself\u001b[39m\u001b[39m.\u001b[39m_maybe_define_function(args, kwargs)\n\u001b[1;32m-> 2453\u001b[0m \u001b[39mreturn\u001b[39;00m graph_function\u001b[39m.\u001b[39;49m_call_flat(\n\u001b[0;32m   2454\u001b[0m     filtered_flat_args, captured_inputs\u001b[39m=\u001b[39;49mgraph_function\u001b[39m.\u001b[39;49mcaptured_inputs)\n",
      "File \u001b[1;32mc:\\Users\\PlayData\\anaconda3\\envs\\tf2\\lib\\site-packages\\tensorflow\\python\\eager\\function.py:1860\u001b[0m, in \u001b[0;36mConcreteFunction._call_flat\u001b[1;34m(self, args, captured_inputs, cancellation_manager)\u001b[0m\n\u001b[0;32m   1856\u001b[0m possible_gradient_type \u001b[39m=\u001b[39m gradients_util\u001b[39m.\u001b[39mPossibleTapeGradientTypes(args)\n\u001b[0;32m   1857\u001b[0m \u001b[39mif\u001b[39;00m (possible_gradient_type \u001b[39m==\u001b[39m gradients_util\u001b[39m.\u001b[39mPOSSIBLE_GRADIENT_TYPES_NONE\n\u001b[0;32m   1858\u001b[0m     \u001b[39mand\u001b[39;00m executing_eagerly):\n\u001b[0;32m   1859\u001b[0m   \u001b[39m# No tape is watching; skip to running the function.\u001b[39;00m\n\u001b[1;32m-> 1860\u001b[0m   \u001b[39mreturn\u001b[39;00m \u001b[39mself\u001b[39m\u001b[39m.\u001b[39m_build_call_outputs(\u001b[39mself\u001b[39;49m\u001b[39m.\u001b[39;49m_inference_function\u001b[39m.\u001b[39;49mcall(\n\u001b[0;32m   1861\u001b[0m       ctx, args, cancellation_manager\u001b[39m=\u001b[39;49mcancellation_manager))\n\u001b[0;32m   1862\u001b[0m forward_backward \u001b[39m=\u001b[39m \u001b[39mself\u001b[39m\u001b[39m.\u001b[39m_select_forward_and_backward_functions(\n\u001b[0;32m   1863\u001b[0m     args,\n\u001b[0;32m   1864\u001b[0m     possible_gradient_type,\n\u001b[0;32m   1865\u001b[0m     executing_eagerly)\n\u001b[0;32m   1866\u001b[0m forward_function, args_with_tangents \u001b[39m=\u001b[39m forward_backward\u001b[39m.\u001b[39mforward()\n",
      "File \u001b[1;32mc:\\Users\\PlayData\\anaconda3\\envs\\tf2\\lib\\site-packages\\tensorflow\\python\\eager\\function.py:497\u001b[0m, in \u001b[0;36m_EagerDefinedFunction.call\u001b[1;34m(self, ctx, args, cancellation_manager)\u001b[0m\n\u001b[0;32m    495\u001b[0m \u001b[39mwith\u001b[39;00m _InterpolateFunctionError(\u001b[39mself\u001b[39m):\n\u001b[0;32m    496\u001b[0m   \u001b[39mif\u001b[39;00m cancellation_manager \u001b[39mis\u001b[39;00m \u001b[39mNone\u001b[39;00m:\n\u001b[1;32m--> 497\u001b[0m     outputs \u001b[39m=\u001b[39m execute\u001b[39m.\u001b[39;49mexecute(\n\u001b[0;32m    498\u001b[0m         \u001b[39mstr\u001b[39;49m(\u001b[39mself\u001b[39;49m\u001b[39m.\u001b[39;49msignature\u001b[39m.\u001b[39;49mname),\n\u001b[0;32m    499\u001b[0m         num_outputs\u001b[39m=\u001b[39;49m\u001b[39mself\u001b[39;49m\u001b[39m.\u001b[39;49m_num_outputs,\n\u001b[0;32m    500\u001b[0m         inputs\u001b[39m=\u001b[39;49margs,\n\u001b[0;32m    501\u001b[0m         attrs\u001b[39m=\u001b[39;49mattrs,\n\u001b[0;32m    502\u001b[0m         ctx\u001b[39m=\u001b[39;49mctx)\n\u001b[0;32m    503\u001b[0m   \u001b[39melse\u001b[39;00m:\n\u001b[0;32m    504\u001b[0m     outputs \u001b[39m=\u001b[39m execute\u001b[39m.\u001b[39mexecute_with_cancellation(\n\u001b[0;32m    505\u001b[0m         \u001b[39mstr\u001b[39m(\u001b[39mself\u001b[39m\u001b[39m.\u001b[39msignature\u001b[39m.\u001b[39mname),\n\u001b[0;32m    506\u001b[0m         num_outputs\u001b[39m=\u001b[39m\u001b[39mself\u001b[39m\u001b[39m.\u001b[39m_num_outputs,\n\u001b[1;32m   (...)\u001b[0m\n\u001b[0;32m    509\u001b[0m         ctx\u001b[39m=\u001b[39mctx,\n\u001b[0;32m    510\u001b[0m         cancellation_manager\u001b[39m=\u001b[39mcancellation_manager)\n",
      "File \u001b[1;32mc:\\Users\\PlayData\\anaconda3\\envs\\tf2\\lib\\site-packages\\tensorflow\\python\\eager\\execute.py:54\u001b[0m, in \u001b[0;36mquick_execute\u001b[1;34m(op_name, num_outputs, inputs, attrs, ctx, name)\u001b[0m\n\u001b[0;32m     52\u001b[0m \u001b[39mtry\u001b[39;00m:\n\u001b[0;32m     53\u001b[0m   ctx\u001b[39m.\u001b[39mensure_initialized()\n\u001b[1;32m---> 54\u001b[0m   tensors \u001b[39m=\u001b[39m pywrap_tfe\u001b[39m.\u001b[39;49mTFE_Py_Execute(ctx\u001b[39m.\u001b[39;49m_handle, device_name, op_name,\n\u001b[0;32m     55\u001b[0m                                       inputs, attrs, num_outputs)\n\u001b[0;32m     56\u001b[0m \u001b[39mexcept\u001b[39;00m core\u001b[39m.\u001b[39m_NotOkStatusException \u001b[39mas\u001b[39;00m e:\n\u001b[0;32m     57\u001b[0m   \u001b[39mif\u001b[39;00m name \u001b[39mis\u001b[39;00m \u001b[39mnot\u001b[39;00m \u001b[39mNone\u001b[39;00m:\n",
      "\u001b[1;31mKeyboardInterrupt\u001b[0m: "
     ]
    }
   ],
   "source": [
    "# 모델 훈련\n",
    "from tensorflow.keras.callbacks import ModelCheckpoint\n",
    "from tensorflow.keras.callbacks import EarlyStopping\n",
    "from tensorflow.keras.callbacks import LearningRateScheduler\n",
    "\n",
    "from keras.layers import Conv2D, MaxPooling2D, Flatten\n",
    "# Sequential API를 사용하여 샘플 모델 생성: 합성곱 레이어1개, 풀링 레이어 1개\n",
    "cnn_model = Sequential()\n",
    "cnn_model.add(Conv2D(filters=32, kernel_size=(3, 3), \\\n",
    "                        activation='relu', input_shape=(28, 28, 1)))\n",
    "cnn_model.add(MaxPooling2D(pool_size=(2, 2)))\n",
    "cnn_model.add(Flatten())\n",
    "cnn_model.add(Dense(units=1000, activation='relu'))\n",
    "# Dropout 레이어 추가\n",
    "cnn_model.add(Dropout(rate=0.5))\n",
    "cnn_model.add(Dense(units=700, activation='relu'))\n",
    "cnn_model.add(Dropout(rate=0.5))\n",
    "cnn_model.add(Dense(units=500, activation='relu'))\n",
    "cnn_model.add(Dropout(rate=0.5))\n",
    "cnn_model.add(Dense(units=300, activation='relu'))\n",
    "cnn_model.add(Dropout(rate=0.5))\n",
    "cnn_model.add(Dense(units=100, activation='relu'))\n",
    "cnn_model.add(Dropout(rate=0.5))\n",
    "cnn_model.add(Dense(10, activation='softmax'))\n",
    "\n",
    "\n",
    "cnn_model.compile(loss='sparse_categorical_crossentropy', \\\n",
    "    metrics=['acc'], optimizer='adam')\n",
    "\n",
    "saved_best_model = ModelCheckpoint(filepath='./best_mnist_cnn_model.h5', \\\n",
    "    save_weights_only=False, save_best_only=True, moniter='val_loss')\n",
    "\n",
    "earlystopping = EarlyStopping(monitor='val_loss', patience=5)\n",
    "\n",
    "def scheduler(epoch, lr):\n",
    "    tf.print(f'learning_rate: {lr:.5f}')\n",
    "    # 첫 5 에포크 동안 유지\n",
    "    if epoch < 5:\n",
    "        return lr\n",
    "    else:\n",
    "    # 학습률 감소 적용\n",
    "        return lr * tf.math.exp(-0.1)\n",
    "\n",
    "# 콜백 객체생성 및 scheduler 함수 적용\n",
    "lr_scheduler = LearningRateScheduler(scheduler)\n",
    "hist = cnn_model.fit(X_train_in, y_train, validation_data=(X_val_in, y_val), epochs=20, \\\n",
    "    callbacks=[checkpoint, earlystopping, lr_scheduler])"
   ]
  },
  {
   "cell_type": "code",
   "execution_count": 223,
   "id": "difficult-princess",
   "metadata": {
    "colab": {
     "base_uri": "https://localhost:8080/"
    },
    "executionInfo": {
     "elapsed": 117755,
     "status": "ok",
     "timestamp": 1617871493829,
     "user": {
      "displayName": "오승환",
      "photoUrl": "https://lh3.googleusercontent.com/a-/AOh14GgBRB1w8bMEGhEpsp7aa7I9MQGz2D37o6hJeKeW=s64",
      "userId": "00933700884551564729"
     },
     "user_tz": -540
    },
    "id": "difficult-princess",
    "outputId": "b4534e27-9679-446b-9ebd-c00baba191d6"
   },
   "outputs": [
    {
     "data": {
      "text/html": [
       "<div>\n",
       "<style scoped>\n",
       "    .dataframe tbody tr th:only-of-type {\n",
       "        vertical-align: middle;\n",
       "    }\n",
       "\n",
       "    .dataframe tbody tr th {\n",
       "        vertical-align: top;\n",
       "    }\n",
       "\n",
       "    .dataframe thead th {\n",
       "        text-align: right;\n",
       "    }\n",
       "</style>\n",
       "<table border=\"1\" class=\"dataframe\">\n",
       "  <thead>\n",
       "    <tr style=\"text-align: right;\">\n",
       "      <th></th>\n",
       "      <th>loss</th>\n",
       "      <th>accuracy</th>\n",
       "      <th>val_loss</th>\n",
       "      <th>val_accuracy</th>\n",
       "      <th>lr</th>\n",
       "    </tr>\n",
       "  </thead>\n",
       "  <tbody>\n",
       "    <tr>\n",
       "      <th>0</th>\n",
       "      <td>1.574264</td>\n",
       "      <td>0.690583</td>\n",
       "      <td>0.133042</td>\n",
       "      <td>0.964083</td>\n",
       "      <td>0.001000</td>\n",
       "    </tr>\n",
       "    <tr>\n",
       "      <th>1</th>\n",
       "      <td>0.235667</td>\n",
       "      <td>0.940854</td>\n",
       "      <td>0.134686</td>\n",
       "      <td>0.968000</td>\n",
       "      <td>0.001000</td>\n",
       "    </tr>\n",
       "    <tr>\n",
       "      <th>2</th>\n",
       "      <td>0.178387</td>\n",
       "      <td>0.957396</td>\n",
       "      <td>0.106108</td>\n",
       "      <td>0.974250</td>\n",
       "      <td>0.001000</td>\n",
       "    </tr>\n",
       "    <tr>\n",
       "      <th>3</th>\n",
       "      <td>0.151804</td>\n",
       "      <td>0.964021</td>\n",
       "      <td>0.117188</td>\n",
       "      <td>0.973750</td>\n",
       "      <td>0.001000</td>\n",
       "    </tr>\n",
       "    <tr>\n",
       "      <th>4</th>\n",
       "      <td>0.136816</td>\n",
       "      <td>0.969333</td>\n",
       "      <td>0.091691</td>\n",
       "      <td>0.979917</td>\n",
       "      <td>0.001000</td>\n",
       "    </tr>\n",
       "    <tr>\n",
       "      <th>5</th>\n",
       "      <td>0.110435</td>\n",
       "      <td>0.975271</td>\n",
       "      <td>0.096133</td>\n",
       "      <td>0.981583</td>\n",
       "      <td>0.000905</td>\n",
       "    </tr>\n",
       "    <tr>\n",
       "      <th>6</th>\n",
       "      <td>0.081494</td>\n",
       "      <td>0.981833</td>\n",
       "      <td>0.098334</td>\n",
       "      <td>0.983500</td>\n",
       "      <td>0.000819</td>\n",
       "    </tr>\n",
       "    <tr>\n",
       "      <th>7</th>\n",
       "      <td>0.075301</td>\n",
       "      <td>0.984250</td>\n",
       "      <td>0.109138</td>\n",
       "      <td>0.981667</td>\n",
       "      <td>0.000741</td>\n",
       "    </tr>\n",
       "    <tr>\n",
       "      <th>8</th>\n",
       "      <td>0.062805</td>\n",
       "      <td>0.986521</td>\n",
       "      <td>0.094365</td>\n",
       "      <td>0.984833</td>\n",
       "      <td>0.000670</td>\n",
       "    </tr>\n",
       "    <tr>\n",
       "      <th>9</th>\n",
       "      <td>0.057057</td>\n",
       "      <td>0.988271</td>\n",
       "      <td>0.079901</td>\n",
       "      <td>0.986250</td>\n",
       "      <td>0.000607</td>\n",
       "    </tr>\n",
       "  </tbody>\n",
       "</table>\n",
       "</div>"
      ],
      "text/plain": [
       "       loss  accuracy  val_loss  val_accuracy        lr\n",
       "0  1.574264  0.690583  0.133042      0.964083  0.001000\n",
       "1  0.235667  0.940854  0.134686      0.968000  0.001000\n",
       "2  0.178387  0.957396  0.106108      0.974250  0.001000\n",
       "3  0.151804  0.964021  0.117188      0.973750  0.001000\n",
       "4  0.136816  0.969333  0.091691      0.979917  0.001000\n",
       "5  0.110435  0.975271  0.096133      0.981583  0.000905\n",
       "6  0.081494  0.981833  0.098334      0.983500  0.000819\n",
       "7  0.075301  0.984250  0.109138      0.981667  0.000741\n",
       "8  0.062805  0.986521  0.094365      0.984833  0.000670\n",
       "9  0.057057  0.988271  0.079901      0.986250  0.000607"
      ]
     },
     "execution_count": 223,
     "metadata": {},
     "output_type": "execute_result"
    }
   ],
   "source": [
    "df = pd.DataFrame(hist.history)\n",
    "df"
   ]
  },
  {
   "cell_type": "markdown",
   "id": "50b6cf92",
   "metadata": {},
   "source": [
    "#### 손실과 정확도 그래프: 모델 성능 평가"
   ]
  },
  {
   "cell_type": "markdown",
   "id": "7d6e7ed7",
   "metadata": {},
   "source": [
    "* 모델 학습 결과 시각화"
   ]
  },
  {
   "cell_type": "code",
   "execution_count": 224,
   "id": "5f373c7e",
   "metadata": {},
   "outputs": [
    {
     "data": {
      "image/png": "[encoded data removed]",
      "text/plain": [
       "<Figure size 640x480 with 1 Axes>"
      ]
     },
     "metadata": {},
     "output_type": "display_data"
    }
   ],
   "source": [
    "# 시각화\n",
    "plt.plot(df.loss, label='train_loss')\n",
    "plt.plot(df.val_loss, label='val_loss')\n",
    "plt.grid()\n",
    "plt.xlabel('epochs')\n",
    "plt.ylabel('loss')\n",
    "plt.legend()\n",
    "plt.show()"
   ]
  },
  {
   "cell_type": "code",
   "execution_count": 225,
   "id": "4a019c35",
   "metadata": {},
   "outputs": [
    {
     "data": {
      "image/png": "[encoded data removed]",
      "text/plain": [
       "<Figure size 640x480 with 1 Axes>"
      ]
     },
     "metadata": {},
     "output_type": "display_data"
    }
   ],
   "source": [
    "# 시각화\n",
    "plt.plot(df.accuracy, label='train_accuracy')\n",
    "plt.plot(df.val_accuracy, label='val_accuracy')\n",
    "plt.grid()\n",
    "plt.xlabel('epochs')\n",
    "plt.ylabel('accuracy')\n",
    "plt.legend()\n",
    "plt.show()"
   ]
  },
  {
   "cell_type": "markdown",
   "id": "18496632",
   "metadata": {},
   "source": [
    "* 예측값 생성 및 제출"
   ]
  },
  {
   "cell_type": "code",
   "execution_count": 226,
   "id": "5ea6cdc5",
   "metadata": {},
   "outputs": [
    {
     "ename": "ValueError",
     "evalue": "in user code:\n\n    File \"c:\\Users\\PlayData\\anaconda3\\envs\\tf2\\lib\\site-packages\\keras\\engine\\training.py\", line 1845, in predict_function  *\n        return step_function(self, iterator)\n    File \"c:\\Users\\PlayData\\anaconda3\\envs\\tf2\\lib\\site-packages\\keras\\engine\\training.py\", line 1834, in step_function  **\n        outputs = model.distribute_strategy.run(run_step, args=(data,))\n    File \"c:\\Users\\PlayData\\anaconda3\\envs\\tf2\\lib\\site-packages\\keras\\engine\\training.py\", line 1823, in run_step  **\n        outputs = model.predict_step(data)\n    File \"c:\\Users\\PlayData\\anaconda3\\envs\\tf2\\lib\\site-packages\\keras\\engine\\training.py\", line 1791, in predict_step\n        return self(x, training=False)\n    File \"c:\\Users\\PlayData\\anaconda3\\envs\\tf2\\lib\\site-packages\\keras\\utils\\traceback_utils.py\", line 67, in error_handler\n        raise e.with_traceback(filtered_tb) from None\n    File \"c:\\Users\\PlayData\\anaconda3\\envs\\tf2\\lib\\site-packages\\keras\\engine\\input_spec.py\", line 264, in assert_input_compatibility\n        raise ValueError(f'Input {input_index} of layer \"{layer_name}\" is '\n\n    ValueError: Input 0 of layer \"sequential_13\" is incompatible with the layer: expected shape=(None, 28, 28, 1), found shape=(None, 784, 1)\n",
     "output_type": "error",
     "traceback": [
      "\u001b[1;31m---------------------------------------------------------------------------\u001b[0m",
      "\u001b[1;31mValueError\u001b[0m                                Traceback (most recent call last)",
      "Cell \u001b[1;32mIn[226], line 1\u001b[0m\n\u001b[1;32m----> 1\u001b[0m y_pred_proba \u001b[39m=\u001b[39m cnn_model\u001b[39m.\u001b[39;49mpredict(X_test_in)\n",
      "File \u001b[1;32mc:\\Users\\PlayData\\anaconda3\\envs\\tf2\\lib\\site-packages\\keras\\utils\\traceback_utils.py:67\u001b[0m, in \u001b[0;36mfilter_traceback.<locals>.error_handler\u001b[1;34m(*args, **kwargs)\u001b[0m\n\u001b[0;32m     65\u001b[0m \u001b[39mexcept\u001b[39;00m \u001b[39mException\u001b[39;00m \u001b[39mas\u001b[39;00m e:  \u001b[39m# pylint: disable=broad-except\u001b[39;00m\n\u001b[0;32m     66\u001b[0m   filtered_tb \u001b[39m=\u001b[39m _process_traceback_frames(e\u001b[39m.\u001b[39m__traceback__)\n\u001b[1;32m---> 67\u001b[0m   \u001b[39mraise\u001b[39;00m e\u001b[39m.\u001b[39mwith_traceback(filtered_tb) \u001b[39mfrom\u001b[39;00m \u001b[39mNone\u001b[39m\n\u001b[0;32m     68\u001b[0m \u001b[39mfinally\u001b[39;00m:\n\u001b[0;32m     69\u001b[0m   \u001b[39mdel\u001b[39;00m filtered_tb\n",
      "File \u001b[1;32m~\\AppData\\Local\\Temp\\__autograph_generated_fileglwfjow7.py:15\u001b[0m, in \u001b[0;36mouter_factory.<locals>.inner_factory.<locals>.tf__predict_function\u001b[1;34m(iterator)\u001b[0m\n\u001b[0;32m     13\u001b[0m \u001b[39mtry\u001b[39;00m:\n\u001b[0;32m     14\u001b[0m     do_return \u001b[39m=\u001b[39m \u001b[39mTrue\u001b[39;00m\n\u001b[1;32m---> 15\u001b[0m     retval_ \u001b[39m=\u001b[39m ag__\u001b[39m.\u001b[39mconverted_call(ag__\u001b[39m.\u001b[39mld(step_function), (ag__\u001b[39m.\u001b[39mld(\u001b[39mself\u001b[39m), ag__\u001b[39m.\u001b[39mld(iterator)), \u001b[39mNone\u001b[39;00m, fscope)\n\u001b[0;32m     16\u001b[0m \u001b[39mexcept\u001b[39;00m:\n\u001b[0;32m     17\u001b[0m     do_return \u001b[39m=\u001b[39m \u001b[39mFalse\u001b[39;00m\n",
      "\u001b[1;31mValueError\u001b[0m: in user code:\n\n    File \"c:\\Users\\PlayData\\anaconda3\\envs\\tf2\\lib\\site-packages\\keras\\engine\\training.py\", line 1845, in predict_function  *\n        return step_function(self, iterator)\n    File \"c:\\Users\\PlayData\\anaconda3\\envs\\tf2\\lib\\site-packages\\keras\\engine\\training.py\", line 1834, in step_function  **\n        outputs = model.distribute_strategy.run(run_step, args=(data,))\n    File \"c:\\Users\\PlayData\\anaconda3\\envs\\tf2\\lib\\site-packages\\keras\\engine\\training.py\", line 1823, in run_step  **\n        outputs = model.predict_step(data)\n    File \"c:\\Users\\PlayData\\anaconda3\\envs\\tf2\\lib\\site-packages\\keras\\engine\\training.py\", line 1791, in predict_step\n        return self(x, training=False)\n    File \"c:\\Users\\PlayData\\anaconda3\\envs\\tf2\\lib\\site-packages\\keras\\utils\\traceback_utils.py\", line 67, in error_handler\n        raise e.with_traceback(filtered_tb) from None\n    File \"c:\\Users\\PlayData\\anaconda3\\envs\\tf2\\lib\\site-packages\\keras\\engine\\input_spec.py\", line 264, in assert_input_compatibility\n        raise ValueError(f'Input {input_index} of layer \"{layer_name}\" is '\n\n    ValueError: Input 0 of layer \"sequential_13\" is incompatible with the layer: expected shape=(None, 28, 28, 1), found shape=(None, 784, 1)\n"
     ]
    }
   ],
   "source": [
    "y_pred_proba = cnn_model.predict(X_test_in)"
   ]
  },
  {
   "cell_type": "code",
   "execution_count": 156,
   "id": "ec5a785f",
   "metadata": {},
   "outputs": [
    {
     "data": {
      "text/plain": [
       "10000"
      ]
     },
     "execution_count": 156,
     "metadata": {},
     "output_type": "execute_result"
    }
   ],
   "source": [
    "len(y_pred_proba)"
   ]
  },
  {
   "cell_type": "code",
   "execution_count": 158,
   "id": "12a2b60f",
   "metadata": {},
   "outputs": [
    {
     "data": {
      "text/plain": [
       "array([0., 0., 0., 0., 0., 0., 0., 1., 0., 0.], dtype=float32)"
      ]
     },
     "execution_count": 158,
     "metadata": {},
     "output_type": "execute_result"
    }
   ],
   "source": [
    "np.set_printoptions(suppress=True)\n",
    "y_pred_proba[0]"
   ]
  },
  {
   "cell_type": "code",
   "execution_count": 160,
   "id": "79b81fc9",
   "metadata": {},
   "outputs": [
    {
     "data": {
      "text/plain": [
       "7"
      ]
     },
     "execution_count": 160,
     "metadata": {},
     "output_type": "execute_result"
    }
   ],
   "source": [
    "y_pred_label = np.argmax(y_pred_proba, axis=-1)\n",
    "y_pred_label[0]"
   ]
  },
  {
   "cell_type": "code",
   "execution_count": 236,
   "id": "ef59def9",
   "metadata": {},
   "outputs": [],
   "source": [
    "h5_loaded = tf.keras.models.load_model('best_mnist_cnn_model.h5')"
   ]
  },
  {
   "cell_type": "code",
   "execution_count": 237,
   "id": "7601892c",
   "metadata": {},
   "outputs": [
    {
     "name": "stdout",
     "output_type": "stream",
     "text": [
      "313/313 [==============================] - 3s 9ms/step\n"
     ]
    }
   ],
   "source": [
    "answer = h5_loaded.predict(X_test)\n",
    "answer = np.argmax(answer, axis=-1)"
   ]
  },
  {
   "cell_type": "code",
   "execution_count": 238,
   "id": "71b90eb5",
   "metadata": {},
   "outputs": [
    {
     "data": {
      "text/plain": [
       "array([7, 2, 1, ..., 4, 5, 6], dtype=int64)"
      ]
     },
     "execution_count": 238,
     "metadata": {},
     "output_type": "execute_result"
    }
   ],
   "source": [
    "answer"
   ]
  },
  {
   "cell_type": "code",
   "execution_count": 239,
   "id": "cb6eca5a",
   "metadata": {},
   "outputs": [
    {
     "data": {
      "text/html": [
       "<div>\n",
       "<style scoped>\n",
       "    .dataframe tbody tr th:only-of-type {\n",
       "        vertical-align: middle;\n",
       "    }\n",
       "\n",
       "    .dataframe tbody tr th {\n",
       "        vertical-align: top;\n",
       "    }\n",
       "\n",
       "    .dataframe thead th {\n",
       "        text-align: right;\n",
       "    }\n",
       "</style>\n",
       "<table border=\"1\" class=\"dataframe\">\n",
       "  <thead>\n",
       "    <tr style=\"text-align: right;\">\n",
       "      <th></th>\n",
       "      <th>no</th>\n",
       "      <th>label</th>\n",
       "    </tr>\n",
       "  </thead>\n",
       "  <tbody>\n",
       "    <tr>\n",
       "      <th>0</th>\n",
       "      <td>1</td>\n",
       "      <td>7</td>\n",
       "    </tr>\n",
       "    <tr>\n",
       "      <th>1</th>\n",
       "      <td>2</td>\n",
       "      <td>2</td>\n",
       "    </tr>\n",
       "    <tr>\n",
       "      <th>2</th>\n",
       "      <td>3</td>\n",
       "      <td>1</td>\n",
       "    </tr>\n",
       "    <tr>\n",
       "      <th>3</th>\n",
       "      <td>4</td>\n",
       "      <td>0</td>\n",
       "    </tr>\n",
       "    <tr>\n",
       "      <th>4</th>\n",
       "      <td>5</td>\n",
       "      <td>4</td>\n",
       "    </tr>\n",
       "    <tr>\n",
       "      <th>...</th>\n",
       "      <td>...</td>\n",
       "      <td>...</td>\n",
       "    </tr>\n",
       "    <tr>\n",
       "      <th>9995</th>\n",
       "      <td>9996</td>\n",
       "      <td>2</td>\n",
       "    </tr>\n",
       "    <tr>\n",
       "      <th>9996</th>\n",
       "      <td>9997</td>\n",
       "      <td>3</td>\n",
       "    </tr>\n",
       "    <tr>\n",
       "      <th>9997</th>\n",
       "      <td>9998</td>\n",
       "      <td>4</td>\n",
       "    </tr>\n",
       "    <tr>\n",
       "      <th>9998</th>\n",
       "      <td>9999</td>\n",
       "      <td>5</td>\n",
       "    </tr>\n",
       "    <tr>\n",
       "      <th>9999</th>\n",
       "      <td>10000</td>\n",
       "      <td>6</td>\n",
       "    </tr>\n",
       "  </tbody>\n",
       "</table>\n",
       "<p>10000 rows × 2 columns</p>\n",
       "</div>"
      ],
      "text/plain": [
       "         no  label\n",
       "0         1      7\n",
       "1         2      2\n",
       "2         3      1\n",
       "3         4      0\n",
       "4         5      4\n",
       "...     ...    ...\n",
       "9995   9996      2\n",
       "9996   9997      3\n",
       "9997   9998      4\n",
       "9998   9999      5\n",
       "9999  10000      6\n",
       "\n",
       "[10000 rows x 2 columns]"
      ]
     },
     "execution_count": 239,
     "metadata": {},
     "output_type": "execute_result"
    }
   ],
   "source": [
    "submission"
   ]
  },
  {
   "cell_type": "code",
   "execution_count": 240,
   "id": "3d4fcbbc",
   "metadata": {},
   "outputs": [],
   "source": [
    "submission = pd.read_csv('../100~/data/skyggle_MNIST/submission.csv')\n",
    "submission['label'] = answer\n",
    "submission.to_csv('CNN_MNIST_submission.csv', index=False)"
   ]
  }
 ],
 "metadata": {
  "accelerator": "GPU",
  "colab": {
   "collapsed_sections": [],
   "name": "4.1_mnist_cnn.ipynb",
   "provenance": []
  },
  "kernelspec": {
   "display_name": "tf2",
   "language": "python",
   "name": "python3"
  },
  "language_info": {
   "codemirror_mode": {
    "name": "ipython",
    "version": 3
   },
   "file_extension": ".py",
   "mimetype": "text/x-python",
   "name": "python",
   "nbconvert_exporter": "python",
   "pygments_lexer": "ipython3",
   "version": "3.8.16"
  },
  "vscode": {
   "interpreter": {
    "hash": "eb40c81b4dc7c84c0d63c497104c6b1d59507859779ef83084b0feb883d48ace"
   }
  }
 },
 "nbformat": 4,
 "nbformat_minor": 5
}
