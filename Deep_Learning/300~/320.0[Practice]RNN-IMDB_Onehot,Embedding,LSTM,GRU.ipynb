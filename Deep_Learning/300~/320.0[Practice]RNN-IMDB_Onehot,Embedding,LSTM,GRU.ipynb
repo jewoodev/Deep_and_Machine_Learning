{
 "cells": [
  {
   "cell_type": "markdown",
   "metadata": {
    "id": "MusV5YYT6kQF"
   },
   "source": [
    "# 순환 신경망으로 IMDB 리뷰 분류하기"
   ]
  },
  {
   "cell_type": "raw",
   "metadata": {},
   "source": [
    "25000개의 긍정 리뷰와 25000개의 부정 리뷰.\n",
    "훈련, 테스트 각 50000개씩\n",
    "리뷰 텍스트(단어 시퀀스)가 숫자 시퀀스로 변환되어 케라스 데이터셋으로 제공됨\n",
    "# 참고 싸이트: \n",
    "print(\"https://www.tensorflow.org/tutorials/keras/text_classification\")"
   ]
  },
  {
   "cell_type": "markdown",
   "metadata": {},
   "source": [
    "* 필요한 라이브러리 임포트"
   ]
  },
  {
   "cell_type": "code",
   "execution_count": 1,
   "metadata": {},
   "outputs": [],
   "source": [
    "import pandas as pd\n",
    "import numpy as np\n",
    "\n",
    "import tensorflow as tf\n",
    "from tensorflow import keras\n"
   ]
  },
  {
   "attachments": {},
   "cell_type": "markdown",
   "metadata": {},
   "source": [
    "#### 토큰에 부여되는 특수 정수\n",
    "- 0: 패딩\n",
    "- 1: 문장의 시작\n",
    "- 2: 어휘 사전에 없는 토큰"
   ]
  },
  {
   "cell_type": "markdown",
   "metadata": {
    "id": "S1A-DDIQ6kQQ"
   },
   "source": [
    "## IMDB 리뷰 데이터셋"
   ]
  },
  {
   "cell_type": "code",
   "execution_count": 2,
   "metadata": {},
   "outputs": [
    {
     "name": "stdout",
     "output_type": "stream",
     "text": [
      "Downloading data from https://storage.googleapis.com/tensorflow/tf-keras-datasets/imdb.npz\n",
      "17464789/17464789 [==============================] - 1s 0us/step\n"
     ]
    }
   ],
   "source": [
    "# 빈도수가 가장 많은 500개 데이터만 로드하기\n",
    "from tensorflow.keras.datasets import imdb\n",
    "\n",
    "(train_input, train_target), (test_input, test_target) = imdb.load_data(\n",
    "    num_words=500)"
   ]
  },
  {
   "cell_type": "code",
   "execution_count": 3,
   "metadata": {
    "colab": {
     "base_uri": "https://localhost:8080/"
    },
    "execution": {
     "iopub.execute_input": "2020-10-12T01:18:52.481400Z",
     "iopub.status.busy": "2020-10-12T01:18:52.479645Z",
     "iopub.status.idle": "2020-10-12T01:18:52.485658Z",
     "shell.execute_reply": "2020-10-12T01:18:52.486465Z"
    },
    "id": "HTFjz6k06kQR",
    "outputId": "1d4929d7-0a93-4bb8-cf03-682ada3d6ac9"
   },
   "outputs": [
    {
     "data": {
      "text/plain": [
       "((25000,), (25000,))"
      ]
     },
     "execution_count": 3,
     "metadata": {},
     "output_type": "execute_result"
    }
   ],
   "source": [
    "# 훈련세트, 테스트 세트 크기 확인\n",
    "train_input.shape, test_input.shape"
   ]
  },
  {
   "cell_type": "code",
   "execution_count": 4,
   "metadata": {
    "colab": {
     "base_uri": "https://localhost:8080/"
    },
    "execution": {
     "iopub.execute_input": "2020-10-12T01:18:52.493608Z",
     "iopub.status.busy": "2020-10-12T01:18:52.492625Z",
     "iopub.status.idle": "2020-10-12T01:18:52.496804Z",
     "shell.execute_reply": "2020-10-12T01:18:52.497722Z"
    },
    "id": "4jMLURzw6kQS",
    "outputId": "ffb635f3-a3bd-42ed-b6da-fecaa0ede408"
   },
   "outputs": [
    {
     "data": {
      "text/plain": [
       "218"
      ]
     },
     "execution_count": 4,
     "metadata": {},
     "output_type": "execute_result"
    }
   ],
   "source": [
    "# 첫 번째 리뷰의 길이 출력\n",
    "len(train_input[0])\n"
   ]
  },
  {
   "cell_type": "code",
   "execution_count": 5,
   "metadata": {
    "colab": {
     "base_uri": "https://localhost:8080/"
    },
    "execution": {
     "iopub.execute_input": "2020-10-12T01:18:52.504933Z",
     "iopub.status.busy": "2020-10-12T01:18:52.503811Z",
     "iopub.status.idle": "2020-10-12T01:18:52.508252Z",
     "shell.execute_reply": "2020-10-12T01:18:52.509172Z"
    },
    "id": "xdO834PL6kQT",
    "outputId": "28ba2580-b6b8-49b0-e07e-4df8026a5626"
   },
   "outputs": [
    {
     "data": {
      "text/plain": [
       "189"
      ]
     },
     "execution_count": 5,
     "metadata": {},
     "output_type": "execute_result"
    }
   ],
   "source": [
    "# 두 번째 리뷰의 길이 출력\n",
    "len(train_input[1])"
   ]
  },
  {
   "cell_type": "code",
   "execution_count": 6,
   "metadata": {},
   "outputs": [
    {
     "name": "stdout",
     "output_type": "stream",
     "text": [
      "[1, 14, 22, 16, 43, 2, 2, 2, 2, 65, 458, 2, 66, 2, 4, 173, 36, 256, 5, 25, 100, 43, 2, 112, 50, 2, 2, 9, 35, 480, 284, 5, 150, 4, 172, 112, 167, 2, 336, 385, 39, 4, 172, 2, 2, 17, 2, 38, 13, 447, 4, 192, 50, 16, 6, 147, 2, 19, 14, 22, 4, 2, 2, 469, 4, 22, 71, 87, 12, 16, 43, 2, 38, 76, 15, 13, 2, 4, 22, 17, 2, 17, 12, 16, 2, 18, 2, 5, 62, 386, 12, 8, 316, 8, 106, 5, 4, 2, 2, 16, 480, 66, 2, 33, 4, 130, 12, 16, 38, 2, 5, 25, 124, 51, 36, 135, 48, 25, 2, 33, 6, 22, 12, 215, 28, 77, 52, 5, 14, 407, 16, 82, 2, 8, 4, 107, 117, 2, 15, 256, 4, 2, 7, 2, 5, 2, 36, 71, 43, 2, 476, 26, 400, 317, 46, 7, 4, 2, 2, 13, 104, 88, 4, 381, 15, 297, 98, 32, 2, 56, 26, 141, 6, 194, 2, 18, 4, 226, 22, 21, 134, 476, 26, 480, 5, 144, 30, 2, 18, 51, 36, 28, 224, 92, 25, 104, 4, 226, 65, 16, 38, 2, 88, 12, 16, 283, 5, 16, 2, 113, 103, 32, 15, 16, 2, 19, 178, 32]\n",
      "--------------------------------------------------\n",
      "1\n"
     ]
    }
   ],
   "source": [
    "# 첫 번째 리뷰에 담긴 내용과 레이블 확인\n",
    "print(train_input[0])\n",
    "print(\"-\"*50)\n",
    "print(train_target[0])"
   ]
  },
  {
   "cell_type": "code",
   "execution_count": 7,
   "metadata": {
    "colab": {
     "base_uri": "https://localhost:8080/"
    },
    "execution": {
     "iopub.execute_input": "2020-10-12T01:18:52.528598Z",
     "iopub.status.busy": "2020-10-12T01:18:52.527510Z",
     "iopub.status.idle": "2020-10-12T01:18:52.532011Z",
     "shell.execute_reply": "2020-10-12T01:18:52.532936Z"
    },
    "id": "In8Qzltz6kQT",
    "outputId": "78b5ddc6-d634-4755-9435-25cc8f2c9462"
   },
   "outputs": [
    {
     "name": "stdout",
     "output_type": "stream",
     "text": [
      "[1 0 0 1 0 0 1 0 1 0 1 0 0 0 0 0 1 1 0 1]\n"
     ]
    }
   ],
   "source": [
    "# 타겟 데이터 확인 긍정:1  부정: 0\n",
    "print(train_target[:20])"
   ]
  },
  {
   "cell_type": "code",
   "execution_count": 8,
   "metadata": {
    "execution": {
     "iopub.execute_input": "2020-10-12T01:18:52.541031Z",
     "iopub.status.busy": "2020-10-12T01:18:52.539873Z",
     "iopub.status.idle": "2020-10-12T01:18:52.812559Z",
     "shell.execute_reply": "2020-10-12T01:18:52.810985Z"
    },
    "id": "0-zjNgBw6kQU"
   },
   "outputs": [],
   "source": [
    "# 훈련 세트와 검증 세트 분리\n",
    "from sklearn.model_selection import train_test_split\n",
    "\n",
    "X_train, X_val, y_train, y_val = train_test_split(train_input, train_target,\n",
    "                                                                     test_size=0.2,\n",
    "                                                                       random_state=42)"
   ]
  },
  {
   "cell_type": "code",
   "execution_count": 9,
   "metadata": {
    "execution": {
     "iopub.execute_input": "2020-10-12T01:18:52.833360Z",
     "iopub.status.busy": "2020-10-12T01:18:52.831841Z",
     "iopub.status.idle": "2020-10-12T01:18:52.834920Z",
     "shell.execute_reply": "2020-10-12T01:18:52.836117Z"
    },
    "id": "sRVvgntx6kQU"
   },
   "outputs": [
    {
     "name": "stdout",
     "output_type": "stream",
     "text": [
      "(20000,) (5000,)\n"
     ]
    },
    {
     "data": {
      "text/plain": [
       "[259,\n",
       " 520,\n",
       " 290,\n",
       " 109,\n",
       " 559,\n",
       " 96,\n",
       " 130,\n",
       " 935,\n",
       " 383,\n",
       " 716,\n",
       " 195,\n",
       " 55,\n",
       " 122,\n",
       " 142,\n",
       " 104,\n",
       " 109,\n",
       " 179,\n",
       " 777,\n",
       " 368,\n",
       " 311]"
      ]
     },
     "execution_count": 9,
     "metadata": {},
     "output_type": "execute_result"
    }
   ],
   "source": [
    "# 훈련 세트의 각 리뷰별 단어 길이 확인 및 평균 , 중간값 확인\n",
    "print(X_train.shape, X_val.shape)\n",
    "\n",
    "length = []\n",
    "for each in X_train:\n",
    "    length.append(len(each))\n",
    "\n",
    "length[:20]"
   ]
  },
  {
   "cell_type": "code",
   "execution_count": 12,
   "metadata": {
    "colab": {
     "base_uri": "https://localhost:8080/"
    },
    "execution": {
     "iopub.execute_input": "2020-10-12T01:18:52.843759Z",
     "iopub.status.busy": "2020-10-12T01:18:52.842297Z",
     "iopub.status.idle": "2020-10-12T01:18:52.847506Z",
     "shell.execute_reply": "2020-10-12T01:18:52.848361Z"
    },
    "id": "p76m_61w6kQU",
    "outputId": "04b533f6-45ef-4514-d87d-b484a89afde6"
   },
   "outputs": [
    {
     "data": {
      "text/plain": [
       "array([259, 520, 290, 109, 559,  96, 130, 935, 383, 716, 195,  55, 122,\n",
       "       142, 104, 109, 179, 777, 368, 311])"
      ]
     },
     "execution_count": 12,
     "metadata": {},
     "output_type": "execute_result"
    }
   ],
   "source": [
    "#### 리스트 컨프리헨션으로 표현\n",
    "length = np.array([len(each) for each in X_train])\n",
    "length[:20]"
   ]
  },
  {
   "cell_type": "code",
   "execution_count": 13,
   "metadata": {
    "colab": {
     "base_uri": "https://localhost:8080/",
     "height": 279
    },
    "execution": {
     "iopub.execute_input": "2020-10-12T01:18:52.874891Z",
     "iopub.status.busy": "2020-10-12T01:18:52.873857Z",
     "iopub.status.idle": "2020-10-12T01:18:53.042560Z",
     "shell.execute_reply": "2020-10-12T01:18:53.040898Z"
    },
    "id": "TVDrsRYF6kQV",
    "outputId": "2610932c-ac31-480b-8a6c-fd5ac2793a34",
    "scrolled": true
   },
   "outputs": [
    {
     "data": {
      "text/plain": [
       "(239.00925, 178.0)"
      ]
     },
     "execution_count": 13,
     "metadata": {},
     "output_type": "execute_result"
    }
   ],
   "source": [
    "# 리뷰 길이 데이터의 분포 확인\n",
    "np.mean(length), np.median(length)"
   ]
  },
  {
   "cell_type": "code",
   "execution_count": 14,
   "metadata": {},
   "outputs": [
    {
     "data": {
      "image/png": "[encoded data removed]",
      "text/plain": [
       "<Figure size 640x480 with 1 Axes>"
      ]
     },
     "metadata": {},
     "output_type": "display_data"
    }
   ],
   "source": [
    "import matplotlib.pyplot as plt\n",
    "\n",
    "plt.hist(length)\n",
    "plt.xlabel('length of review')\n",
    "plt.ylabel('frequency')\n",
    "plt.show()"
   ]
  },
  {
   "cell_type": "raw",
   "metadata": {},
   "source": [
    "리뷰는 대부분 짧으므로 중간값(178.0)보다 훨씬 짧은 100개의 단어만 사용함\n",
    "100개의 단어보다 짧은 리뷰는 패딩을 수행하여 시퀀스 길이를 맞춤"
   ]
  },
  {
   "cell_type": "markdown",
   "metadata": {},
   "source": [
    "### 리뷰의 길이를 일정하게 조정 - pad_sequence()"
   ]
  },
  {
   "cell_type": "raw",
   "metadata": {},
   "source": [
    "pad_sequence() 함수 작동 방식\n",
    "# 기준값보다 긴 경우 :max_len보다 긴 시퀀스의 앞부분을 자름. 일반적으로 시퀀스의 뒷부분의 정보가 더 유용하리라 기대하기 때문.\n",
    "뒷부분을 자르려면 'post'로 변환\n",
    "# 기준값보다 짧은 경우: 앞부분을 채움"
   ]
  },
  {
   "cell_type": "code",
   "execution_count": 15,
   "metadata": {},
   "outputs": [],
   "source": [
    "from tensorflow.keras.preprocessing.sequence import pad_sequences\n",
    "\n",
    "train_seq = pad_sequences(X_train, maxlen=100)\n"
   ]
  },
  {
   "cell_type": "code",
   "execution_count": 16,
   "metadata": {},
   "outputs": [
    {
     "data": {
      "text/plain": [
       "(20000, 100)"
      ]
     },
     "execution_count": 16,
     "metadata": {},
     "output_type": "execute_result"
    }
   ],
   "source": [
    "train_seq.shape"
   ]
  },
  {
   "cell_type": "code",
   "execution_count": 17,
   "metadata": {},
   "outputs": [
    {
     "data": {
      "text/plain": [
       "array([ 10,   4,  20,   9,   2, 364, 352,   5,  45,   6,   2,   2,  33,\n",
       "       269,   8,   2, 142,   2,   5,   2,  17,  73,  17, 204,   5,   2,\n",
       "        19,  55,   2,   2,  92,  66, 104,  14,  20,  93,  76,   2, 151,\n",
       "        33,   4,  58,  12, 188,   2, 151,  12, 215,  69, 224, 142,  73,\n",
       "       237,   6,   2,   7,   2,   2, 188,   2, 103,  14,  31,  10,  10,\n",
       "       451,   7,   2,   5,   2,  80,  91,   2,  30,   2,  34,  14,  20,\n",
       "       151,  50,  26, 131,  49,   2,  84,  46,  50,  37,  80,  79,   6,\n",
       "         2,  46,   7,  14,  20,  10,  10, 470, 158])"
      ]
     },
     "execution_count": 17,
     "metadata": {},
     "output_type": "execute_result"
    }
   ],
   "source": [
    "train_seq[0]"
   ]
  },
  {
   "cell_type": "code",
   "execution_count": 18,
   "metadata": {},
   "outputs": [
    {
     "name": "stdout",
     "output_type": "stream",
     "text": [
      "[6, 2, 46, 7, 14, 20, 10, 10, 470, 158]\n"
     ]
    }
   ],
   "source": [
    "print(X_train[0][-10:])"
   ]
  },
  {
   "cell_type": "code",
   "execution_count": 19,
   "metadata": {},
   "outputs": [],
   "source": [
    "val_seq = pad_sequences(X_val, maxlen=100)"
   ]
  },
  {
   "cell_type": "markdown",
   "metadata": {
    "id": "9xab0nu_6kQX"
   },
   "source": [
    "# 순환 신경망 만들기"
   ]
  },
  {
   "attachments": {},
   "cell_type": "markdown",
   "metadata": {},
   "source": [
    "## 1) Model1 : One-Hot Encoding을 사용하여 RNN 입력 시퀀스 구성한 경우"
   ]
  },
  {
   "cell_type": "code",
   "execution_count": 20,
   "metadata": {
    "execution": {
     "iopub.execute_input": "2020-10-12T01:18:56.004523Z",
     "iopub.status.busy": "2020-10-12T01:18:56.002786Z",
     "iopub.status.idle": "2020-10-12T01:18:57.766487Z",
     "shell.execute_reply": "2020-10-12T01:18:57.764928Z"
    },
    "id": "oXIWyOuw6kQY"
   },
   "outputs": [],
   "source": [
    "# One-Hot Encoding\n",
    "train_oh = keras.utils.to_categorical(train_seq)"
   ]
  },
  {
   "cell_type": "code",
   "execution_count": 21,
   "metadata": {},
   "outputs": [],
   "source": [
    "val_oh = keras.utils.to_categorical(val_seq)"
   ]
  },
  {
   "cell_type": "code",
   "execution_count": 22,
   "metadata": {
    "colab": {
     "base_uri": "https://localhost:8080/"
    },
    "execution": {
     "iopub.execute_input": "2020-10-12T01:18:57.798946Z",
     "iopub.status.busy": "2020-10-12T01:18:57.797788Z",
     "iopub.status.idle": "2020-10-12T01:18:57.802480Z",
     "shell.execute_reply": "2020-10-12T01:18:57.803390Z"
    },
    "id": "CP3ivii46kQZ",
    "outputId": "6a669f1a-41fe-486a-e0e1-bd812d2b7aeb"
   },
   "outputs": [
    {
     "data": {
      "text/plain": [
       "(20000, 100, 500)"
      ]
     },
     "execution_count": 22,
     "metadata": {},
     "output_type": "execute_result"
    }
   ],
   "source": [
    "#원핫 인코딩이 잘 된 상태\n",
    "train_oh.shape"
   ]
  },
  {
   "cell_type": "code",
   "execution_count": 23,
   "metadata": {},
   "outputs": [
    {
     "data": {
      "text/plain": [
       "array([0., 0., 0., 0., 0., 0., 0., 0., 0., 0., 1., 0., 0., 0., 0., 0., 0.,\n",
       "       0., 0., 0., 0., 0., 0., 0., 0., 0., 0., 0., 0., 0., 0., 0., 0., 0.,\n",
       "       0., 0., 0., 0., 0., 0., 0., 0., 0., 0., 0., 0., 0., 0., 0., 0., 0.,\n",
       "       0., 0., 0., 0., 0., 0., 0., 0., 0., 0., 0., 0., 0., 0., 0., 0., 0.,\n",
       "       0., 0., 0., 0., 0., 0., 0., 0., 0., 0., 0., 0., 0., 0., 0., 0., 0.,\n",
       "       0., 0., 0., 0., 0., 0., 0., 0., 0., 0., 0., 0., 0., 0., 0., 0., 0.,\n",
       "       0., 0., 0., 0., 0., 0., 0., 0., 0., 0., 0., 0., 0., 0., 0., 0., 0.,\n",
       "       0., 0., 0., 0., 0., 0., 0., 0., 0., 0., 0., 0., 0., 0., 0., 0., 0.,\n",
       "       0., 0., 0., 0., 0., 0., 0., 0., 0., 0., 0., 0., 0., 0., 0., 0., 0.,\n",
       "       0., 0., 0., 0., 0., 0., 0., 0., 0., 0., 0., 0., 0., 0., 0., 0., 0.,\n",
       "       0., 0., 0., 0., 0., 0., 0., 0., 0., 0., 0., 0., 0., 0., 0., 0., 0.,\n",
       "       0., 0., 0., 0., 0., 0., 0., 0., 0., 0., 0., 0., 0., 0., 0., 0., 0.,\n",
       "       0., 0., 0., 0., 0., 0., 0., 0., 0., 0., 0., 0., 0., 0., 0., 0., 0.,\n",
       "       0., 0., 0., 0., 0., 0., 0., 0., 0., 0., 0., 0., 0., 0., 0., 0., 0.,\n",
       "       0., 0., 0., 0., 0., 0., 0., 0., 0., 0., 0., 0., 0., 0., 0., 0., 0.,\n",
       "       0., 0., 0., 0., 0., 0., 0., 0., 0., 0., 0., 0., 0., 0., 0., 0., 0.,\n",
       "       0., 0., 0., 0., 0., 0., 0., 0., 0., 0., 0., 0., 0., 0., 0., 0., 0.,\n",
       "       0., 0., 0., 0., 0., 0., 0., 0., 0., 0., 0., 0., 0., 0., 0., 0., 0.,\n",
       "       0., 0., 0., 0., 0., 0., 0., 0., 0., 0., 0., 0., 0., 0., 0., 0., 0.,\n",
       "       0., 0., 0., 0., 0., 0., 0., 0., 0., 0., 0., 0., 0., 0., 0., 0., 0.,\n",
       "       0., 0., 0., 0., 0., 0., 0., 0., 0., 0., 0., 0., 0., 0., 0., 0., 0.,\n",
       "       0., 0., 0., 0., 0., 0., 0., 0., 0., 0., 0., 0., 0., 0., 0., 0., 0.,\n",
       "       0., 0., 0., 0., 0., 0., 0., 0., 0., 0., 0., 0., 0., 0., 0., 0., 0.,\n",
       "       0., 0., 0., 0., 0., 0., 0., 0., 0., 0., 0., 0., 0., 0., 0., 0., 0.,\n",
       "       0., 0., 0., 0., 0., 0., 0., 0., 0., 0., 0., 0., 0., 0., 0., 0., 0.,\n",
       "       0., 0., 0., 0., 0., 0., 0., 0., 0., 0., 0., 0., 0., 0., 0., 0., 0.,\n",
       "       0., 0., 0., 0., 0., 0., 0., 0., 0., 0., 0., 0., 0., 0., 0., 0., 0.,\n",
       "       0., 0., 0., 0., 0., 0., 0., 0., 0., 0., 0., 0., 0., 0., 0., 0., 0.,\n",
       "       0., 0., 0., 0., 0., 0., 0., 0., 0., 0., 0., 0., 0., 0., 0., 0., 0.,\n",
       "       0., 0., 0., 0., 0., 0., 0.], dtype=float32)"
      ]
     },
     "execution_count": 23,
     "metadata": {},
     "output_type": "execute_result"
    }
   ],
   "source": [
    "train_oh[0][0]"
   ]
  },
  {
   "cell_type": "code",
   "execution_count": 24,
   "metadata": {},
   "outputs": [],
   "source": [
    "from keras.models import Sequential\n",
    "from keras.layers import SimpleRNN, Dense"
   ]
  },
  {
   "cell_type": "code",
   "execution_count": 25,
   "metadata": {},
   "outputs": [],
   "source": [
    "model = keras.Sequential([\n",
    "    SimpleRNN(8, input_shape=(100, 500)),\n",
    "    Dense(1, activation='sigmoid')\n",
    "])"
   ]
  },
  {
   "cell_type": "code",
   "execution_count": 26,
   "metadata": {},
   "outputs": [
    {
     "name": "stdout",
     "output_type": "stream",
     "text": [
      "Model: \"sequential\"\n",
      "_________________________________________________________________\n",
      " Layer (type)                Output Shape              Param #   \n",
      "=================================================================\n",
      " simple_rnn (SimpleRNN)      (None, 8)                 4072      \n",
      "                                                                 \n",
      " dense (Dense)               (None, 1)                 9         \n",
      "                                                                 \n",
      "=================================================================\n",
      "Total params: 4,081\n",
      "Trainable params: 4,081\n",
      "Non-trainable params: 0\n",
      "_________________________________________________________________\n"
     ]
    }
   ],
   "source": [
    "model.summary()"
   ]
  },
  {
   "cell_type": "code",
   "execution_count": 27,
   "metadata": {
    "execution": {
     "iopub.execute_input": "2020-10-12T01:18:57.810383Z",
     "iopub.status.busy": "2020-10-12T01:18:57.809293Z",
     "iopub.status.idle": "2020-10-12T01:18:58.247989Z",
     "shell.execute_reply": "2020-10-12T01:18:58.248931Z"
    },
    "id": "vgijH6m26kQZ"
   },
   "outputs": [],
   "source": [
    "import tensorflow as tf\n",
    "from tensorflow.keras.optimizers import RMSprop\n",
    "\n",
    "rmsprop = RMSprop(learning_rate=1e-4)\n",
    "model.compile(loss='binary_crossentropy', metrics='accuracy', optimizer=rmsprop)"
   ]
  },
  {
   "cell_type": "code",
   "execution_count": 28,
   "metadata": {},
   "outputs": [
    {
     "name": "stdout",
     "output_type": "stream",
     "text": [
      "Epoch 1/100\n",
      "313/313 [==============================] - 8s 22ms/step - loss: 0.6974 - accuracy: 0.5016 - val_loss: 0.6934 - val_accuracy: 0.5172\n",
      "Epoch 2/100\n",
      "313/313 [==============================] - 7s 22ms/step - loss: 0.6916 - accuracy: 0.5231 - val_loss: 0.6867 - val_accuracy: 0.5524\n",
      "Epoch 3/100\n",
      "313/313 [==============================] - 7s 22ms/step - loss: 0.6813 - accuracy: 0.5692 - val_loss: 0.6764 - val_accuracy: 0.5940\n",
      "Epoch 4/100\n",
      "313/313 [==============================] - 7s 22ms/step - loss: 0.6702 - accuracy: 0.6108 - val_loss: 0.6657 - val_accuracy: 0.6214\n",
      "Epoch 5/100\n",
      "313/313 [==============================] - 7s 22ms/step - loss: 0.6567 - accuracy: 0.6468 - val_loss: 0.6527 - val_accuracy: 0.6492\n",
      "Epoch 6/100\n",
      "313/313 [==============================] - 7s 22ms/step - loss: 0.6417 - accuracy: 0.6714 - val_loss: 0.6392 - val_accuracy: 0.6702\n",
      "Epoch 7/100\n",
      "313/313 [==============================] - 7s 23ms/step - loss: 0.6261 - accuracy: 0.6952 - val_loss: 0.6231 - val_accuracy: 0.6984\n",
      "Epoch 8/100\n",
      "313/313 [==============================] - 7s 21ms/step - loss: 0.6097 - accuracy: 0.7128 - val_loss: 0.6096 - val_accuracy: 0.7034\n",
      "Epoch 9/100\n",
      "313/313 [==============================] - 7s 21ms/step - loss: 0.5931 - accuracy: 0.7285 - val_loss: 0.5955 - val_accuracy: 0.7158\n",
      "Epoch 10/100\n",
      "313/313 [==============================] - 7s 21ms/step - loss: 0.5777 - accuracy: 0.7405 - val_loss: 0.5811 - val_accuracy: 0.7290\n",
      "Epoch 11/100\n",
      "313/313 [==============================] - 7s 22ms/step - loss: 0.5636 - accuracy: 0.7512 - val_loss: 0.5682 - val_accuracy: 0.7374\n",
      "Epoch 12/100\n",
      "313/313 [==============================] - 7s 22ms/step - loss: 0.5501 - accuracy: 0.7589 - val_loss: 0.5579 - val_accuracy: 0.7402\n",
      "Epoch 13/100\n",
      "313/313 [==============================] - 7s 22ms/step - loss: 0.5377 - accuracy: 0.7642 - val_loss: 0.5463 - val_accuracy: 0.7508\n",
      "Epoch 14/100\n",
      "313/313 [==============================] - 7s 22ms/step - loss: 0.5263 - accuracy: 0.7712 - val_loss: 0.5378 - val_accuracy: 0.7558\n",
      "Epoch 15/100\n",
      "313/313 [==============================] - 7s 22ms/step - loss: 0.5161 - accuracy: 0.7765 - val_loss: 0.5291 - val_accuracy: 0.7578\n",
      "Epoch 16/100\n",
      "313/313 [==============================] - 7s 22ms/step - loss: 0.5063 - accuracy: 0.7822 - val_loss: 0.5213 - val_accuracy: 0.7608\n",
      "Epoch 17/100\n",
      "313/313 [==============================] - 7s 22ms/step - loss: 0.4973 - accuracy: 0.7857 - val_loss: 0.5132 - val_accuracy: 0.7624\n",
      "Epoch 18/100\n",
      "313/313 [==============================] - 7s 22ms/step - loss: 0.4892 - accuracy: 0.7878 - val_loss: 0.5082 - val_accuracy: 0.7638\n",
      "Epoch 19/100\n",
      "313/313 [==============================] - 7s 22ms/step - loss: 0.4815 - accuracy: 0.7915 - val_loss: 0.5003 - val_accuracy: 0.7674\n",
      "Epoch 20/100\n",
      "313/313 [==============================] - 7s 22ms/step - loss: 0.4746 - accuracy: 0.7948 - val_loss: 0.4977 - val_accuracy: 0.7714\n",
      "Epoch 21/100\n",
      "313/313 [==============================] - 7s 24ms/step - loss: 0.4681 - accuracy: 0.7969 - val_loss: 0.4909 - val_accuracy: 0.7754\n",
      "Epoch 22/100\n",
      "313/313 [==============================] - 8s 24ms/step - loss: 0.4623 - accuracy: 0.7997 - val_loss: 0.4858 - val_accuracy: 0.7778\n",
      "Epoch 23/100\n",
      "313/313 [==============================] - 7s 24ms/step - loss: 0.4566 - accuracy: 0.8023 - val_loss: 0.4844 - val_accuracy: 0.7756\n",
      "Epoch 24/100\n",
      "313/313 [==============================] - 8s 24ms/step - loss: 0.4519 - accuracy: 0.8039 - val_loss: 0.4843 - val_accuracy: 0.7746\n",
      "Epoch 25/100\n",
      "313/313 [==============================] - 8s 24ms/step - loss: 0.4472 - accuracy: 0.8065 - val_loss: 0.4766 - val_accuracy: 0.7810\n",
      "Epoch 26/100\n",
      "313/313 [==============================] - 7s 24ms/step - loss: 0.4432 - accuracy: 0.8069 - val_loss: 0.4729 - val_accuracy: 0.7814\n",
      "Epoch 27/100\n",
      "313/313 [==============================] - 8s 25ms/step - loss: 0.4394 - accuracy: 0.8090 - val_loss: 0.4698 - val_accuracy: 0.7830\n",
      "Epoch 28/100\n",
      "313/313 [==============================] - 8s 24ms/step - loss: 0.4357 - accuracy: 0.8098 - val_loss: 0.4713 - val_accuracy: 0.7828\n",
      "Epoch 29/100\n",
      "313/313 [==============================] - 7s 24ms/step - loss: 0.4322 - accuracy: 0.8109 - val_loss: 0.4662 - val_accuracy: 0.7868\n",
      "Epoch 30/100\n",
      "313/313 [==============================] - 8s 24ms/step - loss: 0.4293 - accuracy: 0.8127 - val_loss: 0.4640 - val_accuracy: 0.7866\n",
      "Epoch 31/100\n",
      "313/313 [==============================] - 7s 24ms/step - loss: 0.4261 - accuracy: 0.8145 - val_loss: 0.4631 - val_accuracy: 0.7882\n",
      "Epoch 32/100\n",
      "313/313 [==============================] - 7s 24ms/step - loss: 0.4234 - accuracy: 0.8150 - val_loss: 0.4656 - val_accuracy: 0.7872\n",
      "Epoch 33/100\n",
      "313/313 [==============================] - 7s 24ms/step - loss: 0.4207 - accuracy: 0.8152 - val_loss: 0.4616 - val_accuracy: 0.7892\n",
      "Epoch 34/100\n",
      "313/313 [==============================] - 7s 24ms/step - loss: 0.4183 - accuracy: 0.8159 - val_loss: 0.4590 - val_accuracy: 0.7926\n",
      "Epoch 35/100\n",
      "313/313 [==============================] - 7s 23ms/step - loss: 0.4161 - accuracy: 0.8177 - val_loss: 0.4611 - val_accuracy: 0.7886\n",
      "Epoch 36/100\n",
      "313/313 [==============================] - 8s 24ms/step - loss: 0.4141 - accuracy: 0.8184 - val_loss: 0.4574 - val_accuracy: 0.7926\n",
      "Epoch 37/100\n",
      "313/313 [==============================] - 8s 24ms/step - loss: 0.4117 - accuracy: 0.8198 - val_loss: 0.4565 - val_accuracy: 0.7912\n",
      "Epoch 38/100\n",
      "313/313 [==============================] - 8s 24ms/step - loss: 0.4099 - accuracy: 0.8206 - val_loss: 0.4552 - val_accuracy: 0.7910\n",
      "Epoch 39/100\n",
      "313/313 [==============================] - 8s 24ms/step - loss: 0.4084 - accuracy: 0.8206 - val_loss: 0.4562 - val_accuracy: 0.7920\n",
      "Epoch 40/100\n",
      "313/313 [==============================] - 7s 24ms/step - loss: 0.4069 - accuracy: 0.8227 - val_loss: 0.4570 - val_accuracy: 0.7918\n",
      "Epoch 41/100\n",
      "313/313 [==============================] - 7s 24ms/step - loss: 0.4053 - accuracy: 0.8231 - val_loss: 0.4551 - val_accuracy: 0.7932\n",
      "Epoch 42/100\n",
      "313/313 [==============================] - 7s 24ms/step - loss: 0.4041 - accuracy: 0.8240 - val_loss: 0.4549 - val_accuracy: 0.7924\n",
      "Epoch 43/100\n",
      "313/313 [==============================] - 8s 24ms/step - loss: 0.4027 - accuracy: 0.8252 - val_loss: 0.4544 - val_accuracy: 0.7928\n",
      "Epoch 44/100\n",
      "313/313 [==============================] - 8s 24ms/step - loss: 0.4012 - accuracy: 0.8246 - val_loss: 0.4549 - val_accuracy: 0.7930\n",
      "Epoch 45/100\n",
      "313/313 [==============================] - 8s 24ms/step - loss: 0.4001 - accuracy: 0.8253 - val_loss: 0.4549 - val_accuracy: 0.7912\n",
      "Epoch 46/100\n",
      "313/313 [==============================] - 7s 24ms/step - loss: 0.3987 - accuracy: 0.8258 - val_loss: 0.4551 - val_accuracy: 0.7938\n"
     ]
    }
   ],
   "source": [
    "checkpoint_cb = tf.keras.callbacks.ModelCheckpoint('320.0.best_simpleRNN.h5', save_best_only=True)\n",
    "early_stopping_cb = tf.keras.callbacks.EarlyStopping(patience=3, restore_best_weights=True)\n",
    "\n",
    "hist = model.fit(train_oh, y_train, epochs=100, batch_size=64,\n",
    "                validation_data= (val_oh, y_val),\n",
    "                callbacks=[checkpoint_cb, early_stopping_cb])"
   ]
  },
  {
   "cell_type": "code",
   "execution_count": 29,
   "metadata": {},
   "outputs": [],
   "source": [
    "model.save('320.0.best_simpleRNN.h5')"
   ]
  },
  {
   "cell_type": "code",
   "execution_count": null,
   "metadata": {},
   "outputs": [],
   "source": [
    "model = tf.keras.models.load_model('320.0.best_simpleRNN.h5')"
   ]
  },
  {
   "cell_type": "code",
   "execution_count": 35,
   "metadata": {},
   "outputs": [
    {
     "data": {
      "image/png": "[encoded data removed]",
      "text/plain": [
       "<Figure size 600x600 with 1 Axes>"
      ]
     },
     "metadata": {},
     "output_type": "display_data"
    },
    {
     "data": {
      "image/png": "[encoded data removed]",
      "text/plain": [
       "<Figure size 600x600 with 1 Axes>"
      ]
     },
     "metadata": {},
     "output_type": "display_data"
    }
   ],
   "source": [
    "df = pd.DataFrame(hist.history)\n",
    "plt.figure(figsize=(6, 6))\n",
    "plt.plot(df.loss, label='train_loss')\n",
    "plt.plot(df.val_loss, label='val_loss')\n",
    "plt.legend()\n",
    "plt.show()\n",
    "\n",
    "plt.figure(figsize=(6, 6))\n",
    "plt.plot(df.accuracy, label='train_accuracy')\n",
    "plt.plot(df.val_accuracy, label='val_accuracy')\n",
    "plt.legend()\n",
    "plt.show()"
   ]
  },
  {
   "cell_type": "markdown",
   "metadata": {
    "id": "K_U_lVie6kQa"
   },
   "source": [
    "## Model2. 단어 임베딩을 사용하여 RNN 입력 시퀀스 구성한 경우\n",
    "- 각각의 단어(토큰)를 고정된 크기의 실수 벡터로 변환\n",
    "- keras.layers.Embedding 클래스 활용"
   ]
  },
  {
   "cell_type": "code",
   "execution_count": 36,
   "metadata": {},
   "outputs": [],
   "source": [
    "from tensorflow.keras.models import Sequential\n",
    "from tensorflow.keras.layers import Embedding, SimpleRNN, Dense\n",
    "\n",
    "model_emb = Sequential([\n",
    "    Embedding(500, 16, input_length=100),\n",
    "    SimpleRNN(8),\n",
    "    Dense(1, activation='sigmoid')\n",
    "])"
   ]
  },
  {
   "cell_type": "code",
   "execution_count": 39,
   "metadata": {},
   "outputs": [
    {
     "name": "stdout",
     "output_type": "stream",
     "text": [
      "Epoch 1/100\n",
      "313/313 [==============================] - 5s 13ms/step - loss: 0.6940 - accuracy: 0.5102 - val_loss: 0.6923 - val_accuracy: 0.5170\n",
      "Epoch 2/100\n",
      "313/313 [==============================] - 4s 13ms/step - loss: 0.6888 - accuracy: 0.5406 - val_loss: 0.6891 - val_accuracy: 0.5372\n",
      "Epoch 3/100\n",
      "313/313 [==============================] - 4s 13ms/step - loss: 0.6834 - accuracy: 0.5688 - val_loss: 0.6847 - val_accuracy: 0.5534\n",
      "Epoch 4/100\n",
      "313/313 [==============================] - 4s 13ms/step - loss: 0.6746 - accuracy: 0.6033 - val_loss: 0.6705 - val_accuracy: 0.6062\n",
      "Epoch 5/100\n",
      "313/313 [==============================] - 4s 13ms/step - loss: 0.6358 - accuracy: 0.6843 - val_loss: 0.6207 - val_accuracy: 0.6990\n",
      "Epoch 6/100\n",
      "313/313 [==============================] - 5s 16ms/step - loss: 0.6020 - accuracy: 0.7199 - val_loss: 0.5964 - val_accuracy: 0.7240\n",
      "Epoch 7/100\n",
      "313/313 [==============================] - 5s 15ms/step - loss: 0.5792 - accuracy: 0.7329 - val_loss: 0.5785 - val_accuracy: 0.7238\n",
      "Epoch 8/100\n",
      "313/313 [==============================] - 5s 15ms/step - loss: 0.5597 - accuracy: 0.7427 - val_loss: 0.5675 - val_accuracy: 0.7278\n",
      "Epoch 9/100\n",
      "313/313 [==============================] - 5s 16ms/step - loss: 0.5419 - accuracy: 0.7522 - val_loss: 0.5437 - val_accuracy: 0.7472\n",
      "Epoch 10/100\n",
      "313/313 [==============================] - 5s 16ms/step - loss: 0.5291 - accuracy: 0.7580 - val_loss: 0.5341 - val_accuracy: 0.7492\n",
      "Epoch 11/100\n",
      "313/313 [==============================] - 5s 15ms/step - loss: 0.5166 - accuracy: 0.7663 - val_loss: 0.5241 - val_accuracy: 0.7526\n",
      "Epoch 12/100\n",
      "313/313 [==============================] - 5s 15ms/step - loss: 0.5047 - accuracy: 0.7717 - val_loss: 0.5205 - val_accuracy: 0.7514\n",
      "Epoch 13/100\n",
      "313/313 [==============================] - 5s 15ms/step - loss: 0.4970 - accuracy: 0.7753 - val_loss: 0.5124 - val_accuracy: 0.7594\n",
      "Epoch 14/100\n",
      "313/313 [==============================] - 5s 15ms/step - loss: 0.4874 - accuracy: 0.7828 - val_loss: 0.5052 - val_accuracy: 0.7624\n",
      "Epoch 15/100\n",
      "313/313 [==============================] - 5s 15ms/step - loss: 0.4793 - accuracy: 0.7862 - val_loss: 0.4997 - val_accuracy: 0.7672\n",
      "Epoch 16/100\n",
      "313/313 [==============================] - 5s 15ms/step - loss: 0.4733 - accuracy: 0.7890 - val_loss: 0.4956 - val_accuracy: 0.7712\n",
      "Epoch 17/100\n",
      "313/313 [==============================] - 5s 15ms/step - loss: 0.4664 - accuracy: 0.7919 - val_loss: 0.4975 - val_accuracy: 0.7672\n",
      "Epoch 18/100\n",
      "313/313 [==============================] - 5s 16ms/step - loss: 0.4615 - accuracy: 0.7947 - val_loss: 0.4911 - val_accuracy: 0.7700\n",
      "Epoch 19/100\n",
      "313/313 [==============================] - 5s 15ms/step - loss: 0.4553 - accuracy: 0.7978 - val_loss: 0.4861 - val_accuracy: 0.7736\n",
      "Epoch 20/100\n",
      "313/313 [==============================] - 5s 15ms/step - loss: 0.4503 - accuracy: 0.8008 - val_loss: 0.4857 - val_accuracy: 0.7762\n",
      "Epoch 21/100\n",
      "313/313 [==============================] - 5s 15ms/step - loss: 0.4462 - accuracy: 0.8036 - val_loss: 0.4833 - val_accuracy: 0.7730\n",
      "Epoch 22/100\n",
      "313/313 [==============================] - 5s 16ms/step - loss: 0.4417 - accuracy: 0.8064 - val_loss: 0.4897 - val_accuracy: 0.7692\n",
      "Epoch 23/100\n",
      "313/313 [==============================] - 5s 16ms/step - loss: 0.4393 - accuracy: 0.8058 - val_loss: 0.4831 - val_accuracy: 0.7696\n",
      "Epoch 24/100\n",
      "313/313 [==============================] - 5s 15ms/step - loss: 0.4361 - accuracy: 0.8069 - val_loss: 0.4790 - val_accuracy: 0.7734\n",
      "Epoch 25/100\n",
      "313/313 [==============================] - 5s 15ms/step - loss: 0.4328 - accuracy: 0.8086 - val_loss: 0.4832 - val_accuracy: 0.7724\n",
      "Epoch 26/100\n",
      "313/313 [==============================] - 5s 15ms/step - loss: 0.4304 - accuracy: 0.8109 - val_loss: 0.4862 - val_accuracy: 0.7692\n",
      "Epoch 27/100\n",
      "313/313 [==============================] - 5s 15ms/step - loss: 0.4270 - accuracy: 0.8136 - val_loss: 0.4803 - val_accuracy: 0.7776\n"
     ]
    }
   ],
   "source": [
    "import tensorflow as tf\n",
    "from tensorflow.keras.optimizers import RMSprop\n",
    "\n",
    "rmsprop = RMSprop(learning_rate=1e-4)\n",
    "model_emb.compile(loss='binary_crossentropy', metrics='accuracy', optimizer=rmsprop)\n",
    "checkpoint_cb = tf.keras.callbacks.ModelCheckpoint('320.0.best_embRNN.h5', save_best_only=True)\n",
    "early_stopping_cb = tf.keras.callbacks.EarlyStopping(patience=3, restore_best_weights=True)\n",
    "\n",
    "hist = model_emb.fit(train_seq, y_train, epochs=100, batch_size=64,\n",
    "                validation_data= (val_seq, y_val),\n",
    "                callbacks=[checkpoint_cb, early_stopping_cb])"
   ]
  },
  {
   "cell_type": "code",
   "execution_count": 40,
   "metadata": {},
   "outputs": [
    {
     "data": {
      "image/png": "[encoded data removed]",
      "text/plain": [
       "<Figure size 600x600 with 1 Axes>"
      ]
     },
     "metadata": {},
     "output_type": "display_data"
    },
    {
     "data": {
      "image/png": "[encoded data removed]",
      "text/plain": [
       "<Figure size 600x600 with 1 Axes>"
      ]
     },
     "metadata": {},
     "output_type": "display_data"
    }
   ],
   "source": [
    "df = pd.DataFrame(hist.history)\n",
    "plt.figure(figsize=(6, 6))\n",
    "plt.plot(df.loss, label='train_loss')\n",
    "plt.plot(df.val_loss, label='val_loss')\n",
    "plt.legend()\n",
    "plt.show()\n",
    "\n",
    "plt.figure(figsize=(6, 6))\n",
    "plt.plot(df.accuracy, label='train_accuracy')\n",
    "plt.plot(df.val_accuracy, label='val_accuracy')\n",
    "plt.legend()\n",
    "plt.show()"
   ]
  },
  {
   "cell_type": "markdown",
   "metadata": {},
   "source": [
    "# LSTM RNN으로 IMDB  텍스트 분류"
   ]
  },
  {
   "cell_type": "code",
   "execution_count": 41,
   "metadata": {},
   "outputs": [
    {
     "name": "stdout",
     "output_type": "stream",
     "text": [
      "Model: \"sequential_2\"\n",
      "_________________________________________________________________\n",
      " Layer (type)                Output Shape              Param #   \n",
      "=================================================================\n",
      " embedding_1 (Embedding)     (None, 100, 16)           8000      \n",
      "                                                                 \n",
      " lstm (LSTM)                 (None, 8)                 800       \n",
      "                                                                 \n",
      " dense_2 (Dense)             (None, 1)                 9         \n",
      "                                                                 \n",
      "=================================================================\n",
      "Total params: 8,809\n",
      "Trainable params: 8,809\n",
      "Non-trainable params: 0\n",
      "_________________________________________________________________\n"
     ]
    }
   ],
   "source": [
    "from keras.layers import LSTM\n",
    "\n",
    "model_lstm = keras.Sequential([\n",
    "    Embedding(500, 16, input_length=100),\n",
    "    LSTM(8),\n",
    "    Dense(1, activation='sigmoid')\n",
    "])\n",
    "model_lstm.summary()"
   ]
  },
  {
   "cell_type": "code",
   "execution_count": 42,
   "metadata": {},
   "outputs": [
    {
     "name": "stdout",
     "output_type": "stream",
     "text": [
      "Epoch 1/100\n",
      "313/313 [==============================] - 9s 23ms/step - loss: 0.6922 - accuracy: 0.5470 - val_loss: 0.6908 - val_accuracy: 0.6008\n",
      "Epoch 2/100\n",
      "313/313 [==============================] - 7s 21ms/step - loss: 0.6883 - accuracy: 0.6303 - val_loss: 0.6847 - val_accuracy: 0.6568\n",
      "Epoch 3/100\n",
      "313/313 [==============================] - 7s 22ms/step - loss: 0.6749 - accuracy: 0.6828 - val_loss: 0.6598 - val_accuracy: 0.7044\n",
      "Epoch 4/100\n",
      "313/313 [==============================] - 7s 22ms/step - loss: 0.6321 - accuracy: 0.7179 - val_loss: 0.6154 - val_accuracy: 0.7096\n",
      "Epoch 5/100\n",
      "313/313 [==============================] - 7s 22ms/step - loss: 0.6010 - accuracy: 0.7200 - val_loss: 0.5959 - val_accuracy: 0.7124\n",
      "Epoch 6/100\n",
      "313/313 [==============================] - 7s 22ms/step - loss: 0.5802 - accuracy: 0.7315 - val_loss: 0.5792 - val_accuracy: 0.7298\n",
      "Epoch 7/100\n",
      "313/313 [==============================] - 7s 23ms/step - loss: 0.5599 - accuracy: 0.7477 - val_loss: 0.5647 - val_accuracy: 0.7360\n",
      "Epoch 8/100\n",
      "313/313 [==============================] - 8s 26ms/step - loss: 0.5391 - accuracy: 0.7576 - val_loss: 0.5381 - val_accuracy: 0.7504\n",
      "Epoch 9/100\n",
      "313/313 [==============================] - 8s 25ms/step - loss: 0.5185 - accuracy: 0.7694 - val_loss: 0.5170 - val_accuracy: 0.7698\n",
      "Epoch 10/100\n",
      "313/313 [==============================] - 8s 26ms/step - loss: 0.4996 - accuracy: 0.7804 - val_loss: 0.5012 - val_accuracy: 0.7698\n",
      "Epoch 11/100\n",
      "313/313 [==============================] - 8s 25ms/step - loss: 0.4827 - accuracy: 0.7890 - val_loss: 0.4876 - val_accuracy: 0.7804\n",
      "Epoch 12/100\n",
      "313/313 [==============================] - 8s 26ms/step - loss: 0.4691 - accuracy: 0.7947 - val_loss: 0.4741 - val_accuracy: 0.7860\n",
      "Epoch 13/100\n",
      "313/313 [==============================] - 7s 23ms/step - loss: 0.4584 - accuracy: 0.7987 - val_loss: 0.4660 - val_accuracy: 0.7904\n",
      "Epoch 14/100\n",
      "313/313 [==============================] - 7s 23ms/step - loss: 0.4507 - accuracy: 0.8023 - val_loss: 0.4606 - val_accuracy: 0.7954\n",
      "Epoch 15/100\n",
      "313/313 [==============================] - 6s 21ms/step - loss: 0.4440 - accuracy: 0.8052 - val_loss: 0.4574 - val_accuracy: 0.7950\n",
      "Epoch 16/100\n",
      "313/313 [==============================] - 7s 21ms/step - loss: 0.4389 - accuracy: 0.8059 - val_loss: 0.4527 - val_accuracy: 0.7978\n",
      "Epoch 17/100\n",
      "313/313 [==============================] - 7s 21ms/step - loss: 0.4344 - accuracy: 0.8105 - val_loss: 0.4490 - val_accuracy: 0.7960\n",
      "Epoch 18/100\n",
      "313/313 [==============================] - 7s 22ms/step - loss: 0.4309 - accuracy: 0.8092 - val_loss: 0.4489 - val_accuracy: 0.7958\n",
      "Epoch 19/100\n",
      "313/313 [==============================] - 7s 22ms/step - loss: 0.4278 - accuracy: 0.8109 - val_loss: 0.4525 - val_accuracy: 0.7916\n",
      "Epoch 20/100\n",
      "313/313 [==============================] - 7s 21ms/step - loss: 0.4245 - accuracy: 0.8117 - val_loss: 0.4440 - val_accuracy: 0.7972\n",
      "Epoch 21/100\n",
      "313/313 [==============================] - 7s 21ms/step - loss: 0.4222 - accuracy: 0.8134 - val_loss: 0.4413 - val_accuracy: 0.8004\n",
      "Epoch 22/100\n",
      "313/313 [==============================] - 7s 21ms/step - loss: 0.4202 - accuracy: 0.8149 - val_loss: 0.4449 - val_accuracy: 0.7932\n",
      "Epoch 23/100\n",
      "313/313 [==============================] - 7s 21ms/step - loss: 0.4181 - accuracy: 0.8135 - val_loss: 0.4402 - val_accuracy: 0.7962\n",
      "Epoch 24/100\n",
      "313/313 [==============================] - 7s 22ms/step - loss: 0.4164 - accuracy: 0.8149 - val_loss: 0.4392 - val_accuracy: 0.8006\n",
      "Epoch 25/100\n",
      "313/313 [==============================] - 7s 21ms/step - loss: 0.4148 - accuracy: 0.8146 - val_loss: 0.4362 - val_accuracy: 0.8014\n",
      "Epoch 26/100\n",
      "313/313 [==============================] - 7s 21ms/step - loss: 0.4133 - accuracy: 0.8163 - val_loss: 0.4354 - val_accuracy: 0.8040\n",
      "Epoch 27/100\n",
      "313/313 [==============================] - 7s 21ms/step - loss: 0.4120 - accuracy: 0.8140 - val_loss: 0.4337 - val_accuracy: 0.8014\n",
      "Epoch 28/100\n",
      "313/313 [==============================] - 6s 21ms/step - loss: 0.4108 - accuracy: 0.8167 - val_loss: 0.4355 - val_accuracy: 0.8016\n",
      "Epoch 29/100\n",
      "313/313 [==============================] - 6s 21ms/step - loss: 0.4097 - accuracy: 0.8160 - val_loss: 0.4343 - val_accuracy: 0.7988\n",
      "Epoch 30/100\n",
      "313/313 [==============================] - 6s 20ms/step - loss: 0.4085 - accuracy: 0.8156 - val_loss: 0.4333 - val_accuracy: 0.7984\n",
      "Epoch 31/100\n",
      "313/313 [==============================] - 7s 21ms/step - loss: 0.4077 - accuracy: 0.8176 - val_loss: 0.4320 - val_accuracy: 0.8046\n",
      "Epoch 32/100\n",
      "313/313 [==============================] - 7s 21ms/step - loss: 0.4063 - accuracy: 0.8173 - val_loss: 0.4315 - val_accuracy: 0.8050\n",
      "Epoch 33/100\n",
      "313/313 [==============================] - 7s 21ms/step - loss: 0.4054 - accuracy: 0.8173 - val_loss: 0.4319 - val_accuracy: 0.8048\n",
      "Epoch 34/100\n",
      "313/313 [==============================] - 6s 21ms/step - loss: 0.4046 - accuracy: 0.8174 - val_loss: 0.4322 - val_accuracy: 0.8042\n",
      "Epoch 35/100\n",
      "313/313 [==============================] - 7s 21ms/step - loss: 0.4036 - accuracy: 0.8191 - val_loss: 0.4300 - val_accuracy: 0.8034\n",
      "Epoch 36/100\n",
      "313/313 [==============================] - 7s 21ms/step - loss: 0.4025 - accuracy: 0.8201 - val_loss: 0.4286 - val_accuracy: 0.8060\n",
      "Epoch 37/100\n",
      "313/313 [==============================] - 7s 21ms/step - loss: 0.4019 - accuracy: 0.8202 - val_loss: 0.4318 - val_accuracy: 0.7986\n",
      "Epoch 38/100\n",
      "313/313 [==============================] - 6s 21ms/step - loss: 0.4004 - accuracy: 0.8201 - val_loss: 0.4296 - val_accuracy: 0.8050\n",
      "Epoch 39/100\n",
      "313/313 [==============================] - 6s 21ms/step - loss: 0.4001 - accuracy: 0.8222 - val_loss: 0.4279 - val_accuracy: 0.8076\n",
      "Epoch 40/100\n",
      "313/313 [==============================] - 7s 21ms/step - loss: 0.3994 - accuracy: 0.8203 - val_loss: 0.4290 - val_accuracy: 0.8042\n",
      "Epoch 41/100\n",
      "313/313 [==============================] - 7s 22ms/step - loss: 0.3981 - accuracy: 0.8220 - val_loss: 0.4373 - val_accuracy: 0.7948\n",
      "Epoch 42/100\n",
      "313/313 [==============================] - 7s 21ms/step - loss: 0.3978 - accuracy: 0.8211 - val_loss: 0.4278 - val_accuracy: 0.8062\n",
      "Epoch 43/100\n",
      "313/313 [==============================] - 7s 22ms/step - loss: 0.3965 - accuracy: 0.8230 - val_loss: 0.4315 - val_accuracy: 0.8030\n",
      "Epoch 44/100\n",
      "313/313 [==============================] - 6s 21ms/step - loss: 0.3962 - accuracy: 0.8214 - val_loss: 0.4277 - val_accuracy: 0.8066\n",
      "Epoch 45/100\n",
      "313/313 [==============================] - 7s 22ms/step - loss: 0.3954 - accuracy: 0.8228 - val_loss: 0.4264 - val_accuracy: 0.8082\n",
      "Epoch 46/100\n",
      "313/313 [==============================] - 6s 21ms/step - loss: 0.3946 - accuracy: 0.8234 - val_loss: 0.4275 - val_accuracy: 0.8078\n",
      "Epoch 47/100\n",
      "313/313 [==============================] - 6s 21ms/step - loss: 0.3934 - accuracy: 0.8224 - val_loss: 0.4271 - val_accuracy: 0.8054\n",
      "Epoch 48/100\n",
      "313/313 [==============================] - 6s 21ms/step - loss: 0.3930 - accuracy: 0.8239 - val_loss: 0.4269 - val_accuracy: 0.8062\n"
     ]
    }
   ],
   "source": [
    "import tensorflow as tf\n",
    "from tensorflow.keras.optimizers import RMSprop\n",
    "\n",
    "rmsprop = RMSprop(learning_rate=1e-4)\n",
    "model_lstm.compile(loss='binary_crossentropy', metrics='accuracy', optimizer=rmsprop)\n",
    "checkpoint_cb = tf.keras.callbacks.ModelCheckpoint('320.0.best_lstmRNN.h5', save_best_only=True)\n",
    "early_stopping_cb = tf.keras.callbacks.EarlyStopping(patience=3, restore_best_weights=True)\n",
    "\n",
    "hist = model_lstm.fit(train_seq, y_train, epochs=100, batch_size=64,\n",
    "                validation_data= (val_seq, y_val),\n",
    "                callbacks=[checkpoint_cb, early_stopping_cb])"
   ]
  },
  {
   "cell_type": "code",
   "execution_count": null,
   "metadata": {},
   "outputs": [],
   "source": [
    "df = pd.DataFrame(hist.history)\n",
    "plt.figure(figsize=(6, 6))\n",
    "plt.plot(df.loss, label='train_loss')\n",
    "plt.plot(df.val_loss, label='val_loss')\n",
    "plt.legend()\n",
    "plt.show()\n",
    "\n",
    "plt.figure(figsize=(6, 6))\n",
    "plt.plot(df.accuracy, label='train_accuracy')\n",
    "plt.plot(df.val_accuracy, label='val_accuracy')\n",
    "plt.legend()\n",
    "plt.show()"
   ]
  },
  {
   "cell_type": "markdown",
   "metadata": {},
   "source": [
    "## RNN 순환층에 DropOut 적용하기"
   ]
  },
  {
   "cell_type": "code",
   "execution_count": 43,
   "metadata": {},
   "outputs": [
    {
     "name": "stdout",
     "output_type": "stream",
     "text": [
      "Model: \"sequential_3\"\n",
      "_________________________________________________________________\n",
      " Layer (type)                Output Shape              Param #   \n",
      "=================================================================\n",
      " embedding_2 (Embedding)     (None, 100, 16)           8000      \n",
      "                                                                 \n",
      " lstm_1 (LSTM)               (None, 8)                 800       \n",
      "                                                                 \n",
      " dropout (Dropout)           (None, 8)                 0         \n",
      "                                                                 \n",
      " dense_3 (Dense)             (None, 1)                 9         \n",
      "                                                                 \n",
      "=================================================================\n",
      "Total params: 8,809\n",
      "Trainable params: 8,809\n",
      "Non-trainable params: 0\n",
      "_________________________________________________________________\n"
     ]
    }
   ],
   "source": [
    "from keras.layers import LSTM, Dropout\n",
    "\n",
    "model_lstm_with_dropout = keras.Sequential([\n",
    "    Embedding(500, 16, input_length=100),\n",
    "    LSTM(8),\n",
    "    Dropout(0.5),\n",
    "    Dense(1, activation='sigmoid')\n",
    "])\n",
    "model_lstm_with_dropout.summary()"
   ]
  },
  {
   "cell_type": "code",
   "execution_count": 45,
   "metadata": {},
   "outputs": [
    {
     "name": "stdout",
     "output_type": "stream",
     "text": [
      "Epoch 1/100\n",
      "313/313 [==============================] - 18s 47ms/step - loss: 0.4163 - accuracy: 0.8198 - val_loss: 0.4253 - val_accuracy: 0.8074\n",
      "Epoch 2/100\n",
      "313/313 [==============================] - 14s 45ms/step - loss: 0.4162 - accuracy: 0.8200 - val_loss: 0.4265 - val_accuracy: 0.8026\n",
      "Epoch 3/100\n",
      "313/313 [==============================] - 14s 45ms/step - loss: 0.4151 - accuracy: 0.8210 - val_loss: 0.4259 - val_accuracy: 0.8058\n",
      "Epoch 4/100\n",
      "313/313 [==============================] - 14s 45ms/step - loss: 0.4152 - accuracy: 0.8210 - val_loss: 0.4245 - val_accuracy: 0.8042\n",
      "Epoch 5/100\n",
      "313/313 [==============================] - 14s 45ms/step - loss: 0.4134 - accuracy: 0.8212 - val_loss: 0.4337 - val_accuracy: 0.7984\n",
      "Epoch 6/100\n",
      "313/313 [==============================] - 14s 45ms/step - loss: 0.4128 - accuracy: 0.8229 - val_loss: 0.4245 - val_accuracy: 0.8056\n",
      "Epoch 7/100\n",
      "313/313 [==============================] - 14s 45ms/step - loss: 0.4128 - accuracy: 0.8214 - val_loss: 0.4266 - val_accuracy: 0.8014\n",
      "Epoch 8/100\n",
      "313/313 [==============================] - 14s 45ms/step - loss: 0.4148 - accuracy: 0.8214 - val_loss: 0.4246 - val_accuracy: 0.8044\n",
      "Epoch 9/100\n",
      "313/313 [==============================] - 14s 45ms/step - loss: 0.4149 - accuracy: 0.8215 - val_loss: 0.4279 - val_accuracy: 0.8014\n"
     ]
    }
   ],
   "source": [
    "import tensorflow as tf\n",
    "from tensorflow.keras.optimizers import RMSprop\n",
    "\n",
    "rmsprop = RMSprop(learning_rate=1e-4)\n",
    "model_lstm_with_dropout.compile(loss='binary_crossentropy', metrics='accuracy', optimizer=rmsprop)\n",
    "checkpoint_cb = tf.keras.callbacks.ModelCheckpoint('320.0.best_lstmRNN.h5', save_best_only=True)\n",
    "early_stopping_cb = tf.keras.callbacks.EarlyStopping(patience=3, restore_best_weights=True)\n",
    "\n",
    "hist = model_lstm_with_dropout.fit(train_seq, y_train, epochs=100, batch_size=64,\n",
    "                validation_data= (val_seq, y_val),\n",
    "                callbacks=[checkpoint_cb, early_stopping_cb])"
   ]
  },
  {
   "cell_type": "code",
   "execution_count": 46,
   "metadata": {},
   "outputs": [
    {
     "data": {
      "image/png": "[encoded data removed]",
      "text/plain": [
       "<Figure size 600x600 with 1 Axes>"
      ]
     },
     "metadata": {},
     "output_type": "display_data"
    },
    {
     "data": {
      "image/png": "[encoded data removed]",
      "text/plain": [
       "<Figure size 600x600 with 1 Axes>"
      ]
     },
     "metadata": {},
     "output_type": "display_data"
    }
   ],
   "source": [
    "df = pd.DataFrame(hist.history)\n",
    "plt.figure(figsize=(6, 6))\n",
    "plt.plot(df.loss, label='train_loss')\n",
    "plt.plot(df.val_loss, label='val_loss')\n",
    "plt.legend()\n",
    "plt.show()\n",
    "\n",
    "plt.figure(figsize=(6, 6))\n",
    "plt.plot(df.accuracy, label='train_accuracy')\n",
    "plt.plot(df.val_accuracy, label='val_accuracy')\n",
    "plt.legend()\n",
    "plt.show()"
   ]
  },
  {
   "cell_type": "markdown",
   "metadata": {},
   "source": [
    "## 2개의 RNN층이 연결된 모델 구현하기"
   ]
  },
  {
   "cell_type": "code",
   "execution_count": null,
   "metadata": {},
   "outputs": [],
   "source": []
  },
  {
   "cell_type": "markdown",
   "metadata": {},
   "source": [
    "# GRU 모델 구현하기"
   ]
  },
  {
   "cell_type": "code",
   "execution_count": null,
   "metadata": {},
   "outputs": [],
   "source": []
  },
  {
   "cell_type": "code",
   "execution_count": null,
   "metadata": {},
   "outputs": [],
   "source": []
  }
 ],
 "metadata": {
  "accelerator": "GPU",
  "colab": {
   "name": "9-2.ipynb",
   "provenance": []
  },
  "kernelspec": {
   "display_name": "tf2",
   "language": "python",
   "name": "python3"
  },
  "language_info": {
   "codemirror_mode": {
    "name": "ipython",
    "version": 3
   },
   "file_extension": ".py",
   "mimetype": "text/x-python",
   "name": "python",
   "nbconvert_exporter": "python",
   "pygments_lexer": "ipython3",
   "version": "3.8.16"
  },
  "vscode": {
   "interpreter": {
    "hash": "eb40c81b4dc7c84c0d63c497104c6b1d59507859779ef83084b0feb883d48ace"
   }
  }
 },
 "nbformat": 4,
 "nbformat_minor": 1
}
