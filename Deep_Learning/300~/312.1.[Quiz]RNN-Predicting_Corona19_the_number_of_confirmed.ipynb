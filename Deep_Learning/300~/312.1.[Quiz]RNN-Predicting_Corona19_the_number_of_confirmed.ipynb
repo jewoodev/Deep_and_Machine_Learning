{
 "cells": [
  {
   "cell_type": "markdown",
   "id": "9db67c07",
   "metadata": {},
   "source": [
    "##  [quiz] 2021년 11월 1일~ 2022년 1월 27일 코로나 확진자를 학습하고 이후 확진자수 예측하라"
   ]
  },
  {
   "cell_type": "code",
   "execution_count": null,
   "id": "990f77b4",
   "metadata": {},
   "outputs": [],
   "source": [
    "# 3일 동안의 확진자 수 추이를 보고 다음 날의 확진자 수를 예측\n",
    "# 따라서 인공지능은 3일 동안의 확진자 수를 보고 다음 날의 확진자 수가 어떻게 되었는지 학습\n",
    "# 만약 100일 동안의 확진자 수가 있다면 가장 먼저 1, 2, 3일차의 확진자 수가 어떻게 변하였는지 살펴보고 4일차의 확진자 수를 학습한다\n",
    "# 그리고 2, 3, 4일차의 확진자 수가 어떻게 변하였는지 살펴보고 5일차의 확진자 수를 학습한다\n",
    "# 이러한 방식으로 계속 학습하여 97, 98, 99일차의 확진자 수로 100일차의 확진자 수를 학습한다\n",
    "# 연속된 데이터의 형태에서 그 패턴을 찾아내는 순환 신경망(RNN) 방식으로, RNN의 기본적인 형태를 설계하고 학습시켜 본다"
   ]
  },
  {
   "cell_type": "markdown",
   "id": "4c831c9b",
   "metadata": {},
   "source": [
    "# RNN-코로나19 확진자수 예측"
   ]
  },
  {
   "cell_type": "markdown",
   "id": "1b733a73",
   "metadata": {},
   "source": [
    "#### 필요한 라이브러리 임포트"
   ]
  },
  {
   "cell_type": "code",
   "execution_count": 70,
   "id": "d89e8c20",
   "metadata": {},
   "outputs": [],
   "source": [
    "from keras.models import Sequential\n",
    "from keras.layers import SimpleRNN, Dense\n",
    "from sklearn.preprocessing import MinMaxScaler\n",
    "from sklearn.metrics import mean_squared_error\n",
    "from sklearn.model_selection import train_test_split\n",
    "\n",
    "import math\n",
    "import numpy as np\n",
    "import matplotlib.pyplot as plt\n",
    "import pandas as pd"
   ]
  },
  {
   "cell_type": "code",
   "execution_count": 71,
   "id": "b69a5e3d",
   "metadata": {},
   "outputs": [],
   "source": [
    "from tensorflow.python.client import device_lib\n",
    "import tensorflow as tf\n",
    "with tf.device('/device:GPU:0'): \n",
    "    device_lib.list_local_devices()"
   ]
  },
  {
   "cell_type": "code",
   "execution_count": 72,
   "id": "d7d31128",
   "metadata": {},
   "outputs": [],
   "source": [
    "import os\n",
    "os.environ[\"CUDA_VISIBLE_DEVICES\"] = \"0\""
   ]
  },
  {
   "cell_type": "markdown",
   "id": "5440adb5",
   "metadata": {},
   "source": [
    "#### 코로나 데이터 가져오기"
   ]
  },
  {
   "cell_type": "code",
   "execution_count": 92,
   "id": "2f66911a",
   "metadata": {},
   "outputs": [],
   "source": [
    "import tensorflow as tf\n",
    "with tf.device('/device:GPU:0'): \n",
    "    df = pd.read_csv('data/covid_2021101_20220127.csv')\n",
    "    df"
   ]
  },
  {
   "cell_type": "markdown",
   "id": "fb0666c0",
   "metadata": {},
   "source": [
    "#### 데이터 정규화 및 분류하기"
   ]
  },
  {
   "cell_type": "code",
   "execution_count": 93,
   "id": "155e5f3a",
   "metadata": {},
   "outputs": [
    {
     "data": {
      "text/plain": [
       "(88, 5)"
      ]
     },
     "execution_count": 93,
     "metadata": {},
     "output_type": "execute_result"
    }
   ],
   "source": [
    "df.shape"
   ]
  },
  {
   "cell_type": "markdown",
   "id": "f6f937d3",
   "metadata": {},
   "source": [
    "#### 데이터 형태 변경하기"
   ]
  },
  {
   "cell_type": "code",
   "execution_count": 94,
   "id": "ef6d508a",
   "metadata": {},
   "outputs": [
    {
     "data": {
      "text/plain": [
       "1     1588.0\n",
       "2     2667.0\n",
       "3     2482.0\n",
       "4     2343.0\n",
       "5     2246.0\n",
       "       ...  \n",
       "65    4441.0\n",
       "66    4122.0\n",
       "67    3713.0\n",
       "68    3507.0\n",
       "69    3371.0\n",
       "Name: new_patient, Length: 69, dtype: float64"
      ]
     },
     "execution_count": 94,
     "metadata": {},
     "output_type": "execute_result"
    }
   ],
   "source": [
    "df1 = train['new_patient'][1:]\n",
    "df1"
   ]
  },
  {
   "cell_type": "code",
   "execution_count": 95,
   "id": "ca51d7dc",
   "metadata": {},
   "outputs": [],
   "source": [
    "df2 = pd.DataFrame(columns=['day1', 'day2', 'day3', 'day4'])"
   ]
  },
  {
   "cell_type": "code",
   "execution_count": 96,
   "id": "59284b63",
   "metadata": {},
   "outputs": [
    {
     "data": {
      "text/plain": [
       "17.25"
      ]
     },
     "execution_count": 96,
     "metadata": {},
     "output_type": "execute_result"
    }
   ],
   "source": [
    "69 / 4"
   ]
  },
  {
   "cell_type": "code",
   "execution_count": 97,
   "id": "d3f188bd",
   "metadata": {},
   "outputs": [],
   "source": [
    "k = 0\n",
    "for i in range(18):\n",
    "    temp_row = []\n",
    "    for j in range(1, 5):\n",
    "        temp_row.append(df1[j+k])\n",
    "    df2.loc[f'{i}'] = temp_row\n",
    "    k += 4\n",
    "    if k > 65:\n",
    "        break"
   ]
  },
  {
   "cell_type": "code",
   "execution_count": 98,
   "id": "a32c6a89",
   "metadata": {},
   "outputs": [
    {
     "data": {
      "text/html": [
       "<div>\n",
       "<style scoped>\n",
       "    .dataframe tbody tr th:only-of-type {\n",
       "        vertical-align: middle;\n",
       "    }\n",
       "\n",
       "    .dataframe tbody tr th {\n",
       "        vertical-align: top;\n",
       "    }\n",
       "\n",
       "    .dataframe thead th {\n",
       "        text-align: right;\n",
       "    }\n",
       "</style>\n",
       "<table border=\"1\" class=\"dataframe\">\n",
       "  <thead>\n",
       "    <tr style=\"text-align: right;\">\n",
       "      <th></th>\n",
       "      <th>day1</th>\n",
       "      <th>day2</th>\n",
       "      <th>day3</th>\n",
       "      <th>day4</th>\n",
       "    </tr>\n",
       "  </thead>\n",
       "  <tbody>\n",
       "    <tr>\n",
       "      <th>0</th>\n",
       "      <td>1588.0</td>\n",
       "      <td>2667.0</td>\n",
       "      <td>2482.0</td>\n",
       "      <td>2343.0</td>\n",
       "    </tr>\n",
       "    <tr>\n",
       "      <th>1</th>\n",
       "      <td>2246.0</td>\n",
       "      <td>2225.0</td>\n",
       "      <td>1754.0</td>\n",
       "      <td>1717.0</td>\n",
       "    </tr>\n",
       "    <tr>\n",
       "      <th>2</th>\n",
       "      <td>2425.0</td>\n",
       "      <td>2518.0</td>\n",
       "      <td>2368.0</td>\n",
       "      <td>2324.0</td>\n",
       "    </tr>\n",
       "    <tr>\n",
       "      <th>3</th>\n",
       "      <td>2418.0</td>\n",
       "      <td>2004.0</td>\n",
       "      <td>2122.0</td>\n",
       "      <td>3189.0</td>\n",
       "    </tr>\n",
       "    <tr>\n",
       "      <th>4</th>\n",
       "      <td>3292.0</td>\n",
       "      <td>3033.0</td>\n",
       "      <td>3205.0</td>\n",
       "      <td>3120.0</td>\n",
       "    </tr>\n",
       "    <tr>\n",
       "      <th>5</th>\n",
       "      <td>2827.0</td>\n",
       "      <td>2697.0</td>\n",
       "      <td>4113.0</td>\n",
       "      <td>3937.0</td>\n",
       "    </tr>\n",
       "    <tr>\n",
       "      <th>6</th>\n",
       "      <td>3896.0</td>\n",
       "      <td>4067.0</td>\n",
       "      <td>3925.0</td>\n",
       "      <td>3307.0</td>\n",
       "    </tr>\n",
       "    <tr>\n",
       "      <th>7</th>\n",
       "      <td>3031.0</td>\n",
       "      <td>5122.0</td>\n",
       "      <td>5263.0</td>\n",
       "      <td>4944.0</td>\n",
       "    </tr>\n",
       "    <tr>\n",
       "      <th>8</th>\n",
       "      <td>5352.0</td>\n",
       "      <td>5125.0</td>\n",
       "      <td>4324.0</td>\n",
       "      <td>4953.0</td>\n",
       "    </tr>\n",
       "    <tr>\n",
       "      <th>9</th>\n",
       "      <td>7173.0</td>\n",
       "      <td>7375.0</td>\n",
       "      <td>6748.0</td>\n",
       "      <td>6977.0</td>\n",
       "    </tr>\n",
       "    <tr>\n",
       "      <th>10</th>\n",
       "      <td>6681.0</td>\n",
       "      <td>5816.0</td>\n",
       "      <td>5567.0</td>\n",
       "      <td>7849.0</td>\n",
       "    </tr>\n",
       "    <tr>\n",
       "      <th>11</th>\n",
       "      <td>7619.0</td>\n",
       "      <td>7434.0</td>\n",
       "      <td>7310.0</td>\n",
       "      <td>6233.0</td>\n",
       "    </tr>\n",
       "    <tr>\n",
       "      <th>12</th>\n",
       "      <td>5316.0</td>\n",
       "      <td>5192.0</td>\n",
       "      <td>7452.0</td>\n",
       "      <td>6914.0</td>\n",
       "    </tr>\n",
       "    <tr>\n",
       "      <th>13</th>\n",
       "      <td>6233.0</td>\n",
       "      <td>5840.0</td>\n",
       "      <td>5413.0</td>\n",
       "      <td>4203.0</td>\n",
       "    </tr>\n",
       "    <tr>\n",
       "      <th>14</th>\n",
       "      <td>3864.0</td>\n",
       "      <td>5407.0</td>\n",
       "      <td>5034.0</td>\n",
       "      <td>4873.0</td>\n",
       "    </tr>\n",
       "    <tr>\n",
       "      <th>15</th>\n",
       "      <td>4415.0</td>\n",
       "      <td>3831.0</td>\n",
       "      <td>3125.0</td>\n",
       "      <td>3021.0</td>\n",
       "    </tr>\n",
       "    <tr>\n",
       "      <th>16</th>\n",
       "      <td>4441.0</td>\n",
       "      <td>4122.0</td>\n",
       "      <td>3713.0</td>\n",
       "      <td>3507.0</td>\n",
       "    </tr>\n",
       "  </tbody>\n",
       "</table>\n",
       "</div>"
      ],
      "text/plain": [
       "      day1    day2    day3    day4\n",
       "0   1588.0  2667.0  2482.0  2343.0\n",
       "1   2246.0  2225.0  1754.0  1717.0\n",
       "2   2425.0  2518.0  2368.0  2324.0\n",
       "3   2418.0  2004.0  2122.0  3189.0\n",
       "4   3292.0  3033.0  3205.0  3120.0\n",
       "5   2827.0  2697.0  4113.0  3937.0\n",
       "6   3896.0  4067.0  3925.0  3307.0\n",
       "7   3031.0  5122.0  5263.0  4944.0\n",
       "8   5352.0  5125.0  4324.0  4953.0\n",
       "9   7173.0  7375.0  6748.0  6977.0\n",
       "10  6681.0  5816.0  5567.0  7849.0\n",
       "11  7619.0  7434.0  7310.0  6233.0\n",
       "12  5316.0  5192.0  7452.0  6914.0\n",
       "13  6233.0  5840.0  5413.0  4203.0\n",
       "14  3864.0  5407.0  5034.0  4873.0\n",
       "15  4415.0  3831.0  3125.0  3021.0\n",
       "16  4441.0  4122.0  3713.0  3507.0"
      ]
     },
     "execution_count": 98,
     "metadata": {},
     "output_type": "execute_result"
    }
   ],
   "source": [
    "df2"
   ]
  },
  {
   "cell_type": "code",
   "execution_count": 99,
   "id": "45ea3654",
   "metadata": {},
   "outputs": [],
   "source": [
    "X = df2[['day1', 'day2', 'day3']]\n",
    "y = df2['day4']"
   ]
  },
  {
   "cell_type": "code",
   "execution_count": 100,
   "id": "02db8b64",
   "metadata": {},
   "outputs": [],
   "source": [
    "#### shuffle=False임을 유의할 것\n",
    "X_train, X_test, y_train, y_test = train_test_split(X, y, test_size=0.2, shuffle=False)"
   ]
  },
  {
   "cell_type": "markdown",
   "id": "98753206",
   "metadata": {},
   "source": [
    "### 인공지능 모델 만들기"
   ]
  },
  {
   "cell_type": "code",
   "execution_count": 109,
   "id": "ed77b903",
   "metadata": {},
   "outputs": [
    {
     "data": {
      "text/plain": [
       "(13, 3)"
      ]
     },
     "execution_count": 109,
     "metadata": {},
     "output_type": "execute_result"
    }
   ],
   "source": [
    "X_train.shape"
   ]
  },
  {
   "cell_type": "code",
   "execution_count": 102,
   "id": "c25b82ed",
   "metadata": {},
   "outputs": [
    {
     "data": {
      "text/html": [
       "<div>\n",
       "<style scoped>\n",
       "    .dataframe tbody tr th:only-of-type {\n",
       "        vertical-align: middle;\n",
       "    }\n",
       "\n",
       "    .dataframe tbody tr th {\n",
       "        vertical-align: top;\n",
       "    }\n",
       "\n",
       "    .dataframe thead th {\n",
       "        text-align: right;\n",
       "    }\n",
       "</style>\n",
       "<table border=\"1\" class=\"dataframe\">\n",
       "  <thead>\n",
       "    <tr style=\"text-align: right;\">\n",
       "      <th></th>\n",
       "      <th>day1</th>\n",
       "      <th>day2</th>\n",
       "      <th>day3</th>\n",
       "    </tr>\n",
       "  </thead>\n",
       "  <tbody>\n",
       "    <tr>\n",
       "      <th>0</th>\n",
       "      <td>1588.0</td>\n",
       "      <td>2667.0</td>\n",
       "      <td>2482.0</td>\n",
       "    </tr>\n",
       "    <tr>\n",
       "      <th>1</th>\n",
       "      <td>2246.0</td>\n",
       "      <td>2225.0</td>\n",
       "      <td>1754.0</td>\n",
       "    </tr>\n",
       "    <tr>\n",
       "      <th>2</th>\n",
       "      <td>2425.0</td>\n",
       "      <td>2518.0</td>\n",
       "      <td>2368.0</td>\n",
       "    </tr>\n",
       "    <tr>\n",
       "      <th>3</th>\n",
       "      <td>2418.0</td>\n",
       "      <td>2004.0</td>\n",
       "      <td>2122.0</td>\n",
       "    </tr>\n",
       "    <tr>\n",
       "      <th>4</th>\n",
       "      <td>3292.0</td>\n",
       "      <td>3033.0</td>\n",
       "      <td>3205.0</td>\n",
       "    </tr>\n",
       "    <tr>\n",
       "      <th>5</th>\n",
       "      <td>2827.0</td>\n",
       "      <td>2697.0</td>\n",
       "      <td>4113.0</td>\n",
       "    </tr>\n",
       "    <tr>\n",
       "      <th>6</th>\n",
       "      <td>3896.0</td>\n",
       "      <td>4067.0</td>\n",
       "      <td>3925.0</td>\n",
       "    </tr>\n",
       "    <tr>\n",
       "      <th>7</th>\n",
       "      <td>3031.0</td>\n",
       "      <td>5122.0</td>\n",
       "      <td>5263.0</td>\n",
       "    </tr>\n",
       "    <tr>\n",
       "      <th>8</th>\n",
       "      <td>5352.0</td>\n",
       "      <td>5125.0</td>\n",
       "      <td>4324.0</td>\n",
       "    </tr>\n",
       "    <tr>\n",
       "      <th>9</th>\n",
       "      <td>7173.0</td>\n",
       "      <td>7375.0</td>\n",
       "      <td>6748.0</td>\n",
       "    </tr>\n",
       "    <tr>\n",
       "      <th>10</th>\n",
       "      <td>6681.0</td>\n",
       "      <td>5816.0</td>\n",
       "      <td>5567.0</td>\n",
       "    </tr>\n",
       "    <tr>\n",
       "      <th>11</th>\n",
       "      <td>7619.0</td>\n",
       "      <td>7434.0</td>\n",
       "      <td>7310.0</td>\n",
       "    </tr>\n",
       "    <tr>\n",
       "      <th>12</th>\n",
       "      <td>5316.0</td>\n",
       "      <td>5192.0</td>\n",
       "      <td>7452.0</td>\n",
       "    </tr>\n",
       "  </tbody>\n",
       "</table>\n",
       "</div>"
      ],
      "text/plain": [
       "      day1    day2    day3\n",
       "0   1588.0  2667.0  2482.0\n",
       "1   2246.0  2225.0  1754.0\n",
       "2   2425.0  2518.0  2368.0\n",
       "3   2418.0  2004.0  2122.0\n",
       "4   3292.0  3033.0  3205.0\n",
       "5   2827.0  2697.0  4113.0\n",
       "6   3896.0  4067.0  3925.0\n",
       "7   3031.0  5122.0  5263.0\n",
       "8   5352.0  5125.0  4324.0\n",
       "9   7173.0  7375.0  6748.0\n",
       "10  6681.0  5816.0  5567.0\n",
       "11  7619.0  7434.0  7310.0\n",
       "12  5316.0  5192.0  7452.0"
      ]
     },
     "execution_count": 102,
     "metadata": {},
     "output_type": "execute_result"
    }
   ],
   "source": [
    "X_train"
   ]
  },
  {
   "cell_type": "code",
   "execution_count": 112,
   "id": "30d6d2ac",
   "metadata": {},
   "outputs": [],
   "source": [
    "import numpy as np\n",
    "X_train = np.expand_dims(X_train, axis=2)\n",
    "X_test = np.expand_dims(X_test, axis=2)"
   ]
  },
  {
   "cell_type": "code",
   "execution_count": 113,
   "id": "a2d61078",
   "metadata": {},
   "outputs": [
    {
     "data": {
      "text/plain": [
       "(13, 3, 1)"
      ]
     },
     "execution_count": 113,
     "metadata": {},
     "output_type": "execute_result"
    }
   ],
   "source": [
    "X_train.shape"
   ]
  },
  {
   "cell_type": "code",
   "execution_count": 114,
   "id": "7ac0895c",
   "metadata": {},
   "outputs": [
    {
     "name": "stdout",
     "output_type": "stream",
     "text": [
      "Model: \"sequential_4\"\n",
      "_________________________________________________________________\n",
      " Layer (type)                Output Shape              Param #   \n",
      "=================================================================\n",
      " simple_rnn_4 (SimpleRNN)    (None, 256)               66048     \n",
      "                                                                 \n",
      " dense_4 (Dense)             (None, 1)                 257       \n",
      "                                                                 \n",
      "=================================================================\n",
      "Total params: 66,305\n",
      "Trainable params: 66,305\n",
      "Non-trainable params: 0\n",
      "_________________________________________________________________\n"
     ]
    }
   ],
   "source": [
    "import tensorflow as tf\n",
    "from tensorflow.keras.models import Sequential\n",
    "from tensorflow.keras.layers import SimpleRNN, Dense\n",
    "\n",
    "model = Sequential([\n",
    "    SimpleRNN(units=256, return_sequences=False, input_shape=(3, 1)),\n",
    "    Dense(1)\n",
    "])\n",
    "model.compile(loss='mse', metrics='mae', optimizer='adam')\n",
    "model.summary()"
   ]
  },
  {
   "cell_type": "code",
   "execution_count": 115,
   "id": "95b250f7",
   "metadata": {},
   "outputs": [
    {
     "name": "stdout",
     "output_type": "stream",
     "text": [
      "Epoch 1/100\n",
      "1/1 - 1s - loss: 23580066.0000 - mae: 4450.5596 - 617ms/epoch - 617ms/step\n",
      "Epoch 2/100\n",
      "1/1 - 0s - loss: 23576712.0000 - mae: 4450.1689 - 4ms/epoch - 4ms/step\n",
      "Epoch 3/100\n",
      "1/1 - 0s - loss: 23571662.0000 - mae: 4449.5830 - 4ms/epoch - 4ms/step\n",
      "Epoch 4/100\n",
      "1/1 - 0s - loss: 23562452.0000 - mae: 4448.5996 - 3ms/epoch - 3ms/step\n",
      "Epoch 5/100\n",
      "1/1 - 0s - loss: 23558666.0000 - mae: 4448.1372 - 4ms/epoch - 4ms/step\n",
      "Epoch 6/100\n",
      "1/1 - 0s - loss: 23553024.0000 - mae: 4447.5244 - 4ms/epoch - 4ms/step\n",
      "Epoch 7/100\n",
      "1/1 - 0s - loss: 23547932.0000 - mae: 4446.9561 - 8ms/epoch - 8ms/step\n",
      "Epoch 8/100\n",
      "1/1 - 0s - loss: 23545088.0000 - mae: 4446.6313 - 6ms/epoch - 6ms/step\n",
      "Epoch 9/100\n",
      "1/1 - 0s - loss: 23542866.0000 - mae: 4446.3799 - 4ms/epoch - 4ms/step\n",
      "Epoch 10/100\n",
      "1/1 - 0s - loss: 23540640.0000 - mae: 4446.1294 - 7ms/epoch - 7ms/step\n",
      "Epoch 11/100\n",
      "1/1 - 0s - loss: 23538408.0000 - mae: 4445.8784 - 4ms/epoch - 4ms/step\n",
      "Epoch 12/100\n",
      "1/1 - 0s - loss: 23536170.0000 - mae: 4445.6265 - 4ms/epoch - 4ms/step\n",
      "Epoch 13/100\n",
      "1/1 - 0s - loss: 23533924.0000 - mae: 4445.3740 - 4ms/epoch - 4ms/step\n",
      "Epoch 14/100\n",
      "1/1 - 0s - loss: 23531670.0000 - mae: 4445.1206 - 5ms/epoch - 5ms/step\n",
      "Epoch 15/100\n",
      "1/1 - 0s - loss: 23529412.0000 - mae: 4444.8667 - 4ms/epoch - 4ms/step\n",
      "Epoch 16/100\n",
      "1/1 - 0s - loss: 23527158.0000 - mae: 4444.6128 - 5ms/epoch - 5ms/step\n",
      "Epoch 17/100\n",
      "1/1 - 0s - loss: 23524894.0000 - mae: 4444.3574 - 3ms/epoch - 3ms/step\n",
      "Epoch 18/100\n",
      "1/1 - 0s - loss: 23522626.0000 - mae: 4444.1030 - 5ms/epoch - 5ms/step\n",
      "Epoch 19/100\n",
      "1/1 - 0s - loss: 23520362.0000 - mae: 4443.8481 - 3ms/epoch - 3ms/step\n",
      "Epoch 20/100\n",
      "1/1 - 0s - loss: 23518092.0000 - mae: 4443.5928 - 3ms/epoch - 3ms/step\n",
      "Epoch 21/100\n",
      "1/1 - 0s - loss: 23515822.0000 - mae: 4443.3374 - 15ms/epoch - 15ms/step\n",
      "Epoch 22/100\n",
      "1/1 - 0s - loss: 23513548.0000 - mae: 4443.0815 - 4ms/epoch - 4ms/step\n",
      "Epoch 23/100\n",
      "1/1 - 0s - loss: 23511274.0000 - mae: 4442.8257 - 3ms/epoch - 3ms/step\n",
      "Epoch 24/100\n",
      "1/1 - 0s - loss: 23509000.0000 - mae: 4442.5698 - 5ms/epoch - 5ms/step\n",
      "Epoch 25/100\n",
      "1/1 - 0s - loss: 23506722.0000 - mae: 4442.3135 - 2ms/epoch - 2ms/step\n",
      "Epoch 26/100\n",
      "1/1 - 0s - loss: 23504446.0000 - mae: 4442.0571 - 4ms/epoch - 4ms/step\n",
      "Epoch 27/100\n",
      "1/1 - 0s - loss: 23502172.0000 - mae: 4441.8013 - 4ms/epoch - 4ms/step\n",
      "Epoch 28/100\n",
      "1/1 - 0s - loss: 23499890.0000 - mae: 4441.5444 - 3ms/epoch - 3ms/step\n",
      "Epoch 29/100\n",
      "1/1 - 0s - loss: 23497614.0000 - mae: 4441.2881 - 17ms/epoch - 17ms/step\n",
      "Epoch 30/100\n",
      "1/1 - 0s - loss: 23495338.0000 - mae: 4441.0317 - 6ms/epoch - 6ms/step\n",
      "Epoch 31/100\n",
      "1/1 - 0s - loss: 23493060.0000 - mae: 4440.7754 - 3ms/epoch - 3ms/step\n",
      "Epoch 32/100\n",
      "1/1 - 0s - loss: 23490780.0000 - mae: 4440.5186 - 3ms/epoch - 3ms/step\n",
      "Epoch 33/100\n",
      "1/1 - 0s - loss: 23488502.0000 - mae: 4440.2622 - 6ms/epoch - 6ms/step\n",
      "Epoch 34/100\n",
      "1/1 - 0s - loss: 23486222.0000 - mae: 4440.0054 - 3ms/epoch - 3ms/step\n",
      "Epoch 35/100\n",
      "1/1 - 0s - loss: 23483940.0000 - mae: 4439.7480 - 6ms/epoch - 6ms/step\n",
      "Epoch 36/100\n",
      "1/1 - 0s - loss: 23481666.0000 - mae: 4439.4917 - 3ms/epoch - 3ms/step\n",
      "Epoch 37/100\n",
      "1/1 - 0s - loss: 23479384.0000 - mae: 4439.2354 - 3ms/epoch - 3ms/step\n",
      "Epoch 38/100\n",
      "1/1 - 0s - loss: 23477106.0000 - mae: 4438.9785 - 6ms/epoch - 6ms/step\n",
      "Epoch 39/100\n",
      "1/1 - 0s - loss: 23474824.0000 - mae: 4438.7217 - 3ms/epoch - 3ms/step\n",
      "Epoch 40/100\n",
      "1/1 - 0s - loss: 23472546.0000 - mae: 4438.4653 - 3ms/epoch - 3ms/step\n",
      "Epoch 41/100\n",
      "1/1 - 0s - loss: 23470268.0000 - mae: 4438.2085 - 8ms/epoch - 8ms/step\n",
      "Epoch 42/100\n",
      "1/1 - 0s - loss: 23467988.0000 - mae: 4437.9512 - 7ms/epoch - 7ms/step\n",
      "Epoch 43/100\n",
      "1/1 - 0s - loss: 23465708.0000 - mae: 4437.6948 - 5ms/epoch - 5ms/step\n",
      "Epoch 44/100\n",
      "1/1 - 0s - loss: 23463432.0000 - mae: 4437.4380 - 5ms/epoch - 5ms/step\n",
      "Epoch 45/100\n",
      "1/1 - 0s - loss: 23461150.0000 - mae: 4437.1812 - 5ms/epoch - 5ms/step\n",
      "Epoch 46/100\n",
      "1/1 - 0s - loss: 23458872.0000 - mae: 4436.9238 - 8ms/epoch - 8ms/step\n",
      "Epoch 47/100\n",
      "1/1 - 0s - loss: 23456594.0000 - mae: 4436.6675 - 3ms/epoch - 3ms/step\n",
      "Epoch 48/100\n",
      "1/1 - 0s - loss: 23454312.0000 - mae: 4436.4106 - 17ms/epoch - 17ms/step\n",
      "Epoch 49/100\n",
      "1/1 - 0s - loss: 23452034.0000 - mae: 4436.1538 - 7ms/epoch - 7ms/step\n",
      "Epoch 50/100\n",
      "1/1 - 0s - loss: 23449758.0000 - mae: 4435.8965 - 7ms/epoch - 7ms/step\n",
      "Epoch 51/100\n",
      "1/1 - 0s - loss: 23447480.0000 - mae: 4435.6401 - 7ms/epoch - 7ms/step\n",
      "Epoch 52/100\n",
      "1/1 - 0s - loss: 23445204.0000 - mae: 4435.3838 - 3ms/epoch - 3ms/step\n",
      "Epoch 53/100\n",
      "1/1 - 0s - loss: 23442922.0000 - mae: 4435.1265 - 3ms/epoch - 3ms/step\n",
      "Epoch 54/100\n",
      "1/1 - 0s - loss: 23440648.0000 - mae: 4434.8701 - 3ms/epoch - 3ms/step\n",
      "Epoch 55/100\n",
      "1/1 - 0s - loss: 23438370.0000 - mae: 4434.6128 - 5ms/epoch - 5ms/step\n",
      "Epoch 56/100\n",
      "1/1 - 0s - loss: 23436092.0000 - mae: 4434.3564 - 3ms/epoch - 3ms/step\n",
      "Epoch 57/100\n",
      "1/1 - 0s - loss: 23433812.0000 - mae: 4434.0996 - 3ms/epoch - 3ms/step\n",
      "Epoch 58/100\n",
      "1/1 - 0s - loss: 23431534.0000 - mae: 4433.8428 - 6ms/epoch - 6ms/step\n",
      "Epoch 59/100\n",
      "1/1 - 0s - loss: 23429260.0000 - mae: 4433.5864 - 3ms/epoch - 3ms/step\n",
      "Epoch 60/100\n",
      "1/1 - 0s - loss: 23426984.0000 - mae: 4433.3296 - 3ms/epoch - 3ms/step\n",
      "Epoch 61/100\n",
      "1/1 - 0s - loss: 23424708.0000 - mae: 4433.0723 - 5ms/epoch - 5ms/step\n",
      "Epoch 62/100\n",
      "1/1 - 0s - loss: 23422432.0000 - mae: 4432.8159 - 4ms/epoch - 4ms/step\n",
      "Epoch 63/100\n",
      "1/1 - 0s - loss: 23420156.0000 - mae: 4432.5591 - 3ms/epoch - 3ms/step\n",
      "Epoch 64/100\n",
      "1/1 - 0s - loss: 23417876.0000 - mae: 4432.3022 - 3ms/epoch - 3ms/step\n",
      "Epoch 65/100\n",
      "1/1 - 0s - loss: 23415604.0000 - mae: 4432.0459 - 3ms/epoch - 3ms/step\n",
      "Epoch 66/100\n",
      "1/1 - 0s - loss: 23413330.0000 - mae: 4431.7886 - 5ms/epoch - 5ms/step\n",
      "Epoch 67/100\n",
      "1/1 - 0s - loss: 23411054.0000 - mae: 4431.5322 - 3ms/epoch - 3ms/step\n",
      "Epoch 68/100\n",
      "1/1 - 0s - loss: 23408778.0000 - mae: 4431.2754 - 3ms/epoch - 3ms/step\n",
      "Epoch 69/100\n",
      "1/1 - 0s - loss: 23406504.0000 - mae: 4431.0190 - 7ms/epoch - 7ms/step\n",
      "Epoch 70/100\n",
      "1/1 - 0s - loss: 23404226.0000 - mae: 4430.7622 - 3ms/epoch - 3ms/step\n",
      "Epoch 71/100\n",
      "1/1 - 0s - loss: 23401952.0000 - mae: 4430.5054 - 3ms/epoch - 3ms/step\n",
      "Epoch 72/100\n",
      "1/1 - 0s - loss: 23399680.0000 - mae: 4430.2490 - 6ms/epoch - 6ms/step\n",
      "Epoch 73/100\n",
      "1/1 - 0s - loss: 23397406.0000 - mae: 4429.9917 - 2ms/epoch - 2ms/step\n",
      "Epoch 74/100\n",
      "1/1 - 0s - loss: 23395128.0000 - mae: 4429.7354 - 5ms/epoch - 5ms/step\n",
      "Epoch 75/100\n",
      "1/1 - 0s - loss: 23392860.0000 - mae: 4429.4785 - 3ms/epoch - 3ms/step\n",
      "Epoch 76/100\n",
      "1/1 - 0s - loss: 23390582.0000 - mae: 4429.2222 - 5ms/epoch - 5ms/step\n",
      "Epoch 77/100\n",
      "1/1 - 0s - loss: 23388310.0000 - mae: 4428.9658 - 3ms/epoch - 3ms/step\n",
      "Epoch 78/100\n",
      "1/1 - 0s - loss: 23386038.0000 - mae: 4428.7090 - 5ms/epoch - 5ms/step\n",
      "Epoch 79/100\n",
      "1/1 - 0s - loss: 23383762.0000 - mae: 4428.4521 - 3ms/epoch - 3ms/step\n",
      "Epoch 80/100\n",
      "1/1 - 0s - loss: 23381494.0000 - mae: 4428.1958 - 4ms/epoch - 4ms/step\n",
      "Epoch 81/100\n",
      "1/1 - 0s - loss: 23379218.0000 - mae: 4427.9390 - 5ms/epoch - 5ms/step\n",
      "Epoch 82/100\n",
      "1/1 - 0s - loss: 23376950.0000 - mae: 4427.6826 - 2ms/epoch - 2ms/step\n",
      "Epoch 83/100\n",
      "1/1 - 0s - loss: 23374674.0000 - mae: 4427.4258 - 4ms/epoch - 4ms/step\n",
      "Epoch 84/100\n",
      "1/1 - 0s - loss: 23372404.0000 - mae: 4427.1694 - 4ms/epoch - 4ms/step\n",
      "Epoch 85/100\n",
      "1/1 - 0s - loss: 23370130.0000 - mae: 4426.9121 - 4ms/epoch - 4ms/step\n",
      "Epoch 86/100\n",
      "1/1 - 0s - loss: 23367860.0000 - mae: 4426.6562 - 5ms/epoch - 5ms/step\n",
      "Epoch 87/100\n",
      "1/1 - 0s - loss: 23365590.0000 - mae: 4426.3999 - 4ms/epoch - 4ms/step\n",
      "Epoch 88/100\n",
      "1/1 - 0s - loss: 23363318.0000 - mae: 4426.1426 - 6ms/epoch - 6ms/step\n",
      "Epoch 89/100\n",
      "1/1 - 0s - loss: 23361048.0000 - mae: 4425.8862 - 4ms/epoch - 4ms/step\n",
      "Epoch 90/100\n",
      "1/1 - 0s - loss: 23358774.0000 - mae: 4425.6299 - 2ms/epoch - 2ms/step\n",
      "Epoch 91/100\n",
      "1/1 - 0s - loss: 23356504.0000 - mae: 4425.3730 - 4ms/epoch - 4ms/step\n",
      "Epoch 92/100\n",
      "1/1 - 0s - loss: 23354238.0000 - mae: 4425.1172 - 3ms/epoch - 3ms/step\n",
      "Epoch 93/100\n",
      "1/1 - 0s - loss: 23351966.0000 - mae: 4424.8604 - 6ms/epoch - 6ms/step\n",
      "Epoch 94/100\n",
      "1/1 - 0s - loss: 23349694.0000 - mae: 4424.6035 - 5ms/epoch - 5ms/step\n",
      "Epoch 95/100\n",
      "1/1 - 0s - loss: 23347426.0000 - mae: 4424.3472 - 3ms/epoch - 3ms/step\n",
      "Epoch 96/100\n",
      "1/1 - 0s - loss: 23345152.0000 - mae: 4424.0908 - 4ms/epoch - 4ms/step\n",
      "Epoch 97/100\n",
      "1/1 - 0s - loss: 23342884.0000 - mae: 4423.8340 - 3ms/epoch - 3ms/step\n",
      "Epoch 98/100\n",
      "1/1 - 0s - loss: 23340618.0000 - mae: 4423.5781 - 4ms/epoch - 4ms/step\n",
      "Epoch 99/100\n",
      "1/1 - 0s - loss: 23338348.0000 - mae: 4423.3218 - 3ms/epoch - 3ms/step\n",
      "Epoch 100/100\n",
      "1/1 - 0s - loss: 23336078.0000 - mae: 4423.0649 - 3ms/epoch - 3ms/step\n"
     ]
    }
   ],
   "source": [
    "# 학습\n",
    "hist = model.fit(X_train, y_train, epochs=100, verbose=2)"
   ]
  },
  {
   "cell_type": "code",
   "execution_count": 116,
   "id": "33df2fee",
   "metadata": {},
   "outputs": [
    {
     "data": {
      "text/plain": [
       "[<matplotlib.lines.Line2D at 0x29990afe160>]"
      ]
     },
     "execution_count": 116,
     "metadata": {},
     "output_type": "execute_result"
    },
    {
     "data": {
      "image/png": "[encoded data removed]",
      "text/plain": [
       "<Figure size 500x500 with 1 Axes>"
      ]
     },
     "metadata": {},
     "output_type": "display_data"
    }
   ],
   "source": [
    "import pandas as pd\n",
    "df = pd.DataFrame(hist.history)\n",
    "\n",
    "import matplotlib.pyplot as plt\n",
    "plt.figure(figsize=(5, 5))\n",
    "plt.plot(df.loss, label='train_loss')"
   ]
  },
  {
   "cell_type": "code",
   "execution_count": 118,
   "id": "2dc2fcbe",
   "metadata": {},
   "outputs": [
    {
     "name": "stdout",
     "output_type": "stream",
     "text": [
      "1/1 [==============================] - 0s 16ms/step\n"
     ]
    },
    {
     "data": {
      "text/plain": [
       "array([[23.883696],\n",
       "       [23.883696],\n",
       "       [23.883696],\n",
       "       [23.883696]], dtype=float32)"
      ]
     },
     "execution_count": 118,
     "metadata": {},
     "output_type": "execute_result"
    }
   ],
   "source": [
    "model.predict(X_test)"
   ]
  },
  {
   "cell_type": "code",
   "execution_count": 119,
   "id": "f64c6e71",
   "metadata": {},
   "outputs": [
    {
     "data": {
      "text/plain": [
       "(4, 3, 1)"
      ]
     },
     "execution_count": 119,
     "metadata": {},
     "output_type": "execute_result"
    }
   ],
   "source": [
    "X_test.shape"
   ]
  },
  {
   "cell_type": "markdown",
   "id": "f8da65f9",
   "metadata": {},
   "source": [
    "#### 모델 학습"
   ]
  },
  {
   "cell_type": "code",
   "execution_count": null,
   "id": "59260206",
   "metadata": {},
   "outputs": [],
   "source": []
  },
  {
   "cell_type": "markdown",
   "id": "ebc9d9ca",
   "metadata": {},
   "source": [
    "#### 결과 시각화"
   ]
  },
  {
   "cell_type": "code",
   "execution_count": null,
   "id": "a54b5810",
   "metadata": {},
   "outputs": [],
   "source": []
  },
  {
   "cell_type": "code",
   "execution_count": null,
   "id": "0f50fb82",
   "metadata": {},
   "outputs": [],
   "source": []
  },
  {
   "attachments": {},
   "cell_type": "markdown",
   "id": "a1a7b9fa",
   "metadata": {},
   "source": [
    "- - -"
   ]
  },
  {
   "attachments": {},
   "cell_type": "markdown",
   "id": "29820a5d",
   "metadata": {},
   "source": [
    "# 답안 풀이"
   ]
  },
  {
   "cell_type": "code",
   "execution_count": 120,
   "id": "e3303d1e",
   "metadata": {},
   "outputs": [
    {
     "data": {
      "text/plain": [
       "array([[366382.],\n",
       "       [367970.],\n",
       "       [370637.],\n",
       "       [373119.],\n",
       "       [375462.],\n",
       "       [377708.],\n",
       "       [379933.],\n",
       "       [381687.],\n",
       "       [383404.],\n",
       "       [385829.],\n",
       "       [388347.],\n",
       "       [390715.],\n",
       "       [393039.],\n",
       "       [395457.],\n",
       "       [397461.],\n",
       "       [399583.],\n",
       "       [402772.],\n",
       "       [406064.],\n",
       "       [409097.],\n",
       "       [412302.],\n",
       "       [415422.],\n",
       "       [418249.],\n",
       "       [420946.],\n",
       "       [425059.],\n",
       "       [428996.],\n",
       "       [432892.],\n",
       "       [436959.],\n",
       "       [440884.],\n",
       "       [444191.],\n",
       "       [447222.],\n",
       "       [452344.],\n",
       "       [457607.],\n",
       "       [462551.],\n",
       "       [467903.],\n",
       "       [473028.],\n",
       "       [477352.],\n",
       "       [482305.],\n",
       "       [489478.],\n",
       "       [496853.],\n",
       "       [503601.],\n",
       "       [510578.],\n",
       "       [517259.],\n",
       "       [523075.],\n",
       "       [528642.],\n",
       "       [536491.],\n",
       "       [544110.],\n",
       "       [551544.],\n",
       "       [558854.],\n",
       "       [565087.],\n",
       "       [570403.],\n",
       "       [575595.],\n",
       "       [583047.],\n",
       "       [589961.],\n",
       "       [596194.],\n",
       "       [602034.],\n",
       "       [607447.],\n",
       "       [611650.],\n",
       "       [615514.],\n",
       "       [620921.],\n",
       "       [625955.],\n",
       "       [630828.],\n",
       "       [635243.],\n",
       "       [639074.],\n",
       "       [642199.],\n",
       "       [645220.],\n",
       "       [649661.],\n",
       "       [653783.],\n",
       "       [657496.],\n",
       "       [661003.],\n",
       "       [664374.],\n",
       "       [667379.],\n",
       "       [670471.],\n",
       "       [674854.],\n",
       "       [679018.],\n",
       "       [683556.],\n",
       "       [687975.],\n",
       "       [692164.],\n",
       "       [696018.],\n",
       "       [700080.],\n",
       "       [705883.],\n",
       "       [712483.],\n",
       "       [719249.],\n",
       "       [726254.],\n",
       "       [733880.],\n",
       "       [741391.],\n",
       "       [749961.],\n",
       "       [762971.],\n",
       "       [777486.]], dtype=float32)"
      ]
     },
     "execution_count": 120,
     "metadata": {},
     "output_type": "execute_result"
    }
   ],
   "source": [
    "df = pd.read_csv('data/covid_2021101_20220127.csv', usecols=[3], engine='python')\n",
    "data = df.values\n",
    "data = data.astype('float32')\n",
    "data"
   ]
  },
  {
   "attachments": {},
   "cell_type": "markdown",
   "id": "bd850df4",
   "metadata": {},
   "source": [
    "### 데이터 정규화 및 분류하기\n"
   ]
  },
  {
   "cell_type": "code",
   "execution_count": 121,
   "id": "8e85fb3a",
   "metadata": {},
   "outputs": [
    {
     "data": {
      "text/plain": [
       "array([[0.        ],\n",
       "       [0.0038628 ],\n",
       "       [0.01035023],\n",
       "       [0.01638758],\n",
       "       [0.02208692],\n",
       "       [0.02755022],\n",
       "       [0.0329625 ],\n",
       "       [0.03722906],\n",
       "       [0.04140562],\n",
       "       [0.04730433],\n",
       "       [0.05342931],\n",
       "       [0.05918944],\n",
       "       [0.06484252],\n",
       "       [0.07072425],\n",
       "       [0.0755989 ],\n",
       "       [0.0807606 ],\n",
       "       [0.08851779],\n",
       "       [0.09652549],\n",
       "       [0.10390317],\n",
       "       [0.11169922],\n",
       "       [0.11928856],\n",
       "       [0.12616515],\n",
       "       [0.1327256 ],\n",
       "       [0.14273036],\n",
       "       [0.15230703],\n",
       "       [0.16178393],\n",
       "       [0.17167675],\n",
       "       [0.18122423],\n",
       "       [0.18926847],\n",
       "       [0.1966412 ],\n",
       "       [0.20910037],\n",
       "       [0.22190249],\n",
       "       [0.23392868],\n",
       "       [0.24694729],\n",
       "       [0.25941372],\n",
       "       [0.26993167],\n",
       "       [0.2819798 ],\n",
       "       [0.29942787],\n",
       "       [0.31736743],\n",
       "       [0.33378172],\n",
       "       [0.35075307],\n",
       "       [0.3670045 ],\n",
       "       [0.3811518 ],\n",
       "       [0.39469337],\n",
       "       [0.41378582],\n",
       "       [0.4323188 ],\n",
       "       [0.4504019 ],\n",
       "       [0.46818328],\n",
       "       [0.4833449 ],\n",
       "       [0.4962759 ],\n",
       "       [0.5089053 ],\n",
       "       [0.52703214],\n",
       "       [0.5438502 ],\n",
       "       [0.5590118 ],\n",
       "       [0.5732175 ],\n",
       "       [0.58638453],\n",
       "       [0.59660816],\n",
       "       [0.6060072 ],\n",
       "       [0.6191597 ],\n",
       "       [0.63140476],\n",
       "       [0.6432582 ],\n",
       "       [0.65399754],\n",
       "       [0.66331637],\n",
       "       [0.67091787],\n",
       "       [0.6782664 ],\n",
       "       [0.6890689 ],\n",
       "       [0.6990956 ],\n",
       "       [0.7081274 ],\n",
       "       [0.7166581 ],\n",
       "       [0.7248579 ],\n",
       "       [0.7321676 ],\n",
       "       [0.73968875],\n",
       "       [0.75035036],\n",
       "       [0.7604791 ],\n",
       "       [0.77151763],\n",
       "       [0.78226686],\n",
       "       [0.7924564 ],\n",
       "       [0.80183125],\n",
       "       [0.8117119 ],\n",
       "       [0.8258276 ],\n",
       "       [0.8418819 ],\n",
       "       [0.85834   ],\n",
       "       [0.87537944],\n",
       "       [0.8939295 ],\n",
       "       [0.91219985],\n",
       "       [0.9330462 ],\n",
       "       [0.9646927 ],\n",
       "       [1.        ]], dtype=float32)"
      ]
     },
     "execution_count": 121,
     "metadata": {},
     "output_type": "execute_result"
    }
   ],
   "source": [
    "scaler = MinMaxScaler()\n",
    "corona = scaler.fit_transform(data)\n",
    "corona"
   ]
  },
  {
   "cell_type": "code",
   "execution_count": 134,
   "id": "3fe644be",
   "metadata": {},
   "outputs": [
    {
     "data": {
      "text/plain": [
       "((70, 1), (18, 1))"
      ]
     },
     "execution_count": 134,
     "metadata": {},
     "output_type": "execute_result"
    }
   ],
   "source": [
    "train, test = train_test_split(corona, test_size=0.2, shuffle=False) # 시퀀셜 데이터라 셔플 절대 하면 안됨\n",
    "train.shape, test.shape"
   ]
  },
  {
   "attachments": {},
   "cell_type": "markdown",
   "id": "f711b733",
   "metadata": {},
   "source": [
    "### 데이터 형태 변경하기"
   ]
  },
  {
   "cell_type": "code",
   "execution_count": 125,
   "id": "f610757a",
   "metadata": {},
   "outputs": [],
   "source": [
    "def create_dataset(dataset, look_back):\n",
    "    X_data = []\n",
    "    y_data = []\n",
    "    for i in range(len(dataset) - look_back):\n",
    "        data = dataset[i:(i+look_back), 0]\n",
    "        X_data.append(data)\n",
    "        y_data.append(dataset[i + look_back, 0])\n",
    "    return np.array(X_data), np.array(y_data)"
   ]
  },
  {
   "cell_type": "code",
   "execution_count": 135,
   "id": "e428de70",
   "metadata": {},
   "outputs": [
    {
     "data": {
      "text/plain": [
       "(array([[0.        , 0.0038628 , 0.01035023],\n",
       "        [0.0038628 , 0.01035023, 0.01638758],\n",
       "        [0.01035023, 0.01638758, 0.02208692],\n",
       "        [0.01638758, 0.02208692, 0.02755022],\n",
       "        [0.02208692, 0.02755022, 0.0329625 ],\n",
       "        [0.02755022, 0.0329625 , 0.03722906],\n",
       "        [0.0329625 , 0.03722906, 0.04140562],\n",
       "        [0.03722906, 0.04140562, 0.04730433],\n",
       "        [0.04140562, 0.04730433, 0.05342931],\n",
       "        [0.04730433, 0.05342931, 0.05918944],\n",
       "        [0.05342931, 0.05918944, 0.06484252],\n",
       "        [0.05918944, 0.06484252, 0.07072425],\n",
       "        [0.06484252, 0.07072425, 0.0755989 ],\n",
       "        [0.07072425, 0.0755989 , 0.0807606 ],\n",
       "        [0.0755989 , 0.0807606 , 0.08851779],\n",
       "        [0.0807606 , 0.08851779, 0.09652549],\n",
       "        [0.08851779, 0.09652549, 0.10390317],\n",
       "        [0.09652549, 0.10390317, 0.11169922],\n",
       "        [0.10390317, 0.11169922, 0.11928856],\n",
       "        [0.11169922, 0.11928856, 0.12616515],\n",
       "        [0.11928856, 0.12616515, 0.1327256 ],\n",
       "        [0.12616515, 0.1327256 , 0.14273036],\n",
       "        [0.1327256 , 0.14273036, 0.15230703],\n",
       "        [0.14273036, 0.15230703, 0.16178393],\n",
       "        [0.15230703, 0.16178393, 0.17167675],\n",
       "        [0.16178393, 0.17167675, 0.18122423],\n",
       "        [0.17167675, 0.18122423, 0.18926847],\n",
       "        [0.18122423, 0.18926847, 0.1966412 ],\n",
       "        [0.18926847, 0.1966412 , 0.20910037],\n",
       "        [0.1966412 , 0.20910037, 0.22190249],\n",
       "        [0.20910037, 0.22190249, 0.23392868],\n",
       "        [0.22190249, 0.23392868, 0.24694729],\n",
       "        [0.23392868, 0.24694729, 0.25941372],\n",
       "        [0.24694729, 0.25941372, 0.26993167],\n",
       "        [0.25941372, 0.26993167, 0.2819798 ],\n",
       "        [0.26993167, 0.2819798 , 0.29942787],\n",
       "        [0.2819798 , 0.29942787, 0.31736743],\n",
       "        [0.29942787, 0.31736743, 0.33378172],\n",
       "        [0.31736743, 0.33378172, 0.35075307],\n",
       "        [0.33378172, 0.35075307, 0.3670045 ],\n",
       "        [0.35075307, 0.3670045 , 0.3811518 ],\n",
       "        [0.3670045 , 0.3811518 , 0.39469337],\n",
       "        [0.3811518 , 0.39469337, 0.41378582],\n",
       "        [0.39469337, 0.41378582, 0.4323188 ],\n",
       "        [0.41378582, 0.4323188 , 0.4504019 ],\n",
       "        [0.4323188 , 0.4504019 , 0.46818328],\n",
       "        [0.4504019 , 0.46818328, 0.4833449 ],\n",
       "        [0.46818328, 0.4833449 , 0.4962759 ],\n",
       "        [0.4833449 , 0.4962759 , 0.5089053 ],\n",
       "        [0.4962759 , 0.5089053 , 0.52703214],\n",
       "        [0.5089053 , 0.52703214, 0.5438502 ],\n",
       "        [0.52703214, 0.5438502 , 0.5590118 ],\n",
       "        [0.5438502 , 0.5590118 , 0.5732175 ],\n",
       "        [0.5590118 , 0.5732175 , 0.58638453],\n",
       "        [0.5732175 , 0.58638453, 0.59660816],\n",
       "        [0.58638453, 0.59660816, 0.6060072 ],\n",
       "        [0.59660816, 0.6060072 , 0.6191597 ],\n",
       "        [0.6060072 , 0.6191597 , 0.63140476],\n",
       "        [0.6191597 , 0.63140476, 0.6432582 ],\n",
       "        [0.63140476, 0.6432582 , 0.65399754],\n",
       "        [0.6432582 , 0.65399754, 0.66331637],\n",
       "        [0.65399754, 0.66331637, 0.67091787],\n",
       "        [0.66331637, 0.67091787, 0.6782664 ],\n",
       "        [0.67091787, 0.6782664 , 0.6890689 ],\n",
       "        [0.6782664 , 0.6890689 , 0.6990956 ],\n",
       "        [0.6890689 , 0.6990956 , 0.7081274 ],\n",
       "        [0.6990956 , 0.7081274 , 0.7166581 ]], dtype=float32),\n",
       " array([0.01638758, 0.02208692, 0.02755022, 0.0329625 , 0.03722906,\n",
       "        0.04140562, 0.04730433, 0.05342931, 0.05918944, 0.06484252,\n",
       "        0.07072425, 0.0755989 , 0.0807606 , 0.08851779, 0.09652549,\n",
       "        0.10390317, 0.11169922, 0.11928856, 0.12616515, 0.1327256 ,\n",
       "        0.14273036, 0.15230703, 0.16178393, 0.17167675, 0.18122423,\n",
       "        0.18926847, 0.1966412 , 0.20910037, 0.22190249, 0.23392868,\n",
       "        0.24694729, 0.25941372, 0.26993167, 0.2819798 , 0.29942787,\n",
       "        0.31736743, 0.33378172, 0.35075307, 0.3670045 , 0.3811518 ,\n",
       "        0.39469337, 0.41378582, 0.4323188 , 0.4504019 , 0.46818328,\n",
       "        0.4833449 , 0.4962759 , 0.5089053 , 0.52703214, 0.5438502 ,\n",
       "        0.5590118 , 0.5732175 , 0.58638453, 0.59660816, 0.6060072 ,\n",
       "        0.6191597 , 0.63140476, 0.6432582 , 0.65399754, 0.66331637,\n",
       "        0.67091787, 0.6782664 , 0.6890689 , 0.6990956 , 0.7081274 ,\n",
       "        0.7166581 , 0.7248579 ], dtype=float32))"
      ]
     },
     "execution_count": 135,
     "metadata": {},
     "output_type": "execute_result"
    }
   ],
   "source": [
    "look_back = 3 \n",
    "X_train, y_train = create_dataset(train, look_back)\n",
    "X_train, y_train"
   ]
  },
  {
   "cell_type": "code",
   "execution_count": 136,
   "id": "9715b5a5",
   "metadata": {},
   "outputs": [
    {
     "data": {
      "text/plain": [
       "((67, 3), (67,))"
      ]
     },
     "execution_count": 136,
     "metadata": {},
     "output_type": "execute_result"
    }
   ],
   "source": [
    "X_train.shape, y_train.shape"
   ]
  },
  {
   "cell_type": "code",
   "execution_count": 137,
   "id": "764473ff",
   "metadata": {},
   "outputs": [
    {
     "data": {
      "text/plain": [
       "((15, 3), (15,))"
      ]
     },
     "execution_count": 137,
     "metadata": {},
     "output_type": "execute_result"
    }
   ],
   "source": [
    "X_test, y_test = create_dataset(test, look_back)\n",
    "X_test.shape, y_test.shape"
   ]
  },
  {
   "cell_type": "code",
   "execution_count": 138,
   "id": "aca10384",
   "metadata": {},
   "outputs": [],
   "source": [
    "# 인공 지능 모델의 입력 형태로 데이터 구조를 변환\n",
    "X_train = X_train[:, np.newaxis]\n",
    "X_test = X_test[:, np.newaxis]"
   ]
  },
  {
   "cell_type": "code",
   "execution_count": 139,
   "id": "2d9fe98d",
   "metadata": {},
   "outputs": [
    {
     "data": {
      "text/plain": [
       "((67, 1, 3), (15, 1, 3))"
      ]
     },
     "execution_count": 139,
     "metadata": {},
     "output_type": "execute_result"
    }
   ],
   "source": [
    "X_train.shape, X_test.shape"
   ]
  },
  {
   "cell_type": "code",
   "execution_count": 140,
   "id": "db4854e0",
   "metadata": {},
   "outputs": [
    {
     "data": {
      "text/plain": [
       "array([[0.        , 0.0038628 , 0.01035023]], dtype=float32)"
      ]
     },
     "execution_count": 140,
     "metadata": {},
     "output_type": "execute_result"
    }
   ],
   "source": [
    "X_train[0]"
   ]
  },
  {
   "attachments": {},
   "cell_type": "markdown",
   "id": "89d40792",
   "metadata": {},
   "source": [
    "### 인공지능 모델 만들기"
   ]
  },
  {
   "cell_type": "code",
   "execution_count": 141,
   "id": "2185cdde",
   "metadata": {},
   "outputs": [
    {
     "name": "stdout",
     "output_type": "stream",
     "text": [
      "Model: \"sequential_5\"\n",
      "_________________________________________________________________\n",
      " Layer (type)                Output Shape              Param #   \n",
      "=================================================================\n",
      " simple_rnn_5 (SimpleRNN)    (None, 3)                 21        \n",
      "                                                                 \n",
      " dense_5 (Dense)             (None, 1)                 4         \n",
      "                                                                 \n",
      "=================================================================\n",
      "Total params: 25\n",
      "Trainable params: 25\n",
      "Non-trainable params: 0\n",
      "_________________________________________________________________\n"
     ]
    }
   ],
   "source": [
    "model = Sequential()\n",
    "model.add(SimpleRNN(3, input_shape=(1, 3)))\n",
    "model.add(Dense(1, activation='linear'))\n",
    "\n",
    "model.compile(loss='mse', metrics='mae', optimizer='adam')\n",
    "model.summary()"
   ]
  },
  {
   "attachments": {},
   "cell_type": "markdown",
   "id": "60c7c490",
   "metadata": {},
   "source": [
    "### 모델 학습"
   ]
  },
  {
   "cell_type": "code",
   "execution_count": 142,
   "id": "8cb8a8e4",
   "metadata": {},
   "outputs": [
    {
     "name": "stdout",
     "output_type": "stream",
     "text": [
      "Epoch 1/100\n",
      "23/23 - 1s - loss: 0.0577 - mae: 0.1931 - 598ms/epoch - 26ms/step\n",
      "Epoch 2/100\n",
      "23/23 - 0s - loss: 0.0289 - mae: 0.1307 - 27ms/epoch - 1ms/step\n",
      "Epoch 3/100\n",
      "23/23 - 0s - loss: 0.0149 - mae: 0.0977 - 26ms/epoch - 1ms/step\n",
      "Epoch 4/100\n",
      "23/23 - 0s - loss: 0.0090 - mae: 0.0840 - 29ms/epoch - 1ms/step\n",
      "Epoch 5/100\n",
      "23/23 - 0s - loss: 0.0070 - mae: 0.0749 - 31ms/epoch - 1ms/step\n",
      "Epoch 6/100\n",
      "23/23 - 0s - loss: 0.0057 - mae: 0.0681 - 31ms/epoch - 1ms/step\n",
      "Epoch 7/100\n",
      "23/23 - 0s - loss: 0.0049 - mae: 0.0632 - 35ms/epoch - 2ms/step\n",
      "Epoch 8/100\n",
      "23/23 - 0s - loss: 0.0040 - mae: 0.0569 - 29ms/epoch - 1ms/step\n",
      "Epoch 9/100\n",
      "23/23 - 0s - loss: 0.0032 - mae: 0.0513 - 43ms/epoch - 2ms/step\n",
      "Epoch 10/100\n",
      "23/23 - 0s - loss: 0.0025 - mae: 0.0455 - 33ms/epoch - 1ms/step\n",
      "Epoch 11/100\n",
      "23/23 - 0s - loss: 0.0020 - mae: 0.0402 - 34ms/epoch - 1ms/step\n",
      "Epoch 12/100\n",
      "23/23 - 0s - loss: 0.0015 - mae: 0.0353 - 28ms/epoch - 1ms/step\n",
      "Epoch 13/100\n",
      "23/23 - 0s - loss: 0.0011 - mae: 0.0302 - 66ms/epoch - 3ms/step\n",
      "Epoch 14/100\n",
      "23/23 - 0s - loss: 8.2320e-04 - mae: 0.0258 - 51ms/epoch - 2ms/step\n",
      "Epoch 15/100\n",
      "23/23 - 0s - loss: 5.9316e-04 - mae: 0.0220 - 32ms/epoch - 1ms/step\n",
      "Epoch 16/100\n",
      "23/23 - 0s - loss: 4.2225e-04 - mae: 0.0184 - 28ms/epoch - 1ms/step\n",
      "Epoch 17/100\n",
      "23/23 - 0s - loss: 2.8621e-04 - mae: 0.0151 - 25ms/epoch - 1ms/step\n",
      "Epoch 18/100\n",
      "23/23 - 0s - loss: 1.9997e-04 - mae: 0.0125 - 25ms/epoch - 1ms/step\n",
      "Epoch 19/100\n",
      "23/23 - 0s - loss: 1.3852e-04 - mae: 0.0103 - 31ms/epoch - 1ms/step\n",
      "Epoch 20/100\n",
      "23/23 - 0s - loss: 9.6172e-05 - mae: 0.0082 - 28ms/epoch - 1ms/step\n",
      "Epoch 21/100\n",
      "23/23 - 0s - loss: 6.9710e-05 - mae: 0.0068 - 24ms/epoch - 1ms/step\n",
      "Epoch 22/100\n",
      "23/23 - 0s - loss: 5.2412e-05 - mae: 0.0059 - 24ms/epoch - 1ms/step\n",
      "Epoch 23/100\n",
      "23/23 - 0s - loss: 4.1838e-05 - mae: 0.0050 - 30ms/epoch - 1ms/step\n",
      "Epoch 24/100\n",
      "23/23 - 0s - loss: 3.6780e-05 - mae: 0.0046 - 28ms/epoch - 1ms/step\n",
      "Epoch 25/100\n",
      "23/23 - 0s - loss: 3.1222e-05 - mae: 0.0041 - 30ms/epoch - 1ms/step\n",
      "Epoch 26/100\n",
      "23/23 - 0s - loss: 2.9261e-05 - mae: 0.0041 - 34ms/epoch - 1ms/step\n",
      "Epoch 27/100\n",
      "23/23 - 0s - loss: 2.8230e-05 - mae: 0.0041 - 32ms/epoch - 1ms/step\n",
      "Epoch 28/100\n",
      "23/23 - 0s - loss: 2.6789e-05 - mae: 0.0039 - 30ms/epoch - 1ms/step\n",
      "Epoch 29/100\n",
      "23/23 - 0s - loss: 2.6599e-05 - mae: 0.0040 - 28ms/epoch - 1ms/step\n",
      "Epoch 30/100\n",
      "23/23 - 0s - loss: 2.5800e-05 - mae: 0.0040 - 25ms/epoch - 1ms/step\n",
      "Epoch 31/100\n",
      "23/23 - 0s - loss: 2.5514e-05 - mae: 0.0039 - 30ms/epoch - 1ms/step\n",
      "Epoch 32/100\n",
      "23/23 - 0s - loss: 2.5280e-05 - mae: 0.0039 - 28ms/epoch - 1ms/step\n",
      "Epoch 33/100\n",
      "23/23 - 0s - loss: 2.5105e-05 - mae: 0.0039 - 23ms/epoch - 1ms/step\n",
      "Epoch 34/100\n",
      "23/23 - 0s - loss: 2.4957e-05 - mae: 0.0039 - 26ms/epoch - 1ms/step\n",
      "Epoch 35/100\n",
      "23/23 - 0s - loss: 2.4944e-05 - mae: 0.0038 - 28ms/epoch - 1ms/step\n",
      "Epoch 36/100\n",
      "23/23 - 0s - loss: 2.4616e-05 - mae: 0.0038 - 30ms/epoch - 1ms/step\n",
      "Epoch 37/100\n",
      "23/23 - 0s - loss: 2.5403e-05 - mae: 0.0040 - 28ms/epoch - 1ms/step\n",
      "Epoch 38/100\n",
      "23/23 - 0s - loss: 2.4904e-05 - mae: 0.0037 - 23ms/epoch - 1ms/step\n",
      "Epoch 39/100\n",
      "23/23 - 0s - loss: 2.4148e-05 - mae: 0.0038 - 27ms/epoch - 1ms/step\n",
      "Epoch 40/100\n",
      "23/23 - 0s - loss: 2.4272e-05 - mae: 0.0038 - 28ms/epoch - 1ms/step\n",
      "Epoch 41/100\n",
      "23/23 - 0s - loss: 2.3512e-05 - mae: 0.0037 - 24ms/epoch - 1ms/step\n",
      "Epoch 42/100\n",
      "23/23 - 0s - loss: 2.3627e-05 - mae: 0.0037 - 29ms/epoch - 1ms/step\n",
      "Epoch 43/100\n",
      "23/23 - 0s - loss: 2.3322e-05 - mae: 0.0037 - 28ms/epoch - 1ms/step\n",
      "Epoch 44/100\n",
      "23/23 - 0s - loss: 2.3218e-05 - mae: 0.0037 - 26ms/epoch - 1ms/step\n",
      "Epoch 45/100\n",
      "23/23 - 0s - loss: 2.3111e-05 - mae: 0.0037 - 29ms/epoch - 1ms/step\n",
      "Epoch 46/100\n",
      "23/23 - 0s - loss: 2.2148e-05 - mae: 0.0036 - 28ms/epoch - 1ms/step\n",
      "Epoch 47/100\n",
      "23/23 - 0s - loss: 2.2824e-05 - mae: 0.0036 - 26ms/epoch - 1ms/step\n",
      "Epoch 48/100\n",
      "23/23 - 0s - loss: 2.2632e-05 - mae: 0.0036 - 25ms/epoch - 1ms/step\n",
      "Epoch 49/100\n",
      "23/23 - 0s - loss: 2.2491e-05 - mae: 0.0036 - 28ms/epoch - 1ms/step\n",
      "Epoch 50/100\n",
      "23/23 - 0s - loss: 2.1698e-05 - mae: 0.0036 - 24ms/epoch - 1ms/step\n",
      "Epoch 51/100\n",
      "23/23 - 0s - loss: 2.2954e-05 - mae: 0.0036 - 24ms/epoch - 1ms/step\n",
      "Epoch 52/100\n",
      "23/23 - 0s - loss: 2.1278e-05 - mae: 0.0036 - 28ms/epoch - 1ms/step\n",
      "Epoch 53/100\n",
      "23/23 - 0s - loss: 2.1677e-05 - mae: 0.0036 - 27ms/epoch - 1ms/step\n",
      "Epoch 54/100\n",
      "23/23 - 0s - loss: 2.0989e-05 - mae: 0.0035 - 23ms/epoch - 1ms/step\n",
      "Epoch 55/100\n",
      "23/23 - 0s - loss: 2.0984e-05 - mae: 0.0035 - 28ms/epoch - 1ms/step\n",
      "Epoch 56/100\n",
      "23/23 - 0s - loss: 2.0838e-05 - mae: 0.0035 - 28ms/epoch - 1ms/step\n",
      "Epoch 57/100\n",
      "23/23 - 0s - loss: 2.0355e-05 - mae: 0.0035 - 25ms/epoch - 1ms/step\n",
      "Epoch 58/100\n",
      "23/23 - 0s - loss: 2.1049e-05 - mae: 0.0035 - 26ms/epoch - 1ms/step\n",
      "Epoch 59/100\n",
      "23/23 - 0s - loss: 2.0569e-05 - mae: 0.0035 - 28ms/epoch - 1ms/step\n",
      "Epoch 60/100\n",
      "23/23 - 0s - loss: 2.0223e-05 - mae: 0.0034 - 25ms/epoch - 1ms/step\n",
      "Epoch 61/100\n",
      "23/23 - 0s - loss: 1.9404e-05 - mae: 0.0033 - 28ms/epoch - 1ms/step\n",
      "Epoch 62/100\n",
      "23/23 - 0s - loss: 2.0239e-05 - mae: 0.0035 - 27ms/epoch - 1ms/step\n",
      "Epoch 63/100\n",
      "23/23 - 0s - loss: 1.9601e-05 - mae: 0.0033 - 32ms/epoch - 1ms/step\n",
      "Epoch 64/100\n",
      "23/23 - 0s - loss: 1.9210e-05 - mae: 0.0033 - 40ms/epoch - 2ms/step\n",
      "Epoch 65/100\n",
      "23/23 - 0s - loss: 1.9899e-05 - mae: 0.0034 - 89ms/epoch - 4ms/step\n",
      "Epoch 66/100\n",
      "23/23 - 0s - loss: 1.8904e-05 - mae: 0.0033 - 49ms/epoch - 2ms/step\n",
      "Epoch 67/100\n",
      "23/23 - 0s - loss: 1.8741e-05 - mae: 0.0033 - 26ms/epoch - 1ms/step\n",
      "Epoch 68/100\n",
      "23/23 - 0s - loss: 1.9301e-05 - mae: 0.0033 - 29ms/epoch - 1ms/step\n",
      "Epoch 69/100\n",
      "23/23 - 0s - loss: 1.8285e-05 - mae: 0.0032 - 24ms/epoch - 1ms/step\n",
      "Epoch 70/100\n",
      "23/23 - 0s - loss: 2.0461e-05 - mae: 0.0034 - 45ms/epoch - 2ms/step\n",
      "Epoch 71/100\n",
      "23/23 - 0s - loss: 1.8690e-05 - mae: 0.0032 - 26ms/epoch - 1ms/step\n",
      "Epoch 72/100\n",
      "23/23 - 0s - loss: 1.8065e-05 - mae: 0.0032 - 23ms/epoch - 992us/step\n",
      "Epoch 73/100\n",
      "23/23 - 0s - loss: 1.8191e-05 - mae: 0.0032 - 27ms/epoch - 1ms/step\n",
      "Epoch 74/100\n",
      "23/23 - 0s - loss: 1.7408e-05 - mae: 0.0031 - 26ms/epoch - 1ms/step\n",
      "Epoch 75/100\n",
      "23/23 - 0s - loss: 1.7977e-05 - mae: 0.0032 - 24ms/epoch - 1ms/step\n",
      "Epoch 76/100\n",
      "23/23 - 0s - loss: 1.7291e-05 - mae: 0.0031 - 29ms/epoch - 1ms/step\n",
      "Epoch 77/100\n",
      "23/23 - 0s - loss: 1.7624e-05 - mae: 0.0032 - 28ms/epoch - 1ms/step\n",
      "Epoch 78/100\n",
      "23/23 - 0s - loss: 1.7021e-05 - mae: 0.0031 - 24ms/epoch - 1ms/step\n",
      "Epoch 79/100\n",
      "23/23 - 0s - loss: 1.6762e-05 - mae: 0.0031 - 25ms/epoch - 1ms/step\n",
      "Epoch 80/100\n",
      "23/23 - 0s - loss: 1.6530e-05 - mae: 0.0030 - 28ms/epoch - 1ms/step\n",
      "Epoch 81/100\n",
      "23/23 - 0s - loss: 1.6551e-05 - mae: 0.0031 - 24ms/epoch - 1ms/step\n",
      "Epoch 82/100\n",
      "23/23 - 0s - loss: 1.6801e-05 - mae: 0.0030 - 28ms/epoch - 1ms/step\n",
      "Epoch 83/100\n",
      "23/23 - 0s - loss: 1.6789e-05 - mae: 0.0031 - 26ms/epoch - 1ms/step\n",
      "Epoch 84/100\n",
      "23/23 - 0s - loss: 1.5658e-05 - mae: 0.0030 - 24ms/epoch - 1ms/step\n",
      "Epoch 85/100\n",
      "23/23 - 0s - loss: 1.6374e-05 - mae: 0.0030 - 25ms/epoch - 1ms/step\n",
      "Epoch 86/100\n",
      "23/23 - 0s - loss: 1.7132e-05 - mae: 0.0031 - 30ms/epoch - 1ms/step\n",
      "Epoch 87/100\n",
      "23/23 - 0s - loss: 1.7018e-05 - mae: 0.0032 - 23ms/epoch - 1000us/step\n",
      "Epoch 88/100\n",
      "23/23 - 0s - loss: 1.5612e-05 - mae: 0.0030 - 24ms/epoch - 1ms/step\n",
      "Epoch 89/100\n",
      "23/23 - 0s - loss: 1.5205e-05 - mae: 0.0030 - 25ms/epoch - 1ms/step\n",
      "Epoch 90/100\n",
      "23/23 - 0s - loss: 1.5259e-05 - mae: 0.0029 - 24ms/epoch - 1ms/step\n",
      "Epoch 91/100\n",
      "23/23 - 0s - loss: 1.4906e-05 - mae: 0.0029 - 30ms/epoch - 1ms/step\n",
      "Epoch 92/100\n",
      "23/23 - 0s - loss: 1.5288e-05 - mae: 0.0029 - 28ms/epoch - 1ms/step\n",
      "Epoch 93/100\n",
      "23/23 - 0s - loss: 1.4609e-05 - mae: 0.0029 - 34ms/epoch - 1ms/step\n",
      "Epoch 94/100\n",
      "23/23 - 0s - loss: 1.5777e-05 - mae: 0.0030 - 33ms/epoch - 1ms/step\n",
      "Epoch 95/100\n",
      "23/23 - 0s - loss: 1.4417e-05 - mae: 0.0028 - 29ms/epoch - 1ms/step\n",
      "Epoch 96/100\n",
      "23/23 - 0s - loss: 1.4653e-05 - mae: 0.0029 - 28ms/epoch - 1ms/step\n",
      "Epoch 97/100\n",
      "23/23 - 0s - loss: 1.4015e-05 - mae: 0.0028 - 25ms/epoch - 1ms/step\n",
      "Epoch 98/100\n",
      "23/23 - 0s - loss: 1.5234e-05 - mae: 0.0029 - 24ms/epoch - 1ms/step\n",
      "Epoch 99/100\n",
      "23/23 - 0s - loss: 1.5753e-05 - mae: 0.0031 - 29ms/epoch - 1ms/step\n",
      "Epoch 100/100\n",
      "23/23 - 0s - loss: 1.4302e-05 - mae: 0.0029 - 29ms/epoch - 1ms/step\n"
     ]
    }
   ],
   "source": [
    "hist = model.fit(X_train, y_train, epochs=100, batch_size=3, verbose=2)"
   ]
  },
  {
   "attachments": {},
   "cell_type": "markdown",
   "id": "0c54d9d1",
   "metadata": {},
   "source": [
    "### 결과 시각화"
   ]
  },
  {
   "cell_type": "code",
   "execution_count": 145,
   "id": "b7180338",
   "metadata": {},
   "outputs": [],
   "source": [
    "import pandas as pd\n",
    "\n",
    "df = pd.DataFrame(hist.history)"
   ]
  },
  {
   "cell_type": "code",
   "execution_count": 146,
   "id": "9f33a00d",
   "metadata": {},
   "outputs": [
    {
     "data": {
      "text/plain": [
       "[<matplotlib.lines.Line2D at 0x299938206a0>]"
      ]
     },
     "execution_count": 146,
     "metadata": {},
     "output_type": "execute_result"
    },
    {
     "data": {
      "image/png": "[encoded data removed]",
      "text/plain": [
       "<Figure size 600x600 with 1 Axes>"
      ]
     },
     "metadata": {},
     "output_type": "display_data"
    }
   ],
   "source": [
    "plt.figure(figsize=(6, 6))\n",
    "plt.plot(df.index, df.loss)"
   ]
  },
  {
   "cell_type": "code",
   "execution_count": null,
   "id": "c58488b3",
   "metadata": {},
   "outputs": [],
   "source": [
    "model.predict()"
   ]
  }
 ],
 "metadata": {
  "kernelspec": {
   "display_name": "tf2",
   "language": "python",
   "name": "python3"
  },
  "language_info": {
   "codemirror_mode": {
    "name": "ipython",
    "version": 3
   },
   "file_extension": ".py",
   "mimetype": "text/x-python",
   "name": "python",
   "nbconvert_exporter": "python",
   "pygments_lexer": "ipython3",
   "version": "3.8.16"
  },
  "vscode": {
   "interpreter": {
    "hash": "eb40c81b4dc7c84c0d63c497104c6b1d59507859779ef83084b0feb883d48ace"
   }
  }
 },
 "nbformat": 4,
 "nbformat_minor": 5
}
