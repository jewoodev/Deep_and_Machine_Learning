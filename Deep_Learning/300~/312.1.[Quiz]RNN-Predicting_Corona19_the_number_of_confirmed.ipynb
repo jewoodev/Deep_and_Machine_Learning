{
 "cells": [
  {
   "cell_type": "markdown",
   "id": "9db67c07",
   "metadata": {},
   "source": [
    "##  [quiz] 2021년 11월 1일~ 2022년 1월 27일 코로나 확진자를 학습하고 이후 확진자수 예측하라"
   ]
  },
  {
   "cell_type": "code",
   "execution_count": 8,
   "id": "990f77b4",
   "metadata": {},
   "outputs": [],
   "source": [
    "# 3일 동안의 확진자 수 추이를 보고 다음 날의 확진자 수를 예측\n",
    "# 따라서 인공지능은 3일 동안의 확진자 수를 보고 다음 날의 확진자 수가 어떻게 되었는지 학습\n",
    "# 만약 100일 동안의 확진자 수가 있다면 가장 먼저 1, 2, 3일차의 확진자 수가 어떻게 변하였는지 살펴보고 4일차의 확진자 수를 학습한다\n",
    "# 그리고 2, 3, 4일차의 확진자 수가 어떻게 변하였는지 살펴보고 5일차의 확진자 수를 학습한다\n",
    "# 이러한 방식으로 계속 학습하여 97, 98, 99일차의 확진자 수로 100일차의 확진자 수를 학습한다\n",
    "# 연속된 데이터의 형태에서 그 패턴을 찾아내는 순환 신경망(RNN) 방식으로, RNN의 기본적인 형태를 설계하고 학습시켜 본다"
   ]
  },
  {
   "cell_type": "markdown",
   "id": "4c831c9b",
   "metadata": {},
   "source": [
    "# RNN-코로나19 확진자수 예측"
   ]
  },
  {
   "cell_type": "markdown",
   "id": "1b733a73",
   "metadata": {},
   "source": [
    "#### 필요한 라이브러리 임포트"
   ]
  },
  {
   "cell_type": "code",
   "execution_count": 9,
   "id": "d89e8c20",
   "metadata": {},
   "outputs": [],
   "source": [
    "from keras.models import Sequential\n",
    "from keras.layers import SimpleRNN, Dense\n",
    "from sklearn.preprocessing import MinMaxScaler\n",
    "from sklearn.metrics import mean_squared_error\n",
    "from sklearn.model_selection import train_test_split\n",
    "\n",
    "import math\n",
    "import numpy as np\n",
    "import matplotlib.pyplot as plt\n",
    "import pandas as pd"
   ]
  },
  {
   "cell_type": "code",
   "execution_count": 10,
   "id": "b69a5e3d",
   "metadata": {},
   "outputs": [],
   "source": [
    "from tensorflow.python.client import device_lib\n",
    "import tensorflow as tf\n",
    "with tf.device('/device:GPU:0'): \n",
    "    device_lib.list_local_devices()"
   ]
  },
  {
   "cell_type": "code",
   "execution_count": 11,
   "id": "d7d31128",
   "metadata": {},
   "outputs": [],
   "source": [
    "import os\n",
    "os.environ[\"CUDA_VISIBLE_DEVICES\"] = \"0\""
   ]
  },
  {
   "cell_type": "markdown",
   "id": "5440adb5",
   "metadata": {},
   "source": [
    "#### 코로나 데이터 가져오기"
   ]
  },
  {
   "cell_type": "code",
   "execution_count": 12,
   "id": "2f66911a",
   "metadata": {},
   "outputs": [],
   "source": [
    "import tensorflow as tf\n",
    "with tf.device('/device:GPU:0'): \n",
    "    df = pd.read_csv('data/covid_2021101_20220127.csv')\n",
    "    df"
   ]
  },
  {
   "cell_type": "markdown",
   "id": "fb0666c0",
   "metadata": {},
   "source": [
    "#### 데이터 정규화 및 분류하기"
   ]
  },
  {
   "cell_type": "code",
   "execution_count": 13,
   "id": "155e5f3a",
   "metadata": {},
   "outputs": [
    {
     "data": {
      "text/plain": [
       "(88, 5)"
      ]
     },
     "execution_count": 13,
     "metadata": {},
     "output_type": "execute_result"
    }
   ],
   "source": [
    "df.shape"
   ]
  },
  {
   "cell_type": "markdown",
   "id": "f6f937d3",
   "metadata": {},
   "source": [
    "#### 데이터 형태 변경하기"
   ]
  },
  {
   "cell_type": "code",
   "execution_count": 14,
   "id": "ef6d508a",
   "metadata": {},
   "outputs": [
    {
     "data": {
      "text/plain": [
       "1      1588.0\n",
       "2      2667.0\n",
       "3      2482.0\n",
       "4      2343.0\n",
       "5      2246.0\n",
       "       ...   \n",
       "83     7626.0\n",
       "84     7511.0\n",
       "85     8570.0\n",
       "86    13010.0\n",
       "87    14515.0\n",
       "Name: new_patient, Length: 87, dtype: float64"
      ]
     },
     "execution_count": 14,
     "metadata": {},
     "output_type": "execute_result"
    }
   ],
   "source": [
    "df1 = df['new_patient'][1:]\n",
    "df1"
   ]
  },
  {
   "cell_type": "code",
   "execution_count": 15,
   "id": "ca51d7dc",
   "metadata": {},
   "outputs": [],
   "source": [
    "df2 = pd.DataFrame(columns=['day1', 'day2', 'day3', 'day4'])"
   ]
  },
  {
   "cell_type": "code",
   "execution_count": 16,
   "id": "59284b63",
   "metadata": {},
   "outputs": [
    {
     "data": {
      "text/plain": [
       "17.25"
      ]
     },
     "execution_count": 16,
     "metadata": {},
     "output_type": "execute_result"
    }
   ],
   "source": [
    "69 / 4"
   ]
  },
  {
   "cell_type": "code",
   "execution_count": 17,
   "id": "d3f188bd",
   "metadata": {},
   "outputs": [],
   "source": [
    "k = 0\n",
    "for i in range(18):\n",
    "    temp_row = []\n",
    "    for j in range(1, 5):\n",
    "        temp_row.append(df1[j+k])\n",
    "    df2.loc[f'{i}'] = temp_row\n",
    "    k += 4\n",
    "    if k > 65:\n",
    "        break"
   ]
  },
  {
   "cell_type": "code",
   "execution_count": 18,
   "id": "a32c6a89",
   "metadata": {},
   "outputs": [
    {
     "data": {
      "text/html": [
       "<div>\n",
       "<style scoped>\n",
       "    .dataframe tbody tr th:only-of-type {\n",
       "        vertical-align: middle;\n",
       "    }\n",
       "\n",
       "    .dataframe tbody tr th {\n",
       "        vertical-align: top;\n",
       "    }\n",
       "\n",
       "    .dataframe thead th {\n",
       "        text-align: right;\n",
       "    }\n",
       "</style>\n",
       "<table border=\"1\" class=\"dataframe\">\n",
       "  <thead>\n",
       "    <tr style=\"text-align: right;\">\n",
       "      <th></th>\n",
       "      <th>day1</th>\n",
       "      <th>day2</th>\n",
       "      <th>day3</th>\n",
       "      <th>day4</th>\n",
       "    </tr>\n",
       "  </thead>\n",
       "  <tbody>\n",
       "    <tr>\n",
       "      <th>0</th>\n",
       "      <td>1588.0</td>\n",
       "      <td>2667.0</td>\n",
       "      <td>2482.0</td>\n",
       "      <td>2343.0</td>\n",
       "    </tr>\n",
       "    <tr>\n",
       "      <th>1</th>\n",
       "      <td>2246.0</td>\n",
       "      <td>2225.0</td>\n",
       "      <td>1754.0</td>\n",
       "      <td>1717.0</td>\n",
       "    </tr>\n",
       "    <tr>\n",
       "      <th>2</th>\n",
       "      <td>2425.0</td>\n",
       "      <td>2518.0</td>\n",
       "      <td>2368.0</td>\n",
       "      <td>2324.0</td>\n",
       "    </tr>\n",
       "    <tr>\n",
       "      <th>3</th>\n",
       "      <td>2418.0</td>\n",
       "      <td>2004.0</td>\n",
       "      <td>2122.0</td>\n",
       "      <td>3189.0</td>\n",
       "    </tr>\n",
       "    <tr>\n",
       "      <th>4</th>\n",
       "      <td>3292.0</td>\n",
       "      <td>3033.0</td>\n",
       "      <td>3205.0</td>\n",
       "      <td>3120.0</td>\n",
       "    </tr>\n",
       "    <tr>\n",
       "      <th>5</th>\n",
       "      <td>2827.0</td>\n",
       "      <td>2697.0</td>\n",
       "      <td>4113.0</td>\n",
       "      <td>3937.0</td>\n",
       "    </tr>\n",
       "    <tr>\n",
       "      <th>6</th>\n",
       "      <td>3896.0</td>\n",
       "      <td>4067.0</td>\n",
       "      <td>3925.0</td>\n",
       "      <td>3307.0</td>\n",
       "    </tr>\n",
       "    <tr>\n",
       "      <th>7</th>\n",
       "      <td>3031.0</td>\n",
       "      <td>5122.0</td>\n",
       "      <td>5263.0</td>\n",
       "      <td>4944.0</td>\n",
       "    </tr>\n",
       "    <tr>\n",
       "      <th>8</th>\n",
       "      <td>5352.0</td>\n",
       "      <td>5125.0</td>\n",
       "      <td>4324.0</td>\n",
       "      <td>4953.0</td>\n",
       "    </tr>\n",
       "    <tr>\n",
       "      <th>9</th>\n",
       "      <td>7173.0</td>\n",
       "      <td>7375.0</td>\n",
       "      <td>6748.0</td>\n",
       "      <td>6977.0</td>\n",
       "    </tr>\n",
       "    <tr>\n",
       "      <th>10</th>\n",
       "      <td>6681.0</td>\n",
       "      <td>5816.0</td>\n",
       "      <td>5567.0</td>\n",
       "      <td>7849.0</td>\n",
       "    </tr>\n",
       "    <tr>\n",
       "      <th>11</th>\n",
       "      <td>7619.0</td>\n",
       "      <td>7434.0</td>\n",
       "      <td>7310.0</td>\n",
       "      <td>6233.0</td>\n",
       "    </tr>\n",
       "    <tr>\n",
       "      <th>12</th>\n",
       "      <td>5316.0</td>\n",
       "      <td>5192.0</td>\n",
       "      <td>7452.0</td>\n",
       "      <td>6914.0</td>\n",
       "    </tr>\n",
       "    <tr>\n",
       "      <th>13</th>\n",
       "      <td>6233.0</td>\n",
       "      <td>5840.0</td>\n",
       "      <td>5413.0</td>\n",
       "      <td>4203.0</td>\n",
       "    </tr>\n",
       "    <tr>\n",
       "      <th>14</th>\n",
       "      <td>3864.0</td>\n",
       "      <td>5407.0</td>\n",
       "      <td>5034.0</td>\n",
       "      <td>4873.0</td>\n",
       "    </tr>\n",
       "    <tr>\n",
       "      <th>15</th>\n",
       "      <td>4415.0</td>\n",
       "      <td>3831.0</td>\n",
       "      <td>3125.0</td>\n",
       "      <td>3021.0</td>\n",
       "    </tr>\n",
       "    <tr>\n",
       "      <th>16</th>\n",
       "      <td>4441.0</td>\n",
       "      <td>4122.0</td>\n",
       "      <td>3713.0</td>\n",
       "      <td>3507.0</td>\n",
       "    </tr>\n",
       "  </tbody>\n",
       "</table>\n",
       "</div>"
      ],
      "text/plain": [
       "      day1    day2    day3    day4\n",
       "0   1588.0  2667.0  2482.0  2343.0\n",
       "1   2246.0  2225.0  1754.0  1717.0\n",
       "2   2425.0  2518.0  2368.0  2324.0\n",
       "3   2418.0  2004.0  2122.0  3189.0\n",
       "4   3292.0  3033.0  3205.0  3120.0\n",
       "5   2827.0  2697.0  4113.0  3937.0\n",
       "6   3896.0  4067.0  3925.0  3307.0\n",
       "7   3031.0  5122.0  5263.0  4944.0\n",
       "8   5352.0  5125.0  4324.0  4953.0\n",
       "9   7173.0  7375.0  6748.0  6977.0\n",
       "10  6681.0  5816.0  5567.0  7849.0\n",
       "11  7619.0  7434.0  7310.0  6233.0\n",
       "12  5316.0  5192.0  7452.0  6914.0\n",
       "13  6233.0  5840.0  5413.0  4203.0\n",
       "14  3864.0  5407.0  5034.0  4873.0\n",
       "15  4415.0  3831.0  3125.0  3021.0\n",
       "16  4441.0  4122.0  3713.0  3507.0"
      ]
     },
     "execution_count": 18,
     "metadata": {},
     "output_type": "execute_result"
    }
   ],
   "source": [
    "df2"
   ]
  },
  {
   "cell_type": "code",
   "execution_count": 19,
   "id": "45ea3654",
   "metadata": {},
   "outputs": [],
   "source": [
    "X = df2[['day1', 'day2', 'day3']]\n",
    "y = df2['day4']"
   ]
  },
  {
   "cell_type": "code",
   "execution_count": 20,
   "id": "02db8b64",
   "metadata": {},
   "outputs": [],
   "source": [
    "#### shuffle=False임을 유의할 것\n",
    "X_train, X_test, y_train, y_test = train_test_split(X, y, test_size=0.2, shuffle=False)"
   ]
  },
  {
   "cell_type": "markdown",
   "id": "98753206",
   "metadata": {},
   "source": [
    "### 인공지능 모델 만들기"
   ]
  },
  {
   "cell_type": "code",
   "execution_count": 21,
   "id": "ed77b903",
   "metadata": {},
   "outputs": [
    {
     "data": {
      "text/plain": [
       "(13, 3)"
      ]
     },
     "execution_count": 21,
     "metadata": {},
     "output_type": "execute_result"
    }
   ],
   "source": [
    "X_train.shape"
   ]
  },
  {
   "cell_type": "code",
   "execution_count": 22,
   "id": "c25b82ed",
   "metadata": {},
   "outputs": [
    {
     "data": {
      "text/html": [
       "<div>\n",
       "<style scoped>\n",
       "    .dataframe tbody tr th:only-of-type {\n",
       "        vertical-align: middle;\n",
       "    }\n",
       "\n",
       "    .dataframe tbody tr th {\n",
       "        vertical-align: top;\n",
       "    }\n",
       "\n",
       "    .dataframe thead th {\n",
       "        text-align: right;\n",
       "    }\n",
       "</style>\n",
       "<table border=\"1\" class=\"dataframe\">\n",
       "  <thead>\n",
       "    <tr style=\"text-align: right;\">\n",
       "      <th></th>\n",
       "      <th>day1</th>\n",
       "      <th>day2</th>\n",
       "      <th>day3</th>\n",
       "    </tr>\n",
       "  </thead>\n",
       "  <tbody>\n",
       "    <tr>\n",
       "      <th>0</th>\n",
       "      <td>1588.0</td>\n",
       "      <td>2667.0</td>\n",
       "      <td>2482.0</td>\n",
       "    </tr>\n",
       "    <tr>\n",
       "      <th>1</th>\n",
       "      <td>2246.0</td>\n",
       "      <td>2225.0</td>\n",
       "      <td>1754.0</td>\n",
       "    </tr>\n",
       "    <tr>\n",
       "      <th>2</th>\n",
       "      <td>2425.0</td>\n",
       "      <td>2518.0</td>\n",
       "      <td>2368.0</td>\n",
       "    </tr>\n",
       "    <tr>\n",
       "      <th>3</th>\n",
       "      <td>2418.0</td>\n",
       "      <td>2004.0</td>\n",
       "      <td>2122.0</td>\n",
       "    </tr>\n",
       "    <tr>\n",
       "      <th>4</th>\n",
       "      <td>3292.0</td>\n",
       "      <td>3033.0</td>\n",
       "      <td>3205.0</td>\n",
       "    </tr>\n",
       "    <tr>\n",
       "      <th>5</th>\n",
       "      <td>2827.0</td>\n",
       "      <td>2697.0</td>\n",
       "      <td>4113.0</td>\n",
       "    </tr>\n",
       "    <tr>\n",
       "      <th>6</th>\n",
       "      <td>3896.0</td>\n",
       "      <td>4067.0</td>\n",
       "      <td>3925.0</td>\n",
       "    </tr>\n",
       "    <tr>\n",
       "      <th>7</th>\n",
       "      <td>3031.0</td>\n",
       "      <td>5122.0</td>\n",
       "      <td>5263.0</td>\n",
       "    </tr>\n",
       "    <tr>\n",
       "      <th>8</th>\n",
       "      <td>5352.0</td>\n",
       "      <td>5125.0</td>\n",
       "      <td>4324.0</td>\n",
       "    </tr>\n",
       "    <tr>\n",
       "      <th>9</th>\n",
       "      <td>7173.0</td>\n",
       "      <td>7375.0</td>\n",
       "      <td>6748.0</td>\n",
       "    </tr>\n",
       "    <tr>\n",
       "      <th>10</th>\n",
       "      <td>6681.0</td>\n",
       "      <td>5816.0</td>\n",
       "      <td>5567.0</td>\n",
       "    </tr>\n",
       "    <tr>\n",
       "      <th>11</th>\n",
       "      <td>7619.0</td>\n",
       "      <td>7434.0</td>\n",
       "      <td>7310.0</td>\n",
       "    </tr>\n",
       "    <tr>\n",
       "      <th>12</th>\n",
       "      <td>5316.0</td>\n",
       "      <td>5192.0</td>\n",
       "      <td>7452.0</td>\n",
       "    </tr>\n",
       "  </tbody>\n",
       "</table>\n",
       "</div>"
      ],
      "text/plain": [
       "      day1    day2    day3\n",
       "0   1588.0  2667.0  2482.0\n",
       "1   2246.0  2225.0  1754.0\n",
       "2   2425.0  2518.0  2368.0\n",
       "3   2418.0  2004.0  2122.0\n",
       "4   3292.0  3033.0  3205.0\n",
       "5   2827.0  2697.0  4113.0\n",
       "6   3896.0  4067.0  3925.0\n",
       "7   3031.0  5122.0  5263.0\n",
       "8   5352.0  5125.0  4324.0\n",
       "9   7173.0  7375.0  6748.0\n",
       "10  6681.0  5816.0  5567.0\n",
       "11  7619.0  7434.0  7310.0\n",
       "12  5316.0  5192.0  7452.0"
      ]
     },
     "execution_count": 22,
     "metadata": {},
     "output_type": "execute_result"
    }
   ],
   "source": [
    "X_train"
   ]
  },
  {
   "cell_type": "code",
   "execution_count": 23,
   "id": "30d6d2ac",
   "metadata": {},
   "outputs": [],
   "source": [
    "import numpy as np\n",
    "X_train = np.expand_dims(X_train, axis=2)\n",
    "X_test = np.expand_dims(X_test, axis=2)"
   ]
  },
  {
   "cell_type": "code",
   "execution_count": 24,
   "id": "a2d61078",
   "metadata": {},
   "outputs": [
    {
     "data": {
      "text/plain": [
       "(13, 3, 1)"
      ]
     },
     "execution_count": 24,
     "metadata": {},
     "output_type": "execute_result"
    }
   ],
   "source": [
    "X_train.shape"
   ]
  },
  {
   "cell_type": "code",
   "execution_count": 25,
   "id": "7ac0895c",
   "metadata": {},
   "outputs": [
    {
     "name": "stdout",
     "output_type": "stream",
     "text": [
      "Model: \"sequential\"\n",
      "_________________________________________________________________\n",
      " Layer (type)                Output Shape              Param #   \n",
      "=================================================================\n",
      " simple_rnn (SimpleRNN)      (None, 256)               66048     \n",
      "                                                                 \n",
      " dense (Dense)               (None, 1)                 257       \n",
      "                                                                 \n",
      "=================================================================\n",
      "Total params: 66,305\n",
      "Trainable params: 66,305\n",
      "Non-trainable params: 0\n",
      "_________________________________________________________________\n"
     ]
    }
   ],
   "source": [
    "import tensorflow as tf\n",
    "from tensorflow.keras.models import Sequential\n",
    "from tensorflow.keras.layers import SimpleRNN, Dense\n",
    "\n",
    "model = Sequential([\n",
    "    SimpleRNN(units=256, return_sequences=False, input_shape=(3, 1)),\n",
    "    Dense(1)\n",
    "])\n",
    "model.compile(loss='mse', metrics='mae', optimizer='adam')\n",
    "model.summary()"
   ]
  },
  {
   "cell_type": "code",
   "execution_count": 26,
   "id": "95b250f7",
   "metadata": {},
   "outputs": [
    {
     "name": "stdout",
     "output_type": "stream",
     "text": [
      "Epoch 1/100\n",
      "1/1 - 1s - loss: 23533084.0000 - mae: 4445.2690 - 895ms/epoch - 895ms/step\n",
      "Epoch 2/100\n",
      "1/1 - 0s - loss: 23528286.0000 - mae: 4444.7402 - 4ms/epoch - 4ms/step\n",
      "Epoch 3/100\n",
      "1/1 - 0s - loss: 23525924.0000 - mae: 4444.4741 - 3ms/epoch - 3ms/step\n",
      "Epoch 4/100\n",
      "1/1 - 0s - loss: 23523648.0000 - mae: 4444.2178 - 4ms/epoch - 4ms/step\n",
      "Epoch 5/100\n",
      "1/1 - 0s - loss: 23521364.0000 - mae: 4443.9609 - 3ms/epoch - 3ms/step\n",
      "Epoch 6/100\n",
      "1/1 - 0s - loss: 23519084.0000 - mae: 4443.7046 - 4ms/epoch - 4ms/step\n",
      "Epoch 7/100\n",
      "1/1 - 0s - loss: 23516800.0000 - mae: 4443.4473 - 3ms/epoch - 3ms/step\n",
      "Epoch 8/100\n",
      "1/1 - 0s - loss: 23514520.0000 - mae: 4443.1909 - 6ms/epoch - 6ms/step\n",
      "Epoch 9/100\n",
      "1/1 - 0s - loss: 23512238.0000 - mae: 4442.9341 - 4ms/epoch - 4ms/step\n",
      "Epoch 10/100\n",
      "1/1 - 0s - loss: 23509956.0000 - mae: 4442.6772 - 7ms/epoch - 7ms/step\n",
      "Epoch 11/100\n",
      "1/1 - 0s - loss: 23507672.0000 - mae: 4442.4199 - 2ms/epoch - 2ms/step\n",
      "Epoch 12/100\n",
      "1/1 - 0s - loss: 23505390.0000 - mae: 4442.1636 - 5ms/epoch - 5ms/step\n",
      "Epoch 13/100\n",
      "1/1 - 0s - loss: 23503108.0000 - mae: 4441.9067 - 4ms/epoch - 4ms/step\n",
      "Epoch 14/100\n",
      "1/1 - 0s - loss: 23500828.0000 - mae: 4441.6494 - 3ms/epoch - 3ms/step\n",
      "Epoch 15/100\n",
      "1/1 - 0s - loss: 23498542.0000 - mae: 4441.3926 - 4ms/epoch - 4ms/step\n",
      "Epoch 16/100\n",
      "1/1 - 0s - loss: 23496258.0000 - mae: 4441.1357 - 4ms/epoch - 4ms/step\n",
      "Epoch 17/100\n",
      "1/1 - 0s - loss: 23493982.0000 - mae: 4440.8789 - 5ms/epoch - 5ms/step\n",
      "Epoch 18/100\n",
      "1/1 - 0s - loss: 23491694.0000 - mae: 4440.6221 - 3ms/epoch - 3ms/step\n",
      "Epoch 19/100\n",
      "1/1 - 0s - loss: 23489416.0000 - mae: 4440.3652 - 4ms/epoch - 4ms/step\n",
      "Epoch 20/100\n",
      "1/1 - 0s - loss: 23487132.0000 - mae: 4440.1074 - 7ms/epoch - 7ms/step\n",
      "Epoch 21/100\n",
      "1/1 - 0s - loss: 23484852.0000 - mae: 4439.8511 - 4ms/epoch - 4ms/step\n",
      "Epoch 22/100\n",
      "1/1 - 0s - loss: 23482570.0000 - mae: 4439.5942 - 6ms/epoch - 6ms/step\n",
      "Epoch 23/100\n",
      "1/1 - 0s - loss: 23480290.0000 - mae: 4439.3374 - 31ms/epoch - 31ms/step\n",
      "Epoch 24/100\n",
      "1/1 - 0s - loss: 23478012.0000 - mae: 4439.0801 - 3ms/epoch - 3ms/step\n",
      "Epoch 25/100\n",
      "1/1 - 0s - loss: 23475726.0000 - mae: 4438.8232 - 6ms/epoch - 6ms/step\n",
      "Epoch 26/100\n",
      "1/1 - 0s - loss: 23473448.0000 - mae: 4438.5669 - 5ms/epoch - 5ms/step\n",
      "Epoch 27/100\n",
      "1/1 - 0s - loss: 23471166.0000 - mae: 4438.3096 - 7ms/epoch - 7ms/step\n",
      "Epoch 28/100\n",
      "1/1 - 0s - loss: 23468884.0000 - mae: 4438.0527 - 3ms/epoch - 3ms/step\n",
      "Epoch 29/100\n",
      "1/1 - 0s - loss: 23466606.0000 - mae: 4437.7959 - 3ms/epoch - 3ms/step\n",
      "Epoch 30/100\n",
      "1/1 - 0s - loss: 23464324.0000 - mae: 4437.5386 - 2ms/epoch - 2ms/step\n",
      "Epoch 31/100\n",
      "1/1 - 0s - loss: 23462046.0000 - mae: 4437.2822 - 3ms/epoch - 3ms/step\n",
      "Epoch 32/100\n",
      "1/1 - 0s - loss: 23459766.0000 - mae: 4437.0249 - 3ms/epoch - 3ms/step\n",
      "Epoch 33/100\n",
      "1/1 - 0s - loss: 23457484.0000 - mae: 4436.7676 - 5ms/epoch - 5ms/step\n",
      "Epoch 34/100\n",
      "1/1 - 0s - loss: 23455208.0000 - mae: 4436.5112 - 3ms/epoch - 3ms/step\n",
      "Epoch 35/100\n",
      "1/1 - 0s - loss: 23452928.0000 - mae: 4436.2544 - 3ms/epoch - 3ms/step\n",
      "Epoch 36/100\n",
      "1/1 - 0s - loss: 23450646.0000 - mae: 4435.9976 - 4ms/epoch - 4ms/step\n",
      "Epoch 37/100\n",
      "1/1 - 0s - loss: 23448370.0000 - mae: 4435.7402 - 3ms/epoch - 3ms/step\n",
      "Epoch 38/100\n",
      "1/1 - 0s - loss: 23446092.0000 - mae: 4435.4839 - 2ms/epoch - 2ms/step\n",
      "Epoch 39/100\n",
      "1/1 - 0s - loss: 23443812.0000 - mae: 4435.2271 - 4ms/epoch - 4ms/step\n",
      "Epoch 40/100\n",
      "1/1 - 0s - loss: 23441534.0000 - mae: 4434.9702 - 4ms/epoch - 4ms/step\n",
      "Epoch 41/100\n",
      "1/1 - 0s - loss: 23439256.0000 - mae: 4434.7129 - 3ms/epoch - 3ms/step\n",
      "Epoch 42/100\n",
      "1/1 - 0s - loss: 23436980.0000 - mae: 4434.4565 - 2ms/epoch - 2ms/step\n",
      "Epoch 43/100\n",
      "1/1 - 0s - loss: 23434702.0000 - mae: 4434.1997 - 3ms/epoch - 3ms/step\n",
      "Epoch 44/100\n",
      "1/1 - 0s - loss: 23432424.0000 - mae: 4433.9429 - 3ms/epoch - 3ms/step\n",
      "Epoch 45/100\n",
      "1/1 - 0s - loss: 23430146.0000 - mae: 4433.6855 - 3ms/epoch - 3ms/step\n",
      "Epoch 46/100\n",
      "1/1 - 0s - loss: 23427870.0000 - mae: 4433.4292 - 5ms/epoch - 5ms/step\n",
      "Epoch 47/100\n",
      "1/1 - 0s - loss: 23425592.0000 - mae: 4433.1724 - 3ms/epoch - 3ms/step\n",
      "Epoch 48/100\n",
      "1/1 - 0s - loss: 23423314.0000 - mae: 4432.9155 - 4ms/epoch - 4ms/step\n",
      "Epoch 49/100\n",
      "1/1 - 0s - loss: 23421042.0000 - mae: 4432.6592 - 5ms/epoch - 5ms/step\n",
      "Epoch 50/100\n",
      "1/1 - 0s - loss: 23418762.0000 - mae: 4432.4019 - 3ms/epoch - 3ms/step\n",
      "Epoch 51/100\n",
      "1/1 - 0s - loss: 23416488.0000 - mae: 4432.1455 - 3ms/epoch - 3ms/step\n",
      "Epoch 52/100\n",
      "1/1 - 0s - loss: 23414210.0000 - mae: 4431.8887 - 4ms/epoch - 4ms/step\n",
      "Epoch 53/100\n",
      "1/1 - 0s - loss: 23411934.0000 - mae: 4431.6318 - 2ms/epoch - 2ms/step\n",
      "Epoch 54/100\n",
      "1/1 - 0s - loss: 23409660.0000 - mae: 4431.3755 - 3ms/epoch - 3ms/step\n",
      "Epoch 55/100\n",
      "1/1 - 0s - loss: 23407382.0000 - mae: 4431.1182 - 3ms/epoch - 3ms/step\n",
      "Epoch 56/100\n",
      "1/1 - 0s - loss: 23405110.0000 - mae: 4430.8613 - 4ms/epoch - 4ms/step\n",
      "Epoch 57/100\n",
      "1/1 - 0s - loss: 23402836.0000 - mae: 4430.6050 - 3ms/epoch - 3ms/step\n",
      "Epoch 58/100\n",
      "1/1 - 0s - loss: 23400562.0000 - mae: 4430.3481 - 3ms/epoch - 3ms/step\n",
      "Epoch 59/100\n",
      "1/1 - 0s - loss: 23398284.0000 - mae: 4430.0913 - 4ms/epoch - 4ms/step\n",
      "Epoch 60/100\n",
      "1/1 - 0s - loss: 23396012.0000 - mae: 4429.8350 - 2ms/epoch - 2ms/step\n",
      "Epoch 61/100\n",
      "1/1 - 0s - loss: 23393738.0000 - mae: 4429.5781 - 3ms/epoch - 3ms/step\n",
      "Epoch 62/100\n",
      "1/1 - 0s - loss: 23391460.0000 - mae: 4429.3213 - 5ms/epoch - 5ms/step\n",
      "Epoch 63/100\n",
      "1/1 - 0s - loss: 23389188.0000 - mae: 4429.0645 - 4ms/epoch - 4ms/step\n",
      "Epoch 64/100\n",
      "1/1 - 0s - loss: 23386914.0000 - mae: 4428.8081 - 3ms/epoch - 3ms/step\n",
      "Epoch 65/100\n",
      "1/1 - 0s - loss: 23384640.0000 - mae: 4428.5513 - 3ms/epoch - 3ms/step\n",
      "Epoch 66/100\n",
      "1/1 - 0s - loss: 23382368.0000 - mae: 4428.2949 - 3ms/epoch - 3ms/step\n",
      "Epoch 67/100\n",
      "1/1 - 0s - loss: 23380096.0000 - mae: 4428.0381 - 3ms/epoch - 3ms/step\n",
      "Epoch 68/100\n",
      "1/1 - 0s - loss: 23377822.0000 - mae: 4427.7812 - 3ms/epoch - 3ms/step\n",
      "Epoch 69/100\n",
      "1/1 - 0s - loss: 23375550.0000 - mae: 4427.5249 - 4ms/epoch - 4ms/step\n",
      "Epoch 70/100\n",
      "1/1 - 0s - loss: 23373276.0000 - mae: 4427.2676 - 3ms/epoch - 3ms/step\n",
      "Epoch 71/100\n",
      "1/1 - 0s - loss: 23371006.0000 - mae: 4427.0117 - 3ms/epoch - 3ms/step\n",
      "Epoch 72/100\n",
      "1/1 - 0s - loss: 23368736.0000 - mae: 4426.7549 - 4ms/epoch - 4ms/step\n",
      "Epoch 73/100\n",
      "1/1 - 0s - loss: 23366460.0000 - mae: 4426.4980 - 2ms/epoch - 2ms/step\n",
      "Epoch 74/100\n",
      "1/1 - 0s - loss: 23364190.0000 - mae: 4426.2417 - 3ms/epoch - 3ms/step\n",
      "Epoch 75/100\n",
      "1/1 - 0s - loss: 23361916.0000 - mae: 4425.9849 - 3ms/epoch - 3ms/step\n",
      "Epoch 76/100\n",
      "1/1 - 0s - loss: 23359648.0000 - mae: 4425.7285 - 2ms/epoch - 2ms/step\n",
      "Epoch 77/100\n",
      "1/1 - 0s - loss: 23357376.0000 - mae: 4425.4717 - 3ms/epoch - 3ms/step\n",
      "Epoch 78/100\n",
      "1/1 - 0s - loss: 23355106.0000 - mae: 4425.2153 - 6ms/epoch - 6ms/step\n",
      "Epoch 79/100\n",
      "1/1 - 0s - loss: 23352834.0000 - mae: 4424.9585 - 3ms/epoch - 3ms/step\n",
      "Epoch 80/100\n",
      "1/1 - 0s - loss: 23350564.0000 - mae: 4424.7021 - 4ms/epoch - 4ms/step\n",
      "Epoch 81/100\n",
      "1/1 - 0s - loss: 23348292.0000 - mae: 4424.4458 - 4ms/epoch - 4ms/step\n",
      "Epoch 82/100\n",
      "1/1 - 0s - loss: 23346024.0000 - mae: 4424.1890 - 4ms/epoch - 4ms/step\n",
      "Epoch 83/100\n",
      "1/1 - 0s - loss: 23343754.0000 - mae: 4423.9326 - 6ms/epoch - 6ms/step\n",
      "Epoch 84/100\n",
      "1/1 - 0s - loss: 23341482.0000 - mae: 4423.6763 - 4ms/epoch - 4ms/step\n",
      "Epoch 85/100\n",
      "1/1 - 0s - loss: 23339212.0000 - mae: 4423.4194 - 4ms/epoch - 4ms/step\n",
      "Epoch 86/100\n",
      "1/1 - 0s - loss: 23336946.0000 - mae: 4423.1631 - 3ms/epoch - 3ms/step\n",
      "Epoch 87/100\n",
      "1/1 - 0s - loss: 23334676.0000 - mae: 4422.9067 - 5ms/epoch - 5ms/step\n",
      "Epoch 88/100\n",
      "1/1 - 0s - loss: 23332408.0000 - mae: 4422.6499 - 4ms/epoch - 4ms/step\n",
      "Epoch 89/100\n",
      "1/1 - 0s - loss: 23330136.0000 - mae: 4422.3936 - 3ms/epoch - 3ms/step\n",
      "Epoch 90/100\n",
      "1/1 - 0s - loss: 23327870.0000 - mae: 4422.1372 - 4ms/epoch - 4ms/step\n",
      "Epoch 91/100\n",
      "1/1 - 0s - loss: 23325600.0000 - mae: 4421.8804 - 3ms/epoch - 3ms/step\n",
      "Epoch 92/100\n",
      "1/1 - 0s - loss: 23323332.0000 - mae: 4421.6240 - 6ms/epoch - 6ms/step\n",
      "Epoch 93/100\n",
      "1/1 - 0s - loss: 23321066.0000 - mae: 4421.3677 - 3ms/epoch - 3ms/step\n",
      "Epoch 94/100\n",
      "1/1 - 0s - loss: 23318796.0000 - mae: 4421.1108 - 4ms/epoch - 4ms/step\n",
      "Epoch 95/100\n",
      "1/1 - 0s - loss: 23316526.0000 - mae: 4420.8545 - 3ms/epoch - 3ms/step\n",
      "Epoch 96/100\n",
      "1/1 - 0s - loss: 23314262.0000 - mae: 4420.5981 - 4ms/epoch - 4ms/step\n",
      "Epoch 97/100\n",
      "1/1 - 0s - loss: 23311996.0000 - mae: 4420.3418 - 8ms/epoch - 8ms/step\n",
      "Epoch 98/100\n",
      "1/1 - 0s - loss: 23309728.0000 - mae: 4420.0854 - 4ms/epoch - 4ms/step\n",
      "Epoch 99/100\n",
      "1/1 - 0s - loss: 23307464.0000 - mae: 4419.8291 - 6ms/epoch - 6ms/step\n",
      "Epoch 100/100\n",
      "1/1 - 0s - loss: 23305194.0000 - mae: 4419.5723 - 4ms/epoch - 4ms/step\n"
     ]
    }
   ],
   "source": [
    "# 학습\n",
    "hist = model.fit(X_train, y_train, epochs=100, verbose=2)"
   ]
  },
  {
   "cell_type": "code",
   "execution_count": 27,
   "id": "33df2fee",
   "metadata": {},
   "outputs": [
    {
     "data": {
      "text/plain": [
       "[<matplotlib.lines.Line2D at 0x1fad0f51790>]"
      ]
     },
     "execution_count": 27,
     "metadata": {},
     "output_type": "execute_result"
    },
    {
     "data": {
      "image/png": "[encoded data removed]",
      "text/plain": [
       "<Figure size 500x500 with 1 Axes>"
      ]
     },
     "metadata": {},
     "output_type": "display_data"
    }
   ],
   "source": [
    "import pandas as pd\n",
    "df = pd.DataFrame(hist.history)\n",
    "\n",
    "import matplotlib.pyplot as plt\n",
    "plt.figure(figsize=(5, 5))\n",
    "plt.plot(df.loss, label='train_loss')"
   ]
  },
  {
   "cell_type": "code",
   "execution_count": 28,
   "id": "2dc2fcbe",
   "metadata": {},
   "outputs": [
    {
     "name": "stdout",
     "output_type": "stream",
     "text": [
      "1/1 [==============================] - 0s 212ms/step\n"
     ]
    },
    {
     "data": {
      "text/plain": [
       "array([[27.376348],\n",
       "       [27.376348],\n",
       "       [27.376348],\n",
       "       [27.376348]], dtype=float32)"
      ]
     },
     "execution_count": 28,
     "metadata": {},
     "output_type": "execute_result"
    }
   ],
   "source": [
    "model.predict(X_test)"
   ]
  },
  {
   "cell_type": "code",
   "execution_count": 29,
   "id": "f64c6e71",
   "metadata": {},
   "outputs": [
    {
     "data": {
      "text/plain": [
       "(4, 3, 1)"
      ]
     },
     "execution_count": 29,
     "metadata": {},
     "output_type": "execute_result"
    }
   ],
   "source": [
    "X_test.shape"
   ]
  },
  {
   "cell_type": "markdown",
   "id": "f8da65f9",
   "metadata": {},
   "source": [
    "#### 모델 학습"
   ]
  },
  {
   "cell_type": "code",
   "execution_count": null,
   "id": "59260206",
   "metadata": {},
   "outputs": [],
   "source": []
  },
  {
   "cell_type": "markdown",
   "id": "ebc9d9ca",
   "metadata": {},
   "source": [
    "#### 결과 시각화"
   ]
  },
  {
   "cell_type": "code",
   "execution_count": null,
   "id": "a54b5810",
   "metadata": {},
   "outputs": [],
   "source": []
  },
  {
   "cell_type": "code",
   "execution_count": null,
   "id": "0f50fb82",
   "metadata": {},
   "outputs": [],
   "source": []
  },
  {
   "attachments": {},
   "cell_type": "markdown",
   "id": "a1a7b9fa",
   "metadata": {},
   "source": [
    "- - -"
   ]
  },
  {
   "attachments": {},
   "cell_type": "markdown",
   "id": "29820a5d",
   "metadata": {},
   "source": [
    "# 답안 풀이"
   ]
  },
  {
   "cell_type": "code",
   "execution_count": 30,
   "id": "e3303d1e",
   "metadata": {},
   "outputs": [
    {
     "data": {
      "text/plain": [
       "array([[366382.],\n",
       "       [367970.],\n",
       "       [370637.],\n",
       "       [373119.],\n",
       "       [375462.],\n",
       "       [377708.],\n",
       "       [379933.],\n",
       "       [381687.],\n",
       "       [383404.],\n",
       "       [385829.],\n",
       "       [388347.],\n",
       "       [390715.],\n",
       "       [393039.],\n",
       "       [395457.],\n",
       "       [397461.],\n",
       "       [399583.],\n",
       "       [402772.],\n",
       "       [406064.],\n",
       "       [409097.],\n",
       "       [412302.],\n",
       "       [415422.],\n",
       "       [418249.],\n",
       "       [420946.],\n",
       "       [425059.],\n",
       "       [428996.],\n",
       "       [432892.],\n",
       "       [436959.],\n",
       "       [440884.],\n",
       "       [444191.],\n",
       "       [447222.],\n",
       "       [452344.],\n",
       "       [457607.],\n",
       "       [462551.],\n",
       "       [467903.],\n",
       "       [473028.],\n",
       "       [477352.],\n",
       "       [482305.],\n",
       "       [489478.],\n",
       "       [496853.],\n",
       "       [503601.],\n",
       "       [510578.],\n",
       "       [517259.],\n",
       "       [523075.],\n",
       "       [528642.],\n",
       "       [536491.],\n",
       "       [544110.],\n",
       "       [551544.],\n",
       "       [558854.],\n",
       "       [565087.],\n",
       "       [570403.],\n",
       "       [575595.],\n",
       "       [583047.],\n",
       "       [589961.],\n",
       "       [596194.],\n",
       "       [602034.],\n",
       "       [607447.],\n",
       "       [611650.],\n",
       "       [615514.],\n",
       "       [620921.],\n",
       "       [625955.],\n",
       "       [630828.],\n",
       "       [635243.],\n",
       "       [639074.],\n",
       "       [642199.],\n",
       "       [645220.],\n",
       "       [649661.],\n",
       "       [653783.],\n",
       "       [657496.],\n",
       "       [661003.],\n",
       "       [664374.],\n",
       "       [667379.],\n",
       "       [670471.],\n",
       "       [674854.],\n",
       "       [679018.],\n",
       "       [683556.],\n",
       "       [687975.],\n",
       "       [692164.],\n",
       "       [696018.],\n",
       "       [700080.],\n",
       "       [705883.],\n",
       "       [712483.],\n",
       "       [719249.],\n",
       "       [726254.],\n",
       "       [733880.],\n",
       "       [741391.],\n",
       "       [749961.],\n",
       "       [762971.],\n",
       "       [777486.]], dtype=float32)"
      ]
     },
     "execution_count": 30,
     "metadata": {},
     "output_type": "execute_result"
    }
   ],
   "source": [
    "df = pd.read_csv('data/covid_2021101_20220127.csv', usecols=[3], engine='python')\n",
    "data = df.values\n",
    "data = data.astype('float32')\n",
    "data"
   ]
  },
  {
   "attachments": {},
   "cell_type": "markdown",
   "id": "bd850df4",
   "metadata": {},
   "source": [
    "### 데이터 정규화 및 분류하기\n"
   ]
  },
  {
   "cell_type": "code",
   "execution_count": 31,
   "id": "8e85fb3a",
   "metadata": {},
   "outputs": [
    {
     "data": {
      "text/plain": [
       "array([[0.        ],\n",
       "       [0.0038628 ],\n",
       "       [0.01035023],\n",
       "       [0.01638758],\n",
       "       [0.02208692],\n",
       "       [0.02755022],\n",
       "       [0.0329625 ],\n",
       "       [0.03722906],\n",
       "       [0.04140562],\n",
       "       [0.04730433],\n",
       "       [0.05342931],\n",
       "       [0.05918944],\n",
       "       [0.06484252],\n",
       "       [0.07072425],\n",
       "       [0.0755989 ],\n",
       "       [0.0807606 ],\n",
       "       [0.08851779],\n",
       "       [0.09652549],\n",
       "       [0.10390317],\n",
       "       [0.11169922],\n",
       "       [0.11928856],\n",
       "       [0.12616515],\n",
       "       [0.1327256 ],\n",
       "       [0.14273036],\n",
       "       [0.15230703],\n",
       "       [0.16178393],\n",
       "       [0.17167675],\n",
       "       [0.18122423],\n",
       "       [0.18926847],\n",
       "       [0.1966412 ],\n",
       "       [0.20910037],\n",
       "       [0.22190249],\n",
       "       [0.23392868],\n",
       "       [0.24694729],\n",
       "       [0.25941372],\n",
       "       [0.26993167],\n",
       "       [0.2819798 ],\n",
       "       [0.29942787],\n",
       "       [0.31736743],\n",
       "       [0.33378172],\n",
       "       [0.35075307],\n",
       "       [0.3670045 ],\n",
       "       [0.3811518 ],\n",
       "       [0.39469337],\n",
       "       [0.41378582],\n",
       "       [0.4323188 ],\n",
       "       [0.4504019 ],\n",
       "       [0.46818328],\n",
       "       [0.4833449 ],\n",
       "       [0.4962759 ],\n",
       "       [0.5089053 ],\n",
       "       [0.52703214],\n",
       "       [0.5438502 ],\n",
       "       [0.5590118 ],\n",
       "       [0.5732175 ],\n",
       "       [0.58638453],\n",
       "       [0.59660816],\n",
       "       [0.6060072 ],\n",
       "       [0.6191597 ],\n",
       "       [0.63140476],\n",
       "       [0.6432582 ],\n",
       "       [0.65399754],\n",
       "       [0.66331637],\n",
       "       [0.67091787],\n",
       "       [0.6782664 ],\n",
       "       [0.6890689 ],\n",
       "       [0.6990956 ],\n",
       "       [0.7081274 ],\n",
       "       [0.7166581 ],\n",
       "       [0.7248579 ],\n",
       "       [0.7321676 ],\n",
       "       [0.73968875],\n",
       "       [0.75035036],\n",
       "       [0.7604791 ],\n",
       "       [0.77151763],\n",
       "       [0.78226686],\n",
       "       [0.7924564 ],\n",
       "       [0.80183125],\n",
       "       [0.8117119 ],\n",
       "       [0.8258276 ],\n",
       "       [0.8418819 ],\n",
       "       [0.85834   ],\n",
       "       [0.87537944],\n",
       "       [0.8939295 ],\n",
       "       [0.91219985],\n",
       "       [0.9330462 ],\n",
       "       [0.9646927 ],\n",
       "       [1.        ]], dtype=float32)"
      ]
     },
     "execution_count": 31,
     "metadata": {},
     "output_type": "execute_result"
    }
   ],
   "source": [
    "scaler = MinMaxScaler()\n",
    "corona = scaler.fit_transform(data)\n",
    "corona"
   ]
  },
  {
   "cell_type": "code",
   "execution_count": 32,
   "id": "3fe644be",
   "metadata": {},
   "outputs": [
    {
     "data": {
      "text/plain": [
       "((70, 1), (18, 1))"
      ]
     },
     "execution_count": 32,
     "metadata": {},
     "output_type": "execute_result"
    }
   ],
   "source": [
    "train, test = train_test_split(corona, test_size=0.2, shuffle=False) # 시퀀셜 데이터라 셔플 절대 하면 안됨\n",
    "train.shape, test.shape"
   ]
  },
  {
   "attachments": {},
   "cell_type": "markdown",
   "id": "f711b733",
   "metadata": {},
   "source": [
    "### 데이터 형태 변경하기"
   ]
  },
  {
   "cell_type": "code",
   "execution_count": 33,
   "id": "f610757a",
   "metadata": {},
   "outputs": [],
   "source": [
    "def create_dataset(dataset, look_back):\n",
    "    X_data = []\n",
    "    y_data = []\n",
    "    for i in range(len(dataset) - look_back):\n",
    "        data = dataset[i:(i+look_back), 0]\n",
    "        X_data.append(data)\n",
    "        y_data.append(dataset[i + look_back, 0])\n",
    "    return np.array(X_data), np.array(y_data)"
   ]
  },
  {
   "cell_type": "code",
   "execution_count": 34,
   "id": "e428de70",
   "metadata": {},
   "outputs": [
    {
     "data": {
      "text/plain": [
       "(array([[0.        , 0.0038628 , 0.01035023],\n",
       "        [0.0038628 , 0.01035023, 0.01638758],\n",
       "        [0.01035023, 0.01638758, 0.02208692],\n",
       "        [0.01638758, 0.02208692, 0.02755022],\n",
       "        [0.02208692, 0.02755022, 0.0329625 ],\n",
       "        [0.02755022, 0.0329625 , 0.03722906],\n",
       "        [0.0329625 , 0.03722906, 0.04140562],\n",
       "        [0.03722906, 0.04140562, 0.04730433],\n",
       "        [0.04140562, 0.04730433, 0.05342931],\n",
       "        [0.04730433, 0.05342931, 0.05918944],\n",
       "        [0.05342931, 0.05918944, 0.06484252],\n",
       "        [0.05918944, 0.06484252, 0.07072425],\n",
       "        [0.06484252, 0.07072425, 0.0755989 ],\n",
       "        [0.07072425, 0.0755989 , 0.0807606 ],\n",
       "        [0.0755989 , 0.0807606 , 0.08851779],\n",
       "        [0.0807606 , 0.08851779, 0.09652549],\n",
       "        [0.08851779, 0.09652549, 0.10390317],\n",
       "        [0.09652549, 0.10390317, 0.11169922],\n",
       "        [0.10390317, 0.11169922, 0.11928856],\n",
       "        [0.11169922, 0.11928856, 0.12616515],\n",
       "        [0.11928856, 0.12616515, 0.1327256 ],\n",
       "        [0.12616515, 0.1327256 , 0.14273036],\n",
       "        [0.1327256 , 0.14273036, 0.15230703],\n",
       "        [0.14273036, 0.15230703, 0.16178393],\n",
       "        [0.15230703, 0.16178393, 0.17167675],\n",
       "        [0.16178393, 0.17167675, 0.18122423],\n",
       "        [0.17167675, 0.18122423, 0.18926847],\n",
       "        [0.18122423, 0.18926847, 0.1966412 ],\n",
       "        [0.18926847, 0.1966412 , 0.20910037],\n",
       "        [0.1966412 , 0.20910037, 0.22190249],\n",
       "        [0.20910037, 0.22190249, 0.23392868],\n",
       "        [0.22190249, 0.23392868, 0.24694729],\n",
       "        [0.23392868, 0.24694729, 0.25941372],\n",
       "        [0.24694729, 0.25941372, 0.26993167],\n",
       "        [0.25941372, 0.26993167, 0.2819798 ],\n",
       "        [0.26993167, 0.2819798 , 0.29942787],\n",
       "        [0.2819798 , 0.29942787, 0.31736743],\n",
       "        [0.29942787, 0.31736743, 0.33378172],\n",
       "        [0.31736743, 0.33378172, 0.35075307],\n",
       "        [0.33378172, 0.35075307, 0.3670045 ],\n",
       "        [0.35075307, 0.3670045 , 0.3811518 ],\n",
       "        [0.3670045 , 0.3811518 , 0.39469337],\n",
       "        [0.3811518 , 0.39469337, 0.41378582],\n",
       "        [0.39469337, 0.41378582, 0.4323188 ],\n",
       "        [0.41378582, 0.4323188 , 0.4504019 ],\n",
       "        [0.4323188 , 0.4504019 , 0.46818328],\n",
       "        [0.4504019 , 0.46818328, 0.4833449 ],\n",
       "        [0.46818328, 0.4833449 , 0.4962759 ],\n",
       "        [0.4833449 , 0.4962759 , 0.5089053 ],\n",
       "        [0.4962759 , 0.5089053 , 0.52703214],\n",
       "        [0.5089053 , 0.52703214, 0.5438502 ],\n",
       "        [0.52703214, 0.5438502 , 0.5590118 ],\n",
       "        [0.5438502 , 0.5590118 , 0.5732175 ],\n",
       "        [0.5590118 , 0.5732175 , 0.58638453],\n",
       "        [0.5732175 , 0.58638453, 0.59660816],\n",
       "        [0.58638453, 0.59660816, 0.6060072 ],\n",
       "        [0.59660816, 0.6060072 , 0.6191597 ],\n",
       "        [0.6060072 , 0.6191597 , 0.63140476],\n",
       "        [0.6191597 , 0.63140476, 0.6432582 ],\n",
       "        [0.63140476, 0.6432582 , 0.65399754],\n",
       "        [0.6432582 , 0.65399754, 0.66331637],\n",
       "        [0.65399754, 0.66331637, 0.67091787],\n",
       "        [0.66331637, 0.67091787, 0.6782664 ],\n",
       "        [0.67091787, 0.6782664 , 0.6890689 ],\n",
       "        [0.6782664 , 0.6890689 , 0.6990956 ],\n",
       "        [0.6890689 , 0.6990956 , 0.7081274 ],\n",
       "        [0.6990956 , 0.7081274 , 0.7166581 ]], dtype=float32),\n",
       " array([0.01638758, 0.02208692, 0.02755022, 0.0329625 , 0.03722906,\n",
       "        0.04140562, 0.04730433, 0.05342931, 0.05918944, 0.06484252,\n",
       "        0.07072425, 0.0755989 , 0.0807606 , 0.08851779, 0.09652549,\n",
       "        0.10390317, 0.11169922, 0.11928856, 0.12616515, 0.1327256 ,\n",
       "        0.14273036, 0.15230703, 0.16178393, 0.17167675, 0.18122423,\n",
       "        0.18926847, 0.1966412 , 0.20910037, 0.22190249, 0.23392868,\n",
       "        0.24694729, 0.25941372, 0.26993167, 0.2819798 , 0.29942787,\n",
       "        0.31736743, 0.33378172, 0.35075307, 0.3670045 , 0.3811518 ,\n",
       "        0.39469337, 0.41378582, 0.4323188 , 0.4504019 , 0.46818328,\n",
       "        0.4833449 , 0.4962759 , 0.5089053 , 0.52703214, 0.5438502 ,\n",
       "        0.5590118 , 0.5732175 , 0.58638453, 0.59660816, 0.6060072 ,\n",
       "        0.6191597 , 0.63140476, 0.6432582 , 0.65399754, 0.66331637,\n",
       "        0.67091787, 0.6782664 , 0.6890689 , 0.6990956 , 0.7081274 ,\n",
       "        0.7166581 , 0.7248579 ], dtype=float32))"
      ]
     },
     "execution_count": 34,
     "metadata": {},
     "output_type": "execute_result"
    }
   ],
   "source": [
    "look_back = 3 \n",
    "X_train, y_train = create_dataset(train, look_back)\n",
    "X_train, y_train"
   ]
  },
  {
   "cell_type": "code",
   "execution_count": 35,
   "id": "9715b5a5",
   "metadata": {},
   "outputs": [
    {
     "data": {
      "text/plain": [
       "((67, 3), (67,))"
      ]
     },
     "execution_count": 35,
     "metadata": {},
     "output_type": "execute_result"
    }
   ],
   "source": [
    "X_train.shape, y_train.shape"
   ]
  },
  {
   "cell_type": "code",
   "execution_count": 36,
   "id": "764473ff",
   "metadata": {},
   "outputs": [
    {
     "data": {
      "text/plain": [
       "((15, 3), (15,))"
      ]
     },
     "execution_count": 36,
     "metadata": {},
     "output_type": "execute_result"
    }
   ],
   "source": [
    "X_test, y_test = create_dataset(test, look_back)\n",
    "X_test.shape, y_test.shape"
   ]
  },
  {
   "cell_type": "code",
   "execution_count": 37,
   "id": "aca10384",
   "metadata": {},
   "outputs": [],
   "source": [
    "# 인공 지능 모델의 입력 형태로 데이터 구조를 변환\n",
    "X_train = X_train[:, np.newaxis]\n",
    "X_test = X_test[:, np.newaxis]"
   ]
  },
  {
   "cell_type": "code",
   "execution_count": 38,
   "id": "2d9fe98d",
   "metadata": {},
   "outputs": [
    {
     "data": {
      "text/plain": [
       "((67, 1, 3), (15, 1, 3))"
      ]
     },
     "execution_count": 38,
     "metadata": {},
     "output_type": "execute_result"
    }
   ],
   "source": [
    "X_train.shape, X_test.shape"
   ]
  },
  {
   "cell_type": "code",
   "execution_count": 39,
   "id": "db4854e0",
   "metadata": {},
   "outputs": [
    {
     "data": {
      "text/plain": [
       "array([[0.        , 0.0038628 , 0.01035023]], dtype=float32)"
      ]
     },
     "execution_count": 39,
     "metadata": {},
     "output_type": "execute_result"
    }
   ],
   "source": [
    "X_train[0]"
   ]
  },
  {
   "attachments": {},
   "cell_type": "markdown",
   "id": "89d40792",
   "metadata": {},
   "source": [
    "### 인공지능 모델 만들기"
   ]
  },
  {
   "cell_type": "code",
   "execution_count": 40,
   "id": "2185cdde",
   "metadata": {},
   "outputs": [
    {
     "name": "stdout",
     "output_type": "stream",
     "text": [
      "Model: \"sequential_1\"\n",
      "_________________________________________________________________\n",
      " Layer (type)                Output Shape              Param #   \n",
      "=================================================================\n",
      " simple_rnn_1 (SimpleRNN)    (None, 3)                 21        \n",
      "                                                                 \n",
      " dense_1 (Dense)             (None, 1)                 4         \n",
      "                                                                 \n",
      "=================================================================\n",
      "Total params: 25\n",
      "Trainable params: 25\n",
      "Non-trainable params: 0\n",
      "_________________________________________________________________\n"
     ]
    }
   ],
   "source": [
    "model = Sequential()\n",
    "model.add(SimpleRNN(3, input_shape=(1, 3)))\n",
    "model.add(Dense(1, activation='linear'))\n",
    "\n",
    "model.compile(loss='mse', metrics='mae', optimizer='adam')\n",
    "model.summary()"
   ]
  },
  {
   "attachments": {},
   "cell_type": "markdown",
   "id": "60c7c490",
   "metadata": {},
   "source": [
    "### 모델 학습"
   ]
  },
  {
   "cell_type": "code",
   "execution_count": 41,
   "id": "8cb8a8e4",
   "metadata": {},
   "outputs": [
    {
     "name": "stdout",
     "output_type": "stream",
     "text": [
      "Epoch 1/100\n",
      "23/23 - 1s - loss: 0.0589 - mae: 0.1845 - 1s/epoch - 47ms/step\n",
      "Epoch 2/100\n",
      "23/23 - 0s - loss: 0.0274 - mae: 0.1246 - 45ms/epoch - 2ms/step\n",
      "Epoch 3/100\n",
      "23/23 - 0s - loss: 0.0147 - mae: 0.0980 - 41ms/epoch - 2ms/step\n",
      "Epoch 4/100\n",
      "23/23 - 0s - loss: 0.0099 - mae: 0.0873 - 42ms/epoch - 2ms/step\n",
      "Epoch 5/100\n",
      "23/23 - 0s - loss: 0.0079 - mae: 0.0802 - 38ms/epoch - 2ms/step\n",
      "Epoch 6/100\n",
      "23/23 - 0s - loss: 0.0064 - mae: 0.0725 - 46ms/epoch - 2ms/step\n",
      "Epoch 7/100\n",
      "23/23 - 0s - loss: 0.0052 - mae: 0.0658 - 55ms/epoch - 2ms/step\n",
      "Epoch 8/100\n",
      "23/23 - 0s - loss: 0.0041 - mae: 0.0582 - 75ms/epoch - 3ms/step\n",
      "Epoch 9/100\n",
      "23/23 - 0s - loss: 0.0032 - mae: 0.0511 - 69ms/epoch - 3ms/step\n",
      "Epoch 10/100\n",
      "23/23 - 0s - loss: 0.0025 - mae: 0.0448 - 31ms/epoch - 1ms/step\n",
      "Epoch 11/100\n",
      "23/23 - 0s - loss: 0.0019 - mae: 0.0398 - 25ms/epoch - 1ms/step\n",
      "Epoch 12/100\n",
      "23/23 - 0s - loss: 0.0014 - mae: 0.0338 - 21ms/epoch - 900us/step\n",
      "Epoch 13/100\n",
      "23/23 - 0s - loss: 0.0011 - mae: 0.0287 - 25ms/epoch - 1ms/step\n",
      "Epoch 14/100\n",
      "23/23 - 0s - loss: 8.0643e-04 - mae: 0.0248 - 20ms/epoch - 885us/step\n",
      "Epoch 15/100\n",
      "23/23 - 0s - loss: 5.9904e-04 - mae: 0.0212 - 26ms/epoch - 1ms/step\n",
      "Epoch 16/100\n",
      "23/23 - 0s - loss: 4.5805e-04 - mae: 0.0184 - 23ms/epoch - 1ms/step\n",
      "Epoch 17/100\n",
      "23/23 - 0s - loss: 3.5941e-04 - mae: 0.0160 - 33ms/epoch - 1ms/step\n",
      "Epoch 18/100\n",
      "23/23 - 0s - loss: 2.8807e-04 - mae: 0.0138 - 37ms/epoch - 2ms/step\n",
      "Epoch 19/100\n",
      "23/23 - 0s - loss: 2.4351e-04 - mae: 0.0123 - 33ms/epoch - 1ms/step\n",
      "Epoch 20/100\n",
      "23/23 - 0s - loss: 2.0887e-04 - mae: 0.0115 - 30ms/epoch - 1ms/step\n",
      "Epoch 21/100\n",
      "23/23 - 0s - loss: 1.8327e-04 - mae: 0.0109 - 23ms/epoch - 1ms/step\n",
      "Epoch 22/100\n",
      "23/23 - 0s - loss: 1.7024e-04 - mae: 0.0106 - 31ms/epoch - 1ms/step\n",
      "Epoch 23/100\n",
      "23/23 - 0s - loss: 1.6422e-04 - mae: 0.0104 - 26ms/epoch - 1ms/step\n",
      "Epoch 24/100\n",
      "23/23 - 0s - loss: 1.5224e-04 - mae: 0.0101 - 23ms/epoch - 1ms/step\n",
      "Epoch 25/100\n",
      "23/23 - 0s - loss: 1.4638e-04 - mae: 0.0100 - 23ms/epoch - 979us/step\n",
      "Epoch 26/100\n",
      "23/23 - 0s - loss: 1.4559e-04 - mae: 0.0101 - 21ms/epoch - 919us/step\n",
      "Epoch 27/100\n",
      "23/23 - 0s - loss: 1.4223e-04 - mae: 0.0100 - 24ms/epoch - 1ms/step\n",
      "Epoch 28/100\n",
      "23/23 - 0s - loss: 1.3748e-04 - mae: 0.0097 - 21ms/epoch - 924us/step\n",
      "Epoch 29/100\n",
      "23/23 - 0s - loss: 1.3922e-04 - mae: 0.0099 - 23ms/epoch - 982us/step\n",
      "Epoch 30/100\n",
      "23/23 - 0s - loss: 1.3430e-04 - mae: 0.0096 - 21ms/epoch - 908us/step\n",
      "Epoch 31/100\n",
      "23/23 - 0s - loss: 1.3255e-04 - mae: 0.0099 - 25ms/epoch - 1ms/step\n",
      "Epoch 32/100\n",
      "23/23 - 0s - loss: 1.3126e-04 - mae: 0.0097 - 30ms/epoch - 1ms/step\n",
      "Epoch 33/100\n",
      "23/23 - 0s - loss: 1.2834e-04 - mae: 0.0096 - 24ms/epoch - 1ms/step\n",
      "Epoch 34/100\n",
      "23/23 - 0s - loss: 1.2676e-04 - mae: 0.0094 - 63ms/epoch - 3ms/step\n",
      "Epoch 35/100\n",
      "23/23 - 0s - loss: 1.2536e-04 - mae: 0.0092 - 66ms/epoch - 3ms/step\n",
      "Epoch 36/100\n",
      "23/23 - 0s - loss: 1.2220e-04 - mae: 0.0093 - 65ms/epoch - 3ms/step\n",
      "Epoch 37/100\n",
      "23/23 - 0s - loss: 1.2123e-04 - mae: 0.0095 - 81ms/epoch - 4ms/step\n",
      "Epoch 38/100\n",
      "23/23 - 0s - loss: 1.1965e-04 - mae: 0.0091 - 48ms/epoch - 2ms/step\n",
      "Epoch 39/100\n",
      "23/23 - 0s - loss: 1.1690e-04 - mae: 0.0090 - 48ms/epoch - 2ms/step\n",
      "Epoch 40/100\n",
      "23/23 - 0s - loss: 1.1771e-04 - mae: 0.0093 - 117ms/epoch - 5ms/step\n",
      "Epoch 41/100\n",
      "23/23 - 0s - loss: 1.1808e-04 - mae: 0.0088 - 103ms/epoch - 4ms/step\n",
      "Epoch 42/100\n",
      "23/23 - 0s - loss: 1.1968e-04 - mae: 0.0093 - 39ms/epoch - 2ms/step\n",
      "Epoch 43/100\n",
      "23/23 - 0s - loss: 1.1005e-04 - mae: 0.0088 - 35ms/epoch - 2ms/step\n",
      "Epoch 44/100\n",
      "23/23 - 0s - loss: 1.0991e-04 - mae: 0.0087 - 50ms/epoch - 2ms/step\n",
      "Epoch 45/100\n",
      "23/23 - 0s - loss: 1.0677e-04 - mae: 0.0088 - 65ms/epoch - 3ms/step\n",
      "Epoch 46/100\n",
      "23/23 - 0s - loss: 1.0340e-04 - mae: 0.0087 - 45ms/epoch - 2ms/step\n",
      "Epoch 47/100\n",
      "23/23 - 0s - loss: 1.0421e-04 - mae: 0.0088 - 81ms/epoch - 4ms/step\n",
      "Epoch 48/100\n",
      "23/23 - 0s - loss: 1.0199e-04 - mae: 0.0082 - 67ms/epoch - 3ms/step\n",
      "Epoch 49/100\n",
      "23/23 - 0s - loss: 1.0203e-04 - mae: 0.0087 - 113ms/epoch - 5ms/step\n",
      "Epoch 50/100\n",
      "23/23 - 0s - loss: 1.0085e-04 - mae: 0.0082 - 60ms/epoch - 3ms/step\n",
      "Epoch 51/100\n",
      "23/23 - 0s - loss: 9.7185e-05 - mae: 0.0084 - 29ms/epoch - 1ms/step\n",
      "Epoch 52/100\n",
      "23/23 - 0s - loss: 9.3611e-05 - mae: 0.0083 - 41ms/epoch - 2ms/step\n",
      "Epoch 53/100\n",
      "23/23 - 0s - loss: 9.1222e-05 - mae: 0.0081 - 46ms/epoch - 2ms/step\n",
      "Epoch 54/100\n",
      "23/23 - 0s - loss: 9.1893e-05 - mae: 0.0080 - 81ms/epoch - 4ms/step\n",
      "Epoch 55/100\n",
      "23/23 - 0s - loss: 9.2870e-05 - mae: 0.0079 - 74ms/epoch - 3ms/step\n",
      "Epoch 56/100\n",
      "23/23 - 0s - loss: 8.8371e-05 - mae: 0.0080 - 78ms/epoch - 3ms/step\n",
      "Epoch 57/100\n",
      "23/23 - 0s - loss: 8.6757e-05 - mae: 0.0078 - 85ms/epoch - 4ms/step\n",
      "Epoch 58/100\n",
      "23/23 - 0s - loss: 8.3060e-05 - mae: 0.0077 - 55ms/epoch - 2ms/step\n",
      "Epoch 59/100\n",
      "23/23 - 0s - loss: 8.4102e-05 - mae: 0.0079 - 35ms/epoch - 2ms/step\n",
      "Epoch 60/100\n",
      "23/23 - 0s - loss: 8.3551e-05 - mae: 0.0075 - 46ms/epoch - 2ms/step\n",
      "Epoch 61/100\n",
      "23/23 - 0s - loss: 7.8802e-05 - mae: 0.0075 - 47ms/epoch - 2ms/step\n",
      "Epoch 62/100\n",
      "23/23 - 0s - loss: 7.7696e-05 - mae: 0.0071 - 47ms/epoch - 2ms/step\n",
      "Epoch 63/100\n",
      "23/23 - 0s - loss: 7.8141e-05 - mae: 0.0075 - 41ms/epoch - 2ms/step\n",
      "Epoch 64/100\n",
      "23/23 - 0s - loss: 7.6931e-05 - mae: 0.0071 - 48ms/epoch - 2ms/step\n",
      "Epoch 65/100\n",
      "23/23 - 0s - loss: 7.6857e-05 - mae: 0.0072 - 44ms/epoch - 2ms/step\n",
      "Epoch 66/100\n",
      "23/23 - 0s - loss: 7.0865e-05 - mae: 0.0071 - 43ms/epoch - 2ms/step\n",
      "Epoch 67/100\n",
      "23/23 - 0s - loss: 7.3492e-05 - mae: 0.0070 - 28ms/epoch - 1ms/step\n",
      "Epoch 68/100\n",
      "23/23 - 0s - loss: 6.7897e-05 - mae: 0.0069 - 27ms/epoch - 1ms/step\n",
      "Epoch 69/100\n",
      "23/23 - 0s - loss: 6.7360e-05 - mae: 0.0067 - 27ms/epoch - 1ms/step\n",
      "Epoch 70/100\n",
      "23/23 - 0s - loss: 6.7785e-05 - mae: 0.0069 - 28ms/epoch - 1ms/step\n",
      "Epoch 71/100\n",
      "23/23 - 0s - loss: 6.6828e-05 - mae: 0.0067 - 29ms/epoch - 1ms/step\n",
      "Epoch 72/100\n",
      "23/23 - 0s - loss: 6.3711e-05 - mae: 0.0067 - 28ms/epoch - 1ms/step\n",
      "Epoch 73/100\n",
      "23/23 - 0s - loss: 6.4202e-05 - mae: 0.0064 - 23ms/epoch - 998us/step\n",
      "Epoch 74/100\n",
      "23/23 - 0s - loss: 6.2177e-05 - mae: 0.0065 - 25ms/epoch - 1ms/step\n",
      "Epoch 75/100\n",
      "23/23 - 0s - loss: 5.9329e-05 - mae: 0.0063 - 23ms/epoch - 1ms/step\n",
      "Epoch 76/100\n",
      "23/23 - 0s - loss: 5.8877e-05 - mae: 0.0062 - 24ms/epoch - 1ms/step\n",
      "Epoch 77/100\n",
      "23/23 - 0s - loss: 5.9208e-05 - mae: 0.0064 - 28ms/epoch - 1ms/step\n",
      "Epoch 78/100\n",
      "23/23 - 0s - loss: 5.9383e-05 - mae: 0.0063 - 24ms/epoch - 1ms/step\n",
      "Epoch 79/100\n",
      "23/23 - 0s - loss: 5.9878e-05 - mae: 0.0060 - 25ms/epoch - 1ms/step\n",
      "Epoch 80/100\n",
      "23/23 - 0s - loss: 5.3262e-05 - mae: 0.0059 - 25ms/epoch - 1ms/step\n",
      "Epoch 81/100\n",
      "23/23 - 0s - loss: 5.2457e-05 - mae: 0.0059 - 23ms/epoch - 1ms/step\n",
      "Epoch 82/100\n",
      "23/23 - 0s - loss: 5.0608e-05 - mae: 0.0057 - 25ms/epoch - 1ms/step\n",
      "Epoch 83/100\n",
      "23/23 - 0s - loss: 5.1847e-05 - mae: 0.0057 - 31ms/epoch - 1ms/step\n",
      "Epoch 84/100\n",
      "23/23 - 0s - loss: 4.9777e-05 - mae: 0.0057 - 23ms/epoch - 994us/step\n",
      "Epoch 85/100\n",
      "23/23 - 0s - loss: 4.9844e-05 - mae: 0.0057 - 27ms/epoch - 1ms/step\n",
      "Epoch 86/100\n",
      "23/23 - 0s - loss: 4.7745e-05 - mae: 0.0055 - 23ms/epoch - 989us/step\n",
      "Epoch 87/100\n",
      "23/23 - 0s - loss: 4.8161e-05 - mae: 0.0057 - 24ms/epoch - 1ms/step\n",
      "Epoch 88/100\n",
      "23/23 - 0s - loss: 4.8173e-05 - mae: 0.0055 - 29ms/epoch - 1ms/step\n",
      "Epoch 89/100\n",
      "23/23 - 0s - loss: 4.5319e-05 - mae: 0.0054 - 26ms/epoch - 1ms/step\n",
      "Epoch 90/100\n",
      "23/23 - 0s - loss: 4.5574e-05 - mae: 0.0052 - 22ms/epoch - 977us/step\n",
      "Epoch 91/100\n",
      "23/23 - 0s - loss: 4.6220e-05 - mae: 0.0053 - 27ms/epoch - 1ms/step\n",
      "Epoch 92/100\n",
      "23/23 - 0s - loss: 4.3457e-05 - mae: 0.0054 - 25ms/epoch - 1ms/step\n",
      "Epoch 93/100\n",
      "23/23 - 0s - loss: 4.1018e-05 - mae: 0.0050 - 25ms/epoch - 1ms/step\n",
      "Epoch 94/100\n",
      "23/23 - 0s - loss: 4.0674e-05 - mae: 0.0051 - 26ms/epoch - 1ms/step\n",
      "Epoch 95/100\n",
      "23/23 - 0s - loss: 3.8698e-05 - mae: 0.0049 - 28ms/epoch - 1ms/step\n",
      "Epoch 96/100\n",
      "23/23 - 0s - loss: 3.8327e-05 - mae: 0.0049 - 52ms/epoch - 2ms/step\n",
      "Epoch 97/100\n",
      "23/23 - 0s - loss: 3.8390e-05 - mae: 0.0048 - 24ms/epoch - 1ms/step\n",
      "Epoch 98/100\n",
      "23/23 - 0s - loss: 3.8579e-05 - mae: 0.0047 - 27ms/epoch - 1ms/step\n",
      "Epoch 99/100\n",
      "23/23 - 0s - loss: 4.1336e-05 - mae: 0.0052 - 41ms/epoch - 2ms/step\n",
      "Epoch 100/100\n",
      "23/23 - 0s - loss: 4.2136e-05 - mae: 0.0051 - 53ms/epoch - 2ms/step\n"
     ]
    }
   ],
   "source": [
    "hist = model.fit(X_train, y_train, epochs=100, batch_size=3, verbose=2)"
   ]
  },
  {
   "attachments": {},
   "cell_type": "markdown",
   "id": "0c54d9d1",
   "metadata": {},
   "source": [
    "### 결과 시각화"
   ]
  },
  {
   "cell_type": "code",
   "execution_count": 42,
   "id": "b7180338",
   "metadata": {},
   "outputs": [],
   "source": [
    "import pandas as pd\n",
    "\n",
    "df = pd.DataFrame(hist.history)"
   ]
  },
  {
   "cell_type": "code",
   "execution_count": 43,
   "id": "9f33a00d",
   "metadata": {},
   "outputs": [
    {
     "data": {
      "text/plain": [
       "[<matplotlib.lines.Line2D at 0x1fad28f99d0>]"
      ]
     },
     "execution_count": 43,
     "metadata": {},
     "output_type": "execute_result"
    },
    {
     "data": {
      "image/png": "[encoded data removed]",
      "text/plain": [
       "<Figure size 600x600 with 1 Axes>"
      ]
     },
     "metadata": {},
     "output_type": "display_data"
    }
   ],
   "source": [
    "plt.figure(figsize=(6, 6))\n",
    "plt.plot(df.index, df.loss)"
   ]
  },
  {
   "cell_type": "code",
   "execution_count": 48,
   "id": "c58488b3",
   "metadata": {},
   "outputs": [
    {
     "name": "stdout",
     "output_type": "stream",
     "text": [
      "1/1 [==============================] - 0s 15ms/step\n"
     ]
    },
    {
     "data": {
      "text/plain": [
       "(array([[667704.1 ],\n",
       "        [670116.94],\n",
       "        [673118.06],\n",
       "        [676031.56],\n",
       "        [679066.06],\n",
       "        [681961.94],\n",
       "        [684661.75],\n",
       "        [687226.06],\n",
       "        [690141.25],\n",
       "        [693937.06],\n",
       "        [698049.06],\n",
       "        [702187.94],\n",
       "        [706447.6 ],\n",
       "        [710844.6 ],\n",
       "        [715165.8 ]], dtype=float32),\n",
       " array([0.7604791 , 0.77151763, 0.78226686, 0.7924564 , 0.80183125,\n",
       "        0.8117119 , 0.8258276 , 0.8418819 , 0.85834   , 0.87537944,\n",
       "        0.8939295 , 0.91219985, 0.9330462 , 0.9646927 , 1.        ],\n",
       "       dtype=float32))"
      ]
     },
     "execution_count": 48,
     "metadata": {},
     "output_type": "execute_result"
    }
   ],
   "source": [
    "scaler.inverse_transform(model.predict(X_test)), y_test"
   ]
  }
 ],
 "metadata": {
  "kernelspec": {
   "display_name": "tf2",
   "language": "python",
   "name": "python3"
  },
  "language_info": {
   "codemirror_mode": {
    "name": "ipython",
    "version": 3
   },
   "file_extension": ".py",
   "mimetype": "text/x-python",
   "name": "python",
   "nbconvert_exporter": "python",
   "pygments_lexer": "ipython3",
   "version": "3.8.16"
  },
  "vscode": {
   "interpreter": {
    "hash": "eb40c81b4dc7c84c0d63c497104c6b1d59507859779ef83084b0feb883d48ace"
   }
  }
 },
 "nbformat": 4,
 "nbformat_minor": 5
}
