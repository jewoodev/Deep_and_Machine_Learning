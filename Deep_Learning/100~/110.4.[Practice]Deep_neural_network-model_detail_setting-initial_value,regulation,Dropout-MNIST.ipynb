{
 "cells": [
  {
   "cell_type": "markdown",
   "metadata": {},
   "source": [
    "# 심층 신경망 - 모델 세부 설정-초기값, 규제, Dropout-MNIST"
   ]
  },
  {
   "cell_type": "code",
   "execution_count": 4,
   "metadata": {
    "colab": {
     "base_uri": "https://localhost:8080/"
    },
    "id": "dXaEMD0jt0d3",
    "outputId": "f4f66ed2-e3eb-4c95-bbb4-a105065c5d99"
   },
   "outputs": [
    {
     "name": "stdout",
     "output_type": "stream",
     "text": [
      "train set:  (60000, 28, 28) (60000,)\n",
      "test  set:  (10000, 28, 28) (10000,)\n"
     ]
    }
   ],
   "source": [
    "import tensorflow as tf\n",
    "from tensorflow import keras\n",
    "\n",
    "# 데이터셋을 로드\n",
    "mnist = keras.datasets.mnist\n",
    "(x_train, y_train), (x_test, y_test) = mnist.load_data()\n",
    "\n",
    "\n",
    "# 로드된 데이터셋 확인\n",
    "print('train set: ', x_train.shape, y_train.shape)\n",
    "print('test  set: ', x_test.shape, y_test.shape)\n",
    "\n",
    "# 데이터 정규화\n"
   ]
  },
  {
   "cell_type": "markdown",
   "metadata": {
    "id": "YImkI8kKzypT"
   },
   "source": [
    "## 초기값 설정"
   ]
  },
  {
   "cell_type": "code",
   "execution_count": 5,
   "metadata": {
    "colab": {
     "base_uri": "https://localhost:8080/"
    },
    "id": "16IWTVpMvAlR",
    "outputId": "214ae15d-2e23-490c-9a1b-d71f35ffe830"
   },
   "outputs": [
    {
     "data": {
      "text/plain": [
       "{'name': 'dense',\n",
       " 'trainable': True,\n",
       " 'dtype': 'float32',\n",
       " 'units': 256,\n",
       " 'activation': 'relu',\n",
       " 'use_bias': True,\n",
       " 'kernel_initializer': {'class_name': 'GlorotUniform',\n",
       "  'config': {'seed': None}},\n",
       " 'bias_initializer': {'class_name': 'Zeros', 'config': {}},\n",
       " 'kernel_regularizer': None,\n",
       " 'bias_regularizer': None,\n",
       " 'activity_regularizer': None,\n",
       " 'kernel_constraint': None,\n",
       " 'bias_constraint': None}"
      ]
     },
     "execution_count": 5,
     "metadata": {},
     "output_type": "execute_result"
    }
   ],
   "source": [
    "from keras.layers import Dense\n",
    "\n",
    "dense = Dense(256, activation='relu')\n",
    "dense.get_config()"
   ]
  },
  {
   "cell_type": "code",
   "execution_count": 6,
   "metadata": {
    "colab": {
     "base_uri": "https://localhost:8080/"
    },
    "id": "kSyO19Pzuh2C",
    "outputId": "92d2df25-f33a-46ed-fcb5-d7c86e26e812"
   },
   "outputs": [
    {
     "data": {
      "text/plain": [
       "{'name': 'dense_1',\n",
       " 'trainable': True,\n",
       " 'dtype': 'float32',\n",
       " 'units': 256,\n",
       " 'activation': 'relu',\n",
       " 'use_bias': True,\n",
       " 'kernel_initializer': {'class_name': 'HeNormal', 'config': {'seed': None}},\n",
       " 'bias_initializer': {'class_name': 'Zeros', 'config': {}},\n",
       " 'kernel_regularizer': None,\n",
       " 'bias_regularizer': None,\n",
       " 'activity_regularizer': None,\n",
       " 'kernel_constraint': None,\n",
       " 'bias_constraint': None}"
      ]
     },
     "execution_count": 6,
     "metadata": {},
     "output_type": "execute_result"
    }
   ],
   "source": [
    "# he normal 초기화\n",
    "dense = Dense(256, kernel_initializer='he_normal', activation='relu')\n",
    "dense.get_config()"
   ]
  },
  {
   "cell_type": "code",
   "execution_count": null,
   "metadata": {
    "colab": {
     "base_uri": "https://localhost:8080/"
    },
    "id": "NlEK1gXsxHly",
    "outputId": "738459a8-db17-482c-dec3-3b6da377f983"
   },
   "outputs": [],
   "source": [
    "# 클래스 인스턴스 초기화\n"
   ]
  },
  {
   "cell_type": "code",
   "execution_count": null,
   "metadata": {},
   "outputs": [],
   "source": [
    "print(\"https://www.tensorflow.org/api_docs/python/tf/keras/initializers\")"
   ]
  },
  {
   "cell_type": "markdown",
   "metadata": {
    "id": "RLvhyVBuzwkp"
   },
   "source": [
    "## 규제"
   ]
  },
  {
   "cell_type": "code",
   "execution_count": 7,
   "metadata": {
    "colab": {
     "base_uri": "https://localhost:8080/"
    },
    "id": "9bX0zFe40Cdf",
    "outputId": "02d751d4-7cb2-42ac-f6cf-82d7f3ff4985"
   },
   "outputs": [
    {
     "data": {
      "text/plain": [
       "{'name': 'dense_1',\n",
       " 'trainable': True,\n",
       " 'dtype': 'float32',\n",
       " 'units': 256,\n",
       " 'activation': 'relu',\n",
       " 'use_bias': True,\n",
       " 'kernel_initializer': {'class_name': 'HeNormal', 'config': {'seed': None}},\n",
       " 'bias_initializer': {'class_name': 'Zeros', 'config': {}},\n",
       " 'kernel_regularizer': None,\n",
       " 'bias_regularizer': None,\n",
       " 'activity_regularizer': None,\n",
       " 'kernel_constraint': None,\n",
       " 'bias_constraint': None}"
      ]
     },
     "execution_count": 7,
     "metadata": {},
     "output_type": "execute_result"
    }
   ],
   "source": [
    "# 기본 값\n",
    "dense.get_config()"
   ]
  },
  {
   "cell_type": "code",
   "execution_count": 9,
   "metadata": {
    "colab": {
     "base_uri": "https://localhost:8080/"
    },
    "id": "nBMmB6CJzvnk",
    "outputId": "aab46058-f149-478e-8f09-ec2bdacb045e"
   },
   "outputs": [
    {
     "name": "stdout",
     "output_type": "stream",
     "text": [
      "{'name': 'dense_3', 'trainable': True, 'dtype': 'float32', 'units': 256, 'activation': 'relu', 'use_bias': True, 'kernel_initializer': {'class_name': 'GlorotUniform', 'config': {'seed': None}}, 'bias_initializer': {'class_name': 'Zeros', 'config': {}}, 'kernel_regularizer': {'class_name': 'L1', 'config': {'l1': 0.009999999776482582}}, 'bias_regularizer': None, 'activity_regularizer': None, 'kernel_constraint': None, 'bias_constraint': None}\n"
     ]
    },
    {
     "data": {
      "text/plain": [
       "{'name': 'dense_4',\n",
       " 'trainable': True,\n",
       " 'dtype': 'float32',\n",
       " 'units': 256,\n",
       " 'activation': 'relu',\n",
       " 'use_bias': True,\n",
       " 'kernel_initializer': {'class_name': 'GlorotUniform',\n",
       "  'config': {'seed': None}},\n",
       " 'bias_initializer': {'class_name': 'Zeros', 'config': {}},\n",
       " 'kernel_regularizer': {'class_name': 'L1',\n",
       "  'config': {'l1': 0.10000000149011612}},\n",
       " 'bias_regularizer': None,\n",
       " 'activity_regularizer': None,\n",
       " 'kernel_constraint': None,\n",
       " 'bias_constraint': None}"
      ]
     },
     "execution_count": 9,
     "metadata": {},
     "output_type": "execute_result"
    }
   ],
   "source": [
    "# l1 규제 적용\n",
    "dense = Dense(256, kernel_regularizer='l1', activation='relu')\n",
    "print(dense.get_config())\n",
    "# 클래스 인스턴스 적용, alpha 값 변경\n",
    "regularizer = tf.keras.regularizers.l1(l1=0.1)\n",
    "dense = Dense(256, kernel_regularizer=regularizer, activation='relu')\n",
    "dense.get_config()"
   ]
  },
  {
   "cell_type": "markdown",
   "metadata": {
    "id": "yGLMFgK220bh"
   },
   "source": [
    "## 드랍아웃"
   ]
  },
  {
   "cell_type": "code",
   "execution_count": 18,
   "metadata": {
    "colab": {
     "base_uri": "https://localhost:8080/"
    },
    "id": "_2nE5yoI2rIa",
    "outputId": "7472e8bf-26b1-4427-8ee8-3ea80fda6aa0"
   },
   "outputs": [
    {
     "name": "stdout",
     "output_type": "stream",
     "text": [
      "tf.Tensor(\n",
      "[[ 1.4285715  0.         4.285714   5.714286   0.       ]\n",
      " [ 8.571428  10.         0.        12.857143  14.285715 ]], shape=(2, 5), dtype=float32)\n"
     ]
    }
   ],
   "source": [
    "# Dropout 25% 비율 적용 (25%의 노드가 삭제)\n",
    "from keras.layers import Dropout\n",
    "# DropOut 예제\n",
    "import numpy as np\n",
    "data = np.arange(1, 11).reshape(2, 5).astype(np.float32)\n",
    "layer = Dropout(0.3, input_shape=(2, )) # 확률이기 때문에 30프로를 드랍아웃 해달라는 게 아니고 30퍼센트로 드랍아웃이 될 수도 있고 안될 수도 있다\n",
    "output = layer(data, training=True)\n",
    "print(output)"
   ]
  },
  {
   "cell_type": "markdown",
   "metadata": {
    "id": "TSPUXVR2J11X"
   },
   "source": [
    "##  배치 정규화"
   ]
  },
  {
   "cell_type": "code",
   "execution_count": 19,
   "metadata": {
    "colab": {
     "base_uri": "https://localhost:8080/"
    },
    "id": "wn4CWL_K3tkc",
    "outputId": "6b15658c-2360-41c7-d132-6b04888c84d1"
   },
   "outputs": [
    {
     "name": "stdout",
     "output_type": "stream",
     "text": [
      "Model: \"sequential\"\n",
      "_________________________________________________________________\n",
      " Layer (type)                Output Shape              Param #   \n",
      "=================================================================\n",
      " flatten (Flatten)           (None, 784)               0         \n",
      "                                                                 \n",
      " dense_5 (Dense)             (None, 64)                50240     \n",
      "                                                                 \n",
      " dense_6 (Dense)             (None, 32)                2080      \n",
      "                                                                 \n",
      " dense_7 (Dense)             (None, 10)                330       \n",
      "                                                                 \n",
      "=================================================================\n",
      "Total params: 52,650\n",
      "Trainable params: 52,650\n",
      "Non-trainable params: 0\n",
      "_________________________________________________________________\n"
     ]
    }
   ],
   "source": [
    "# Model A: Dense + ReLU\n",
    "model_a = tf.keras.Sequential([\n",
    "    tf.keras.layers.Flatten(input_shape=(28, 28)),\n",
    "    tf.keras.layers.Dense(64, activation='relu'),\n",
    "    tf.keras.layers.Dense(32, activation='relu'),\n",
    "    tf.keras.layers.Dense(10, activation='softmax')\n",
    "])\n",
    "model_a.summary()"
   ]
  },
  {
   "cell_type": "code",
   "execution_count": 20,
   "metadata": {},
   "outputs": [
    {
     "name": "stdout",
     "output_type": "stream",
     "text": [
      "Model: \"sequential_1\"\n",
      "_________________________________________________________________\n",
      " Layer (type)                Output Shape              Param #   \n",
      "=================================================================\n",
      " flatten_1 (Flatten)         (None, 784)               0         \n",
      "                                                                 \n",
      " dense_8 (Dense)             (None, 64)                50240     \n",
      "                                                                 \n",
      " batch_normalization (BatchN  (None, 64)               256       \n",
      " ormalization)                                                   \n",
      "                                                                 \n",
      " activation (Activation)     (None, 64)                0         \n",
      "                                                                 \n",
      " dense_9 (Dense)             (None, 32)                2080      \n",
      "                                                                 \n",
      " batch_normalization_1 (Batc  (None, 32)               128       \n",
      " hNormalization)                                                 \n",
      "                                                                 \n",
      " activation_1 (Activation)   (None, 32)                0         \n",
      "                                                                 \n",
      " dense_10 (Dense)            (None, 10)                330       \n",
      "                                                                 \n",
      "=================================================================\n",
      "Total params: 53,034\n",
      "Trainable params: 52,842\n",
      "Non-trainable params: 192\n",
      "_________________________________________________________________\n"
     ]
    }
   ],
   "source": [
    "# Model A: Dense + ReLU\n",
    "model_b = tf.keras.Sequential([\n",
    "    tf.keras.layers.Flatten(input_shape=(28, 28)),\n",
    "    tf.keras.layers.Dense(64),\n",
    "    tf.keras.layers.BatchNormalization(),\n",
    "    tf.keras.layers.Activation('relu'),\n",
    "    tf.keras.layers.Dense(32),\n",
    "    tf.keras.layers.BatchNormalization(),\n",
    "    tf.keras.layers.Activation('relu'),\n",
    "    tf.keras.layers.Dense(10, activation='softmax')\n",
    "])\n",
    "model_b.summary()"
   ]
  },
  {
   "cell_type": "code",
   "execution_count": null,
   "metadata": {
    "colab": {
     "base_uri": "https://localhost:8080/"
    },
    "id": "Sjh59kkOuDhA",
    "outputId": "50e60c02-b083-4d22-9679-5e83f68e4776"
   },
   "outputs": [],
   "source": [
    "# Model B: Dense + BatchNorm + ReLU\n"
   ]
  },
  {
   "cell_type": "markdown",
   "metadata": {
    "id": "rkbav_uwJ6Tq"
   },
   "source": [
    "## 활성화 함수: relu 이외에 Keras가 지원하는 다른 활성화 함수 사용 가능"
   ]
  },
  {
   "cell_type": "code",
   "execution_count": null,
   "metadata": {
    "colab": {
     "base_uri": "https://localhost:8080/"
    },
    "id": "ioLNEQNg3T8u",
    "outputId": "07765969-d80b-409d-ba9b-f36fe8910494"
   },
   "outputs": [],
   "source": [
    "# LeakyReLU 기본 설정\n",
    "\n",
    "\n",
    "# LeakyReLU, alpha=0.2 로 변경\n"
   ]
  },
  {
   "cell_type": "code",
   "execution_count": null,
   "metadata": {
    "colab": {
     "base_uri": "https://localhost:8080/"
    },
    "id": "CHsonIffUsL2",
    "outputId": "3a005223-eb4d-4fe3-8d64-220b73f0cdbc"
   },
   "outputs": [],
   "source": [
    "# Model C: Dense + BatchNorm + LeakyReLU(0.2)\n",
    "\n",
    "# 모델 요약\n"
   ]
  },
  {
   "cell_type": "code",
   "execution_count": null,
   "metadata": {
    "id": "QO4hIMAn0JiS"
   },
   "outputs": [],
   "source": [
    "\n",
    "# Model A: Dense + ReLU\n",
    "\n",
    "# Model B: Dense + BatchNorm + ReLU\n",
    "\n",
    "# Model C: Dense + BatchNorm + LeakyReLU(0.2)\n"
   ]
  },
  {
   "cell_type": "code",
   "execution_count": 21,
   "metadata": {
    "colab": {
     "base_uri": "https://localhost:8080/",
     "height": 572
    },
    "id": "_mkn51mV0koD",
    "outputId": "9661cdd5-2d7c-4030-ec80-2bf40a6504ed"
   },
   "outputs": [
    {
     "name": "stdout",
     "output_type": "stream",
     "text": [
      "Epoch 1/10\n",
      "1875/1875 [==============================] - 4s 2ms/step - loss: 1.2316 - accuracy: 0.7737 - val_loss: 0.4826 - val_accuracy: 0.8725\n",
      "Epoch 2/10\n",
      "1875/1875 [==============================] - 5s 3ms/step - loss: 0.3532 - accuracy: 0.9031 - val_loss: 0.2882 - val_accuracy: 0.9217\n",
      "Epoch 3/10\n",
      "1875/1875 [==============================] - 5s 3ms/step - loss: 0.2541 - accuracy: 0.9298 - val_loss: 0.2298 - val_accuracy: 0.9395\n",
      "Epoch 4/10\n",
      "1875/1875 [==============================] - 5s 3ms/step - loss: 0.2023 - accuracy: 0.9443 - val_loss: 0.2330 - val_accuracy: 0.9397\n",
      "Epoch 5/10\n",
      "1875/1875 [==============================] - 4s 2ms/step - loss: 0.1736 - accuracy: 0.9514 - val_loss: 0.1916 - val_accuracy: 0.9527\n",
      "Epoch 6/10\n",
      "1875/1875 [==============================] - 5s 3ms/step - loss: 0.1452 - accuracy: 0.9590 - val_loss: 0.1842 - val_accuracy: 0.9526\n",
      "Epoch 7/10\n",
      "1875/1875 [==============================] - 5s 3ms/step - loss: 0.1288 - accuracy: 0.9639 - val_loss: 0.1583 - val_accuracy: 0.9618\n",
      "Epoch 8/10\n",
      "1875/1875 [==============================] - 6s 3ms/step - loss: 0.1200 - accuracy: 0.9665 - val_loss: 0.1609 - val_accuracy: 0.9607\n",
      "Epoch 9/10\n",
      "1875/1875 [==============================] - 5s 3ms/step - loss: 0.1113 - accuracy: 0.9689 - val_loss: 0.1688 - val_accuracy: 0.9609\n",
      "Epoch 10/10\n",
      "1875/1875 [==============================] - 5s 3ms/step - loss: 0.1039 - accuracy: 0.9711 - val_loss: 0.1610 - val_accuracy: 0.9626\n",
      "Epoch 1/10\n",
      "1875/1875 [==============================] - 6s 3ms/step - loss: 0.3227 - accuracy: 0.9106 - val_loss: 0.1448 - val_accuracy: 0.9542\n",
      "Epoch 2/10\n",
      "1875/1875 [==============================] - 5s 3ms/step - loss: 0.1455 - accuracy: 0.9562 - val_loss: 0.1063 - val_accuracy: 0.9657\n",
      "Epoch 3/10\n",
      "1875/1875 [==============================] - 5s 3ms/step - loss: 0.1124 - accuracy: 0.9653 - val_loss: 0.0921 - val_accuracy: 0.9703\n",
      "Epoch 4/10\n",
      "1875/1875 [==============================] - 5s 2ms/step - loss: 0.0942 - accuracy: 0.9706 - val_loss: 0.0824 - val_accuracy: 0.9737\n",
      "Epoch 5/10\n",
      "1875/1875 [==============================] - 6s 3ms/step - loss: 0.0822 - accuracy: 0.9735 - val_loss: 0.0844 - val_accuracy: 0.9727\n",
      "Epoch 6/10\n",
      "1875/1875 [==============================] - 5s 3ms/step - loss: 0.0723 - accuracy: 0.9774 - val_loss: 0.0783 - val_accuracy: 0.9754\n",
      "Epoch 7/10\n",
      "1875/1875 [==============================] - 6s 3ms/step - loss: 0.0653 - accuracy: 0.9785 - val_loss: 0.0759 - val_accuracy: 0.9783\n",
      "Epoch 8/10\n",
      "1875/1875 [==============================] - 5s 3ms/step - loss: 0.0609 - accuracy: 0.9803 - val_loss: 0.0783 - val_accuracy: 0.9758\n",
      "Epoch 9/10\n",
      "1875/1875 [==============================] - 6s 3ms/step - loss: 0.0567 - accuracy: 0.9810 - val_loss: 0.0744 - val_accuracy: 0.9769\n",
      "Epoch 10/10\n",
      "1875/1875 [==============================] - 5s 3ms/step - loss: 0.0537 - accuracy: 0.9823 - val_loss: 0.0775 - val_accuracy: 0.9752\n"
     ]
    }
   ],
   "source": [
    "# 컴파일\n",
    "model_a.compile(loss='sparse_categorical_crossentropy', metrics='accuracy', \\\n",
    "    optimizer='adam')\n",
    "model_b.compile(loss='sparse_categorical_crossentropy', metrics='accuracy', \\\n",
    "    optimizer='adam')\n",
    "# 학습 \n",
    "hist_a = model_a.fit(x_train, y_train, validation_data=(x_test, y_test), epochs=10)\n",
    "hist_b = model_b.fit(x_train, y_train, validation_data=(x_test, y_test), epochs=10)\n",
    "# 시각화\n"
   ]
  },
  {
   "cell_type": "code",
   "execution_count": 23,
   "metadata": {},
   "outputs": [
    {
     "name": "stdout",
     "output_type": "stream",
     "text": [
      "       loss  accuracy  val_loss  val_accuracy\n",
      "0  1.231599  0.773733  0.482620        0.8725\n",
      "1  0.353221  0.903100  0.288152        0.9217\n",
      "2  0.254070  0.929833  0.229807        0.9395\n",
      "3  0.202268  0.944283  0.233044        0.9397\n",
      "4  0.173622  0.951383  0.191564        0.9527\n",
      "5  0.145200  0.958967  0.184215        0.9526\n",
      "6  0.128802  0.963950  0.158323        0.9618\n",
      "7  0.120013  0.966533  0.160873        0.9607\n",
      "8  0.111263  0.968867  0.168776        0.9609\n",
      "9  0.103866  0.971067  0.161019        0.9626\n",
      "****************************************************************************************************\n",
      "       loss  accuracy  val_loss  val_accuracy\n",
      "0  0.322711  0.910633  0.144831        0.9542\n",
      "1  0.145545  0.956217  0.106282        0.9657\n",
      "2  0.112406  0.965267  0.092116        0.9703\n",
      "3  0.094246  0.970633  0.082362        0.9737\n",
      "4  0.082213  0.973450  0.084436        0.9727\n",
      "5  0.072316  0.977417  0.078350        0.9754\n",
      "6  0.065252  0.978517  0.075891        0.9783\n",
      "7  0.060888  0.980283  0.078344        0.9758\n",
      "8  0.056669  0.981033  0.074368        0.9769\n",
      "9  0.053676  0.982333  0.077530        0.9752\n"
     ]
    }
   ],
   "source": [
    "import pandas as pd\n",
    "print(pd.DataFrame(hist_a.history))\n",
    "print('*'*100)\n",
    "print(pd.DataFrame(hist_b.history))"
   ]
  }
 ],
 "metadata": {
  "colab": {
   "collapsed_sections": [],
   "name": "3.4_model_configuration.ipynb",
   "provenance": []
  },
  "kernelspec": {
   "display_name": "tf2",
   "language": "python",
   "name": "python3"
  },
  "language_info": {
   "codemirror_mode": {
    "name": "ipython",
    "version": 3
   },
   "file_extension": ".py",
   "mimetype": "text/x-python",
   "name": "python",
   "nbconvert_exporter": "python",
   "pygments_lexer": "ipython3",
   "version": "3.8.16"
  },
  "vscode": {
   "interpreter": {
    "hash": "eb40c81b4dc7c84c0d63c497104c6b1d59507859779ef83084b0feb883d48ace"
   }
  }
 },
 "nbformat": 4,
 "nbformat_minor": 1
}
