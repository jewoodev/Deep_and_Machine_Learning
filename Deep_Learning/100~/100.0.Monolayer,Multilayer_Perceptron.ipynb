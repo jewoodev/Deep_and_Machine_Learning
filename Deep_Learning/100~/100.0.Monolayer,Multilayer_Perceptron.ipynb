{
 "cells": [
  {
   "cell_type": "markdown",
   "metadata": {},
   "source": [
    "# And/Or 연산을 수행하는 퍼셉트론"
   ]
  },
  {
   "cell_type": "code",
   "execution_count": 56,
   "metadata": {},
   "outputs": [],
   "source": [
    "def perceptron(x1, x2, b):\n",
    "    z = w1 * x1 + w2 * x2 + b\n",
    "    if z <= 0:\n",
    "        return -1\n",
    "    else:\n",
    "        return 0"
   ]
  },
  {
   "cell_type": "code",
   "execution_count": 57,
   "metadata": {},
   "outputs": [
    {
     "name": "stdout",
     "output_type": "stream",
     "text": [
      "AND Gate\n",
      "(1, 1) : -1\n",
      "(1, 0) : 0\n",
      "(0, 1) : 0\n",
      "(0, 0) : 0\n"
     ]
    }
   ],
   "source": [
    "print(\"AND Gate\")\n",
    "w1 = float(input(\"Enter the weight for x1: \"))\n",
    "w2 = float(input('Enter the weight for x2: '))\n",
    "bias = float(input(\"Enter the bias\"))\n",
    "\n",
    "for xs in [(1, 1), (1, 0), (0, 1), (0, 0)]:\n",
    "    result = perceptron(xs[0], xs[1], bias)\n",
    "    print(xs,':', result)"
   ]
  },
  {
   "cell_type": "code",
   "execution_count": 86,
   "metadata": {},
   "outputs": [
    {
     "name": "stdout",
     "output_type": "stream",
     "text": [
      "OR Gate\n",
      "(1, 1) : -1\n",
      "(1, 0) : -1\n",
      "(0, 1) : -1\n",
      "(0, 0) : 0\n"
     ]
    }
   ],
   "source": [
    "print(\"OR Gate\")\n",
    "w1 = float(input(\"Enter the weight for x1: \"))\n",
    "w2 = float(input('Enter the weight for x2: '))\n",
    "bias = float(input(\"Enter the bias\"))\n",
    "\n",
    "for xs in [(1, 1), (1, 0), (0, 1), (0, 0)]:\n",
    "    result = perceptron(xs[0], xs[1], bias)\n",
    "    print(xs,':', result)"
   ]
  },
  {
   "cell_type": "markdown",
   "metadata": {},
   "source": [
    "# 단층 퍼셉트론 연습"
   ]
  },
  {
   "cell_type": "code",
   "execution_count": 59,
   "metadata": {},
   "outputs": [],
   "source": [
    "import sklearn.datasets as d\n",
    "import sklearn.model_selection as ms\n",
    "import sklearn.linear_model as lm\n",
    "import sklearn.metrics as mt\n",
    "import numpy as np"
   ]
  },
  {
   "cell_type": "code",
   "execution_count": 60,
   "metadata": {},
   "outputs": [],
   "source": [
    "from sklearn.datasets import load_iris\n",
    "from sklearn.linear_model import Perceptron\n",
    "from sklearn.model_selection import train_test_split\n",
    "from sklearn.metrics import accuracy_score\n",
    "\n",
    "import numpy as np\n",
    "import pandas as pd"
   ]
  },
  {
   "cell_type": "code",
   "execution_count": 61,
   "metadata": {},
   "outputs": [
    {
     "data": {
      "text/plain": [
       "0.8"
      ]
     },
     "execution_count": 61,
     "metadata": {},
     "output_type": "execute_result"
    }
   ],
   "source": [
    "iris = load_iris()\n",
    "\n",
    "X = iris.data\n",
    "y = iris.target\n",
    "\n",
    "X_train, X_test, y_train, y_test = train_test_split(X, y, test_size=0.3, random_state=0)\n",
    "\n",
    "clf = Perceptron(max_iter=2000, eta0=0.1, tol=0.001)\n",
    "clf.fit(X_train, y_train)\n",
    "y_pred = clf.predict(X_test)\n",
    "accuracy_score(y_test, y_pred)"
   ]
  },
  {
   "cell_type": "code",
   "execution_count": 62,
   "metadata": {},
   "outputs": [
    {
     "data": {
      "text/plain": [
       "array([[16,  0,  0],\n",
       "       [ 2,  9,  7],\n",
       "       [ 0,  0, 11]], dtype=int64)"
      ]
     },
     "execution_count": 62,
     "metadata": {},
     "output_type": "execute_result"
    }
   ],
   "source": [
    "from sklearn.metrics import confusion_matrix\n",
    "confusion_matrix(y_test, y_pred)"
   ]
  },
  {
   "cell_type": "markdown",
   "metadata": {},
   "source": [
    "# 다층 퍼셉트론 연습"
   ]
  },
  {
   "cell_type": "code",
   "execution_count": 63,
   "metadata": {},
   "outputs": [
    {
     "data": {
      "text/plain": [
       "'2.9.0'"
      ]
     },
     "execution_count": 63,
     "metadata": {},
     "output_type": "execute_result"
    }
   ],
   "source": [
    "import tensorflow as tf\n",
    "tf.__version__"
   ]
  },
  {
   "cell_type": "code",
   "execution_count": 64,
   "metadata": {},
   "outputs": [
    {
     "data": {
      "text/plain": [
       "'2.9.0'"
      ]
     },
     "execution_count": 64,
     "metadata": {},
     "output_type": "execute_result"
    }
   ],
   "source": [
    "from tensorflow import keras\n",
    "keras.__version__"
   ]
  },
  {
   "attachments": {},
   "cell_type": "markdown",
   "metadata": {},
   "source": [
    "# 심층 신경망"
   ]
  },
  {
   "cell_type": "code",
   "execution_count": 65,
   "metadata": {},
   "outputs": [],
   "source": [
    "#Keras 설치"
   ]
  },
  {
   "cell_type": "code",
   "execution_count": 66,
   "metadata": {},
   "outputs": [],
   "source": [
    "#!pip install --upgrade tensorflow"
   ]
  },
  {
   "cell_type": "code",
   "execution_count": 67,
   "metadata": {},
   "outputs": [],
   "source": [
    "#!pip install upgrade keras"
   ]
  },
  {
   "cell_type": "code",
   "execution_count": 68,
   "metadata": {},
   "outputs": [],
   "source": [
    "import keras"
   ]
  },
  {
   "cell_type": "code",
   "execution_count": 69,
   "metadata": {},
   "outputs": [
    {
     "data": {
      "text/plain": [
       "'2.9.0'"
      ]
     },
     "execution_count": 69,
     "metadata": {},
     "output_type": "execute_result"
    }
   ],
   "source": [
    "keras.__version__"
   ]
  },
  {
   "cell_type": "markdown",
   "metadata": {},
   "source": [
    "### [실습 1] Keras를 활용한 심층신경망 모델 구현(붓꽃 분류)"
   ]
  },
  {
   "cell_type": "code",
   "execution_count": 70,
   "metadata": {},
   "outputs": [],
   "source": [
    "#1) 데이터 전처리 및 분할\n",
    "from sklearn.datasets import load_iris\n",
    "\n",
    "iris = load_iris()\n",
    "X, y = iris.data, iris.target"
   ]
  },
  {
   "cell_type": "code",
   "execution_count": 71,
   "metadata": {},
   "outputs": [],
   "source": [
    "from tensorflow.keras.utils import to_categorical\n",
    "\n",
    "y = to_categorical(y, 3)\n",
    "\n",
    "from sklearn.model_selection import train_test_split\n",
    "\n",
    "X_train, X_test, y_train, y_test = train_test_split(X, y, test_size=0.3, random_state=0)"
   ]
  },
  {
   "cell_type": "code",
   "execution_count": 72,
   "metadata": {},
   "outputs": [
    {
     "data": {
      "text/plain": [
       "array([[1., 0., 0.],\n",
       "       [1., 0., 0.],\n",
       "       [1., 0., 0.],\n",
       "       [1., 0., 0.],\n",
       "       [1., 0., 0.],\n",
       "       [1., 0., 0.],\n",
       "       [1., 0., 0.],\n",
       "       [1., 0., 0.],\n",
       "       [1., 0., 0.],\n",
       "       [1., 0., 0.],\n",
       "       [1., 0., 0.],\n",
       "       [1., 0., 0.],\n",
       "       [1., 0., 0.],\n",
       "       [1., 0., 0.],\n",
       "       [1., 0., 0.],\n",
       "       [1., 0., 0.],\n",
       "       [1., 0., 0.],\n",
       "       [1., 0., 0.],\n",
       "       [1., 0., 0.],\n",
       "       [1., 0., 0.],\n",
       "       [1., 0., 0.],\n",
       "       [1., 0., 0.],\n",
       "       [1., 0., 0.],\n",
       "       [1., 0., 0.],\n",
       "       [1., 0., 0.],\n",
       "       [1., 0., 0.],\n",
       "       [1., 0., 0.],\n",
       "       [1., 0., 0.],\n",
       "       [1., 0., 0.],\n",
       "       [1., 0., 0.],\n",
       "       [1., 0., 0.],\n",
       "       [1., 0., 0.],\n",
       "       [1., 0., 0.],\n",
       "       [1., 0., 0.],\n",
       "       [1., 0., 0.],\n",
       "       [1., 0., 0.],\n",
       "       [1., 0., 0.],\n",
       "       [1., 0., 0.],\n",
       "       [1., 0., 0.],\n",
       "       [1., 0., 0.],\n",
       "       [1., 0., 0.],\n",
       "       [1., 0., 0.],\n",
       "       [1., 0., 0.],\n",
       "       [1., 0., 0.],\n",
       "       [1., 0., 0.],\n",
       "       [1., 0., 0.],\n",
       "       [1., 0., 0.],\n",
       "       [1., 0., 0.],\n",
       "       [1., 0., 0.],\n",
       "       [1., 0., 0.],\n",
       "       [0., 1., 0.],\n",
       "       [0., 1., 0.],\n",
       "       [0., 1., 0.],\n",
       "       [0., 1., 0.],\n",
       "       [0., 1., 0.],\n",
       "       [0., 1., 0.],\n",
       "       [0., 1., 0.],\n",
       "       [0., 1., 0.],\n",
       "       [0., 1., 0.],\n",
       "       [0., 1., 0.],\n",
       "       [0., 1., 0.],\n",
       "       [0., 1., 0.],\n",
       "       [0., 1., 0.],\n",
       "       [0., 1., 0.],\n",
       "       [0., 1., 0.],\n",
       "       [0., 1., 0.],\n",
       "       [0., 1., 0.],\n",
       "       [0., 1., 0.],\n",
       "       [0., 1., 0.],\n",
       "       [0., 1., 0.],\n",
       "       [0., 1., 0.],\n",
       "       [0., 1., 0.],\n",
       "       [0., 1., 0.],\n",
       "       [0., 1., 0.],\n",
       "       [0., 1., 0.],\n",
       "       [0., 1., 0.],\n",
       "       [0., 1., 0.],\n",
       "       [0., 1., 0.],\n",
       "       [0., 1., 0.],\n",
       "       [0., 1., 0.],\n",
       "       [0., 1., 0.],\n",
       "       [0., 1., 0.],\n",
       "       [0., 1., 0.],\n",
       "       [0., 1., 0.],\n",
       "       [0., 1., 0.],\n",
       "       [0., 1., 0.],\n",
       "       [0., 1., 0.],\n",
       "       [0., 1., 0.],\n",
       "       [0., 1., 0.],\n",
       "       [0., 1., 0.],\n",
       "       [0., 1., 0.],\n",
       "       [0., 1., 0.],\n",
       "       [0., 1., 0.],\n",
       "       [0., 1., 0.],\n",
       "       [0., 1., 0.],\n",
       "       [0., 1., 0.],\n",
       "       [0., 1., 0.],\n",
       "       [0., 1., 0.],\n",
       "       [0., 1., 0.],\n",
       "       [0., 1., 0.],\n",
       "       [0., 0., 1.],\n",
       "       [0., 0., 1.],\n",
       "       [0., 0., 1.],\n",
       "       [0., 0., 1.],\n",
       "       [0., 0., 1.],\n",
       "       [0., 0., 1.],\n",
       "       [0., 0., 1.],\n",
       "       [0., 0., 1.],\n",
       "       [0., 0., 1.],\n",
       "       [0., 0., 1.],\n",
       "       [0., 0., 1.],\n",
       "       [0., 0., 1.],\n",
       "       [0., 0., 1.],\n",
       "       [0., 0., 1.],\n",
       "       [0., 0., 1.],\n",
       "       [0., 0., 1.],\n",
       "       [0., 0., 1.],\n",
       "       [0., 0., 1.],\n",
       "       [0., 0., 1.],\n",
       "       [0., 0., 1.],\n",
       "       [0., 0., 1.],\n",
       "       [0., 0., 1.],\n",
       "       [0., 0., 1.],\n",
       "       [0., 0., 1.],\n",
       "       [0., 0., 1.],\n",
       "       [0., 0., 1.],\n",
       "       [0., 0., 1.],\n",
       "       [0., 0., 1.],\n",
       "       [0., 0., 1.],\n",
       "       [0., 0., 1.],\n",
       "       [0., 0., 1.],\n",
       "       [0., 0., 1.],\n",
       "       [0., 0., 1.],\n",
       "       [0., 0., 1.],\n",
       "       [0., 0., 1.],\n",
       "       [0., 0., 1.],\n",
       "       [0., 0., 1.],\n",
       "       [0., 0., 1.],\n",
       "       [0., 0., 1.],\n",
       "       [0., 0., 1.],\n",
       "       [0., 0., 1.],\n",
       "       [0., 0., 1.],\n",
       "       [0., 0., 1.],\n",
       "       [0., 0., 1.],\n",
       "       [0., 0., 1.],\n",
       "       [0., 0., 1.],\n",
       "       [0., 0., 1.],\n",
       "       [0., 0., 1.],\n",
       "       [0., 0., 1.],\n",
       "       [0., 0., 1.]], dtype=float32)"
      ]
     },
     "execution_count": 72,
     "metadata": {},
     "output_type": "execute_result"
    }
   ],
   "source": [
    "y"
   ]
  },
  {
   "cell_type": "code",
   "execution_count": 73,
   "metadata": {},
   "outputs": [],
   "source": [
    "#2) 인공 신경망 모형 구성\n",
    "from keras.models import Sequential\n",
    "from keras.layers import Dense\n",
    "\n",
    "model = Sequential()\n",
    "model.add(Dense(units=8, input_dim=4, activation='relu')) # relu : 시그모이드보다 더 좋은 함수\n",
    "model.add(Dense(units=6, activation='relu'))\n",
    "model.add(Dense(units=3, activation='softmax'))"
   ]
  },
  {
   "cell_type": "code",
   "execution_count": 74,
   "metadata": {},
   "outputs": [],
   "source": [
    "# 3) 모형의 학습과정 설정\n",
    "model.compile(loss='categorical_crossentropy', optimizer='adam', metrics='accuracy')"
   ]
  },
  {
   "cell_type": "code",
   "execution_count": 75,
   "metadata": {},
   "outputs": [
    {
     "name": "stdout",
     "output_type": "stream",
     "text": [
      "Epoch 1/100\n",
      "11/11 [==============================] - 0s 1ms/step - loss: 1.8748 - accuracy: 0.4381\n",
      "Epoch 2/100\n",
      "11/11 [==============================] - 0s 1ms/step - loss: 1.6401 - accuracy: 0.6286\n",
      "Epoch 3/100\n",
      "11/11 [==============================] - 0s 1ms/step - loss: 1.4694 - accuracy: 0.6286\n",
      "Epoch 4/100\n",
      "11/11 [==============================] - 0s 858us/step - loss: 1.3320 - accuracy: 0.6286\n",
      "Epoch 5/100\n",
      "11/11 [==============================] - 0s 1ms/step - loss: 1.2745 - accuracy: 0.6000\n",
      "Epoch 6/100\n",
      "11/11 [==============================] - 0s 1ms/step - loss: 1.2256 - accuracy: 0.4952\n",
      "Epoch 7/100\n",
      "11/11 [==============================] - 0s 1ms/step - loss: 1.1889 - accuracy: 0.3905\n",
      "Epoch 8/100\n",
      "11/11 [==============================] - 0s 1ms/step - loss: 1.1397 - accuracy: 0.2952\n",
      "Epoch 9/100\n",
      "11/11 [==============================] - 0s 1ms/step - loss: 1.1117 - accuracy: 0.0381\n",
      "Epoch 10/100\n",
      "11/11 [==============================] - 0s 961us/step - loss: 1.1001 - accuracy: 0.1238\n",
      "Epoch 11/100\n",
      "11/11 [==============================] - 0s 1ms/step - loss: 1.0946 - accuracy: 0.3429\n",
      "Epoch 12/100\n",
      "11/11 [==============================] - 0s 904us/step - loss: 1.0918 - accuracy: 0.3619\n",
      "Epoch 13/100\n",
      "11/11 [==============================] - 0s 6ms/step - loss: 1.0871 - accuracy: 0.3619\n",
      "Epoch 14/100\n",
      "11/11 [==============================] - 0s 1ms/step - loss: 1.0833 - accuracy: 0.3619\n",
      "Epoch 15/100\n",
      "11/11 [==============================] - 0s 1000us/step - loss: 1.0797 - accuracy: 0.3619\n",
      "Epoch 16/100\n",
      "11/11 [==============================] - 0s 900us/step - loss: 1.0750 - accuracy: 0.3714\n",
      "Epoch 17/100\n",
      "11/11 [==============================] - 0s 1ms/step - loss: 1.0687 - accuracy: 0.3714\n",
      "Epoch 18/100\n",
      "11/11 [==============================] - 0s 1ms/step - loss: 1.0617 - accuracy: 0.3714\n",
      "Epoch 19/100\n",
      "11/11 [==============================] - 0s 1ms/step - loss: 1.0520 - accuracy: 0.3714\n",
      "Epoch 20/100\n",
      "11/11 [==============================] - 0s 1ms/step - loss: 1.0394 - accuracy: 0.3714\n",
      "Epoch 21/100\n",
      "11/11 [==============================] - 0s 1ms/step - loss: 1.0254 - accuracy: 0.3714\n",
      "Epoch 22/100\n",
      "11/11 [==============================] - 0s 1ms/step - loss: 1.0105 - accuracy: 0.3714\n",
      "Epoch 23/100\n",
      "11/11 [==============================] - 0s 1ms/step - loss: 0.9788 - accuracy: 0.3714\n",
      "Epoch 24/100\n",
      "11/11 [==============================] - 0s 1ms/step - loss: 0.9463 - accuracy: 0.4571\n",
      "Epoch 25/100\n",
      "11/11 [==============================] - 0s 1ms/step - loss: 0.9150 - accuracy: 0.6762\n",
      "Epoch 26/100\n",
      "11/11 [==============================] - 0s 968us/step - loss: 0.8926 - accuracy: 0.6667\n",
      "Epoch 27/100\n",
      "11/11 [==============================] - 0s 916us/step - loss: 0.8743 - accuracy: 0.6952\n",
      "Epoch 28/100\n",
      "11/11 [==============================] - 0s 907us/step - loss: 0.8609 - accuracy: 0.6857\n",
      "Epoch 29/100\n",
      "11/11 [==============================] - 0s 1ms/step - loss: 0.8447 - accuracy: 0.6952\n",
      "Epoch 30/100\n",
      "11/11 [==============================] - 0s 1ms/step - loss: 0.8342 - accuracy: 0.6952\n",
      "Epoch 31/100\n",
      "11/11 [==============================] - 0s 1ms/step - loss: 0.8204 - accuracy: 0.6952\n",
      "Epoch 32/100\n",
      "11/11 [==============================] - 0s 1ms/step - loss: 0.8090 - accuracy: 0.6952\n",
      "Epoch 33/100\n",
      "11/11 [==============================] - 0s 1ms/step - loss: 0.7988 - accuracy: 0.6952\n",
      "Epoch 34/100\n",
      "11/11 [==============================] - 0s 1ms/step - loss: 0.7888 - accuracy: 0.6952\n",
      "Epoch 35/100\n",
      "11/11 [==============================] - 0s 900us/step - loss: 0.7808 - accuracy: 0.6952\n",
      "Epoch 36/100\n",
      "11/11 [==============================] - 0s 903us/step - loss: 0.7730 - accuracy: 0.6952\n",
      "Epoch 37/100\n",
      "11/11 [==============================] - 0s 1ms/step - loss: 0.7641 - accuracy: 0.6952\n",
      "Epoch 38/100\n",
      "11/11 [==============================] - 0s 1ms/step - loss: 0.7580 - accuracy: 0.6952\n",
      "Epoch 39/100\n",
      "11/11 [==============================] - 0s 1ms/step - loss: 0.7507 - accuracy: 0.6952\n",
      "Epoch 40/100\n",
      "11/11 [==============================] - 0s 1ms/step - loss: 0.7421 - accuracy: 0.6952\n",
      "Epoch 41/100\n",
      "11/11 [==============================] - 0s 972us/step - loss: 0.7364 - accuracy: 0.6952\n",
      "Epoch 42/100\n",
      "11/11 [==============================] - 0s 3ms/step - loss: 0.7281 - accuracy: 0.6952\n",
      "Epoch 43/100\n",
      "11/11 [==============================] - 0s 1ms/step - loss: 0.7236 - accuracy: 0.6952\n",
      "Epoch 44/100\n",
      "11/11 [==============================] - 0s 1ms/step - loss: 0.7165 - accuracy: 0.6952\n",
      "Epoch 45/100\n",
      "11/11 [==============================] - 0s 1ms/step - loss: 0.7086 - accuracy: 0.6952\n",
      "Epoch 46/100\n",
      "11/11 [==============================] - 0s 1ms/step - loss: 0.7034 - accuracy: 0.6952\n",
      "Epoch 47/100\n",
      "11/11 [==============================] - 0s 1ms/step - loss: 0.6954 - accuracy: 0.6952\n",
      "Epoch 48/100\n",
      "11/11 [==============================] - 0s 847us/step - loss: 0.6894 - accuracy: 0.6952\n",
      "Epoch 49/100\n",
      "11/11 [==============================] - 0s 919us/step - loss: 0.6832 - accuracy: 0.6952\n",
      "Epoch 50/100\n",
      "11/11 [==============================] - 0s 1000us/step - loss: 0.6775 - accuracy: 0.6952\n",
      "Epoch 51/100\n",
      "11/11 [==============================] - 0s 1ms/step - loss: 0.6711 - accuracy: 0.6952\n",
      "Epoch 52/100\n",
      "11/11 [==============================] - 0s 1ms/step - loss: 0.6650 - accuracy: 0.6952\n",
      "Epoch 53/100\n",
      "11/11 [==============================] - 0s 1ms/step - loss: 0.6598 - accuracy: 0.6952\n",
      "Epoch 54/100\n",
      "11/11 [==============================] - 0s 1ms/step - loss: 0.6535 - accuracy: 0.6952\n",
      "Epoch 55/100\n",
      "11/11 [==============================] - 0s 900us/step - loss: 0.6479 - accuracy: 0.6952\n",
      "Epoch 56/100\n",
      "11/11 [==============================] - 0s 900us/step - loss: 0.6421 - accuracy: 0.6952\n",
      "Epoch 57/100\n",
      "11/11 [==============================] - 0s 998us/step - loss: 0.6369 - accuracy: 0.6952\n",
      "Epoch 58/100\n",
      "11/11 [==============================] - 0s 1ms/step - loss: 0.6304 - accuracy: 0.6952\n",
      "Epoch 59/100\n",
      "11/11 [==============================] - 0s 1ms/step - loss: 0.6253 - accuracy: 0.6952\n",
      "Epoch 60/100\n",
      "11/11 [==============================] - 0s 985us/step - loss: 0.6196 - accuracy: 0.6952\n",
      "Epoch 61/100\n",
      "11/11 [==============================] - 0s 4ms/step - loss: 0.6139 - accuracy: 0.7143\n",
      "Epoch 62/100\n",
      "11/11 [==============================] - 0s 1ms/step - loss: 0.6104 - accuracy: 0.7143\n",
      "Epoch 63/100\n",
      "11/11 [==============================] - 0s 1ms/step - loss: 0.6039 - accuracy: 0.7238\n",
      "Epoch 64/100\n",
      "11/11 [==============================] - 0s 1ms/step - loss: 0.6008 - accuracy: 0.7333\n",
      "Epoch 65/100\n",
      "11/11 [==============================] - 0s 1ms/step - loss: 0.5916 - accuracy: 0.7333\n",
      "Epoch 66/100\n",
      "11/11 [==============================] - 0s 800us/step - loss: 0.5879 - accuracy: 0.7619\n",
      "Epoch 67/100\n",
      "11/11 [==============================] - 0s 909us/step - loss: 0.5822 - accuracy: 0.7810\n",
      "Epoch 68/100\n",
      "11/11 [==============================] - 0s 1ms/step - loss: 0.5804 - accuracy: 0.7524\n",
      "Epoch 69/100\n",
      "11/11 [==============================] - 0s 1ms/step - loss: 0.5716 - accuracy: 0.8000\n",
      "Epoch 70/100\n",
      "11/11 [==============================] - 0s 1ms/step - loss: 0.5663 - accuracy: 0.8667\n",
      "Epoch 71/100\n",
      "11/11 [==============================] - 0s 1ms/step - loss: 0.5602 - accuracy: 0.8286\n",
      "Epoch 72/100\n",
      "11/11 [==============================] - 0s 1ms/step - loss: 0.5562 - accuracy: 0.8476\n",
      "Epoch 73/100\n",
      "11/11 [==============================] - 0s 913us/step - loss: 0.5503 - accuracy: 0.8476\n",
      "Epoch 74/100\n",
      "11/11 [==============================] - 0s 800us/step - loss: 0.5461 - accuracy: 0.8762\n",
      "Epoch 75/100\n",
      "11/11 [==============================] - 0s 900us/step - loss: 0.5399 - accuracy: 0.8762\n",
      "Epoch 76/100\n",
      "11/11 [==============================] - 0s 1ms/step - loss: 0.5353 - accuracy: 0.8762\n",
      "Epoch 77/100\n",
      "11/11 [==============================] - 0s 1ms/step - loss: 0.5308 - accuracy: 0.8762\n",
      "Epoch 78/100\n",
      "11/11 [==============================] - 0s 1ms/step - loss: 0.5251 - accuracy: 0.8762\n",
      "Epoch 79/100\n",
      "11/11 [==============================] - 0s 708us/step - loss: 0.5200 - accuracy: 0.8952\n",
      "Epoch 80/100\n",
      "11/11 [==============================] - 0s 6ms/step - loss: 0.5155 - accuracy: 0.8762\n",
      "Epoch 81/100\n",
      "11/11 [==============================] - 0s 1ms/step - loss: 0.5135 - accuracy: 0.8952\n",
      "Epoch 82/100\n",
      "11/11 [==============================] - 0s 1ms/step - loss: 0.5045 - accuracy: 0.8952\n",
      "Epoch 83/100\n",
      "11/11 [==============================] - 0s 2ms/step - loss: 0.5009 - accuracy: 0.8762\n",
      "Epoch 84/100\n",
      "11/11 [==============================] - 0s 1ms/step - loss: 0.4964 - accuracy: 0.9048\n",
      "Epoch 85/100\n",
      "11/11 [==============================] - 0s 2ms/step - loss: 0.4911 - accuracy: 0.9048\n",
      "Epoch 86/100\n",
      "11/11 [==============================] - 0s 2ms/step - loss: 0.4863 - accuracy: 0.9048\n",
      "Epoch 87/100\n",
      "11/11 [==============================] - 0s 2ms/step - loss: 0.4810 - accuracy: 0.8952\n",
      "Epoch 88/100\n",
      "11/11 [==============================] - 0s 1ms/step - loss: 0.4763 - accuracy: 0.9333\n",
      "Epoch 89/100\n",
      "11/11 [==============================] - 0s 1ms/step - loss: 0.4717 - accuracy: 0.9333\n",
      "Epoch 90/100\n",
      "11/11 [==============================] - 0s 1ms/step - loss: 0.4674 - accuracy: 0.9143\n",
      "Epoch 91/100\n",
      "11/11 [==============================] - 0s 1ms/step - loss: 0.4621 - accuracy: 0.9429\n",
      "Epoch 92/100\n",
      "11/11 [==============================] - 0s 1ms/step - loss: 0.4573 - accuracy: 0.9429\n",
      "Epoch 93/100\n",
      "11/11 [==============================] - 0s 2ms/step - loss: 0.4527 - accuracy: 0.9429\n",
      "Epoch 94/100\n",
      "11/11 [==============================] - 0s 2ms/step - loss: 0.4494 - accuracy: 0.9238\n",
      "Epoch 95/100\n",
      "11/11 [==============================] - 0s 1ms/step - loss: 0.4440 - accuracy: 0.9429\n",
      "Epoch 96/100\n",
      "11/11 [==============================] - 0s 1ms/step - loss: 0.4396 - accuracy: 0.9524\n",
      "Epoch 97/100\n",
      "11/11 [==============================] - 0s 1ms/step - loss: 0.4347 - accuracy: 0.9429\n",
      "Epoch 98/100\n",
      "11/11 [==============================] - 0s 2ms/step - loss: 0.4342 - accuracy: 0.9238\n",
      "Epoch 99/100\n",
      "11/11 [==============================] - 0s 1ms/step - loss: 0.4292 - accuracy: 0.9524\n",
      "Epoch 100/100\n",
      "11/11 [==============================] - 0s 2ms/step - loss: 0.4213 - accuracy: 0.9429\n"
     ]
    }
   ],
   "source": [
    "# 4)모델 학습\n",
    "hist = model.fit(X_train, y_train, epochs=100, batch_size=10, verbose=True)"
   ]
  },
  {
   "cell_type": "code",
   "execution_count": 76,
   "metadata": {},
   "outputs": [
    {
     "data": {
      "text/html": [
       "<div>\n",
       "<style scoped>\n",
       "    .dataframe tbody tr th:only-of-type {\n",
       "        vertical-align: middle;\n",
       "    }\n",
       "\n",
       "    .dataframe tbody tr th {\n",
       "        vertical-align: top;\n",
       "    }\n",
       "\n",
       "    .dataframe thead th {\n",
       "        text-align: right;\n",
       "    }\n",
       "</style>\n",
       "<table border=\"1\" class=\"dataframe\">\n",
       "  <thead>\n",
       "    <tr style=\"text-align: right;\">\n",
       "      <th></th>\n",
       "      <th>loss</th>\n",
       "      <th>accuracy</th>\n",
       "    </tr>\n",
       "  </thead>\n",
       "  <tbody>\n",
       "    <tr>\n",
       "      <th>0</th>\n",
       "      <td>1.874790</td>\n",
       "      <td>0.438095</td>\n",
       "    </tr>\n",
       "    <tr>\n",
       "      <th>1</th>\n",
       "      <td>1.640068</td>\n",
       "      <td>0.628571</td>\n",
       "    </tr>\n",
       "    <tr>\n",
       "      <th>2</th>\n",
       "      <td>1.469442</td>\n",
       "      <td>0.628571</td>\n",
       "    </tr>\n",
       "    <tr>\n",
       "      <th>3</th>\n",
       "      <td>1.332028</td>\n",
       "      <td>0.628571</td>\n",
       "    </tr>\n",
       "    <tr>\n",
       "      <th>4</th>\n",
       "      <td>1.274494</td>\n",
       "      <td>0.600000</td>\n",
       "    </tr>\n",
       "    <tr>\n",
       "      <th>...</th>\n",
       "      <td>...</td>\n",
       "      <td>...</td>\n",
       "    </tr>\n",
       "    <tr>\n",
       "      <th>95</th>\n",
       "      <td>0.439587</td>\n",
       "      <td>0.952381</td>\n",
       "    </tr>\n",
       "    <tr>\n",
       "      <th>96</th>\n",
       "      <td>0.434749</td>\n",
       "      <td>0.942857</td>\n",
       "    </tr>\n",
       "    <tr>\n",
       "      <th>97</th>\n",
       "      <td>0.434185</td>\n",
       "      <td>0.923810</td>\n",
       "    </tr>\n",
       "    <tr>\n",
       "      <th>98</th>\n",
       "      <td>0.429187</td>\n",
       "      <td>0.952381</td>\n",
       "    </tr>\n",
       "    <tr>\n",
       "      <th>99</th>\n",
       "      <td>0.421311</td>\n",
       "      <td>0.942857</td>\n",
       "    </tr>\n",
       "  </tbody>\n",
       "</table>\n",
       "<p>100 rows × 2 columns</p>\n",
       "</div>"
      ],
      "text/plain": [
       "        loss  accuracy\n",
       "0   1.874790  0.438095\n",
       "1   1.640068  0.628571\n",
       "2   1.469442  0.628571\n",
       "3   1.332028  0.628571\n",
       "4   1.274494  0.600000\n",
       "..       ...       ...\n",
       "95  0.439587  0.952381\n",
       "96  0.434749  0.942857\n",
       "97  0.434185  0.923810\n",
       "98  0.429187  0.952381\n",
       "99  0.421311  0.942857\n",
       "\n",
       "[100 rows x 2 columns]"
      ]
     },
     "execution_count": 76,
     "metadata": {},
     "output_type": "execute_result"
    }
   ],
   "source": [
    "# epoch별 손실함수 값, 평가지표 시각화\n",
    "import pandas as pd\n",
    "pd.DataFrame(hist.history)"
   ]
  },
  {
   "cell_type": "code",
   "execution_count": 77,
   "metadata": {},
   "outputs": [
    {
     "data": {
      "image/png": "[encoded data removed]",
      "text/plain": [
       "<Figure size 500x500 with 1 Axes>"
      ]
     },
     "metadata": {},
     "output_type": "display_data"
    }
   ],
   "source": [
    "# epoch별 손실함수 값, 평가지표 시각화\n",
    "import matplotlib.pyplot as plt\n",
    "\n",
    "plt.figure(figsize=(5, 5))\n",
    "plt.plot(range(1, 101), hist.history['loss'], label='loss')\n",
    "plt.plot(range(1, 101), hist.history['accuracy'], label='accuracy')\n",
    "plt.xlabel('epoch')\n",
    "plt.legend()\n",
    "plt.show()"
   ]
  },
  {
   "cell_type": "code",
   "execution_count": 78,
   "metadata": {},
   "outputs": [
    {
     "name": "stdout",
     "output_type": "stream",
     "text": [
      "2/2 [==============================] - 0s 3ms/step - loss: 0.4954 - accuracy: 0.8667\n",
      "loss=0.495\n",
      "accuracy=0.867\n"
     ]
    }
   ],
   "source": [
    "# 5) 모형의 성능평가\n",
    "\n",
    "loss, acc = model.evaluate(X_test, y_test) # 디폴트 배치값이 32이라서 2번으로 진행됨\n",
    "print(f'loss={loss:.3f}')\n",
    "print(f'accuracy={acc:.3f}')"
   ]
  },
  {
   "cell_type": "code",
   "execution_count": 79,
   "metadata": {},
   "outputs": [],
   "source": [
    "import numpy as np\n",
    "np.set_printoptions(suppress=True)"
   ]
  },
  {
   "cell_type": "code",
   "execution_count": 80,
   "metadata": {},
   "outputs": [
    {
     "name": "stdout",
     "output_type": "stream",
     "text": [
      "2/2 [==============================] - 0s 6ms/step\n"
     ]
    },
    {
     "data": {
      "text/plain": [
       "array([[0.00003812, 0.07399039, 0.92597145],\n",
       "       [0.02654966, 0.6131853 , 0.36026508],\n",
       "       [0.59130156, 0.26472688, 0.14397158],\n",
       "       [0.00011047, 0.12919018, 0.8706993 ],\n",
       "       [0.59130156, 0.26472688, 0.14397158],\n",
       "       [0.00000968, 0.05562649, 0.9443638 ],\n",
       "       [0.59130156, 0.26472688, 0.14397158],\n",
       "       [0.00441402, 0.5561253 , 0.43946066],\n",
       "       [0.00467422, 0.49886847, 0.49645737],\n",
       "       [0.01452724, 0.63449174, 0.35098106],\n",
       "       [0.00065421, 0.21977489, 0.77957094],\n",
       "       [0.00534913, 0.6052006 , 0.3894502 ],\n",
       "       [0.00693435, 0.5520371 , 0.44102845],\n",
       "       [0.00400172, 0.47397467, 0.5220237 ],\n",
       "       [0.00394045, 0.49006888, 0.5059906 ],\n",
       "       [0.59130156, 0.26472688, 0.14397158],\n",
       "       [0.00376699, 0.48292744, 0.51330554],\n",
       "       [0.00733705, 0.5116366 , 0.48102626],\n",
       "       [0.59130156, 0.26472688, 0.14397158],\n",
       "       [0.59130156, 0.26472688, 0.14397158],\n",
       "       [0.0002316 , 0.16061822, 0.83915013],\n",
       "       [0.00318468, 0.47681016, 0.52000517],\n",
       "       [0.59130156, 0.26472688, 0.14397158],\n",
       "       [0.59130156, 0.26472688, 0.14397158],\n",
       "       [0.00086199, 0.27598324, 0.7231548 ],\n",
       "       [0.59130156, 0.26472688, 0.14397158],\n",
       "       [0.5595605 , 0.28523815, 0.15520135],\n",
       "       [0.01036053, 0.6348308 , 0.35480878],\n",
       "       [0.04400304, 0.6164379 , 0.339559  ],\n",
       "       [0.59130156, 0.26472688, 0.14397158],\n",
       "       [0.00034083, 0.2285636 , 0.77109563],\n",
       "       [0.00284758, 0.45900017, 0.5381523 ],\n",
       "       [0.59130156, 0.26472688, 0.14397158],\n",
       "       [0.00078748, 0.2973423 , 0.7018702 ],\n",
       "       [0.00004621, 0.08154013, 0.9184137 ],\n",
       "       [0.00782718, 0.54157907, 0.4505937 ],\n",
       "       [0.59130156, 0.26472688, 0.14397158],\n",
       "       [0.00082329, 0.25490084, 0.74427587],\n",
       "       [0.00601416, 0.57443386, 0.419552  ],\n",
       "       [0.01576499, 0.62643325, 0.35780174],\n",
       "       [0.00013312, 0.14758117, 0.8522857 ],\n",
       "       [0.59130156, 0.26472688, 0.14397158],\n",
       "       [0.00016019, 0.17019908, 0.82964075],\n",
       "       [0.52136606, 0.30991146, 0.16872253],\n",
       "       [0.59130156, 0.26472688, 0.14397158]], dtype=float32)"
      ]
     },
     "execution_count": 80,
     "metadata": {},
     "output_type": "execute_result"
    }
   ],
   "source": [
    "y_pred = model.predict(X_test)\n",
    "y_pred\n",
    "# scickit learn 과 다르게 클래스 이름을 알기 위해 추가적인 코딩이 필요하다\n",
    "#  0일 확률     1일 확률    2일 확률"
   ]
  },
  {
   "cell_type": "code",
   "execution_count": 81,
   "metadata": {},
   "outputs": [
    {
     "data": {
      "text/plain": [
       "array([2, 1, 0, 2, 0, 2, 0, 1, 1, 1, 2, 1, 1, 2, 2, 0, 2, 1, 0, 0, 2, 2,\n",
       "       0, 0, 2, 0, 0, 1, 1, 0, 2, 2, 0, 2, 2, 1, 0, 2, 1, 1, 2, 0, 2, 0,\n",
       "       0], dtype=int64)"
      ]
     },
     "execution_count": 81,
     "metadata": {},
     "output_type": "execute_result"
    }
   ],
   "source": [
    "np.argmax(y_pred, axis=-1) # axis=-1은 가로로 봐달라는 파라미터"
   ]
  },
  {
   "cell_type": "code",
   "execution_count": 82,
   "metadata": {},
   "outputs": [
    {
     "data": {
      "text/plain": [
       "array([2, 1, 0, 2, 0, 2, 0, 1, 1, 1, 2, 1, 1, 2, 2, 0, 2, 1, 0, 0, 2, 2,\n",
       "       0, 0, 2, 0, 0, 1, 1, 0, 2, 2, 0, 2, 2, 1, 0, 2, 1, 1, 2, 0, 2, 0,\n",
       "       0], dtype=int64)"
      ]
     },
     "execution_count": 82,
     "metadata": {},
     "output_type": "execute_result"
    }
   ],
   "source": [
    "y_pred_class = np.argmax(y_pred, axis=-1) # axis=-1은 가로로 봐달라는 파라미터\n",
    "y_pred_class"
   ]
  },
  {
   "cell_type": "code",
   "execution_count": 83,
   "metadata": {},
   "outputs": [
    {
     "data": {
      "text/plain": [
       "array([2, 1, 0, 2, 0, 2, 0, 1, 1, 1, 2, 1, 1, 1, 1, 0, 1, 1, 0, 0, 2, 1,\n",
       "       0, 0, 2, 0, 0, 1, 1, 0, 2, 1, 0, 2, 2, 1, 0, 1, 1, 1, 2, 0, 2, 0,\n",
       "       0], dtype=int64)"
      ]
     },
     "execution_count": 83,
     "metadata": {},
     "output_type": "execute_result"
    }
   ],
   "source": [
    "y_test_class = np.argmax(y_test, axis=-1)\n",
    "y_test_class"
   ]
  },
  {
   "cell_type": "code",
   "execution_count": 84,
   "metadata": {},
   "outputs": [
    {
     "data": {
      "text/plain": [
       "0.8666666666666667"
      ]
     },
     "execution_count": 84,
     "metadata": {},
     "output_type": "execute_result"
    }
   ],
   "source": [
    "from sklearn.metrics import accuracy_score\n",
    "accuracy_score(y_test_class, y_pred_class)"
   ]
  },
  {
   "cell_type": "code",
   "execution_count": 85,
   "metadata": {},
   "outputs": [],
   "source": [
    "#6)  임의 데이터에 대해 모형의 출력을 확인한다.\n",
    "\n"
   ]
  }
 ],
 "metadata": {
  "kernelspec": {
   "display_name": "tf2",
   "language": "python",
   "name": "python3"
  },
  "language_info": {
   "codemirror_mode": {
    "name": "ipython",
    "version": 3
   },
   "file_extension": ".py",
   "mimetype": "text/x-python",
   "name": "python",
   "nbconvert_exporter": "python",
   "pygments_lexer": "ipython3",
   "version": "3.8.16"
  },
  "vscode": {
   "interpreter": {
    "hash": "eb40c81b4dc7c84c0d63c497104c6b1d59507859779ef83084b0feb883d48ace"
   }
  }
 },
 "nbformat": 4,
 "nbformat_minor": 4
}
