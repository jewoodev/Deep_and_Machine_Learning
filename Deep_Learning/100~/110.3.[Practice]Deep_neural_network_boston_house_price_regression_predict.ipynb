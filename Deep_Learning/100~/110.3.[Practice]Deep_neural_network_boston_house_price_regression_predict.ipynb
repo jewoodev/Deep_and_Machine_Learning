{
 "cells": [
  {
   "cell_type": "markdown",
   "metadata": {},
   "source": [
    "# Keras를 활용한 심층 신경망 실습 - 보스턴 주택가격 회귀 계측"
   ]
  },
  {
   "cell_type": "code",
   "execution_count": 15,
   "metadata": {},
   "outputs": [],
   "source": [
    "import pandas as pd\n",
    "import numpy as np\n",
    "import tensorflow as tf\n",
    "from tensorflow import keras\n",
    "import random"
   ]
  },
  {
   "cell_type": "code",
   "execution_count": 16,
   "metadata": {},
   "outputs": [],
   "source": [
    "import warnings\n",
    "warnings.filterwarnings(action='ignore') #  필요없는 warning은 보여주지말라는 설정"
   ]
  },
  {
   "cell_type": "code",
   "execution_count": 17,
   "metadata": {},
   "outputs": [],
   "source": [
    "# 랜덤 시드 고정\n",
    "SEED = 12\n",
    "random.seed(SEED)\n",
    "np.random.seed(SEED)\n",
    "tf.random.set_seed(SEED)"
   ]
  },
  {
   "cell_type": "code",
   "execution_count": 18,
   "metadata": {},
   "outputs": [
    {
     "data": {
      "text/plain": [
       "((404, 13), (404,))"
      ]
     },
     "execution_count": 18,
     "metadata": {},
     "output_type": "execute_result"
    }
   ],
   "source": [
    "# 데이터 수집 및 전처리\n",
    "from sklearn.datasets import fetch_openml\n",
    "\n",
    "boston = fetch_openml('boston')\n",
    "\n",
    "X = boston.data\n",
    "y = boston.target\n",
    "\n",
    "# 딥러닝 모델 성능 개선을 위한 피처 스케일링 (MinMaxScaler)\n",
    "\n",
    "from sklearn.preprocessing import MinMaxScaler\n",
    "\n",
    "scaler = MinMaxScaler()\n",
    "X_scaled = scaler.fit_transform(X)\n",
    "\n",
    "# 학습-검증 데이터셋 분할\n",
    "\n",
    "from sklearn.model_selection import train_test_split\n",
    "\n",
    "X_train, X_test, y_train, y_test = train_test_split(X_scaled, y, test_size=0.2, \\\n",
    "    shuffle=True, random_state=SEED)\n",
    "\n",
    "X_train.shape, y_train.shape"
   ]
  },
  {
   "cell_type": "code",
   "execution_count": null,
   "metadata": {},
   "outputs": [],
   "source": []
  },
  {
   "cell_type": "code",
   "execution_count": 19,
   "metadata": {},
   "outputs": [],
   "source": [
    "# 모델 구조 구현(심층 신경망)\n",
    "from keras.models import Sequential\n",
    "from keras.layers import Dense\n",
    "\n",
    "model = Sequential()\n",
    "model.add(Dense(128, activation='relu', input_shape=(13, )))\n",
    "model.add(Dense(64, activation='relu'))\n",
    "model.add(Dense(32, activation='relu'))\n",
    "model.add(Dense(16, activation='relu'))\n",
    "model.add(Dense(1, activation='linear'))"
   ]
  },
  {
   "cell_type": "code",
   "execution_count": 20,
   "metadata": {},
   "outputs": [
    {
     "name": "stdout",
     "output_type": "stream",
     "text": [
      "Model: \"sequential_1\"\n",
      "_________________________________________________________________\n",
      " Layer (type)                Output Shape              Param #   \n",
      "=================================================================\n",
      " dense_5 (Dense)             (None, 128)               1792      \n",
      "                                                                 \n",
      " dense_6 (Dense)             (None, 64)                8256      \n",
      "                                                                 \n",
      " dense_7 (Dense)             (None, 32)                2080      \n",
      "                                                                 \n",
      " dense_8 (Dense)             (None, 16)                528       \n",
      "                                                                 \n",
      " dense_9 (Dense)             (None, 1)                 17        \n",
      "                                                                 \n",
      "=================================================================\n",
      "Total params: 12,673\n",
      "Trainable params: 12,673\n",
      "Non-trainable params: 0\n",
      "_________________________________________________________________\n"
     ]
    }
   ],
   "source": [
    "# 모델 구조 요약\n",
    "model.summary()"
   ]
  },
  {
   "cell_type": "code",
   "execution_count": 21,
   "metadata": {},
   "outputs": [
    {
     "data": {
      "image/png": "[encoded data removed]",
      "text/plain": [
       "<IPython.core.display.Image object>"
      ]
     },
     "execution_count": 21,
     "metadata": {},
     "output_type": "execute_result"
    }
   ],
   "source": [
    "# 모델 구조 시각화\n",
    "from keras.utils import plot_model\n",
    "\n",
    "plot_model(model, show_shapes=True, show_layer_names=True, to_file='boston.png')"
   ]
  },
  {
   "cell_type": "code",
   "execution_count": 22,
   "metadata": {},
   "outputs": [],
   "source": [
    "# 모델 컴파일\n",
    "model.compile(loss='mse', optimizer='adam', metrics='mae')"
   ]
  },
  {
   "cell_type": "code",
   "execution_count": 23,
   "metadata": {},
   "outputs": [
    {
     "name": "stdout",
     "output_type": "stream",
     "text": [
      "Epoch 1/100\n",
      "13/13 - 0s - loss: 562.7947 - mae: 21.8309 - 427ms/epoch - 33ms/step\n",
      "Epoch 2/100\n",
      "13/13 - 0s - loss: 488.1955 - mae: 19.9646 - 22ms/epoch - 2ms/step\n",
      "Epoch 3/100\n",
      "13/13 - 0s - loss: 338.0201 - mae: 15.5721 - 25ms/epoch - 2ms/step\n",
      "Epoch 4/100\n",
      "13/13 - 0s - loss: 152.8982 - mae: 9.5517 - 30ms/epoch - 2ms/step\n",
      "Epoch 5/100\n",
      "13/13 - 0s - loss: 126.4297 - mae: 8.8710 - 26ms/epoch - 2ms/step\n",
      "Epoch 6/100\n",
      "13/13 - 0s - loss: 97.8464 - mae: 7.3805 - 26ms/epoch - 2ms/step\n",
      "Epoch 7/100\n",
      "13/13 - 0s - loss: 80.5298 - mae: 6.6845 - 53ms/epoch - 4ms/step\n",
      "Epoch 8/100\n",
      "13/13 - 0s - loss: 67.3773 - mae: 6.0351 - 21ms/epoch - 2ms/step\n",
      "Epoch 9/100\n",
      "13/13 - 0s - loss: 59.2237 - mae: 5.5133 - 43ms/epoch - 3ms/step\n",
      "Epoch 10/100\n",
      "13/13 - 0s - loss: 54.0707 - mae: 5.2915 - 19ms/epoch - 1ms/step\n",
      "Epoch 11/100\n",
      "13/13 - 0s - loss: 50.3197 - mae: 4.9420 - 18ms/epoch - 1ms/step\n",
      "Epoch 12/100\n",
      "13/13 - 0s - loss: 47.6906 - mae: 4.9179 - 18ms/epoch - 1ms/step\n",
      "Epoch 13/100\n",
      "13/13 - 0s - loss: 44.1344 - mae: 4.6512 - 21ms/epoch - 2ms/step\n",
      "Epoch 14/100\n",
      "13/13 - 0s - loss: 41.4653 - mae: 4.5394 - 18ms/epoch - 1ms/step\n",
      "Epoch 15/100\n",
      "13/13 - 0s - loss: 38.6853 - mae: 4.4396 - 20ms/epoch - 2ms/step\n",
      "Epoch 16/100\n",
      "13/13 - 0s - loss: 36.0622 - mae: 4.1782 - 18ms/epoch - 1ms/step\n",
      "Epoch 17/100\n",
      "13/13 - 0s - loss: 33.4998 - mae: 4.1391 - 20ms/epoch - 2ms/step\n",
      "Epoch 18/100\n",
      "13/13 - 0s - loss: 31.2290 - mae: 3.8386 - 29ms/epoch - 2ms/step\n",
      "Epoch 19/100\n",
      "13/13 - 0s - loss: 28.5673 - mae: 3.7654 - 19ms/epoch - 1ms/step\n",
      "Epoch 20/100\n",
      "13/13 - 0s - loss: 26.4561 - mae: 3.4867 - 17ms/epoch - 1ms/step\n",
      "Epoch 21/100\n",
      "13/13 - 0s - loss: 24.2585 - mae: 3.4257 - 20ms/epoch - 2ms/step\n",
      "Epoch 22/100\n",
      "13/13 - 0s - loss: 22.8890 - mae: 3.2275 - 22ms/epoch - 2ms/step\n",
      "Epoch 23/100\n",
      "13/13 - 0s - loss: 21.3306 - mae: 3.0934 - 23ms/epoch - 2ms/step\n",
      "Epoch 24/100\n",
      "13/13 - 0s - loss: 20.2263 - mae: 3.0796 - 28ms/epoch - 2ms/step\n",
      "Epoch 25/100\n",
      "13/13 - 0s - loss: 19.7647 - mae: 2.9338 - 21ms/epoch - 2ms/step\n",
      "Epoch 26/100\n",
      "13/13 - 0s - loss: 19.2530 - mae: 2.9729 - 24ms/epoch - 2ms/step\n",
      "Epoch 27/100\n",
      "13/13 - 0s - loss: 18.9614 - mae: 2.8987 - 19ms/epoch - 1ms/step\n",
      "Epoch 28/100\n",
      "13/13 - 0s - loss: 18.4118 - mae: 2.8438 - 19ms/epoch - 1ms/step\n",
      "Epoch 29/100\n",
      "13/13 - 0s - loss: 18.2044 - mae: 2.8864 - 21ms/epoch - 2ms/step\n",
      "Epoch 30/100\n",
      "13/13 - 0s - loss: 18.1468 - mae: 2.8919 - 20ms/epoch - 2ms/step\n",
      "Epoch 31/100\n",
      "13/13 - 0s - loss: 17.5440 - mae: 2.7793 - 29ms/epoch - 2ms/step\n",
      "Epoch 32/100\n",
      "13/13 - 0s - loss: 17.1740 - mae: 2.7839 - 23ms/epoch - 2ms/step\n",
      "Epoch 33/100\n",
      "13/13 - 0s - loss: 17.2855 - mae: 2.7771 - 23ms/epoch - 2ms/step\n",
      "Epoch 34/100\n",
      "13/13 - 0s - loss: 16.8188 - mae: 2.7204 - 25ms/epoch - 2ms/step\n",
      "Epoch 35/100\n",
      "13/13 - 0s - loss: 17.3480 - mae: 2.9018 - 18ms/epoch - 1ms/step\n",
      "Epoch 36/100\n",
      "13/13 - 0s - loss: 16.8715 - mae: 2.8222 - 16ms/epoch - 1ms/step\n",
      "Epoch 37/100\n",
      "13/13 - 0s - loss: 16.5779 - mae: 2.7055 - 18ms/epoch - 1ms/step\n",
      "Epoch 38/100\n",
      "13/13 - 0s - loss: 16.8050 - mae: 2.7434 - 17ms/epoch - 1ms/step\n",
      "Epoch 39/100\n",
      "13/13 - 0s - loss: 16.4569 - mae: 2.7715 - 18ms/epoch - 1ms/step\n",
      "Epoch 40/100\n",
      "13/13 - 0s - loss: 16.3720 - mae: 2.7659 - 19ms/epoch - 1ms/step\n",
      "Epoch 41/100\n",
      "13/13 - 0s - loss: 15.6802 - mae: 2.6259 - 18ms/epoch - 1ms/step\n",
      "Epoch 42/100\n",
      "13/13 - 0s - loss: 15.4731 - mae: 2.6962 - 17ms/epoch - 1ms/step\n",
      "Epoch 43/100\n",
      "13/13 - 0s - loss: 15.9208 - mae: 2.6450 - 18ms/epoch - 1ms/step\n",
      "Epoch 44/100\n",
      "13/13 - 0s - loss: 16.2489 - mae: 2.7378 - 19ms/epoch - 1ms/step\n",
      "Epoch 45/100\n",
      "13/13 - 0s - loss: 16.0632 - mae: 2.7398 - 18ms/epoch - 1ms/step\n",
      "Epoch 46/100\n",
      "13/13 - 0s - loss: 16.1506 - mae: 2.6616 - 20ms/epoch - 2ms/step\n",
      "Epoch 47/100\n",
      "13/13 - 0s - loss: 15.5501 - mae: 2.6210 - 23ms/epoch - 2ms/step\n",
      "Epoch 48/100\n",
      "13/13 - 0s - loss: 14.7310 - mae: 2.5833 - 20ms/epoch - 2ms/step\n",
      "Epoch 49/100\n",
      "13/13 - 0s - loss: 14.4616 - mae: 2.5200 - 19ms/epoch - 1ms/step\n",
      "Epoch 50/100\n",
      "13/13 - 0s - loss: 14.3501 - mae: 2.5227 - 19ms/epoch - 1ms/step\n",
      "Epoch 51/100\n",
      "13/13 - 0s - loss: 14.3727 - mae: 2.5348 - 19ms/epoch - 1ms/step\n",
      "Epoch 52/100\n",
      "13/13 - 0s - loss: 13.9202 - mae: 2.4629 - 19ms/epoch - 1ms/step\n",
      "Epoch 53/100\n",
      "13/13 - 0s - loss: 14.2687 - mae: 2.5088 - 18ms/epoch - 1ms/step\n",
      "Epoch 54/100\n",
      "13/13 - 0s - loss: 13.8838 - mae: 2.4996 - 18ms/epoch - 1ms/step\n",
      "Epoch 55/100\n",
      "13/13 - 0s - loss: 14.3088 - mae: 2.4796 - 18ms/epoch - 1ms/step\n",
      "Epoch 56/100\n",
      "13/13 - 0s - loss: 14.4390 - mae: 2.5718 - 18ms/epoch - 1ms/step\n",
      "Epoch 57/100\n",
      "13/13 - 0s - loss: 14.2475 - mae: 2.6043 - 17ms/epoch - 1ms/step\n",
      "Epoch 58/100\n",
      "13/13 - 0s - loss: 14.6714 - mae: 2.5308 - 21ms/epoch - 2ms/step\n",
      "Epoch 59/100\n",
      "13/13 - 0s - loss: 13.0738 - mae: 2.4209 - 18ms/epoch - 1ms/step\n",
      "Epoch 60/100\n",
      "13/13 - 0s - loss: 13.0352 - mae: 2.3950 - 20ms/epoch - 2ms/step\n",
      "Epoch 61/100\n",
      "13/13 - 0s - loss: 12.8164 - mae: 2.4032 - 25ms/epoch - 2ms/step\n",
      "Epoch 62/100\n",
      "13/13 - 0s - loss: 12.8893 - mae: 2.4359 - 26ms/epoch - 2ms/step\n",
      "Epoch 63/100\n",
      "13/13 - 0s - loss: 12.7349 - mae: 2.4181 - 21ms/epoch - 2ms/step\n",
      "Epoch 64/100\n",
      "13/13 - 0s - loss: 12.3696 - mae: 2.3501 - 23ms/epoch - 2ms/step\n",
      "Epoch 65/100\n",
      "13/13 - 0s - loss: 12.3456 - mae: 2.3391 - 21ms/epoch - 2ms/step\n",
      "Epoch 66/100\n",
      "13/13 - 0s - loss: 12.3589 - mae: 2.3474 - 17ms/epoch - 1ms/step\n",
      "Epoch 67/100\n",
      "13/13 - 0s - loss: 12.6512 - mae: 2.4369 - 20ms/epoch - 2ms/step\n",
      "Epoch 68/100\n",
      "13/13 - 0s - loss: 12.5095 - mae: 2.4659 - 17ms/epoch - 1ms/step\n",
      "Epoch 69/100\n",
      "13/13 - 0s - loss: 11.9077 - mae: 2.3204 - 18ms/epoch - 1ms/step\n",
      "Epoch 70/100\n",
      "13/13 - 0s - loss: 11.4628 - mae: 2.2775 - 18ms/epoch - 1ms/step\n",
      "Epoch 71/100\n",
      "13/13 - 0s - loss: 11.4114 - mae: 2.2725 - 17ms/epoch - 1ms/step\n",
      "Epoch 72/100\n",
      "13/13 - 0s - loss: 11.2190 - mae: 2.2746 - 18ms/epoch - 1ms/step\n",
      "Epoch 73/100\n",
      "13/13 - 0s - loss: 11.3971 - mae: 2.2948 - 19ms/epoch - 1ms/step\n",
      "Epoch 74/100\n",
      "13/13 - 0s - loss: 11.1843 - mae: 2.2504 - 18ms/epoch - 1ms/step\n",
      "Epoch 75/100\n",
      "13/13 - 0s - loss: 11.1341 - mae: 2.2746 - 18ms/epoch - 1ms/step\n",
      "Epoch 76/100\n",
      "13/13 - 0s - loss: 11.1134 - mae: 2.2844 - 21ms/epoch - 2ms/step\n",
      "Epoch 77/100\n",
      "13/13 - 0s - loss: 11.1316 - mae: 2.2670 - 18ms/epoch - 1ms/step\n",
      "Epoch 78/100\n",
      "13/13 - 0s - loss: 10.8604 - mae: 2.2522 - 19ms/epoch - 1ms/step\n",
      "Epoch 79/100\n",
      "13/13 - 0s - loss: 10.8477 - mae: 2.2645 - 23ms/epoch - 2ms/step\n",
      "Epoch 80/100\n",
      "13/13 - 0s - loss: 11.6478 - mae: 2.3350 - 19ms/epoch - 1ms/step\n",
      "Epoch 81/100\n",
      "13/13 - 0s - loss: 11.5810 - mae: 2.3516 - 19ms/epoch - 1ms/step\n",
      "Epoch 82/100\n",
      "13/13 - 0s - loss: 10.6504 - mae: 2.2775 - 18ms/epoch - 1ms/step\n",
      "Epoch 83/100\n",
      "13/13 - 0s - loss: 10.3969 - mae: 2.2531 - 19ms/epoch - 1ms/step\n",
      "Epoch 84/100\n",
      "13/13 - 0s - loss: 10.2209 - mae: 2.2057 - 19ms/epoch - 1ms/step\n",
      "Epoch 85/100\n",
      "13/13 - 0s - loss: 10.2118 - mae: 2.1883 - 18ms/epoch - 1ms/step\n",
      "Epoch 86/100\n",
      "13/13 - 0s - loss: 9.8743 - mae: 2.1569 - 17ms/epoch - 1ms/step\n",
      "Epoch 87/100\n",
      "13/13 - 0s - loss: 9.8389 - mae: 2.1779 - 17ms/epoch - 1ms/step\n",
      "Epoch 88/100\n",
      "13/13 - 0s - loss: 9.7019 - mae: 2.1611 - 19ms/epoch - 1ms/step\n",
      "Epoch 89/100\n",
      "13/13 - 0s - loss: 10.3710 - mae: 2.1912 - 19ms/epoch - 1ms/step\n",
      "Epoch 90/100\n",
      "13/13 - 0s - loss: 10.5496 - mae: 2.3336 - 19ms/epoch - 1ms/step\n",
      "Epoch 91/100\n",
      "13/13 - 0s - loss: 9.5218 - mae: 2.1622 - 19ms/epoch - 1ms/step\n",
      "Epoch 92/100\n",
      "13/13 - 0s - loss: 9.5123 - mae: 2.1574 - 18ms/epoch - 1ms/step\n",
      "Epoch 93/100\n",
      "13/13 - 0s - loss: 9.3370 - mae: 2.1430 - 18ms/epoch - 1ms/step\n",
      "Epoch 94/100\n",
      "13/13 - 0s - loss: 9.2717 - mae: 2.1102 - 20ms/epoch - 2ms/step\n",
      "Epoch 95/100\n",
      "13/13 - 0s - loss: 9.0711 - mae: 2.0978 - 20ms/epoch - 2ms/step\n",
      "Epoch 96/100\n",
      "13/13 - 0s - loss: 10.7106 - mae: 2.2518 - 31ms/epoch - 2ms/step\n",
      "Epoch 97/100\n",
      "13/13 - 0s - loss: 9.1904 - mae: 2.1037 - 17ms/epoch - 1ms/step\n",
      "Epoch 98/100\n",
      "13/13 - 0s - loss: 9.1301 - mae: 2.1120 - 18ms/epoch - 1ms/step\n",
      "Epoch 99/100\n",
      "13/13 - 0s - loss: 8.9041 - mae: 2.1119 - 17ms/epoch - 1ms/step\n",
      "Epoch 100/100\n",
      "13/13 - 0s - loss: 8.8035 - mae: 2.0561 - 19ms/epoch - 1ms/step\n"
     ]
    }
   ],
   "source": [
    "# 모델 학습\n",
    "# mini_batch\n",
    "# batch size 기본값 : 32 -> 404/32 = 13\n",
    "\n",
    "hist = model.fit(X_train, y_train, epochs=100, batch_size=32, verbose=2)"
   ]
  },
  {
   "cell_type": "code",
   "execution_count": 29,
   "metadata": {},
   "outputs": [],
   "source": [
    "# 모델 성능 평가\n",
    "df = pd.DataFrame(hist.history)"
   ]
  },
  {
   "cell_type": "code",
   "execution_count": 33,
   "metadata": {},
   "outputs": [
    {
     "data": {
      "image/png": "[encoded data removed]",
      "text/plain": [
       "<Figure size 640x480 with 1 Axes>"
      ]
     },
     "metadata": {},
     "output_type": "display_data"
    }
   ],
   "source": [
    "# 모델 학습 과정 시각화\n",
    "import matplotlib.pyplot as plt\n",
    "plt.plot(df.loss, label='loss')\n",
    "plt.plot(df.mae, label='mae')\n",
    "plt.xlabel('# of epochs')\n",
    "plt.legend()\n",
    "plt.grid()"
   ]
  },
  {
   "cell_type": "code",
   "execution_count": 35,
   "metadata": {},
   "outputs": [
    {
     "name": "stdout",
     "output_type": "stream",
     "text": [
      "4/4 [==============================] - 0s 2ms/step\n"
     ]
    },
    {
     "data": {
      "text/plain": [
       "0.8539397306025622"
      ]
     },
     "execution_count": 35,
     "metadata": {},
     "output_type": "execute_result"
    }
   ],
   "source": [
    "# 모델 검증 혹은 예측\n",
    "y_pred = model.predict(X_test)\n",
    "\n",
    "# r2 score로 성능 평가\n",
    "\n",
    "from sklearn.metrics import r2_score\n",
    "r2 = r2_score(y_test, y_pred)\n",
    "r2"
   ]
  },
  {
   "cell_type": "code",
   "execution_count": 26,
   "metadata": {},
   "outputs": [],
   "source": [
    "# 훈련 데이터의 손실함수값과 검증 데이터의 손실함수값을 에포크별로 비교하여 시각화\n",
    "\n",
    "# 나중에 해보기"
   ]
  },
  {
   "cell_type": "code",
   "execution_count": null,
   "metadata": {},
   "outputs": [],
   "source": []
  },
  {
   "cell_type": "code",
   "execution_count": null,
   "metadata": {},
   "outputs": [],
   "source": []
  },
  {
   "cell_type": "code",
   "execution_count": null,
   "metadata": {},
   "outputs": [],
   "source": []
  }
 ],
 "metadata": {
  "kernelspec": {
   "display_name": "tf2",
   "language": "python",
   "name": "python3"
  },
  "language_info": {
   "codemirror_mode": {
    "name": "ipython",
    "version": 3
   },
   "file_extension": ".py",
   "mimetype": "text/x-python",
   "name": "python",
   "nbconvert_exporter": "python",
   "pygments_lexer": "ipython3",
   "version": "3.8.16"
  },
  "vscode": {
   "interpreter": {
    "hash": "eb40c81b4dc7c84c0d63c497104c6b1d59507859779ef83084b0feb883d48ace"
   }
  }
 },
 "nbformat": 4,
 "nbformat_minor": 4
}
