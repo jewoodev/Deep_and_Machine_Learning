{
 "cells": [
  {
   "cell_type": "markdown",
   "metadata": {},
   "source": [
    "# 모델 세부 설정-Callback-MNIST"
   ]
  },
  {
   "cell_type": "code",
   "execution_count": 2,
   "metadata": {
    "colab": {
     "base_uri": "https://localhost:8080/"
    },
    "id": "kbQ0KXaGWYY5",
    "outputId": "9261f11f-d817-460c-f75d-c733cae41c87"
   },
   "outputs": [
    {
     "data": {
      "text/plain": [
       "(60000, 28, 28)"
      ]
     },
     "execution_count": 2,
     "metadata": {},
     "output_type": "execute_result"
    }
   ],
   "source": [
    "import tensorflow as tf\n",
    "from tensorflow import keras\n",
    "\n",
    "# mnist 데이터셋을 로드\n",
    "mnist = tf.keras.datasets.mnist\n",
    "\n",
    "(x_train, y_train), (x_test, y_test) = mnist.load_data()\n",
    "\n",
    "# 데이터 정규화\n",
    "x_train = x_train / x_train.max()\n",
    "x_test = x_test / x_test.max()\n",
    "x_train.shape"
   ]
  },
  {
   "cell_type": "markdown",
   "metadata": {
    "id": "jtmBiY6UWb-b"
   },
   "source": [
    "## 모델 체크포인트"
   ]
  },
  {
   "cell_type": "code",
   "execution_count": 3,
   "metadata": {
    "id": "h29nVvn9WiiX"
   },
   "outputs": [
    {
     "name": "stdout",
     "output_type": "stream",
     "text": [
      "Model: \"sequential\"\n",
      "_________________________________________________________________\n",
      " Layer (type)                Output Shape              Param #   \n",
      "=================================================================\n",
      " flatten (Flatten)           (None, 784)               0         \n",
      "                                                                 \n",
      " dense (Dense)               (None, 256)               200960    \n",
      "                                                                 \n",
      " dense_1 (Dense)             (None, 64)                16448     \n",
      "                                                                 \n",
      " dense_2 (Dense)             (None, 32)                2080      \n",
      "                                                                 \n",
      " dense_3 (Dense)             (None, 10)                330       \n",
      "                                                                 \n",
      "=================================================================\n",
      "Total params: 219,818\n",
      "Trainable params: 219,818\n",
      "Non-trainable params: 0\n",
      "_________________________________________________________________\n"
     ]
    }
   ],
   "source": [
    "from tensorflow.keras.layers import Dense, Flatten\n",
    "\n",
    "model = tf.keras.models.Sequential()\n",
    "model.add(Flatten(input_shape=(28, 28)))\n",
    "model.add(Dense(256, activation='relu'))\n",
    "model.add(Dense(64, activation='relu'))\n",
    "model.add(Dense(32, activation='relu'))\n",
    "model.add(Dense(10, activation='softmax'))\n",
    "\n",
    "model.summary()"
   ]
  },
  {
   "cell_type": "code",
   "execution_count": 4,
   "metadata": {
    "id": "sTbzvp2FXRv5"
   },
   "outputs": [],
   "source": [
    "model.compile(loss='sparse_categorical_crossentropy', metrics='accuracy', \\\n",
    "    optimizer='adam')"
   ]
  },
  {
   "cell_type": "code",
   "execution_count": 5,
   "metadata": {},
   "outputs": [
    {
     "data": {
      "image/png": "[encoded data removed]",
      "text/plain": [
       "<IPython.core.display.Image object>"
      ]
     },
     "execution_count": 5,
     "metadata": {},
     "output_type": "execute_result"
    }
   ],
   "source": [
    "from tensorflow.keras.utils import plot_model\n",
    "plot_model(model, show_shapes=True)"
   ]
  },
  {
   "cell_type": "code",
   "execution_count": 6,
   "metadata": {
    "id": "uO45HtdzXcX5"
   },
   "outputs": [],
   "source": [
    "# 체크포인트 설정\n",
    "checkpoint = tf.keras.callbacks.ModelCheckpoint(filepath='./tmp_checkpoints.ckpt', \\\n",
    "    save_weights_only=True, save_best_only=True, moniter='val_loss', \\\n",
    "        verbose=1)"
   ]
  },
  {
   "cell_type": "code",
   "execution_count": 7,
   "metadata": {
    "colab": {
     "base_uri": "https://localhost:8080/"
    },
    "id": "0ir-t63gXHYO",
    "outputId": "1f15b54b-6a69-437f-95ea-bd860c4bf5ac"
   },
   "outputs": [
    {
     "name": "stdout",
     "output_type": "stream",
     "text": [
      "Epoch 1/10\n",
      "1848/1875 [============================>.] - ETA: 0s - loss: 0.2342 - accuracy: 0.9296\n",
      "Epoch 1: val_loss improved from inf to 0.11988, saving model to .\\tmp_checkpoints.ckpt\n",
      "1875/1875 [==============================] - 4s 2ms/step - loss: 0.2327 - accuracy: 0.9299 - val_loss: 0.1199 - val_accuracy: 0.9628\n",
      "Epoch 2/10\n",
      "1857/1875 [============================>.] - ETA: 0s - loss: 0.0939 - accuracy: 0.9719\n",
      "Epoch 2: val_loss improved from 0.11988 to 0.08696, saving model to .\\tmp_checkpoints.ckpt\n",
      "1875/1875 [==============================] - 4s 2ms/step - loss: 0.0939 - accuracy: 0.9719 - val_loss: 0.0870 - val_accuracy: 0.9734\n",
      "Epoch 3/10\n",
      "1871/1875 [============================>.] - ETA: 0s - loss: 0.0661 - accuracy: 0.9792\n",
      "Epoch 3: val_loss improved from 0.08696 to 0.07881, saving model to .\\tmp_checkpoints.ckpt\n",
      "1875/1875 [==============================] - 4s 2ms/step - loss: 0.0661 - accuracy: 0.9792 - val_loss: 0.0788 - val_accuracy: 0.9749\n",
      "Epoch 4/10\n",
      "1863/1875 [============================>.] - ETA: 0s - loss: 0.0493 - accuracy: 0.9843\n",
      "Epoch 4: val_loss did not improve from 0.07881\n",
      "1875/1875 [==============================] - 4s 2ms/step - loss: 0.0495 - accuracy: 0.9842 - val_loss: 0.0983 - val_accuracy: 0.9716\n",
      "Epoch 5/10\n",
      "1848/1875 [============================>.] - ETA: 0s - loss: 0.0403 - accuracy: 0.9873\n",
      "Epoch 5: val_loss did not improve from 0.07881\n",
      "1875/1875 [==============================] - 4s 2ms/step - loss: 0.0404 - accuracy: 0.9872 - val_loss: 0.0790 - val_accuracy: 0.9773\n",
      "Epoch 6/10\n",
      "1843/1875 [============================>.] - ETA: 0s - loss: 0.0309 - accuracy: 0.9896\n",
      "Epoch 6: val_loss did not improve from 0.07881\n",
      "1875/1875 [==============================] - 4s 2ms/step - loss: 0.0308 - accuracy: 0.9897 - val_loss: 0.0920 - val_accuracy: 0.9753\n",
      "Epoch 7/10\n",
      "1853/1875 [============================>.] - ETA: 0s - loss: 0.0276 - accuracy: 0.9908\n",
      "Epoch 7: val_loss did not improve from 0.07881\n",
      "1875/1875 [==============================] - 3s 2ms/step - loss: 0.0275 - accuracy: 0.9908 - val_loss: 0.0842 - val_accuracy: 0.9783\n",
      "Epoch 8/10\n",
      "1870/1875 [============================>.] - ETA: 0s - loss: 0.0257 - accuracy: 0.9915\n",
      "Epoch 8: val_loss did not improve from 0.07881\n",
      "1875/1875 [==============================] - 4s 2ms/step - loss: 0.0257 - accuracy: 0.9915 - val_loss: 0.0795 - val_accuracy: 0.9772\n",
      "Epoch 9/10\n",
      "1847/1875 [============================>.] - ETA: 0s - loss: 0.0217 - accuracy: 0.9925\n",
      "Epoch 9: val_loss did not improve from 0.07881\n",
      "1875/1875 [==============================] - 4s 2ms/step - loss: 0.0218 - accuracy: 0.9926 - val_loss: 0.0883 - val_accuracy: 0.9780\n",
      "Epoch 10/10\n",
      "1852/1875 [============================>.] - ETA: 0s - loss: 0.0181 - accuracy: 0.9941\n",
      "Epoch 10: val_loss did not improve from 0.07881\n",
      "1875/1875 [==============================] - 4s 2ms/step - loss: 0.0182 - accuracy: 0.9941 - val_loss: 0.0865 - val_accuracy: 0.9808\n"
     ]
    },
    {
     "data": {
      "text/plain": [
       "<keras.callbacks.History at 0x1ef182ce820>"
      ]
     },
     "execution_count": 7,
     "metadata": {},
     "output_type": "execute_result"
    }
   ],
   "source": [
    "model.fit(x_train, y_train, \\\n",
    "    validation_data=(x_test, y_test),\n",
    "    epochs=10,\n",
    "    callbacks=[checkpoint]) # callbacks는 앞으로도 자주 마주하게 될 개념인데, \n",
    "                            # 일련의 진행 과정에서 잠깐 callback해서 하나의 함수를 돌리고 다시 진행하고, 이런 개념이다"
   ]
  },
  {
   "cell_type": "code",
   "execution_count": 8,
   "metadata": {
    "colab": {
     "base_uri": "https://localhost:8080/"
    },
    "id": "IqbCRxMWXQjR",
    "outputId": "fcca1dd2-2639-4f20-f66a-cde7be904137"
   },
   "outputs": [
    {
     "name": "stdout",
     "output_type": "stream",
     "text": [
      "마지막 epoch을 완료하고 마지막 가중치를 가진 모델의 성능\n",
      "313/313 [==============================] - 1s 2ms/step - loss: 0.0865 - accuracy: 0.9808\n",
      "[0.08650625497102737, 0.9807999730110168]\n",
      "체크포인트에 저장된 best weights를 가진 load한 모델의 성능\n",
      "313/313 [==============================] - 0s 2ms/step - loss: 0.0788 - accuracy: 0.9749\n",
      "[0.07880542427301407, 0.9749000072479248]\n"
     ]
    }
   ],
   "source": [
    "# 모델 체크포인트 로드 전\n",
    "print('마지막 epoch을 완료하고 마지막 가중치를 가진 모델의 성능')\n",
    "print(model.evaluate(x_test, y_test))\n",
    "# 체크포인트 파일을 모델에 로드\n",
    "print('체크포인트에 저장된 best weights를 가진 load한 모델의 성능')\n",
    "model.load_weights('./tmp_checkpoints.ckpt')\n",
    "print(model.evaluate(x_test, y_test))"
   ]
  },
  {
   "cell_type": "markdown",
   "metadata": {
    "id": "NRal75dHdK2P"
   },
   "source": [
    "## 조기종료(Early-Stopping)"
   ]
  },
  {
   "cell_type": "code",
   "execution_count": null,
   "metadata": {},
   "outputs": [
    {
     "name": "stdout",
     "output_type": "stream",
     "text": [
      "Model: \"sequential\"\n",
      "_________________________________________________________________\n",
      " Layer (type)                Output Shape              Param #   \n",
      "=================================================================\n",
      " flatten (Flatten)           (None, 784)               0         \n",
      "                                                                 \n",
      " dense (Dense)               (None, 256)               200960    \n",
      "                                                                 \n",
      " dense_1 (Dense)             (None, 64)                16448     \n",
      "                                                                 \n",
      " dense_2 (Dense)             (None, 32)                2080      \n",
      "                                                                 \n",
      " dense_3 (Dense)             (None, 10)                330       \n",
      "                                                                 \n",
      "=================================================================\n",
      "Total params: 219,818\n",
      "Trainable params: 219,818\n",
      "Non-trainable params: 0\n",
      "_________________________________________________________________\n"
     ]
    }
   ],
   "source": [
    "from tensorflow.keras.layers import Dense, Flatten\n",
    "\n",
    "model = tf.keras.models.Sequential()\n",
    "model.add(Flatten(input_shape=(28, 28)))\n",
    "model.add(Dense(256, activation='relu'))\n",
    "model.add(Dense(64, activation='relu'))\n",
    "model.add(Dense(32, activation='relu'))\n",
    "model.add(Dense(10, activation='softmax'))\n",
    "\n",
    "model.summary()"
   ]
  },
  {
   "cell_type": "code",
   "execution_count": 14,
   "metadata": {
    "id": "LZ5B6b4DdZaS"
   },
   "outputs": [],
   "source": [
    "model.compile(loss='sparse_categorical_crossentropy', metrics='accuracy', optimizer='adam')"
   ]
  },
  {
   "cell_type": "code",
   "execution_count": 15,
   "metadata": {
    "id": "Me520K63dMZI"
   },
   "outputs": [],
   "source": [
    "# EarlyStopping 콜백 생성\n",
    "earlystopping = tf.keras.callbacks.EarlyStopping(monitor='val_loss', patience=3) # 성능 개선이 되지 않은 횟수가 3번이면 멈추라는 설정"
   ]
  },
  {
   "cell_type": "code",
   "execution_count": 16,
   "metadata": {
    "colab": {
     "base_uri": "https://localhost:8080/"
    },
    "id": "ILrQ20dGdOpv",
    "outputId": "e34c01ec-4333-4754-c1f0-3c7b57509eaf"
   },
   "outputs": [
    {
     "name": "stdout",
     "output_type": "stream",
     "text": [
      "Epoch 1/20\n",
      "1846/1875 [============================>.] - ETA: 0s - loss: 0.0526 - accuracy: 0.9831\n",
      "Epoch 1: val_loss did not improve from 0.07881\n",
      "1875/1875 [==============================] - 4s 2ms/step - loss: 0.0525 - accuracy: 0.9832 - val_loss: 0.0836 - val_accuracy: 0.9766\n",
      "Epoch 2/20\n",
      "1859/1875 [============================>.] - ETA: 0s - loss: 0.0405 - accuracy: 0.9872\n",
      "Epoch 2: val_loss did not improve from 0.07881\n",
      "1875/1875 [==============================] - 4s 2ms/step - loss: 0.0408 - accuracy: 0.9872 - val_loss: 0.0814 - val_accuracy: 0.9767\n",
      "Epoch 3/20\n",
      "1872/1875 [============================>.] - ETA: 0s - loss: 0.0332 - accuracy: 0.9892\n",
      "Epoch 3: val_loss did not improve from 0.07881\n",
      "1875/1875 [==============================] - 4s 2ms/step - loss: 0.0333 - accuracy: 0.9892 - val_loss: 0.0847 - val_accuracy: 0.9769\n",
      "Epoch 4/20\n",
      "1869/1875 [============================>.] - ETA: 0s - loss: 0.0277 - accuracy: 0.9911\n",
      "Epoch 4: val_loss did not improve from 0.07881\n",
      "1875/1875 [==============================] - 4s 2ms/step - loss: 0.0277 - accuracy: 0.9911 - val_loss: 0.0865 - val_accuracy: 0.9763\n",
      "Epoch 5/20\n",
      "1860/1875 [============================>.] - ETA: 0s - loss: 0.0232 - accuracy: 0.9925\n",
      "Epoch 5: val_loss did not improve from 0.07881\n",
      "1875/1875 [==============================] - 4s 2ms/step - loss: 0.0231 - accuracy: 0.9925 - val_loss: 0.0871 - val_accuracy: 0.9784\n"
     ]
    },
    {
     "data": {
      "text/plain": [
       "<keras.callbacks.History at 0x1ef1a81df10>"
      ]
     },
     "execution_count": 16,
     "metadata": {},
     "output_type": "execute_result"
    }
   ],
   "source": [
    "model.fit(x_train, y_train, \\\n",
    "    validation_data=(x_test, y_test),\n",
    "    epochs=20,\n",
    "    callbacks=[checkpoint, earlystopping])"
   ]
  },
  {
   "cell_type": "markdown",
   "metadata": {
    "id": "DRDrOBLYdg3D"
   },
   "source": [
    "##  학습률 스케줄러"
   ]
  },
  {
   "cell_type": "code",
   "execution_count": 17,
   "metadata": {
    "id": "Dw8bjHZ5ghXg"
   },
   "outputs": [],
   "source": [
    "model = tf.keras.models.Sequential()\n",
    "model.add(Flatten(input_shape=(28, 28)))\n",
    "model.add(Dense(256, activation='relu'))\n",
    "model.add(Dense(64, activation='relu'))\n",
    "model.add(Dense(32, activation='relu'))\n",
    "model.add(Dense(10, activation='softmax'))"
   ]
  },
  {
   "cell_type": "code",
   "execution_count": 18,
   "metadata": {
    "id": "MaCu3SQwgkl8"
   },
   "outputs": [],
   "source": [
    "def scheduler(epoch, lr):\n",
    "    tf.print(f'learning_rate: {lr:.5f}')\n",
    "    # 첫 5 에포크 동안 유지\n",
    "    if epoch < 5:\n",
    "        return lr\n",
    "    else:\n",
    "    # 학습률 감소 적용\n",
    "        return lr * tf.math.exp(-0.1)\n",
    "\n",
    "# 콜백 객체생성 및 scheduler 함수 적용\n",
    "lr_scheduler = tf.keras.callbacks.LearningRateScheduler(scheduler)"
   ]
  },
  {
   "cell_type": "code",
   "execution_count": 19,
   "metadata": {
    "colab": {
     "base_uri": "https://localhost:8080/"
    },
    "id": "LhNmAyATgzlq",
    "outputId": "2e5d9ecb-4cda-4085-ccaa-f38c584cd1d5"
   },
   "outputs": [
    {
     "data": {
      "text/plain": [
       "0.001"
      ]
     },
     "execution_count": 19,
     "metadata": {},
     "output_type": "execute_result"
    }
   ],
   "source": [
    "model.compile(optimizer='adam', loss='sparse_categorical_crossentropy', metrics='accuracy')\n",
    "# 초기 학습률 확인(0.01)\n",
    "model.optimizer.lr.numpy()"
   ]
  },
  {
   "cell_type": "code",
   "execution_count": 22,
   "metadata": {
    "colab": {
     "base_uri": "https://localhost:8080/"
    },
    "id": "3gkNv5EyhFVX",
    "outputId": "011c7c92-e75c-4455-9497-bee094b2ab04",
    "scrolled": false
   },
   "outputs": [
    {
     "name": "stdout",
     "output_type": "stream",
     "text": [
      "learning_rate: 0.00100\n",
      "Epoch 1/20\n",
      "1875/1875 [==============================] - 4s 2ms/step - loss: 0.2250 - accuracy: 0.9338 - val_loss: 0.1086 - val_accuracy: 0.9677 - lr: 0.0010\n",
      "learning_rate: 0.00100\n",
      "Epoch 2/20\n",
      "1875/1875 [==============================] - 4s 2ms/step - loss: 0.0908 - accuracy: 0.9721 - val_loss: 0.0899 - val_accuracy: 0.9742 - lr: 0.0010\n",
      "learning_rate: 0.00100\n",
      "Epoch 3/20\n",
      "1875/1875 [==============================] - 4s 2ms/step - loss: 0.0652 - accuracy: 0.9797 - val_loss: 0.0780 - val_accuracy: 0.9770 - lr: 0.0010\n",
      "learning_rate: 0.00100\n",
      "Epoch 4/20\n",
      "1875/1875 [==============================] - 4s 2ms/step - loss: 0.0501 - accuracy: 0.9841 - val_loss: 0.0894 - val_accuracy: 0.9744 - lr: 0.0010\n",
      "learning_rate: 0.00100\n",
      "Epoch 5/20\n",
      "1875/1875 [==============================] - 4s 2ms/step - loss: 0.0389 - accuracy: 0.9876 - val_loss: 0.0747 - val_accuracy: 0.9803 - lr: 0.0010\n",
      "learning_rate: 0.00100\n",
      "Epoch 6/20\n",
      "1875/1875 [==============================] - 4s 2ms/step - loss: 0.0292 - accuracy: 0.9903 - val_loss: 0.0733 - val_accuracy: 0.9815 - lr: 9.0484e-04\n",
      "learning_rate: 0.00090\n",
      "Epoch 7/20\n",
      "1875/1875 [==============================] - 4s 2ms/step - loss: 0.0212 - accuracy: 0.9935 - val_loss: 0.0900 - val_accuracy: 0.9771 - lr: 8.1873e-04\n",
      "learning_rate: 0.00082\n",
      "Epoch 8/20\n",
      "1875/1875 [==============================] - 4s 2ms/step - loss: 0.0165 - accuracy: 0.9946 - val_loss: 0.0770 - val_accuracy: 0.9807 - lr: 7.4082e-04\n",
      "learning_rate: 0.00074\n",
      "Epoch 9/20\n",
      "1875/1875 [==============================] - 4s 2ms/step - loss: 0.0119 - accuracy: 0.9962 - val_loss: 0.0796 - val_accuracy: 0.9793 - lr: 6.7032e-04\n"
     ]
    },
    {
     "data": {
      "text/plain": [
       "<keras.callbacks.History at 0x1ef18555970>"
      ]
     },
     "execution_count": 22,
     "metadata": {},
     "output_type": "execute_result"
    }
   ],
   "source": [
    "model.fit(x_train, y_train, \\\n",
    "    validation_data=(x_test, y_test),\n",
    "    epochs=20,\n",
    "    callbacks=[lr_scheduler, earlystopping])\n",
    "\n",
    "# 최종 학습률 스케줄러 확인\n"
   ]
  },
  {
   "cell_type": "code",
   "execution_count": 23,
   "metadata": {},
   "outputs": [
    {
     "name": "stdout",
     "output_type": "stream",
     "text": [
      "INFO:tensorflow:Assets written to: mnist\\assets\n"
     ]
    }
   ],
   "source": [
    "model.save('mnist')"
   ]
  },
  {
   "cell_type": "code",
   "execution_count": 24,
   "metadata": {},
   "outputs": [],
   "source": [
    "model.save('h5-mnist.h5')"
   ]
  }
 ],
 "metadata": {
  "accelerator": "GPU",
  "colab": {
   "collapsed_sections": [],
   "name": "3.5_callback.ipynb",
   "provenance": []
  },
  "kernelspec": {
   "display_name": "tf2",
   "language": "python",
   "name": "python3"
  },
  "language_info": {
   "codemirror_mode": {
    "name": "ipython",
    "version": 3
   },
   "file_extension": ".py",
   "mimetype": "text/x-python",
   "name": "python",
   "nbconvert_exporter": "python",
   "pygments_lexer": "ipython3",
   "version": "3.8.16"
  },
  "vscode": {
   "interpreter": {
    "hash": "eb40c81b4dc7c84c0d63c497104c6b1d59507859779ef83084b0feb883d48ace"
   }
  }
 },
 "nbformat": 4,
 "nbformat_minor": 1
}
