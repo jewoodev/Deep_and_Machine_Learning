{
 "cells": [
  {
   "cell_type": "code",
   "execution_count": 1,
   "metadata": {},
   "outputs": [],
   "source": [
    "import pandas as pd\n",
    "import numpy as np\n",
    "\n",
    "rain_train = pd.read_csv('data/rain/train.csv')\n",
    "rain_test = pd.read_csv('data/rain/test.csv')\n",
    "rain_submission = pd.read_csv('data/rain/submission.csv')"
   ]
  },
  {
   "cell_type": "code",
   "execution_count": 2,
   "metadata": {},
   "outputs": [
    {
     "data": {
      "text/html": [
       "<div>\n",
       "<style scoped>\n",
       "    .dataframe tbody tr th:only-of-type {\n",
       "        vertical-align: middle;\n",
       "    }\n",
       "\n",
       "    .dataframe tbody tr th {\n",
       "        vertical-align: top;\n",
       "    }\n",
       "\n",
       "    .dataframe thead th {\n",
       "        text-align: right;\n",
       "    }\n",
       "</style>\n",
       "<table border=\"1\" class=\"dataframe\">\n",
       "  <thead>\n",
       "    <tr style=\"text-align: right;\">\n",
       "      <th></th>\n",
       "      <th>No</th>\n",
       "      <th>rain fall(mm)</th>\n",
       "    </tr>\n",
       "  </thead>\n",
       "  <tbody>\n",
       "    <tr>\n",
       "      <th>0</th>\n",
       "      <td>1</td>\n",
       "      <td>0</td>\n",
       "    </tr>\n",
       "    <tr>\n",
       "      <th>1</th>\n",
       "      <td>2</td>\n",
       "      <td>0</td>\n",
       "    </tr>\n",
       "    <tr>\n",
       "      <th>2</th>\n",
       "      <td>3</td>\n",
       "      <td>0</td>\n",
       "    </tr>\n",
       "    <tr>\n",
       "      <th>3</th>\n",
       "      <td>4</td>\n",
       "      <td>0</td>\n",
       "    </tr>\n",
       "    <tr>\n",
       "      <th>4</th>\n",
       "      <td>5</td>\n",
       "      <td>0</td>\n",
       "    </tr>\n",
       "    <tr>\n",
       "      <th>...</th>\n",
       "      <td>...</td>\n",
       "      <td>...</td>\n",
       "    </tr>\n",
       "    <tr>\n",
       "      <th>869</th>\n",
       "      <td>870</td>\n",
       "      <td>0</td>\n",
       "    </tr>\n",
       "    <tr>\n",
       "      <th>870</th>\n",
       "      <td>871</td>\n",
       "      <td>0</td>\n",
       "    </tr>\n",
       "    <tr>\n",
       "      <th>871</th>\n",
       "      <td>872</td>\n",
       "      <td>0</td>\n",
       "    </tr>\n",
       "    <tr>\n",
       "      <th>872</th>\n",
       "      <td>873</td>\n",
       "      <td>0</td>\n",
       "    </tr>\n",
       "    <tr>\n",
       "      <th>873</th>\n",
       "      <td>874</td>\n",
       "      <td>0</td>\n",
       "    </tr>\n",
       "  </tbody>\n",
       "</table>\n",
       "<p>874 rows × 2 columns</p>\n",
       "</div>"
      ],
      "text/plain": [
       "      No  rain fall(mm)\n",
       "0      1              0\n",
       "1      2              0\n",
       "2      3              0\n",
       "3      4              0\n",
       "4      5              0\n",
       "..   ...            ...\n",
       "869  870              0\n",
       "870  871              0\n",
       "871  872              0\n",
       "872  873              0\n",
       "873  874              0\n",
       "\n",
       "[874 rows x 2 columns]"
      ]
     },
     "execution_count": 2,
     "metadata": {},
     "output_type": "execute_result"
    }
   ],
   "source": [
    "rain_submission"
   ]
  },
  {
   "cell_type": "code",
   "execution_count": 3,
   "metadata": {},
   "outputs": [],
   "source": [
    "from sklearn.linear_model import Ridge\n",
    "from sklearn.model_selection import train_test_split\n",
    "from sklearn.metrics import mean_squared_error, r2_score"
   ]
  },
  {
   "cell_type": "code",
   "execution_count": 4,
   "metadata": {},
   "outputs": [
    {
     "name": "stdout",
     "output_type": "stream",
     "text": [
      "<class 'pandas.core.frame.DataFrame'>\n",
      "RangeIndex: 3504 entries, 0 to 3503\n",
      "Data columns (total 15 columns):\n",
      " #   Column               Non-Null Count  Dtype  \n",
      "---  ------               --------------  -----  \n",
      " 0   지점                   3504 non-null   int64  \n",
      " 1   일시                   3504 non-null   object \n",
      " 2   평균기온(°C)             3488 non-null   float64\n",
      " 3   최저기온(°C)             3493 non-null   float64\n",
      " 4   최저기온 시각(hhmi)        3493 non-null   float64\n",
      " 5   최고기온(°C)             3493 non-null   float64\n",
      " 6   최고기온 시각(hhmi)        3493 non-null   float64\n",
      " 7   일강수량(mm)             3500 non-null   float64\n",
      " 8   최대 순간 풍속(m/s)        3471 non-null   float64\n",
      " 9   평균 풍속(m/s)           3468 non-null   float64\n",
      " 10  최대 순간 풍속 풍향(deg)     2021 non-null   float64\n",
      " 11  최대 순간풍속 시각(hhmi)     2882 non-null   float64\n",
      " 12  1시간 최다강수량(mm)        1726 non-null   float64\n",
      " 13  1시간 최다 강수량 시각(hhmi)  567 non-null    float64\n",
      " 14  최대 순간 풍속 풍향(hhmi)    1451 non-null   float64\n",
      "dtypes: float64(13), int64(1), object(1)\n",
      "memory usage: 410.8+ KB\n"
     ]
    }
   ],
   "source": [
    "rain_train.info()"
   ]
  },
  {
   "cell_type": "code",
   "execution_count": 5,
   "metadata": {},
   "outputs": [
    {
     "data": {
      "text/plain": [
       "지점                        0\n",
       "일시                        0\n",
       "평균기온(°C)                 16\n",
       "최저기온(°C)                 11\n",
       "최저기온 시각(hhmi)            11\n",
       "최고기온(°C)                 11\n",
       "최고기온 시각(hhmi)            11\n",
       "일강수량(mm)                  4\n",
       "최대 순간 풍속(m/s)            33\n",
       "평균 풍속(m/s)               36\n",
       "최대 순간 풍속 풍향(deg)       1483\n",
       "최대 순간풍속 시각(hhmi)        622\n",
       "1시간 최다강수량(mm)          1778\n",
       "1시간 최다 강수량 시각(hhmi)    2937\n",
       "최대 순간 풍속 풍향(hhmi)      2053\n",
       "dtype: int64"
      ]
     },
     "execution_count": 5,
     "metadata": {},
     "output_type": "execute_result"
    }
   ],
   "source": [
    "rain_train.isnull().sum()"
   ]
  },
  {
   "cell_type": "code",
   "execution_count": 10,
   "metadata": {},
   "outputs": [
    {
     "data": {
      "text/plain": [
       "16.08345756880734"
      ]
     },
     "execution_count": 10,
     "metadata": {},
     "output_type": "execute_result"
    }
   ],
   "source": [
    "rain_train[rain_train['평균기온(°C)'].notnull()]['평균기온(°C)'].mean()"
   ]
  },
  {
   "cell_type": "code",
   "execution_count": 14,
   "metadata": {},
   "outputs": [],
   "source": [
    "rain_train['평균기온(°C)'] = rain_train['평균기온(°C)'].fillna(rain_train[rain_train['평균기온(°C)'].notnull()]['평균기온(°C)'].mean()) # 평균으로 null을 교체"
   ]
  },
  {
   "cell_type": "code",
   "execution_count": 16,
   "metadata": {},
   "outputs": [],
   "source": [
    "rain_train['최저기온(°C)'] = rain_train['최저기온(°C)'].fillna(rain_train[rain_train['최저기온(°C)'].notnull()]['최저기온(°C)'].mean()) # 평균으로 null을 교체"
   ]
  },
  {
   "cell_type": "code",
   "execution_count": 17,
   "metadata": {},
   "outputs": [],
   "source": [
    "rain_train['최저기온 시각(hhmi)'] = rain_train['최저기온 시각(hhmi)'].fillna(rain_train[rain_train['최저기온 시각(hhmi)'].notnull()]['최저기온 시각(hhmi)'].mean()) # 평균으로 null을 교체"
   ]
  },
  {
   "cell_type": "code",
   "execution_count": 18,
   "metadata": {},
   "outputs": [],
   "source": [
    "rain_train['최고기온(°C)'] = rain_train['최고기온(°C)'].fillna(rain_train[rain_train['최고기온(°C)'].notnull()]['최고기온(°C)'].mean()) # 평균으로 null을 교체"
   ]
  },
  {
   "cell_type": "code",
   "execution_count": 19,
   "metadata": {},
   "outputs": [],
   "source": [
    "rain_train['최고기온 시각(hhmi)'] = rain_train['최고기온 시각(hhmi)'].fillna(rain_train[rain_train['최고기온 시각(hhmi)'].notnull()]['최고기온 시각(hhmi)'].mean()) # 평균으로 null을 교체"
   ]
  },
  {
   "cell_type": "code",
   "execution_count": null,
   "metadata": {},
   "outputs": [],
   "source": [
    "\n",
    "X_train, X_test, y_train, y_test = train_test_split(X, y)\n",
    "model_Ridge = Ridge(alpha=10)\n",
    "model_Ridge.fit(X)\n",
    "\n"
   ]
  }
 ],
 "metadata": {
  "kernelspec": {
   "display_name": "base",
   "language": "python",
   "name": "python3"
  },
  "language_info": {
   "codemirror_mode": {
    "name": "ipython",
    "version": 3
   },
   "file_extension": ".py",
   "mimetype": "text/x-python",
   "name": "python",
   "nbconvert_exporter": "python",
   "pygments_lexer": "ipython3",
   "version": "3.9.16"
  },
  "orig_nbformat": 4,
  "vscode": {
   "interpreter": {
    "hash": "7f3124b86b953d827ebe31858c9d7d57fd1033c1acdaf6cbd0987152aea75cb0"
   }
  }
 },
 "nbformat": 4,
 "nbformat_minor": 2
}
