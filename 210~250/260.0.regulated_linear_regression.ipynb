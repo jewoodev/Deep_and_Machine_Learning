{
 "cells": [
  {
   "cell_type": "markdown",
   "metadata": {},
   "source": [
    "# 규제가 있는 선형회귀 - 릿지, 라쏘, 엘라스틱넷 회귀"
   ]
  },
  {
   "cell_type": "markdown",
   "metadata": {},
   "source": [
    "#### 규제가 있는 모델 구축 - 당뇨병 데이터세트\n",
    "#### 1. 데이터 전처리\n",
    "#### 2. Ridge, Lasso, Elasticnet regression 구축: 회귀 계수 확인, 하이퍼 파라미터 탐색\n",
    "#### 3. 교차 검증으로 최적의 하이퍼파라미터 탐색: LassoCV()"
   ]
  },
  {
   "cell_type": "code",
   "execution_count": 1,
   "metadata": {},
   "outputs": [],
   "source": [
    "# 관련 라이브러리 및 모듈 Import\n",
    "import pandas as pd\n",
    "import numpy as np\n",
    "import matplotlib.pyplot as plt"
   ]
  },
  {
   "cell_type": "code",
   "execution_count": 2,
   "metadata": {},
   "outputs": [],
   "source": [
    "import warnings\n",
    "warnings.filterwarnings(action='ignore')"
   ]
  },
  {
   "cell_type": "markdown",
   "metadata": {},
   "source": [
    "# 0. 데이터 수집, 탐색, 준비"
   ]
  },
  {
   "cell_type": "code",
   "execution_count": 3,
   "metadata": {},
   "outputs": [],
   "source": [
    "from sklearn.datasets import load_diabetes\n",
    "\n",
    "from sklearn.linear_model import LinearRegression\n",
    "from sklearn.linear_model import Ridge\n",
    "from sklearn.linear_model import Lasso\n",
    "from sklearn.linear_model import ElasticNet\n",
    "\n",
    "from sklearn.linear_model import RidgeCV\n",
    "from sklearn.linear_model import LassoCV\n",
    "\n",
    "from sklearn.model_selection import train_test_split\n",
    "from sklearn.metrics import mean_squared_error, r2_score"
   ]
  },
  {
   "cell_type": "markdown",
   "metadata": {},
   "source": [
    "####  데이터셋에 대한 설명 및 정보 확인"
   ]
  },
  {
   "cell_type": "code",
   "execution_count": 4,
   "metadata": {},
   "outputs": [
    {
     "data": {
      "text/plain": [
       "dict_keys(['data', 'target', 'frame', 'DESCR', 'feature_names', 'data_filename', 'target_filename', 'data_module'])"
      ]
     },
     "execution_count": 4,
     "metadata": {},
     "output_type": "execute_result"
    }
   ],
   "source": [
    "# 데이터셋 정보확인\n",
    "diab = load_diabetes()\n",
    "diab.keys()"
   ]
  },
  {
   "cell_type": "markdown",
   "metadata": {},
   "source": [
    "#### 데이터프레임 변환"
   ]
  },
  {
   "cell_type": "code",
   "execution_count": 5,
   "metadata": {},
   "outputs": [
    {
     "data": {
      "text/html": [
       "<div>\n",
       "<style scoped>\n",
       "    .dataframe tbody tr th:only-of-type {\n",
       "        vertical-align: middle;\n",
       "    }\n",
       "\n",
       "    .dataframe tbody tr th {\n",
       "        vertical-align: top;\n",
       "    }\n",
       "\n",
       "    .dataframe thead th {\n",
       "        text-align: right;\n",
       "    }\n",
       "</style>\n",
       "<table border=\"1\" class=\"dataframe\">\n",
       "  <thead>\n",
       "    <tr style=\"text-align: right;\">\n",
       "      <th></th>\n",
       "      <th>age</th>\n",
       "      <th>sex</th>\n",
       "      <th>bmi</th>\n",
       "      <th>bp</th>\n",
       "      <th>s1</th>\n",
       "      <th>s2</th>\n",
       "      <th>s3</th>\n",
       "      <th>s4</th>\n",
       "      <th>s5</th>\n",
       "      <th>s6</th>\n",
       "    </tr>\n",
       "  </thead>\n",
       "  <tbody>\n",
       "    <tr>\n",
       "      <th>0</th>\n",
       "      <td>0.038076</td>\n",
       "      <td>0.050680</td>\n",
       "      <td>0.061696</td>\n",
       "      <td>0.021872</td>\n",
       "      <td>-0.044223</td>\n",
       "      <td>-0.034821</td>\n",
       "      <td>-0.043401</td>\n",
       "      <td>-0.002592</td>\n",
       "      <td>0.019907</td>\n",
       "      <td>-0.017646</td>\n",
       "    </tr>\n",
       "    <tr>\n",
       "      <th>1</th>\n",
       "      <td>-0.001882</td>\n",
       "      <td>-0.044642</td>\n",
       "      <td>-0.051474</td>\n",
       "      <td>-0.026328</td>\n",
       "      <td>-0.008449</td>\n",
       "      <td>-0.019163</td>\n",
       "      <td>0.074412</td>\n",
       "      <td>-0.039493</td>\n",
       "      <td>-0.068332</td>\n",
       "      <td>-0.092204</td>\n",
       "    </tr>\n",
       "    <tr>\n",
       "      <th>2</th>\n",
       "      <td>0.085299</td>\n",
       "      <td>0.050680</td>\n",
       "      <td>0.044451</td>\n",
       "      <td>-0.005670</td>\n",
       "      <td>-0.045599</td>\n",
       "      <td>-0.034194</td>\n",
       "      <td>-0.032356</td>\n",
       "      <td>-0.002592</td>\n",
       "      <td>0.002861</td>\n",
       "      <td>-0.025930</td>\n",
       "    </tr>\n",
       "    <tr>\n",
       "      <th>3</th>\n",
       "      <td>-0.089063</td>\n",
       "      <td>-0.044642</td>\n",
       "      <td>-0.011595</td>\n",
       "      <td>-0.036656</td>\n",
       "      <td>0.012191</td>\n",
       "      <td>0.024991</td>\n",
       "      <td>-0.036038</td>\n",
       "      <td>0.034309</td>\n",
       "      <td>0.022688</td>\n",
       "      <td>-0.009362</td>\n",
       "    </tr>\n",
       "    <tr>\n",
       "      <th>4</th>\n",
       "      <td>0.005383</td>\n",
       "      <td>-0.044642</td>\n",
       "      <td>-0.036385</td>\n",
       "      <td>0.021872</td>\n",
       "      <td>0.003935</td>\n",
       "      <td>0.015596</td>\n",
       "      <td>0.008142</td>\n",
       "      <td>-0.002592</td>\n",
       "      <td>-0.031988</td>\n",
       "      <td>-0.046641</td>\n",
       "    </tr>\n",
       "  </tbody>\n",
       "</table>\n",
       "</div>"
      ],
      "text/plain": [
       "        age       sex       bmi        bp        s1        s2        s3  \\\n",
       "0  0.038076  0.050680  0.061696  0.021872 -0.044223 -0.034821 -0.043401   \n",
       "1 -0.001882 -0.044642 -0.051474 -0.026328 -0.008449 -0.019163  0.074412   \n",
       "2  0.085299  0.050680  0.044451 -0.005670 -0.045599 -0.034194 -0.032356   \n",
       "3 -0.089063 -0.044642 -0.011595 -0.036656  0.012191  0.024991 -0.036038   \n",
       "4  0.005383 -0.044642 -0.036385  0.021872  0.003935  0.015596  0.008142   \n",
       "\n",
       "         s4        s5        s6  \n",
       "0 -0.002592  0.019907 -0.017646  \n",
       "1 -0.039493 -0.068332 -0.092204  \n",
       "2 -0.002592  0.002861 -0.025930  \n",
       "3  0.034309  0.022688 -0.009362  \n",
       "4 -0.002592 -0.031988 -0.046641  "
      ]
     },
     "execution_count": 5,
     "metadata": {},
     "output_type": "execute_result"
    }
   ],
   "source": [
    "# 독립변수(피처)와 종속변수를 DataFrame자료형으로 변환\n",
    "# 데이터셋 객체의 data 배열, 즉, 독립변수 X가되는 피처(특성)들을 DataFrame자료형으로 변환하여\n",
    "# diab_df생성\n",
    "# diab_df.head() 데이터 5개 확인\n",
    "diab_df = pd.DataFrame(data=diab.data, columns=diab.feature_names)\n",
    "diab_df.head()"
   ]
  },
  {
   "cell_type": "code",
   "execution_count": 6,
   "metadata": {},
   "outputs": [
    {
     "data": {
      "text/plain": [
       "age    0\n",
       "sex    0\n",
       "bmi    0\n",
       "bp     0\n",
       "s1     0\n",
       "s2     0\n",
       "s3     0\n",
       "s4     0\n",
       "s5     0\n",
       "s6     0\n",
       "dtype: int64"
      ]
     },
     "execution_count": 6,
     "metadata": {},
     "output_type": "execute_result"
    }
   ],
   "source": [
    "# 누락치 확인,  data type 확인 ->  isnull().sum(), target에 결측값이 있으면 해당 관측치 제거\n",
    "diab_df.isnull().sum()"
   ]
  },
  {
   "cell_type": "code",
   "execution_count": 7,
   "metadata": {},
   "outputs": [
    {
     "name": "stdout",
     "output_type": "stream",
     "text": [
      "<class 'pandas.core.frame.DataFrame'>\n",
      "RangeIndex: 442 entries, 0 to 441\n",
      "Data columns (total 10 columns):\n",
      " #   Column  Non-Null Count  Dtype  \n",
      "---  ------  --------------  -----  \n",
      " 0   age     442 non-null    float64\n",
      " 1   sex     442 non-null    float64\n",
      " 2   bmi     442 non-null    float64\n",
      " 3   bp      442 non-null    float64\n",
      " 4   s1      442 non-null    float64\n",
      " 5   s2      442 non-null    float64\n",
      " 6   s3      442 non-null    float64\n",
      " 7   s4      442 non-null    float64\n",
      " 8   s5      442 non-null    float64\n",
      " 9   s6      442 non-null    float64\n",
      "dtypes: float64(10)\n",
      "memory usage: 34.7 KB\n"
     ]
    }
   ],
   "source": [
    "diab_df.info()"
   ]
  },
  {
   "cell_type": "code",
   "execution_count": 8,
   "metadata": {},
   "outputs": [],
   "source": [
    "# X(독립변수), Y(종속변수) 분할\n",
    "X = diab.data\n",
    "y = diab.target"
   ]
  },
  {
   "cell_type": "code",
   "execution_count": 9,
   "metadata": {},
   "outputs": [],
   "source": [
    "# 학습용, 평가용 데이터 분리\n",
    "X_train, X_test, y_train, y_test = train_test_split(X, y, test_size=0.3, random_state=42)"
   ]
  },
  {
   "cell_type": "markdown",
   "metadata": {},
   "source": [
    "# 모델별 계수변화, 알파별 계수 비교 데이터프레임(comp_df)"
   ]
  },
  {
   "cell_type": "code",
   "execution_count": 10,
   "metadata": {},
   "outputs": [
    {
     "data": {
      "text/html": [
       "<div>\n",
       "<style scoped>\n",
       "    .dataframe tbody tr th:only-of-type {\n",
       "        vertical-align: middle;\n",
       "    }\n",
       "\n",
       "    .dataframe tbody tr th {\n",
       "        vertical-align: top;\n",
       "    }\n",
       "\n",
       "    .dataframe thead th {\n",
       "        text-align: right;\n",
       "    }\n",
       "</style>\n",
       "<table border=\"1\" class=\"dataframe\">\n",
       "  <thead>\n",
       "    <tr style=\"text-align: right;\">\n",
       "      <th></th>\n",
       "    </tr>\n",
       "  </thead>\n",
       "  <tbody>\n",
       "    <tr>\n",
       "      <th>age</th>\n",
       "    </tr>\n",
       "    <tr>\n",
       "      <th>sex</th>\n",
       "    </tr>\n",
       "    <tr>\n",
       "      <th>bmi</th>\n",
       "    </tr>\n",
       "    <tr>\n",
       "      <th>bp</th>\n",
       "    </tr>\n",
       "    <tr>\n",
       "      <th>s1</th>\n",
       "    </tr>\n",
       "    <tr>\n",
       "      <th>s2</th>\n",
       "    </tr>\n",
       "    <tr>\n",
       "      <th>s3</th>\n",
       "    </tr>\n",
       "    <tr>\n",
       "      <th>s4</th>\n",
       "    </tr>\n",
       "    <tr>\n",
       "      <th>s5</th>\n",
       "    </tr>\n",
       "    <tr>\n",
       "      <th>s6</th>\n",
       "    </tr>\n",
       "  </tbody>\n",
       "</table>\n",
       "</div>"
      ],
      "text/plain": [
       "Empty DataFrame\n",
       "Columns: []\n",
       "Index: [age, sex, bmi, bp, s1, s2, s3, s4, s5, s6]"
      ]
     },
     "execution_count": 10,
     "metadata": {},
     "output_type": "execute_result"
    }
   ],
   "source": [
    "#각 모델별 계수로 이루어진 데이터프레임 준비\n",
    "comp_df = pd.DataFrame(index=diab.feature_names) # 인덱스만 생성됨\n",
    "comp_df"
   ]
  },
  {
   "cell_type": "code",
   "execution_count": 11,
   "metadata": {},
   "outputs": [
    {
     "data": {
      "text/html": [
       "<div>\n",
       "<style scoped>\n",
       "    .dataframe tbody tr th:only-of-type {\n",
       "        vertical-align: middle;\n",
       "    }\n",
       "\n",
       "    .dataframe tbody tr th {\n",
       "        vertical-align: top;\n",
       "    }\n",
       "\n",
       "    .dataframe thead th {\n",
       "        text-align: right;\n",
       "    }\n",
       "</style>\n",
       "<table border=\"1\" class=\"dataframe\">\n",
       "  <thead>\n",
       "    <tr style=\"text-align: right;\">\n",
       "      <th></th>\n",
       "    </tr>\n",
       "  </thead>\n",
       "  <tbody>\n",
       "    <tr>\n",
       "      <th>age</th>\n",
       "    </tr>\n",
       "    <tr>\n",
       "      <th>sex</th>\n",
       "    </tr>\n",
       "    <tr>\n",
       "      <th>bmi</th>\n",
       "    </tr>\n",
       "    <tr>\n",
       "      <th>bp</th>\n",
       "    </tr>\n",
       "    <tr>\n",
       "      <th>s1</th>\n",
       "    </tr>\n",
       "    <tr>\n",
       "      <th>s2</th>\n",
       "    </tr>\n",
       "    <tr>\n",
       "      <th>s3</th>\n",
       "    </tr>\n",
       "    <tr>\n",
       "      <th>s4</th>\n",
       "    </tr>\n",
       "    <tr>\n",
       "      <th>s5</th>\n",
       "    </tr>\n",
       "    <tr>\n",
       "      <th>s6</th>\n",
       "    </tr>\n",
       "    <tr>\n",
       "      <th>R2 scores</th>\n",
       "    </tr>\n",
       "  </tbody>\n",
       "</table>\n",
       "</div>"
      ],
      "text/plain": [
       "Empty DataFrame\n",
       "Columns: []\n",
       "Index: [age, sex, bmi, bp, s1, s2, s3, s4, s5, s6, R2 scores]"
      ]
     },
     "execution_count": 11,
     "metadata": {},
     "output_type": "execute_result"
    }
   ],
   "source": [
    "#각 모델별 계수로 이루어진 데이터프레임 준비\n",
    "comp_df = pd.DataFrame(index=diab.feature_names + [\"R2 scores\"]) # 추가하고 인덱스가 있다면\n",
    "comp_df"
   ]
  },
  {
   "cell_type": "code",
   "execution_count": null,
   "metadata": {},
   "outputs": [],
   "source": []
  },
  {
   "cell_type": "code",
   "execution_count": 12,
   "metadata": {},
   "outputs": [],
   "source": [
    "#각 모델별, 규제강도별 평가지표 저장\n"
   ]
  },
  {
   "cell_type": "code",
   "execution_count": null,
   "metadata": {},
   "outputs": [],
   "source": []
  },
  {
   "cell_type": "markdown",
   "metadata": {},
   "source": [
    "# 1. 규제가 없는 선형모델"
   ]
  },
  {
   "cell_type": "code",
   "execution_count": 13,
   "metadata": {},
   "outputs": [
    {
     "name": "stdout",
     "output_type": "stream",
     "text": [
      "age     29.254013\n",
      "sex   -261.706469\n",
      "bmi    546.299723\n",
      "bp     388.398341\n",
      "s1    -901.959668\n",
      "s2     506.763241\n",
      "s3     121.154351\n",
      "s4     288.035267\n",
      "s5     659.268951\n",
      "s6      41.376701\n",
      "dtype: float64\n"
     ]
    }
   ],
   "source": [
    "#모델 구축 및 학습\n",
    "model_LR = LinearRegression()\n",
    "model_LR.fit(X_train, y_train)\n",
    "#모델 평가\n",
    "y_pred = model_LR.predict(X_test)\n",
    "from evaluate_model import evaluate_score\n",
    "\n",
    "evaluate_score(y_test, y_pred)\n",
    "# 회귀 계수 확인\n",
    "LR_coef = pd.Series(model_LR.coef_, index=diab.feature_names)\n",
    "print(LR_coef)\n",
    "# r2\n",
    "# print(r2)"
   ]
  },
  {
   "cell_type": "markdown",
   "metadata": {},
   "source": [
    "- 계수값 시각화"
   ]
  },
  {
   "cell_type": "code",
   "execution_count": 14,
   "metadata": {},
   "outputs": [
    {
     "data": {
      "text/plain": [
       "<BarContainer object of 10 artists>"
      ]
     },
     "execution_count": 14,
     "metadata": {},
     "output_type": "execute_result"
    },
    {
     "data": {
      "image/png": "[encoded data removed]",
      "text/plain": [
       "<Figure size 1000x300 with 1 Axes>"
      ]
     },
     "metadata": {},
     "output_type": "display_data"
    }
   ],
   "source": [
    "coef = LR_coef.sort_values(ascending=False)\n",
    "# 시각화 \n",
    "plt.figure(figsize=(10, 3))\n",
    "plt.bar(coef.index, coef)"
   ]
  },
  {
   "attachments": {},
   "cell_type": "markdown",
   "metadata": {},
   "source": [
    "#### 절대값으로 처리해서 어떤게 가장 큰 영향을 끼치는지 확인"
   ]
  },
  {
   "cell_type": "code",
   "execution_count": 15,
   "metadata": {},
   "outputs": [
    {
     "data": {
      "image/png": "[encoded data removed]",
      "text/plain": [
       "<Figure size 1000x300 with 1 Axes>"
      ]
     },
     "metadata": {},
     "output_type": "display_data"
    }
   ],
   "source": [
    "coef = LR_coef.sort_values(ascending=False)\n",
    "# print(coef)\n",
    "coef = np.abs(LR_coef).sort_values(ascending=False)\n",
    "# print('====')\n",
    "# print(coef)\n",
    "# 시각화 \n",
    "plt.figure(figsize=(10, 3))\n",
    "plt.title(\"<Feature importance of coefficients without Regulization>\", fontsize=15)\n",
    "plt.bar(coef.index, coef)\n",
    "plt.xticks(coef.index, rotation=45, fontsize=11);"
   ]
  },
  {
   "cell_type": "code",
   "execution_count": 16,
   "metadata": {},
   "outputs": [
    {
     "data": {
      "text/html": [
       "<div>\n",
       "<style scoped>\n",
       "    .dataframe tbody tr th:only-of-type {\n",
       "        vertical-align: middle;\n",
       "    }\n",
       "\n",
       "    .dataframe tbody tr th {\n",
       "        vertical-align: top;\n",
       "    }\n",
       "\n",
       "    .dataframe thead th {\n",
       "        text-align: right;\n",
       "    }\n",
       "</style>\n",
       "<table border=\"1\" class=\"dataframe\">\n",
       "  <thead>\n",
       "    <tr style=\"text-align: right;\">\n",
       "      <th></th>\n",
       "      <th>LR</th>\n",
       "    </tr>\n",
       "  </thead>\n",
       "  <tbody>\n",
       "    <tr>\n",
       "      <th>age</th>\n",
       "      <td>29.254013</td>\n",
       "    </tr>\n",
       "    <tr>\n",
       "      <th>sex</th>\n",
       "      <td>-261.706469</td>\n",
       "    </tr>\n",
       "    <tr>\n",
       "      <th>bmi</th>\n",
       "      <td>546.299723</td>\n",
       "    </tr>\n",
       "    <tr>\n",
       "      <th>bp</th>\n",
       "      <td>388.398341</td>\n",
       "    </tr>\n",
       "    <tr>\n",
       "      <th>s1</th>\n",
       "      <td>-901.959668</td>\n",
       "    </tr>\n",
       "    <tr>\n",
       "      <th>s2</th>\n",
       "      <td>506.763241</td>\n",
       "    </tr>\n",
       "    <tr>\n",
       "      <th>s3</th>\n",
       "      <td>121.154351</td>\n",
       "    </tr>\n",
       "    <tr>\n",
       "      <th>s4</th>\n",
       "      <td>288.035267</td>\n",
       "    </tr>\n",
       "    <tr>\n",
       "      <th>s5</th>\n",
       "      <td>659.268951</td>\n",
       "    </tr>\n",
       "    <tr>\n",
       "      <th>s6</th>\n",
       "      <td>41.376701</td>\n",
       "    </tr>\n",
       "    <tr>\n",
       "      <th>R2 scores</th>\n",
       "      <td>0.477000</td>\n",
       "    </tr>\n",
       "  </tbody>\n",
       "</table>\n",
       "</div>"
      ],
      "text/plain": [
       "                   LR\n",
       "age         29.254013\n",
       "sex       -261.706469\n",
       "bmi        546.299723\n",
       "bp         388.398341\n",
       "s1        -901.959668\n",
       "s2         506.763241\n",
       "s3         121.154351\n",
       "s4         288.035267\n",
       "s5         659.268951\n",
       "s6          41.376701\n",
       "R2 scores    0.477000"
      ]
     },
     "execution_count": 16,
     "metadata": {},
     "output_type": "execute_result"
    }
   ],
   "source": [
    "# 모델별 비교 데이터프레임 열 추가\n",
    "r2 = 0.477\n",
    "comp_df['LR'] = np.append(model_LR.coef_, r2)\n",
    "comp_df"
   ]
  },
  {
   "attachments": {},
   "cell_type": "markdown",
   "metadata": {},
   "source": [
    "# 2. 릿지 모델"
   ]
  },
  {
   "cell_type": "code",
   "execution_count": 17,
   "metadata": {},
   "outputs": [
    {
     "data": {
      "text/html": [
       "<style>#sk-container-id-1 {color: black;background-color: white;}#sk-container-id-1 pre{padding: 0;}#sk-container-id-1 div.sk-toggleable {background-color: white;}#sk-container-id-1 label.sk-toggleable__label {cursor: pointer;display: block;width: 100%;margin-bottom: 0;padding: 0.3em;box-sizing: border-box;text-align: center;}#sk-container-id-1 label.sk-toggleable__label-arrow:before {content: \"▸\";float: left;margin-right: 0.25em;color: #696969;}#sk-container-id-1 label.sk-toggleable__label-arrow:hover:before {color: black;}#sk-container-id-1 div.sk-estimator:hover label.sk-toggleable__label-arrow:before {color: black;}#sk-container-id-1 div.sk-toggleable__content {max-height: 0;max-width: 0;overflow: hidden;text-align: left;background-color: #f0f8ff;}#sk-container-id-1 div.sk-toggleable__content pre {margin: 0.2em;color: black;border-radius: 0.25em;background-color: #f0f8ff;}#sk-container-id-1 input.sk-toggleable__control:checked~div.sk-toggleable__content {max-height: 200px;max-width: 100%;overflow: auto;}#sk-container-id-1 input.sk-toggleable__control:checked~label.sk-toggleable__label-arrow:before {content: \"▾\";}#sk-container-id-1 div.sk-estimator input.sk-toggleable__control:checked~label.sk-toggleable__label {background-color: #d4ebff;}#sk-container-id-1 div.sk-label input.sk-toggleable__control:checked~label.sk-toggleable__label {background-color: #d4ebff;}#sk-container-id-1 input.sk-hidden--visually {border: 0;clip: rect(1px 1px 1px 1px);clip: rect(1px, 1px, 1px, 1px);height: 1px;margin: -1px;overflow: hidden;padding: 0;position: absolute;width: 1px;}#sk-container-id-1 div.sk-estimator {font-family: monospace;background-color: #f0f8ff;border: 1px dotted black;border-radius: 0.25em;box-sizing: border-box;margin-bottom: 0.5em;}#sk-container-id-1 div.sk-estimator:hover {background-color: #d4ebff;}#sk-container-id-1 div.sk-parallel-item::after {content: \"\";width: 100%;border-bottom: 1px solid gray;flex-grow: 1;}#sk-container-id-1 div.sk-label:hover label.sk-toggleable__label {background-color: #d4ebff;}#sk-container-id-1 div.sk-serial::before {content: \"\";position: absolute;border-left: 1px solid gray;box-sizing: border-box;top: 0;bottom: 0;left: 50%;z-index: 0;}#sk-container-id-1 div.sk-serial {display: flex;flex-direction: column;align-items: center;background-color: white;padding-right: 0.2em;padding-left: 0.2em;position: relative;}#sk-container-id-1 div.sk-item {position: relative;z-index: 1;}#sk-container-id-1 div.sk-parallel {display: flex;align-items: stretch;justify-content: center;background-color: white;position: relative;}#sk-container-id-1 div.sk-item::before, #sk-container-id-1 div.sk-parallel-item::before {content: \"\";position: absolute;border-left: 1px solid gray;box-sizing: border-box;top: 0;bottom: 0;left: 50%;z-index: -1;}#sk-container-id-1 div.sk-parallel-item {display: flex;flex-direction: column;z-index: 1;position: relative;background-color: white;}#sk-container-id-1 div.sk-parallel-item:first-child::after {align-self: flex-end;width: 50%;}#sk-container-id-1 div.sk-parallel-item:last-child::after {align-self: flex-start;width: 50%;}#sk-container-id-1 div.sk-parallel-item:only-child::after {width: 0;}#sk-container-id-1 div.sk-dashed-wrapped {border: 1px dashed gray;margin: 0 0.4em 0.5em 0.4em;box-sizing: border-box;padding-bottom: 0.4em;background-color: white;}#sk-container-id-1 div.sk-label label {font-family: monospace;font-weight: bold;display: inline-block;line-height: 1.2em;}#sk-container-id-1 div.sk-label-container {text-align: center;}#sk-container-id-1 div.sk-container {/* jupyter's `normalize.less` sets `[hidden] { display: none; }` but bootstrap.min.css set `[hidden] { display: none !important; }` so we also need the `!important` here to be able to override the default hidden behavior on the sphinx rendered scikit-learn.org. See: https://github.com/scikit-learn/scikit-learn/issues/21755 */display: inline-block !important;position: relative;}#sk-container-id-1 div.sk-text-repr-fallback {display: none;}</style><div id=\"sk-container-id-1\" class=\"sk-top-container\"><div class=\"sk-text-repr-fallback\"><pre>Ridge(alpha=1)</pre><b>In a Jupyter environment, please rerun this cell to show the HTML representation or trust the notebook. <br />On GitHub, the HTML representation is unable to render, please try loading this page with nbviewer.org.</b></div><div class=\"sk-container\" hidden><div class=\"sk-item\"><div class=\"sk-estimator sk-toggleable\"><input class=\"sk-toggleable__control sk-hidden--visually\" id=\"sk-estimator-id-1\" type=\"checkbox\" checked><label for=\"sk-estimator-id-1\" class=\"sk-toggleable__label sk-toggleable__label-arrow\">Ridge</label><div class=\"sk-toggleable__content\"><pre>Ridge(alpha=1)</pre></div></div></div></div></div>"
      ],
      "text/plain": [
       "Ridge(alpha=1)"
      ]
     },
     "execution_count": 17,
     "metadata": {},
     "output_type": "execute_result"
    }
   ],
   "source": [
    "from sklearn.linear_model import Ridge\n",
    "model_RG = Ridge(alpha=1)\n",
    "model_RG.fit(X_train, y_train)"
   ]
  },
  {
   "cell_type": "code",
   "execution_count": 18,
   "metadata": {},
   "outputs": [
    {
     "name": "stdout",
     "output_type": "stream",
     "text": [
      "0.4233440269603016\n"
     ]
    },
    {
     "data": {
      "text/plain": [
       "array([  45.05421022,  -71.94739737,  280.71625182,  195.21266175,\n",
       "         -2.22930269,  -17.54079744, -148.68886188,  120.46723979,\n",
       "        198.61440137,  106.93469215])"
      ]
     },
     "execution_count": 18,
     "metadata": {},
     "output_type": "execute_result"
    }
   ],
   "source": [
    "# 릿지 선형회귀 모델 평가: model_Ridge1, alpha=1\n",
    "y_pred = model_RG.predict(X_test)\n",
    "r2 = r2_score(y_test, y_pred)\n",
    "print(r2)\n",
    "# a=1일때 회귀 계수 확인\n",
    "coef= model_RG.coef_\n",
    "coef"
   ]
  },
  {
   "cell_type": "code",
   "execution_count": 19,
   "metadata": {},
   "outputs": [],
   "source": [
    "# 선형 모델 평가\n",
    "\n",
    "\n",
    "#a = 1 릿지 모델 회귀 계수\n"
   ]
  },
  {
   "cell_type": "markdown",
   "metadata": {},
   "source": [
    "- 계수값 시각화"
   ]
  },
  {
   "cell_type": "code",
   "execution_count": 20,
   "metadata": {},
   "outputs": [
    {
     "data": {
      "image/png": "[encoded data removed]",
      "text/plain": [
       "<Figure size 1000x300 with 1 Axes>"
      ]
     },
     "metadata": {},
     "output_type": "display_data"
    }
   ],
   "source": [
    "coef = pd.Series(np.abs(model_RG.coef_), index=diab.feature_names)\n",
    "coef = coef.sort_values(ascending=False)\n",
    "# 시각화\n",
    "plt.figure(figsize=(10, 3))\n",
    "plt.title(\"<Feature importance of coefficients with Ridge Regulization>\", fontsize=15)\n",
    "plt.bar(coef.index, coef)\n",
    "plt.xticks(coef.index, rotation=45, fontsize=11); # 규제를 줬더니 회귀계수가 미치는 영향이 작아졌다"
   ]
  },
  {
   "cell_type": "code",
   "execution_count": 21,
   "metadata": {
    "scrolled": true
   },
   "outputs": [],
   "source": [
    "# alpha_list=[0.01, 1, 10, 100]인 경우\n",
    "\n",
    "alpha_list=[0.01, 1, 10, 100]\n",
    "for each in alpha_list:\n",
    "    model_RG = Ridge(alpha=each)\n",
    "    model_RG.fit(X_train, y_train)\n",
    "    y_pred = model_RG.predict(X_test)\n",
    "    r2 = r2_score(y_test, y_pred)\n",
    "    col_name = f'Ridge(alpha={each:.2f})'\n",
    "    comp_df[col_name] = np.append(model_RG.coef_, r2)"
   ]
  },
  {
   "cell_type": "code",
   "execution_count": 22,
   "metadata": {},
   "outputs": [
    {
     "data": {
      "text/html": [
       "<div>\n",
       "<style scoped>\n",
       "    .dataframe tbody tr th:only-of-type {\n",
       "        vertical-align: middle;\n",
       "    }\n",
       "\n",
       "    .dataframe tbody tr th {\n",
       "        vertical-align: top;\n",
       "    }\n",
       "\n",
       "    .dataframe thead th {\n",
       "        text-align: right;\n",
       "    }\n",
       "</style>\n",
       "<table border=\"1\" class=\"dataframe\">\n",
       "  <thead>\n",
       "    <tr style=\"text-align: right;\">\n",
       "      <th></th>\n",
       "      <th>LR</th>\n",
       "      <th>Ridge(alpha=0.01)</th>\n",
       "      <th>Ridge(alpha=1.00)</th>\n",
       "      <th>Ridge(alpha=10.00)</th>\n",
       "      <th>Ridge(alpha=100.00)</th>\n",
       "    </tr>\n",
       "  </thead>\n",
       "  <tbody>\n",
       "    <tr>\n",
       "      <th>age</th>\n",
       "      <td>29.254013</td>\n",
       "      <td>34.167328</td>\n",
       "      <td>45.054210</td>\n",
       "      <td>16.230889</td>\n",
       "      <td>2.072848</td>\n",
       "    </tr>\n",
       "    <tr>\n",
       "      <th>sex</th>\n",
       "      <td>-261.706469</td>\n",
       "      <td>-254.043316</td>\n",
       "      <td>-71.947397</td>\n",
       "      <td>-2.961367</td>\n",
       "      <td>-0.003808</td>\n",
       "    </tr>\n",
       "    <tr>\n",
       "      <th>bmi</th>\n",
       "      <td>546.299723</td>\n",
       "      <td>550.844882</td>\n",
       "      <td>280.716252</td>\n",
       "      <td>59.524160</td>\n",
       "      <td>6.899915</td>\n",
       "    </tr>\n",
       "    <tr>\n",
       "      <th>bp</th>\n",
       "      <td>388.398341</td>\n",
       "      <td>379.126708</td>\n",
       "      <td>195.212662</td>\n",
       "      <td>43.421300</td>\n",
       "      <td>5.085100</td>\n",
       "    </tr>\n",
       "    <tr>\n",
       "      <th>s1</th>\n",
       "      <td>-901.959668</td>\n",
       "      <td>-404.253263</td>\n",
       "      <td>-2.229303</td>\n",
       "      <td>13.875073</td>\n",
       "      <td>2.069660</td>\n",
       "    </tr>\n",
       "    <tr>\n",
       "      <th>s2</th>\n",
       "      <td>506.763241</td>\n",
       "      <td>123.029219</td>\n",
       "      <td>-17.540797</td>\n",
       "      <td>10.865267</td>\n",
       "      <td>1.743748</td>\n",
       "    </tr>\n",
       "    <tr>\n",
       "      <th>s3</th>\n",
       "      <td>121.154351</td>\n",
       "      <td>-99.041674</td>\n",
       "      <td>-148.688862</td>\n",
       "      <td>-37.495847</td>\n",
       "      <td>-4.508876</td>\n",
       "    </tr>\n",
       "    <tr>\n",
       "      <th>s4</th>\n",
       "      <td>288.035267</td>\n",
       "      <td>215.032624</td>\n",
       "      <td>120.467240</td>\n",
       "      <td>38.728538</td>\n",
       "      <td>4.902421</td>\n",
       "    </tr>\n",
       "    <tr>\n",
       "      <th>s5</th>\n",
       "      <td>659.268951</td>\n",
       "      <td>463.842634</td>\n",
       "      <td>198.614401</td>\n",
       "      <td>49.224746</td>\n",
       "      <td>5.926496</td>\n",
       "    </tr>\n",
       "    <tr>\n",
       "      <th>s6</th>\n",
       "      <td>41.376701</td>\n",
       "      <td>50.351490</td>\n",
       "      <td>106.934692</td>\n",
       "      <td>34.737987</td>\n",
       "      <td>4.328698</td>\n",
       "    </tr>\n",
       "    <tr>\n",
       "      <th>R2 scores</th>\n",
       "      <td>0.477000</td>\n",
       "      <td>0.477672</td>\n",
       "      <td>0.423344</td>\n",
       "      <td>0.151566</td>\n",
       "      <td>0.014770</td>\n",
       "    </tr>\n",
       "  </tbody>\n",
       "</table>\n",
       "</div>"
      ],
      "text/plain": [
       "                   LR  Ridge(alpha=0.01)  Ridge(alpha=1.00)  \\\n",
       "age         29.254013          34.167328          45.054210   \n",
       "sex       -261.706469        -254.043316         -71.947397   \n",
       "bmi        546.299723         550.844882         280.716252   \n",
       "bp         388.398341         379.126708         195.212662   \n",
       "s1        -901.959668        -404.253263          -2.229303   \n",
       "s2         506.763241         123.029219         -17.540797   \n",
       "s3         121.154351         -99.041674        -148.688862   \n",
       "s4         288.035267         215.032624         120.467240   \n",
       "s5         659.268951         463.842634         198.614401   \n",
       "s6          41.376701          50.351490         106.934692   \n",
       "R2 scores    0.477000           0.477672           0.423344   \n",
       "\n",
       "           Ridge(alpha=10.00)  Ridge(alpha=100.00)  \n",
       "age                 16.230889             2.072848  \n",
       "sex                 -2.961367            -0.003808  \n",
       "bmi                 59.524160             6.899915  \n",
       "bp                  43.421300             5.085100  \n",
       "s1                  13.875073             2.069660  \n",
       "s2                  10.865267             1.743748  \n",
       "s3                 -37.495847            -4.508876  \n",
       "s4                  38.728538             4.902421  \n",
       "s5                  49.224746             5.926496  \n",
       "s6                  34.737987             4.328698  \n",
       "R2 scores            0.151566             0.014770  "
      ]
     },
     "execution_count": 22,
     "metadata": {},
     "output_type": "execute_result"
    }
   ],
   "source": [
    "comp_df # alpha가 커질수록, 규제가 커질 수록 회귀계수와 결정계수의 변화를 확인하는 데이터 "
   ]
  },
  {
   "cell_type": "markdown",
   "metadata": {},
   "source": [
    "# 2. 라쏘 모델"
   ]
  },
  {
   "cell_type": "code",
   "execution_count": 23,
   "metadata": {},
   "outputs": [
    {
     "data": {
      "text/html": [
       "<style>#sk-container-id-2 {color: black;background-color: white;}#sk-container-id-2 pre{padding: 0;}#sk-container-id-2 div.sk-toggleable {background-color: white;}#sk-container-id-2 label.sk-toggleable__label {cursor: pointer;display: block;width: 100%;margin-bottom: 0;padding: 0.3em;box-sizing: border-box;text-align: center;}#sk-container-id-2 label.sk-toggleable__label-arrow:before {content: \"▸\";float: left;margin-right: 0.25em;color: #696969;}#sk-container-id-2 label.sk-toggleable__label-arrow:hover:before {color: black;}#sk-container-id-2 div.sk-estimator:hover label.sk-toggleable__label-arrow:before {color: black;}#sk-container-id-2 div.sk-toggleable__content {max-height: 0;max-width: 0;overflow: hidden;text-align: left;background-color: #f0f8ff;}#sk-container-id-2 div.sk-toggleable__content pre {margin: 0.2em;color: black;border-radius: 0.25em;background-color: #f0f8ff;}#sk-container-id-2 input.sk-toggleable__control:checked~div.sk-toggleable__content {max-height: 200px;max-width: 100%;overflow: auto;}#sk-container-id-2 input.sk-toggleable__control:checked~label.sk-toggleable__label-arrow:before {content: \"▾\";}#sk-container-id-2 div.sk-estimator input.sk-toggleable__control:checked~label.sk-toggleable__label {background-color: #d4ebff;}#sk-container-id-2 div.sk-label input.sk-toggleable__control:checked~label.sk-toggleable__label {background-color: #d4ebff;}#sk-container-id-2 input.sk-hidden--visually {border: 0;clip: rect(1px 1px 1px 1px);clip: rect(1px, 1px, 1px, 1px);height: 1px;margin: -1px;overflow: hidden;padding: 0;position: absolute;width: 1px;}#sk-container-id-2 div.sk-estimator {font-family: monospace;background-color: #f0f8ff;border: 1px dotted black;border-radius: 0.25em;box-sizing: border-box;margin-bottom: 0.5em;}#sk-container-id-2 div.sk-estimator:hover {background-color: #d4ebff;}#sk-container-id-2 div.sk-parallel-item::after {content: \"\";width: 100%;border-bottom: 1px solid gray;flex-grow: 1;}#sk-container-id-2 div.sk-label:hover label.sk-toggleable__label {background-color: #d4ebff;}#sk-container-id-2 div.sk-serial::before {content: \"\";position: absolute;border-left: 1px solid gray;box-sizing: border-box;top: 0;bottom: 0;left: 50%;z-index: 0;}#sk-container-id-2 div.sk-serial {display: flex;flex-direction: column;align-items: center;background-color: white;padding-right: 0.2em;padding-left: 0.2em;position: relative;}#sk-container-id-2 div.sk-item {position: relative;z-index: 1;}#sk-container-id-2 div.sk-parallel {display: flex;align-items: stretch;justify-content: center;background-color: white;position: relative;}#sk-container-id-2 div.sk-item::before, #sk-container-id-2 div.sk-parallel-item::before {content: \"\";position: absolute;border-left: 1px solid gray;box-sizing: border-box;top: 0;bottom: 0;left: 50%;z-index: -1;}#sk-container-id-2 div.sk-parallel-item {display: flex;flex-direction: column;z-index: 1;position: relative;background-color: white;}#sk-container-id-2 div.sk-parallel-item:first-child::after {align-self: flex-end;width: 50%;}#sk-container-id-2 div.sk-parallel-item:last-child::after {align-self: flex-start;width: 50%;}#sk-container-id-2 div.sk-parallel-item:only-child::after {width: 0;}#sk-container-id-2 div.sk-dashed-wrapped {border: 1px dashed gray;margin: 0 0.4em 0.5em 0.4em;box-sizing: border-box;padding-bottom: 0.4em;background-color: white;}#sk-container-id-2 div.sk-label label {font-family: monospace;font-weight: bold;display: inline-block;line-height: 1.2em;}#sk-container-id-2 div.sk-label-container {text-align: center;}#sk-container-id-2 div.sk-container {/* jupyter's `normalize.less` sets `[hidden] { display: none; }` but bootstrap.min.css set `[hidden] { display: none !important; }` so we also need the `!important` here to be able to override the default hidden behavior on the sphinx rendered scikit-learn.org. See: https://github.com/scikit-learn/scikit-learn/issues/21755 */display: inline-block !important;position: relative;}#sk-container-id-2 div.sk-text-repr-fallback {display: none;}</style><div id=\"sk-container-id-2\" class=\"sk-top-container\"><div class=\"sk-text-repr-fallback\"><pre>Lasso(alpha=1)</pre><b>In a Jupyter environment, please rerun this cell to show the HTML representation or trust the notebook. <br />On GitHub, the HTML representation is unable to render, please try loading this page with nbviewer.org.</b></div><div class=\"sk-container\" hidden><div class=\"sk-item\"><div class=\"sk-estimator sk-toggleable\"><input class=\"sk-toggleable__control sk-hidden--visually\" id=\"sk-estimator-id-2\" type=\"checkbox\" checked><label for=\"sk-estimator-id-2\" class=\"sk-toggleable__label sk-toggleable__label-arrow\">Lasso</label><div class=\"sk-toggleable__content\"><pre>Lasso(alpha=1)</pre></div></div></div></div></div>"
      ],
      "text/plain": [
       "Lasso(alpha=1)"
      ]
     },
     "execution_count": 23,
     "metadata": {},
     "output_type": "execute_result"
    }
   ],
   "source": [
    "from sklearn.linear_model import Lasso\n",
    "# alpha = 1, default\n",
    "model_Lasso = Lasso(alpha=1)\n",
    "model_Lasso.fit(X_train, y_train)"
   ]
  },
  {
   "cell_type": "code",
   "execution_count": 24,
   "metadata": {},
   "outputs": [
    {
     "name": "stdout",
     "output_type": "stream",
     "text": [
      "0.36189802861957876\n"
     ]
    },
    {
     "data": {
      "text/plain": [
       "age      0.000000\n",
       "sex     -0.000000\n",
       "bmi    443.703388\n",
       "bp      51.601094\n",
       "s1       0.000000\n",
       "s2       0.000000\n",
       "s3      -0.000000\n",
       "s4       0.000000\n",
       "s5     201.966478\n",
       "s6       0.000000\n",
       "dtype: float64"
      ]
     },
     "execution_count": 24,
     "metadata": {},
     "output_type": "execute_result"
    }
   ],
   "source": [
    "# 라쏘 선형회귀 모델 평가(alpha=1)\n",
    "# 선형 모델 평가\n",
    "y_pred = model_Lasso.predict(X_test)\n",
    "r2 = r2_score(y_test, y_pred)\n",
    "print(r2)\n",
    "# a = 1 라쏘 모델 회귀 계수\n",
    "\n",
    "Lasso_coef = pd.Series(model_Lasso.coef_, index=diab.feature_names)\n",
    "Lasso_coef"
   ]
  },
  {
   "cell_type": "markdown",
   "metadata": {},
   "source": [
    "- 계수 시각화"
   ]
  },
  {
   "cell_type": "code",
   "execution_count": 25,
   "metadata": {},
   "outputs": [
    {
     "data": {
      "image/png": "[encoded data removed]",
      "text/plain": [
       "<Figure size 1000x300 with 1 Axes>"
      ]
     },
     "metadata": {},
     "output_type": "display_data"
    }
   ],
   "source": [
    "coef = np.abs(Lasso_coef)\n",
    "coef = pd.Series(coef, index=diab.feature_names).sort_values(ascending=False)\n",
    "# 시각화\n",
    "plt.figure(figsize=(10, 3))\n",
    "plt.title(\"<Feature importance of coefficients with Lasso Regulization>\", fontsize=15)\n",
    "plt.bar(coef.index, coef)\n",
    "plt.xticks(coef.index, rotation=45, fontsize=11);"
   ]
  },
  {
   "cell_type": "code",
   "execution_count": 26,
   "metadata": {},
   "outputs": [],
   "source": [
    "# alpha_list=[0.01, 1, 10, 100]인 경우\n",
    "alpha_list=[0.01, 1, 10, 100]\n",
    "for each in alpha_list:\n",
    "    model_Lasso = Lasso(alpha=each)\n",
    "    model_Lasso.fit(X_train, y_train)\n",
    "    y_pred = model_Lasso.predict(X_test)\n",
    "    r2 = r2_score(y_test, y_pred)\n",
    "    col_name = f'Lasso(alpha={each:.2f})'\n",
    "    comp_df[col_name] = np.append(model_Lasso.coef_, r2)"
   ]
  },
  {
   "cell_type": "code",
   "execution_count": 27,
   "metadata": {},
   "outputs": [
    {
     "data": {
      "text/html": [
       "<div>\n",
       "<style scoped>\n",
       "    .dataframe tbody tr th:only-of-type {\n",
       "        vertical-align: middle;\n",
       "    }\n",
       "\n",
       "    .dataframe tbody tr th {\n",
       "        vertical-align: top;\n",
       "    }\n",
       "\n",
       "    .dataframe thead th {\n",
       "        text-align: right;\n",
       "    }\n",
       "</style>\n",
       "<table border=\"1\" class=\"dataframe\">\n",
       "  <thead>\n",
       "    <tr style=\"text-align: right;\">\n",
       "      <th></th>\n",
       "      <th>LR</th>\n",
       "      <th>Ridge(alpha=0.01)</th>\n",
       "      <th>Ridge(alpha=1.00)</th>\n",
       "      <th>Ridge(alpha=10.00)</th>\n",
       "      <th>Ridge(alpha=100.00)</th>\n",
       "      <th>Lasso(alpha=0.01)</th>\n",
       "      <th>Lasso(alpha=1.00)</th>\n",
       "      <th>Lasso(alpha=10.00)</th>\n",
       "      <th>Lasso(alpha=100.00)</th>\n",
       "    </tr>\n",
       "  </thead>\n",
       "  <tbody>\n",
       "    <tr>\n",
       "      <th>age</th>\n",
       "      <td>29.254013</td>\n",
       "      <td>34.167328</td>\n",
       "      <td>45.054210</td>\n",
       "      <td>16.230889</td>\n",
       "      <td>2.072848</td>\n",
       "      <td>28.246364</td>\n",
       "      <td>0.000000</td>\n",
       "      <td>0.000000</td>\n",
       "      <td>0.000000</td>\n",
       "    </tr>\n",
       "    <tr>\n",
       "      <th>sex</th>\n",
       "      <td>-261.706469</td>\n",
       "      <td>-254.043316</td>\n",
       "      <td>-71.947397</td>\n",
       "      <td>-2.961367</td>\n",
       "      <td>-0.003808</td>\n",
       "      <td>-250.819184</td>\n",
       "      <td>-0.000000</td>\n",
       "      <td>0.000000</td>\n",
       "      <td>0.000000</td>\n",
       "    </tr>\n",
       "    <tr>\n",
       "      <th>bmi</th>\n",
       "      <td>546.299723</td>\n",
       "      <td>550.844882</td>\n",
       "      <td>280.716252</td>\n",
       "      <td>59.524160</td>\n",
       "      <td>6.899915</td>\n",
       "      <td>556.215874</td>\n",
       "      <td>443.703388</td>\n",
       "      <td>0.000000</td>\n",
       "      <td>0.000000</td>\n",
       "    </tr>\n",
       "    <tr>\n",
       "      <th>bp</th>\n",
       "      <td>388.398341</td>\n",
       "      <td>379.126708</td>\n",
       "      <td>195.212662</td>\n",
       "      <td>43.421300</td>\n",
       "      <td>5.085100</td>\n",
       "      <td>380.659502</td>\n",
       "      <td>51.601094</td>\n",
       "      <td>0.000000</td>\n",
       "      <td>0.000000</td>\n",
       "    </tr>\n",
       "    <tr>\n",
       "      <th>s1</th>\n",
       "      <td>-901.959668</td>\n",
       "      <td>-404.253263</td>\n",
       "      <td>-2.229303</td>\n",
       "      <td>13.875073</td>\n",
       "      <td>2.069660</td>\n",
       "      <td>-468.739540</td>\n",
       "      <td>0.000000</td>\n",
       "      <td>0.000000</td>\n",
       "      <td>0.000000</td>\n",
       "    </tr>\n",
       "    <tr>\n",
       "      <th>s2</th>\n",
       "      <td>506.763241</td>\n",
       "      <td>123.029219</td>\n",
       "      <td>-17.540797</td>\n",
       "      <td>10.865267</td>\n",
       "      <td>1.743748</td>\n",
       "      <td>166.993417</td>\n",
       "      <td>0.000000</td>\n",
       "      <td>0.000000</td>\n",
       "      <td>0.000000</td>\n",
       "    </tr>\n",
       "    <tr>\n",
       "      <th>s3</th>\n",
       "      <td>121.154351</td>\n",
       "      <td>-99.041674</td>\n",
       "      <td>-148.688862</td>\n",
       "      <td>-37.495847</td>\n",
       "      <td>-4.508876</td>\n",
       "      <td>-60.219459</td>\n",
       "      <td>-0.000000</td>\n",
       "      <td>-0.000000</td>\n",
       "      <td>-0.000000</td>\n",
       "    </tr>\n",
       "    <tr>\n",
       "      <th>s4</th>\n",
       "      <td>288.035267</td>\n",
       "      <td>215.032624</td>\n",
       "      <td>120.467240</td>\n",
       "      <td>38.728538</td>\n",
       "      <td>4.902421</td>\n",
       "      <td>230.916253</td>\n",
       "      <td>0.000000</td>\n",
       "      <td>0.000000</td>\n",
       "      <td>0.000000</td>\n",
       "    </tr>\n",
       "    <tr>\n",
       "      <th>s5</th>\n",
       "      <td>659.268951</td>\n",
       "      <td>463.842634</td>\n",
       "      <td>198.614401</td>\n",
       "      <td>49.224746</td>\n",
       "      <td>5.926496</td>\n",
       "      <td>492.634358</td>\n",
       "      <td>201.966478</td>\n",
       "      <td>0.000000</td>\n",
       "      <td>0.000000</td>\n",
       "    </tr>\n",
       "    <tr>\n",
       "      <th>s6</th>\n",
       "      <td>41.376701</td>\n",
       "      <td>50.351490</td>\n",
       "      <td>106.934692</td>\n",
       "      <td>34.737987</td>\n",
       "      <td>4.328698</td>\n",
       "      <td>43.969346</td>\n",
       "      <td>0.000000</td>\n",
       "      <td>0.000000</td>\n",
       "      <td>0.000000</td>\n",
       "    </tr>\n",
       "    <tr>\n",
       "      <th>R2 scores</th>\n",
       "      <td>0.477000</td>\n",
       "      <td>0.477672</td>\n",
       "      <td>0.423344</td>\n",
       "      <td>0.151566</td>\n",
       "      <td>0.014770</td>\n",
       "      <td>0.478714</td>\n",
       "      <td>0.361898</td>\n",
       "      <td>-0.006405</td>\n",
       "      <td>-0.006405</td>\n",
       "    </tr>\n",
       "  </tbody>\n",
       "</table>\n",
       "</div>"
      ],
      "text/plain": [
       "                   LR  Ridge(alpha=0.01)  Ridge(alpha=1.00)  \\\n",
       "age         29.254013          34.167328          45.054210   \n",
       "sex       -261.706469        -254.043316         -71.947397   \n",
       "bmi        546.299723         550.844882         280.716252   \n",
       "bp         388.398341         379.126708         195.212662   \n",
       "s1        -901.959668        -404.253263          -2.229303   \n",
       "s2         506.763241         123.029219         -17.540797   \n",
       "s3         121.154351         -99.041674        -148.688862   \n",
       "s4         288.035267         215.032624         120.467240   \n",
       "s5         659.268951         463.842634         198.614401   \n",
       "s6          41.376701          50.351490         106.934692   \n",
       "R2 scores    0.477000           0.477672           0.423344   \n",
       "\n",
       "           Ridge(alpha=10.00)  Ridge(alpha=100.00)  Lasso(alpha=0.01)  \\\n",
       "age                 16.230889             2.072848          28.246364   \n",
       "sex                 -2.961367            -0.003808        -250.819184   \n",
       "bmi                 59.524160             6.899915         556.215874   \n",
       "bp                  43.421300             5.085100         380.659502   \n",
       "s1                  13.875073             2.069660        -468.739540   \n",
       "s2                  10.865267             1.743748         166.993417   \n",
       "s3                 -37.495847            -4.508876         -60.219459   \n",
       "s4                  38.728538             4.902421         230.916253   \n",
       "s5                  49.224746             5.926496         492.634358   \n",
       "s6                  34.737987             4.328698          43.969346   \n",
       "R2 scores            0.151566             0.014770           0.478714   \n",
       "\n",
       "           Lasso(alpha=1.00)  Lasso(alpha=10.00)  Lasso(alpha=100.00)  \n",
       "age                 0.000000            0.000000             0.000000  \n",
       "sex                -0.000000            0.000000             0.000000  \n",
       "bmi               443.703388            0.000000             0.000000  \n",
       "bp                 51.601094            0.000000             0.000000  \n",
       "s1                  0.000000            0.000000             0.000000  \n",
       "s2                  0.000000            0.000000             0.000000  \n",
       "s3                 -0.000000           -0.000000            -0.000000  \n",
       "s4                  0.000000            0.000000             0.000000  \n",
       "s5                201.966478            0.000000             0.000000  \n",
       "s6                  0.000000            0.000000             0.000000  \n",
       "R2 scores           0.361898           -0.006405            -0.006405  "
      ]
     },
     "execution_count": 27,
     "metadata": {},
     "output_type": "execute_result"
    }
   ],
   "source": [
    "comp_df"
   ]
  },
  {
   "cell_type": "markdown",
   "metadata": {},
   "source": [
    "# 3. 엘라스틱넷 모델"
   ]
  },
  {
   "cell_type": "code",
   "execution_count": 28,
   "metadata": {},
   "outputs": [
    {
     "data": {
      "text/html": [
       "<style>#sk-container-id-3 {color: black;background-color: white;}#sk-container-id-3 pre{padding: 0;}#sk-container-id-3 div.sk-toggleable {background-color: white;}#sk-container-id-3 label.sk-toggleable__label {cursor: pointer;display: block;width: 100%;margin-bottom: 0;padding: 0.3em;box-sizing: border-box;text-align: center;}#sk-container-id-3 label.sk-toggleable__label-arrow:before {content: \"▸\";float: left;margin-right: 0.25em;color: #696969;}#sk-container-id-3 label.sk-toggleable__label-arrow:hover:before {color: black;}#sk-container-id-3 div.sk-estimator:hover label.sk-toggleable__label-arrow:before {color: black;}#sk-container-id-3 div.sk-toggleable__content {max-height: 0;max-width: 0;overflow: hidden;text-align: left;background-color: #f0f8ff;}#sk-container-id-3 div.sk-toggleable__content pre {margin: 0.2em;color: black;border-radius: 0.25em;background-color: #f0f8ff;}#sk-container-id-3 input.sk-toggleable__control:checked~div.sk-toggleable__content {max-height: 200px;max-width: 100%;overflow: auto;}#sk-container-id-3 input.sk-toggleable__control:checked~label.sk-toggleable__label-arrow:before {content: \"▾\";}#sk-container-id-3 div.sk-estimator input.sk-toggleable__control:checked~label.sk-toggleable__label {background-color: #d4ebff;}#sk-container-id-3 div.sk-label input.sk-toggleable__control:checked~label.sk-toggleable__label {background-color: #d4ebff;}#sk-container-id-3 input.sk-hidden--visually {border: 0;clip: rect(1px 1px 1px 1px);clip: rect(1px, 1px, 1px, 1px);height: 1px;margin: -1px;overflow: hidden;padding: 0;position: absolute;width: 1px;}#sk-container-id-3 div.sk-estimator {font-family: monospace;background-color: #f0f8ff;border: 1px dotted black;border-radius: 0.25em;box-sizing: border-box;margin-bottom: 0.5em;}#sk-container-id-3 div.sk-estimator:hover {background-color: #d4ebff;}#sk-container-id-3 div.sk-parallel-item::after {content: \"\";width: 100%;border-bottom: 1px solid gray;flex-grow: 1;}#sk-container-id-3 div.sk-label:hover label.sk-toggleable__label {background-color: #d4ebff;}#sk-container-id-3 div.sk-serial::before {content: \"\";position: absolute;border-left: 1px solid gray;box-sizing: border-box;top: 0;bottom: 0;left: 50%;z-index: 0;}#sk-container-id-3 div.sk-serial {display: flex;flex-direction: column;align-items: center;background-color: white;padding-right: 0.2em;padding-left: 0.2em;position: relative;}#sk-container-id-3 div.sk-item {position: relative;z-index: 1;}#sk-container-id-3 div.sk-parallel {display: flex;align-items: stretch;justify-content: center;background-color: white;position: relative;}#sk-container-id-3 div.sk-item::before, #sk-container-id-3 div.sk-parallel-item::before {content: \"\";position: absolute;border-left: 1px solid gray;box-sizing: border-box;top: 0;bottom: 0;left: 50%;z-index: -1;}#sk-container-id-3 div.sk-parallel-item {display: flex;flex-direction: column;z-index: 1;position: relative;background-color: white;}#sk-container-id-3 div.sk-parallel-item:first-child::after {align-self: flex-end;width: 50%;}#sk-container-id-3 div.sk-parallel-item:last-child::after {align-self: flex-start;width: 50%;}#sk-container-id-3 div.sk-parallel-item:only-child::after {width: 0;}#sk-container-id-3 div.sk-dashed-wrapped {border: 1px dashed gray;margin: 0 0.4em 0.5em 0.4em;box-sizing: border-box;padding-bottom: 0.4em;background-color: white;}#sk-container-id-3 div.sk-label label {font-family: monospace;font-weight: bold;display: inline-block;line-height: 1.2em;}#sk-container-id-3 div.sk-label-container {text-align: center;}#sk-container-id-3 div.sk-container {/* jupyter's `normalize.less` sets `[hidden] { display: none; }` but bootstrap.min.css set `[hidden] { display: none !important; }` so we also need the `!important` here to be able to override the default hidden behavior on the sphinx rendered scikit-learn.org. See: https://github.com/scikit-learn/scikit-learn/issues/21755 */display: inline-block !important;position: relative;}#sk-container-id-3 div.sk-text-repr-fallback {display: none;}</style><div id=\"sk-container-id-3\" class=\"sk-top-container\"><div class=\"sk-text-repr-fallback\"><pre>ElasticNet(alpha=0.1)</pre><b>In a Jupyter environment, please rerun this cell to show the HTML representation or trust the notebook. <br />On GitHub, the HTML representation is unable to render, please try loading this page with nbviewer.org.</b></div><div class=\"sk-container\" hidden><div class=\"sk-item\"><div class=\"sk-estimator sk-toggleable\"><input class=\"sk-toggleable__control sk-hidden--visually\" id=\"sk-estimator-id-3\" type=\"checkbox\" checked><label for=\"sk-estimator-id-3\" class=\"sk-toggleable__label sk-toggleable__label-arrow\">ElasticNet</label><div class=\"sk-toggleable__content\"><pre>ElasticNet(alpha=0.1)</pre></div></div></div></div></div>"
      ],
      "text/plain": [
       "ElasticNet(alpha=0.1)"
      ]
     },
     "execution_count": 28,
     "metadata": {},
     "output_type": "execute_result"
    }
   ],
   "source": [
    "from sklearn.linear_model import ElasticNet\n",
    "\n",
    "# 모델 구축 및 학습(alpha=1, l1_ratio=0.5)\n",
    "model_ElasticNet = ElasticNet(alpha=0.1, l1_ratio=0.5)\n",
    "model_ElasticNet.fit(X_train, y_train)"
   ]
  },
  {
   "cell_type": "code",
   "execution_count": 29,
   "metadata": {},
   "outputs": [
    {
     "name": "stdout",
     "output_type": "stream",
     "text": [
      "R2:0.104 \n",
      "\n",
      "age    10.591712\n",
      "sex    -0.285015\n",
      "bmi    39.807218\n",
      "bp     28.892278\n",
      "s1      9.604595\n",
      "s2      7.589472\n",
      "s3    -25.067309\n",
      "s4     26.506264\n",
      "s5     33.260185\n",
      "s6     23.526244\n",
      "dtype: float64\n"
     ]
    }
   ],
   "source": [
    "#모델 평가 및 회귀 계수 확인\n",
    "# 엘라스틱넷 선형회귀 모델 평가(alpha=1, L1_ratio=0.5)\n",
    "# 선형 모델 평가\n",
    "y_pred = model_ElasticNet.predict(X_test)\n",
    "r2 = r2_score(y_test, y_pred)\n",
    "\n",
    "#a = 1 엘라스틱넷 모델 회귀 계수\n",
    "coef = pd.Series(model_ElasticNet.coef_, index=diab.feature_names)\n",
    "\n",
    "print(\"R2:{:.3f} \\n\".format(r2))\n",
    "print(coef)"
   ]
  },
  {
   "cell_type": "code",
   "execution_count": 30,
   "metadata": {},
   "outputs": [],
   "source": [
    "alpha_list=[0.01, 1, 10, 100]\n",
    "for each in alpha_list:\n",
    "    model_ElasticNet = ElasticNet(alpha=each)\n",
    "    model_ElasticNet.fit(X_train, y_train)\n",
    "    y_pred = model_ElasticNet.predict(X_test)\n",
    "    r2 = r2_score(y_test, y_pred)\n",
    "    col_name = f'ElasticNet(alpha={each:.2f})'\n",
    "    comp_df[col_name] = np.append(model_ElasticNet.coef_, r2)"
   ]
  },
  {
   "cell_type": "code",
   "execution_count": 31,
   "metadata": {},
   "outputs": [
    {
     "data": {
      "text/html": [
       "<div>\n",
       "<style scoped>\n",
       "    .dataframe tbody tr th:only-of-type {\n",
       "        vertical-align: middle;\n",
       "    }\n",
       "\n",
       "    .dataframe tbody tr th {\n",
       "        vertical-align: top;\n",
       "    }\n",
       "\n",
       "    .dataframe thead th {\n",
       "        text-align: right;\n",
       "    }\n",
       "</style>\n",
       "<table border=\"1\" class=\"dataframe\">\n",
       "  <thead>\n",
       "    <tr style=\"text-align: right;\">\n",
       "      <th></th>\n",
       "      <th>LR</th>\n",
       "      <th>Ridge(alpha=0.01)</th>\n",
       "      <th>Ridge(alpha=1.00)</th>\n",
       "      <th>Ridge(alpha=10.00)</th>\n",
       "      <th>Ridge(alpha=100.00)</th>\n",
       "      <th>Lasso(alpha=0.01)</th>\n",
       "      <th>Lasso(alpha=1.00)</th>\n",
       "      <th>Lasso(alpha=10.00)</th>\n",
       "      <th>Lasso(alpha=100.00)</th>\n",
       "      <th>ElasticNet(alpha=0.01)</th>\n",
       "      <th>ElasticNet(alpha=1.00)</th>\n",
       "      <th>ElasticNet(alpha=10.00)</th>\n",
       "      <th>ElasticNet(alpha=100.00)</th>\n",
       "    </tr>\n",
       "  </thead>\n",
       "  <tbody>\n",
       "    <tr>\n",
       "      <th>age</th>\n",
       "      <td>29.254013</td>\n",
       "      <td>34.167328</td>\n",
       "      <td>45.054210</td>\n",
       "      <td>16.230889</td>\n",
       "      <td>2.072848</td>\n",
       "      <td>28.246364</td>\n",
       "      <td>0.000000</td>\n",
       "      <td>0.000000</td>\n",
       "      <td>0.000000</td>\n",
       "      <td>41.417999</td>\n",
       "      <td>0.367567</td>\n",
       "      <td>0.000000</td>\n",
       "      <td>0.000000</td>\n",
       "    </tr>\n",
       "    <tr>\n",
       "      <th>sex</th>\n",
       "      <td>-261.706469</td>\n",
       "      <td>-254.043316</td>\n",
       "      <td>-71.947397</td>\n",
       "      <td>-2.961367</td>\n",
       "      <td>-0.003808</td>\n",
       "      <td>-250.819184</td>\n",
       "      <td>-0.000000</td>\n",
       "      <td>0.000000</td>\n",
       "      <td>0.000000</td>\n",
       "      <td>-45.935016</td>\n",
       "      <td>0.000000</td>\n",
       "      <td>0.000000</td>\n",
       "      <td>0.000000</td>\n",
       "    </tr>\n",
       "    <tr>\n",
       "      <th>bmi</th>\n",
       "      <td>546.299723</td>\n",
       "      <td>550.844882</td>\n",
       "      <td>280.716252</td>\n",
       "      <td>59.524160</td>\n",
       "      <td>6.899915</td>\n",
       "      <td>556.215874</td>\n",
       "      <td>443.703388</td>\n",
       "      <td>0.000000</td>\n",
       "      <td>0.000000</td>\n",
       "      <td>225.053463</td>\n",
       "      <td>3.512046</td>\n",
       "      <td>0.000000</td>\n",
       "      <td>0.000000</td>\n",
       "    </tr>\n",
       "    <tr>\n",
       "      <th>bp</th>\n",
       "      <td>388.398341</td>\n",
       "      <td>379.126708</td>\n",
       "      <td>195.212662</td>\n",
       "      <td>43.421300</td>\n",
       "      <td>5.085100</td>\n",
       "      <td>380.659502</td>\n",
       "      <td>51.601094</td>\n",
       "      <td>0.000000</td>\n",
       "      <td>0.000000</td>\n",
       "      <td>158.163233</td>\n",
       "      <td>2.328646</td>\n",
       "      <td>0.000000</td>\n",
       "      <td>0.000000</td>\n",
       "    </tr>\n",
       "    <tr>\n",
       "      <th>s1</th>\n",
       "      <td>-901.959668</td>\n",
       "      <td>-404.253263</td>\n",
       "      <td>-2.229303</td>\n",
       "      <td>13.875073</td>\n",
       "      <td>2.069660</td>\n",
       "      <td>-468.739540</td>\n",
       "      <td>0.000000</td>\n",
       "      <td>0.000000</td>\n",
       "      <td>0.000000</td>\n",
       "      <td>9.021067</td>\n",
       "      <td>0.380194</td>\n",
       "      <td>0.000000</td>\n",
       "      <td>0.000000</td>\n",
       "    </tr>\n",
       "    <tr>\n",
       "      <th>s2</th>\n",
       "      <td>506.763241</td>\n",
       "      <td>123.029219</td>\n",
       "      <td>-17.540797</td>\n",
       "      <td>10.865267</td>\n",
       "      <td>1.743748</td>\n",
       "      <td>166.993417</td>\n",
       "      <td>0.000000</td>\n",
       "      <td>0.000000</td>\n",
       "      <td>0.000000</td>\n",
       "      <td>-1.762029</td>\n",
       "      <td>0.168337</td>\n",
       "      <td>0.000000</td>\n",
       "      <td>0.000000</td>\n",
       "    </tr>\n",
       "    <tr>\n",
       "      <th>s3</th>\n",
       "      <td>121.154351</td>\n",
       "      <td>-99.041674</td>\n",
       "      <td>-148.688862</td>\n",
       "      <td>-37.495847</td>\n",
       "      <td>-4.508876</td>\n",
       "      <td>-60.219459</td>\n",
       "      <td>-0.000000</td>\n",
       "      <td>-0.000000</td>\n",
       "      <td>-0.000000</td>\n",
       "      <td>-124.240022</td>\n",
       "      <td>-1.955958</td>\n",
       "      <td>-0.000000</td>\n",
       "      <td>-0.000000</td>\n",
       "    </tr>\n",
       "    <tr>\n",
       "      <th>s4</th>\n",
       "      <td>288.035267</td>\n",
       "      <td>215.032624</td>\n",
       "      <td>120.467240</td>\n",
       "      <td>38.728538</td>\n",
       "      <td>4.902421</td>\n",
       "      <td>230.916253</td>\n",
       "      <td>0.000000</td>\n",
       "      <td>0.000000</td>\n",
       "      <td>0.000000</td>\n",
       "      <td>106.910117</td>\n",
       "      <td>2.228128</td>\n",
       "      <td>0.000000</td>\n",
       "      <td>0.000000</td>\n",
       "    </tr>\n",
       "    <tr>\n",
       "      <th>s5</th>\n",
       "      <td>659.268951</td>\n",
       "      <td>463.842634</td>\n",
       "      <td>198.614401</td>\n",
       "      <td>49.224746</td>\n",
       "      <td>5.926496</td>\n",
       "      <td>492.634358</td>\n",
       "      <td>201.966478</td>\n",
       "      <td>0.000000</td>\n",
       "      <td>0.000000</td>\n",
       "      <td>165.006085</td>\n",
       "      <td>2.887428</td>\n",
       "      <td>0.000000</td>\n",
       "      <td>0.000000</td>\n",
       "    </tr>\n",
       "    <tr>\n",
       "      <th>s6</th>\n",
       "      <td>41.376701</td>\n",
       "      <td>50.351490</td>\n",
       "      <td>106.934692</td>\n",
       "      <td>34.737987</td>\n",
       "      <td>4.328698</td>\n",
       "      <td>43.969346</td>\n",
       "      <td>0.000000</td>\n",
       "      <td>0.000000</td>\n",
       "      <td>0.000000</td>\n",
       "      <td>97.213477</td>\n",
       "      <td>1.846225</td>\n",
       "      <td>0.000000</td>\n",
       "      <td>0.000000</td>\n",
       "    </tr>\n",
       "    <tr>\n",
       "      <th>R2 scores</th>\n",
       "      <td>0.477000</td>\n",
       "      <td>0.477672</td>\n",
       "      <td>0.423344</td>\n",
       "      <td>0.151566</td>\n",
       "      <td>0.014770</td>\n",
       "      <td>0.478714</td>\n",
       "      <td>0.361898</td>\n",
       "      <td>-0.006405</td>\n",
       "      <td>-0.006405</td>\n",
       "      <td>0.384437</td>\n",
       "      <td>0.003107</td>\n",
       "      <td>-0.006405</td>\n",
       "      <td>-0.006405</td>\n",
       "    </tr>\n",
       "  </tbody>\n",
       "</table>\n",
       "</div>"
      ],
      "text/plain": [
       "                   LR  Ridge(alpha=0.01)  Ridge(alpha=1.00)  \\\n",
       "age         29.254013          34.167328          45.054210   \n",
       "sex       -261.706469        -254.043316         -71.947397   \n",
       "bmi        546.299723         550.844882         280.716252   \n",
       "bp         388.398341         379.126708         195.212662   \n",
       "s1        -901.959668        -404.253263          -2.229303   \n",
       "s2         506.763241         123.029219         -17.540797   \n",
       "s3         121.154351         -99.041674        -148.688862   \n",
       "s4         288.035267         215.032624         120.467240   \n",
       "s5         659.268951         463.842634         198.614401   \n",
       "s6          41.376701          50.351490         106.934692   \n",
       "R2 scores    0.477000           0.477672           0.423344   \n",
       "\n",
       "           Ridge(alpha=10.00)  Ridge(alpha=100.00)  Lasso(alpha=0.01)  \\\n",
       "age                 16.230889             2.072848          28.246364   \n",
       "sex                 -2.961367            -0.003808        -250.819184   \n",
       "bmi                 59.524160             6.899915         556.215874   \n",
       "bp                  43.421300             5.085100         380.659502   \n",
       "s1                  13.875073             2.069660        -468.739540   \n",
       "s2                  10.865267             1.743748         166.993417   \n",
       "s3                 -37.495847            -4.508876         -60.219459   \n",
       "s4                  38.728538             4.902421         230.916253   \n",
       "s5                  49.224746             5.926496         492.634358   \n",
       "s6                  34.737987             4.328698          43.969346   \n",
       "R2 scores            0.151566             0.014770           0.478714   \n",
       "\n",
       "           Lasso(alpha=1.00)  Lasso(alpha=10.00)  Lasso(alpha=100.00)  \\\n",
       "age                 0.000000            0.000000             0.000000   \n",
       "sex                -0.000000            0.000000             0.000000   \n",
       "bmi               443.703388            0.000000             0.000000   \n",
       "bp                 51.601094            0.000000             0.000000   \n",
       "s1                  0.000000            0.000000             0.000000   \n",
       "s2                  0.000000            0.000000             0.000000   \n",
       "s3                 -0.000000           -0.000000            -0.000000   \n",
       "s4                  0.000000            0.000000             0.000000   \n",
       "s5                201.966478            0.000000             0.000000   \n",
       "s6                  0.000000            0.000000             0.000000   \n",
       "R2 scores           0.361898           -0.006405            -0.006405   \n",
       "\n",
       "           ElasticNet(alpha=0.01)  ElasticNet(alpha=1.00)  \\\n",
       "age                     41.417999                0.367567   \n",
       "sex                    -45.935016                0.000000   \n",
       "bmi                    225.053463                3.512046   \n",
       "bp                     158.163233                2.328646   \n",
       "s1                       9.021067                0.380194   \n",
       "s2                      -1.762029                0.168337   \n",
       "s3                    -124.240022               -1.955958   \n",
       "s4                     106.910117                2.228128   \n",
       "s5                     165.006085                2.887428   \n",
       "s6                      97.213477                1.846225   \n",
       "R2 scores                0.384437                0.003107   \n",
       "\n",
       "           ElasticNet(alpha=10.00)  ElasticNet(alpha=100.00)  \n",
       "age                       0.000000                  0.000000  \n",
       "sex                       0.000000                  0.000000  \n",
       "bmi                       0.000000                  0.000000  \n",
       "bp                        0.000000                  0.000000  \n",
       "s1                        0.000000                  0.000000  \n",
       "s2                        0.000000                  0.000000  \n",
       "s3                       -0.000000                 -0.000000  \n",
       "s4                        0.000000                  0.000000  \n",
       "s5                        0.000000                  0.000000  \n",
       "s6                        0.000000                  0.000000  \n",
       "R2 scores                -0.006405                 -0.006405  "
      ]
     },
     "execution_count": 31,
     "metadata": {},
     "output_type": "execute_result"
    }
   ],
   "source": [
    "comp_df"
   ]
  },
  {
   "cell_type": "markdown",
   "metadata": {},
   "source": [
    "- 계수 시각화"
   ]
  },
  {
   "cell_type": "code",
   "execution_count": 32,
   "metadata": {},
   "outputs": [],
   "source": [
    "\n",
    "\n",
    "# 시각화\n"
   ]
  },
  {
   "cell_type": "code",
   "execution_count": 33,
   "metadata": {},
   "outputs": [],
   "source": [
    "# alpha_list=[0.01, 1, 10, 100]인 경우, l1_ratio=0.5 \n",
    "\n"
   ]
  },
  {
   "cell_type": "code",
   "execution_count": null,
   "metadata": {},
   "outputs": [],
   "source": []
  },
  {
   "cell_type": "code",
   "execution_count": null,
   "metadata": {},
   "outputs": [],
   "source": []
  },
  {
   "cell_type": "markdown",
   "metadata": {},
   "source": [
    "### LassoCV() : k-폴드 교차 검증으로 최적의 Lasso 모델 하이퍼파라미터 alpha 찾기"
   ]
  },
  {
   "cell_type": "code",
   "execution_count": 34,
   "metadata": {},
   "outputs": [],
   "source": [
    "#LassoCV()에 필요한 매개변수 설정\n",
    "#0.01 ~ 9.91 까지 alpha_list  생성\n",
    "cv = 5\n",
    "alpha_list = np.arange(0.01, 10, 0.01)\n",
    "max_iter = 1000"
   ]
  },
  {
   "cell_type": "code",
   "execution_count": 35,
   "metadata": {},
   "outputs": [],
   "source": [
    "from sklearn.linear_model import LassoCV\n",
    "\n",
    "model_LassoCV = LassoCV(alphas=alpha_list, cv=5, max_iter=1000, n_jobs=-1, random_state=42)"
   ]
  },
  {
   "cell_type": "markdown",
   "metadata": {},
   "source": [
    "- 모델 학습"
   ]
  },
  {
   "cell_type": "code",
   "execution_count": 36,
   "metadata": {},
   "outputs": [
    {
     "data": {
      "text/html": [
       "<style>#sk-container-id-4 {color: black;background-color: white;}#sk-container-id-4 pre{padding: 0;}#sk-container-id-4 div.sk-toggleable {background-color: white;}#sk-container-id-4 label.sk-toggleable__label {cursor: pointer;display: block;width: 100%;margin-bottom: 0;padding: 0.3em;box-sizing: border-box;text-align: center;}#sk-container-id-4 label.sk-toggleable__label-arrow:before {content: \"▸\";float: left;margin-right: 0.25em;color: #696969;}#sk-container-id-4 label.sk-toggleable__label-arrow:hover:before {color: black;}#sk-container-id-4 div.sk-estimator:hover label.sk-toggleable__label-arrow:before {color: black;}#sk-container-id-4 div.sk-toggleable__content {max-height: 0;max-width: 0;overflow: hidden;text-align: left;background-color: #f0f8ff;}#sk-container-id-4 div.sk-toggleable__content pre {margin: 0.2em;color: black;border-radius: 0.25em;background-color: #f0f8ff;}#sk-container-id-4 input.sk-toggleable__control:checked~div.sk-toggleable__content {max-height: 200px;max-width: 100%;overflow: auto;}#sk-container-id-4 input.sk-toggleable__control:checked~label.sk-toggleable__label-arrow:before {content: \"▾\";}#sk-container-id-4 div.sk-estimator input.sk-toggleable__control:checked~label.sk-toggleable__label {background-color: #d4ebff;}#sk-container-id-4 div.sk-label input.sk-toggleable__control:checked~label.sk-toggleable__label {background-color: #d4ebff;}#sk-container-id-4 input.sk-hidden--visually {border: 0;clip: rect(1px 1px 1px 1px);clip: rect(1px, 1px, 1px, 1px);height: 1px;margin: -1px;overflow: hidden;padding: 0;position: absolute;width: 1px;}#sk-container-id-4 div.sk-estimator {font-family: monospace;background-color: #f0f8ff;border: 1px dotted black;border-radius: 0.25em;box-sizing: border-box;margin-bottom: 0.5em;}#sk-container-id-4 div.sk-estimator:hover {background-color: #d4ebff;}#sk-container-id-4 div.sk-parallel-item::after {content: \"\";width: 100%;border-bottom: 1px solid gray;flex-grow: 1;}#sk-container-id-4 div.sk-label:hover label.sk-toggleable__label {background-color: #d4ebff;}#sk-container-id-4 div.sk-serial::before {content: \"\";position: absolute;border-left: 1px solid gray;box-sizing: border-box;top: 0;bottom: 0;left: 50%;z-index: 0;}#sk-container-id-4 div.sk-serial {display: flex;flex-direction: column;align-items: center;background-color: white;padding-right: 0.2em;padding-left: 0.2em;position: relative;}#sk-container-id-4 div.sk-item {position: relative;z-index: 1;}#sk-container-id-4 div.sk-parallel {display: flex;align-items: stretch;justify-content: center;background-color: white;position: relative;}#sk-container-id-4 div.sk-item::before, #sk-container-id-4 div.sk-parallel-item::before {content: \"\";position: absolute;border-left: 1px solid gray;box-sizing: border-box;top: 0;bottom: 0;left: 50%;z-index: -1;}#sk-container-id-4 div.sk-parallel-item {display: flex;flex-direction: column;z-index: 1;position: relative;background-color: white;}#sk-container-id-4 div.sk-parallel-item:first-child::after {align-self: flex-end;width: 50%;}#sk-container-id-4 div.sk-parallel-item:last-child::after {align-self: flex-start;width: 50%;}#sk-container-id-4 div.sk-parallel-item:only-child::after {width: 0;}#sk-container-id-4 div.sk-dashed-wrapped {border: 1px dashed gray;margin: 0 0.4em 0.5em 0.4em;box-sizing: border-box;padding-bottom: 0.4em;background-color: white;}#sk-container-id-4 div.sk-label label {font-family: monospace;font-weight: bold;display: inline-block;line-height: 1.2em;}#sk-container-id-4 div.sk-label-container {text-align: center;}#sk-container-id-4 div.sk-container {/* jupyter's `normalize.less` sets `[hidden] { display: none; }` but bootstrap.min.css set `[hidden] { display: none !important; }` so we also need the `!important` here to be able to override the default hidden behavior on the sphinx rendered scikit-learn.org. See: https://github.com/scikit-learn/scikit-learn/issues/21755 */display: inline-block !important;position: relative;}#sk-container-id-4 div.sk-text-repr-fallback {display: none;}</style><div id=\"sk-container-id-4\" class=\"sk-top-container\"><div class=\"sk-text-repr-fallback\"><pre>LassoCV(alphas=array([0.01, 0.02, 0.03, 0.04, 0.05, 0.06, 0.07, 0.08, 0.09, 0.1 , 0.11,\n",
       "       0.12, 0.13, 0.14, 0.15, 0.16, 0.17, 0.18, 0.19, 0.2 , 0.21, 0.22,\n",
       "       0.23, 0.24, 0.25, 0.26, 0.27, 0.28, 0.29, 0.3 , 0.31, 0.32, 0.33,\n",
       "       0.34, 0.35, 0.36, 0.37, 0.38, 0.39, 0.4 , 0.41, 0.42, 0.43, 0.44,\n",
       "       0.45, 0.46, 0.47, 0.48, 0.49, 0.5 , 0.51, 0.52, 0.53, 0.54, 0.55,\n",
       "       0.56, 0.57, 0.58, 0.59, 0.6 , 0.61, 0.62, 0.63, 0.64, 0.65, 0.66,\n",
       "       0.67...\n",
       "       9.25, 9.26, 9.27, 9.28, 9.29, 9.3 , 9.31, 9.32, 9.33, 9.34, 9.35,\n",
       "       9.36, 9.37, 9.38, 9.39, 9.4 , 9.41, 9.42, 9.43, 9.44, 9.45, 9.46,\n",
       "       9.47, 9.48, 9.49, 9.5 , 9.51, 9.52, 9.53, 9.54, 9.55, 9.56, 9.57,\n",
       "       9.58, 9.59, 9.6 , 9.61, 9.62, 9.63, 9.64, 9.65, 9.66, 9.67, 9.68,\n",
       "       9.69, 9.7 , 9.71, 9.72, 9.73, 9.74, 9.75, 9.76, 9.77, 9.78, 9.79,\n",
       "       9.8 , 9.81, 9.82, 9.83, 9.84, 9.85, 9.86, 9.87, 9.88, 9.89, 9.9 ,\n",
       "       9.91, 9.92, 9.93, 9.94, 9.95, 9.96, 9.97, 9.98, 9.99]),\n",
       "        cv=5, n_jobs=-1, random_state=42)</pre><b>In a Jupyter environment, please rerun this cell to show the HTML representation or trust the notebook. <br />On GitHub, the HTML representation is unable to render, please try loading this page with nbviewer.org.</b></div><div class=\"sk-container\" hidden><div class=\"sk-item\"><div class=\"sk-estimator sk-toggleable\"><input class=\"sk-toggleable__control sk-hidden--visually\" id=\"sk-estimator-id-4\" type=\"checkbox\" checked><label for=\"sk-estimator-id-4\" class=\"sk-toggleable__label sk-toggleable__label-arrow\">LassoCV</label><div class=\"sk-toggleable__content\"><pre>LassoCV(alphas=array([0.01, 0.02, 0.03, 0.04, 0.05, 0.06, 0.07, 0.08, 0.09, 0.1 , 0.11,\n",
       "       0.12, 0.13, 0.14, 0.15, 0.16, 0.17, 0.18, 0.19, 0.2 , 0.21, 0.22,\n",
       "       0.23, 0.24, 0.25, 0.26, 0.27, 0.28, 0.29, 0.3 , 0.31, 0.32, 0.33,\n",
       "       0.34, 0.35, 0.36, 0.37, 0.38, 0.39, 0.4 , 0.41, 0.42, 0.43, 0.44,\n",
       "       0.45, 0.46, 0.47, 0.48, 0.49, 0.5 , 0.51, 0.52, 0.53, 0.54, 0.55,\n",
       "       0.56, 0.57, 0.58, 0.59, 0.6 , 0.61, 0.62, 0.63, 0.64, 0.65, 0.66,\n",
       "       0.67...\n",
       "       9.25, 9.26, 9.27, 9.28, 9.29, 9.3 , 9.31, 9.32, 9.33, 9.34, 9.35,\n",
       "       9.36, 9.37, 9.38, 9.39, 9.4 , 9.41, 9.42, 9.43, 9.44, 9.45, 9.46,\n",
       "       9.47, 9.48, 9.49, 9.5 , 9.51, 9.52, 9.53, 9.54, 9.55, 9.56, 9.57,\n",
       "       9.58, 9.59, 9.6 , 9.61, 9.62, 9.63, 9.64, 9.65, 9.66, 9.67, 9.68,\n",
       "       9.69, 9.7 , 9.71, 9.72, 9.73, 9.74, 9.75, 9.76, 9.77, 9.78, 9.79,\n",
       "       9.8 , 9.81, 9.82, 9.83, 9.84, 9.85, 9.86, 9.87, 9.88, 9.89, 9.9 ,\n",
       "       9.91, 9.92, 9.93, 9.94, 9.95, 9.96, 9.97, 9.98, 9.99]),\n",
       "        cv=5, n_jobs=-1, random_state=42)</pre></div></div></div></div></div>"
      ],
      "text/plain": [
       "LassoCV(alphas=array([0.01, 0.02, 0.03, 0.04, 0.05, 0.06, 0.07, 0.08, 0.09, 0.1 , 0.11,\n",
       "       0.12, 0.13, 0.14, 0.15, 0.16, 0.17, 0.18, 0.19, 0.2 , 0.21, 0.22,\n",
       "       0.23, 0.24, 0.25, 0.26, 0.27, 0.28, 0.29, 0.3 , 0.31, 0.32, 0.33,\n",
       "       0.34, 0.35, 0.36, 0.37, 0.38, 0.39, 0.4 , 0.41, 0.42, 0.43, 0.44,\n",
       "       0.45, 0.46, 0.47, 0.48, 0.49, 0.5 , 0.51, 0.52, 0.53, 0.54, 0.55,\n",
       "       0.56, 0.57, 0.58, 0.59, 0.6 , 0.61, 0.62, 0.63, 0.64, 0.65, 0.66,\n",
       "       0.67...\n",
       "       9.25, 9.26, 9.27, 9.28, 9.29, 9.3 , 9.31, 9.32, 9.33, 9.34, 9.35,\n",
       "       9.36, 9.37, 9.38, 9.39, 9.4 , 9.41, 9.42, 9.43, 9.44, 9.45, 9.46,\n",
       "       9.47, 9.48, 9.49, 9.5 , 9.51, 9.52, 9.53, 9.54, 9.55, 9.56, 9.57,\n",
       "       9.58, 9.59, 9.6 , 9.61, 9.62, 9.63, 9.64, 9.65, 9.66, 9.67, 9.68,\n",
       "       9.69, 9.7 , 9.71, 9.72, 9.73, 9.74, 9.75, 9.76, 9.77, 9.78, 9.79,\n",
       "       9.8 , 9.81, 9.82, 9.83, 9.84, 9.85, 9.86, 9.87, 9.88, 9.89, 9.9 ,\n",
       "       9.91, 9.92, 9.93, 9.94, 9.95, 9.96, 9.97, 9.98, 9.99]),\n",
       "        cv=5, n_jobs=-1, random_state=42)"
      ]
     },
     "execution_count": 36,
     "metadata": {},
     "output_type": "execute_result"
    }
   ],
   "source": [
    "model_LassoCV.fit(X_train, y_train)"
   ]
  },
  {
   "cell_type": "code",
   "execution_count": 37,
   "metadata": {},
   "outputs": [
    {
     "data": {
      "text/plain": [
       "0.01"
      ]
     },
     "execution_count": 37,
     "metadata": {},
     "output_type": "execute_result"
    }
   ],
   "source": [
    "model_LassoCV.alpha_"
   ]
  },
  {
   "cell_type": "code",
   "execution_count": 38,
   "metadata": {},
   "outputs": [
    {
     "data": {
      "text/plain": [
       "0.47871428812904404"
      ]
     },
     "execution_count": 38,
     "metadata": {},
     "output_type": "execute_result"
    }
   ],
   "source": [
    "y_pred = model_LassoCV.predict(X_test)\n",
    "r2_score(y_test, y_pred)"
   ]
  },
  {
   "attachments": {},
   "cell_type": "markdown",
   "metadata": {},
   "source": [
    "## GridSearchCV"
   ]
  },
  {
   "cell_type": "code",
   "execution_count": 39,
   "metadata": {},
   "outputs": [],
   "source": [
    "from sklearn.model_selection import GridSearchCV\n",
    "\n",
    "model_ElasticNet = ElasticNet()\n",
    "param_grid = {\n",
    "    'alpha': [0.01, 1, 10, 100],\n",
    "    'l1_ratio':[0.1, 0.3, 0.6, 0.9],\n",
    "}\n",
    "grid = GridSearchCV(model_ElasticNet, param_grid=param_grid, cv=3)"
   ]
  },
  {
   "cell_type": "code",
   "execution_count": 40,
   "metadata": {},
   "outputs": [
    {
     "data": {
      "text/html": [
       "<style>#sk-container-id-5 {color: black;background-color: white;}#sk-container-id-5 pre{padding: 0;}#sk-container-id-5 div.sk-toggleable {background-color: white;}#sk-container-id-5 label.sk-toggleable__label {cursor: pointer;display: block;width: 100%;margin-bottom: 0;padding: 0.3em;box-sizing: border-box;text-align: center;}#sk-container-id-5 label.sk-toggleable__label-arrow:before {content: \"▸\";float: left;margin-right: 0.25em;color: #696969;}#sk-container-id-5 label.sk-toggleable__label-arrow:hover:before {color: black;}#sk-container-id-5 div.sk-estimator:hover label.sk-toggleable__label-arrow:before {color: black;}#sk-container-id-5 div.sk-toggleable__content {max-height: 0;max-width: 0;overflow: hidden;text-align: left;background-color: #f0f8ff;}#sk-container-id-5 div.sk-toggleable__content pre {margin: 0.2em;color: black;border-radius: 0.25em;background-color: #f0f8ff;}#sk-container-id-5 input.sk-toggleable__control:checked~div.sk-toggleable__content {max-height: 200px;max-width: 100%;overflow: auto;}#sk-container-id-5 input.sk-toggleable__control:checked~label.sk-toggleable__label-arrow:before {content: \"▾\";}#sk-container-id-5 div.sk-estimator input.sk-toggleable__control:checked~label.sk-toggleable__label {background-color: #d4ebff;}#sk-container-id-5 div.sk-label input.sk-toggleable__control:checked~label.sk-toggleable__label {background-color: #d4ebff;}#sk-container-id-5 input.sk-hidden--visually {border: 0;clip: rect(1px 1px 1px 1px);clip: rect(1px, 1px, 1px, 1px);height: 1px;margin: -1px;overflow: hidden;padding: 0;position: absolute;width: 1px;}#sk-container-id-5 div.sk-estimator {font-family: monospace;background-color: #f0f8ff;border: 1px dotted black;border-radius: 0.25em;box-sizing: border-box;margin-bottom: 0.5em;}#sk-container-id-5 div.sk-estimator:hover {background-color: #d4ebff;}#sk-container-id-5 div.sk-parallel-item::after {content: \"\";width: 100%;border-bottom: 1px solid gray;flex-grow: 1;}#sk-container-id-5 div.sk-label:hover label.sk-toggleable__label {background-color: #d4ebff;}#sk-container-id-5 div.sk-serial::before {content: \"\";position: absolute;border-left: 1px solid gray;box-sizing: border-box;top: 0;bottom: 0;left: 50%;z-index: 0;}#sk-container-id-5 div.sk-serial {display: flex;flex-direction: column;align-items: center;background-color: white;padding-right: 0.2em;padding-left: 0.2em;position: relative;}#sk-container-id-5 div.sk-item {position: relative;z-index: 1;}#sk-container-id-5 div.sk-parallel {display: flex;align-items: stretch;justify-content: center;background-color: white;position: relative;}#sk-container-id-5 div.sk-item::before, #sk-container-id-5 div.sk-parallel-item::before {content: \"\";position: absolute;border-left: 1px solid gray;box-sizing: border-box;top: 0;bottom: 0;left: 50%;z-index: -1;}#sk-container-id-5 div.sk-parallel-item {display: flex;flex-direction: column;z-index: 1;position: relative;background-color: white;}#sk-container-id-5 div.sk-parallel-item:first-child::after {align-self: flex-end;width: 50%;}#sk-container-id-5 div.sk-parallel-item:last-child::after {align-self: flex-start;width: 50%;}#sk-container-id-5 div.sk-parallel-item:only-child::after {width: 0;}#sk-container-id-5 div.sk-dashed-wrapped {border: 1px dashed gray;margin: 0 0.4em 0.5em 0.4em;box-sizing: border-box;padding-bottom: 0.4em;background-color: white;}#sk-container-id-5 div.sk-label label {font-family: monospace;font-weight: bold;display: inline-block;line-height: 1.2em;}#sk-container-id-5 div.sk-label-container {text-align: center;}#sk-container-id-5 div.sk-container {/* jupyter's `normalize.less` sets `[hidden] { display: none; }` but bootstrap.min.css set `[hidden] { display: none !important; }` so we also need the `!important` here to be able to override the default hidden behavior on the sphinx rendered scikit-learn.org. See: https://github.com/scikit-learn/scikit-learn/issues/21755 */display: inline-block !important;position: relative;}#sk-container-id-5 div.sk-text-repr-fallback {display: none;}</style><div id=\"sk-container-id-5\" class=\"sk-top-container\"><div class=\"sk-text-repr-fallback\"><pre>GridSearchCV(cv=3, estimator=ElasticNet(),\n",
       "             param_grid={&#x27;alpha&#x27;: [0.01, 1, 10, 100],\n",
       "                         &#x27;l1_ratio&#x27;: [0.1, 0.3, 0.6, 0.9]})</pre><b>In a Jupyter environment, please rerun this cell to show the HTML representation or trust the notebook. <br />On GitHub, the HTML representation is unable to render, please try loading this page with nbviewer.org.</b></div><div class=\"sk-container\" hidden><div class=\"sk-item sk-dashed-wrapped\"><div class=\"sk-label-container\"><div class=\"sk-label sk-toggleable\"><input class=\"sk-toggleable__control sk-hidden--visually\" id=\"sk-estimator-id-5\" type=\"checkbox\" ><label for=\"sk-estimator-id-5\" class=\"sk-toggleable__label sk-toggleable__label-arrow\">GridSearchCV</label><div class=\"sk-toggleable__content\"><pre>GridSearchCV(cv=3, estimator=ElasticNet(),\n",
       "             param_grid={&#x27;alpha&#x27;: [0.01, 1, 10, 100],\n",
       "                         &#x27;l1_ratio&#x27;: [0.1, 0.3, 0.6, 0.9]})</pre></div></div></div><div class=\"sk-parallel\"><div class=\"sk-parallel-item\"><div class=\"sk-item\"><div class=\"sk-label-container\"><div class=\"sk-label sk-toggleable\"><input class=\"sk-toggleable__control sk-hidden--visually\" id=\"sk-estimator-id-6\" type=\"checkbox\" ><label for=\"sk-estimator-id-6\" class=\"sk-toggleable__label sk-toggleable__label-arrow\">estimator: ElasticNet</label><div class=\"sk-toggleable__content\"><pre>ElasticNet()</pre></div></div></div><div class=\"sk-serial\"><div class=\"sk-item\"><div class=\"sk-estimator sk-toggleable\"><input class=\"sk-toggleable__control sk-hidden--visually\" id=\"sk-estimator-id-7\" type=\"checkbox\" ><label for=\"sk-estimator-id-7\" class=\"sk-toggleable__label sk-toggleable__label-arrow\">ElasticNet</label><div class=\"sk-toggleable__content\"><pre>ElasticNet()</pre></div></div></div></div></div></div></div></div></div></div>"
      ],
      "text/plain": [
       "GridSearchCV(cv=3, estimator=ElasticNet(),\n",
       "             param_grid={'alpha': [0.01, 1, 10, 100],\n",
       "                         'l1_ratio': [0.1, 0.3, 0.6, 0.9]})"
      ]
     },
     "execution_count": 40,
     "metadata": {},
     "output_type": "execute_result"
    }
   ],
   "source": [
    "grid.fit(X_train, y_train)"
   ]
  },
  {
   "cell_type": "code",
   "execution_count": 41,
   "metadata": {},
   "outputs": [
    {
     "name": "stdout",
     "output_type": "stream",
     "text": [
      "0.47378958651114567\n"
     ]
    }
   ],
   "source": [
    "y_pred = grid.predict(X_test)\n",
    "r2 = r2_score(y_test, y_pred)\n",
    "print(r2)"
   ]
  },
  {
   "cell_type": "code",
   "execution_count": 42,
   "metadata": {},
   "outputs": [
    {
     "data": {
      "text/plain": [
       "{'alpha': 0.01, 'l1_ratio': 0.9}"
      ]
     },
     "execution_count": 42,
     "metadata": {},
     "output_type": "execute_result"
    }
   ],
   "source": [
    "grid.best_params_"
   ]
  },
  {
   "cell_type": "code",
   "execution_count": 43,
   "metadata": {},
   "outputs": [
    {
     "data": {
      "text/html": [
       "<div>\n",
       "<style scoped>\n",
       "    .dataframe tbody tr th:only-of-type {\n",
       "        vertical-align: middle;\n",
       "    }\n",
       "\n",
       "    .dataframe tbody tr th {\n",
       "        vertical-align: top;\n",
       "    }\n",
       "\n",
       "    .dataframe thead th {\n",
       "        text-align: right;\n",
       "    }\n",
       "</style>\n",
       "<table border=\"1\" class=\"dataframe\">\n",
       "  <thead>\n",
       "    <tr style=\"text-align: right;\">\n",
       "      <th></th>\n",
       "      <th>mean_test_score</th>\n",
       "      <th>rank_test_score</th>\n",
       "    </tr>\n",
       "  </thead>\n",
       "  <tbody>\n",
       "    <tr>\n",
       "      <th>0</th>\n",
       "      <td>0.276728</td>\n",
       "      <td>4</td>\n",
       "    </tr>\n",
       "    <tr>\n",
       "      <th>1</th>\n",
       "      <td>0.308736</td>\n",
       "      <td>3</td>\n",
       "    </tr>\n",
       "    <tr>\n",
       "      <th>2</th>\n",
       "      <td>0.371355</td>\n",
       "      <td>2</td>\n",
       "    </tr>\n",
       "    <tr>\n",
       "      <th>3</th>\n",
       "      <td>0.454411</td>\n",
       "      <td>1</td>\n",
       "    </tr>\n",
       "    <tr>\n",
       "      <th>4</th>\n",
       "      <td>-0.028251</td>\n",
       "      <td>8</td>\n",
       "    </tr>\n",
       "    <tr>\n",
       "      <th>5</th>\n",
       "      <td>-0.027520</td>\n",
       "      <td>7</td>\n",
       "    </tr>\n",
       "    <tr>\n",
       "      <th>6</th>\n",
       "      <td>-0.024958</td>\n",
       "      <td>6</td>\n",
       "    </tr>\n",
       "    <tr>\n",
       "      <th>7</th>\n",
       "      <td>-0.007083</td>\n",
       "      <td>5</td>\n",
       "    </tr>\n",
       "    <tr>\n",
       "      <th>8</th>\n",
       "      <td>-0.034742</td>\n",
       "      <td>9</td>\n",
       "    </tr>\n",
       "    <tr>\n",
       "      <th>9</th>\n",
       "      <td>-0.035039</td>\n",
       "      <td>10</td>\n",
       "    </tr>\n",
       "    <tr>\n",
       "      <th>10</th>\n",
       "      <td>-0.035039</td>\n",
       "      <td>10</td>\n",
       "    </tr>\n",
       "    <tr>\n",
       "      <th>11</th>\n",
       "      <td>-0.035039</td>\n",
       "      <td>10</td>\n",
       "    </tr>\n",
       "    <tr>\n",
       "      <th>12</th>\n",
       "      <td>-0.035039</td>\n",
       "      <td>10</td>\n",
       "    </tr>\n",
       "    <tr>\n",
       "      <th>13</th>\n",
       "      <td>-0.035039</td>\n",
       "      <td>10</td>\n",
       "    </tr>\n",
       "    <tr>\n",
       "      <th>14</th>\n",
       "      <td>-0.035039</td>\n",
       "      <td>10</td>\n",
       "    </tr>\n",
       "    <tr>\n",
       "      <th>15</th>\n",
       "      <td>-0.035039</td>\n",
       "      <td>10</td>\n",
       "    </tr>\n",
       "  </tbody>\n",
       "</table>\n",
       "</div>"
      ],
      "text/plain": [
       "    mean_test_score  rank_test_score\n",
       "0          0.276728                4\n",
       "1          0.308736                3\n",
       "2          0.371355                2\n",
       "3          0.454411                1\n",
       "4         -0.028251                8\n",
       "5         -0.027520                7\n",
       "6         -0.024958                6\n",
       "7         -0.007083                5\n",
       "8         -0.034742                9\n",
       "9         -0.035039               10\n",
       "10        -0.035039               10\n",
       "11        -0.035039               10\n",
       "12        -0.035039               10\n",
       "13        -0.035039               10\n",
       "14        -0.035039               10\n",
       "15        -0.035039               10"
      ]
     },
     "execution_count": 43,
     "metadata": {},
     "output_type": "execute_result"
    }
   ],
   "source": [
    "pd.DataFrame(grid.cv_results_)[['mean_test_score', 'rank_test_score']]"
   ]
  },
  {
   "cell_type": "markdown",
   "metadata": {},
   "source": [
    "## [응용] 보스턴 주택가격 데이터를 활용하여, 규제가 없을때, 리지, 라쏘, 엘라스틱넷 선형회귀를 수행하고 각각의 회귀계수 및 예측 성능을 비교하라\n",
    "테스트 사이즈:0.3\n",
    "random_state=42\n"
   ]
  },
  {
   "cell_type": "code",
   "execution_count": null,
   "metadata": {},
   "outputs": [
    {
     "name": "stderr",
     "output_type": "stream",
     "text": [
      "c:\\Users\\PlayData\\anaconda3\\lib\\site-packages\\sklearn\\datasets\\_openml.py:292: UserWarning: Multiple active versions of the dataset matching the name boston exist. Versions may be fundamentally different, returning version 1.\n",
      "  warn(\n",
      "c:\\Users\\PlayData\\anaconda3\\lib\\site-packages\\sklearn\\datasets\\_openml.py:932: FutureWarning: The default value of `parser` will change from `'liac-arff'` to `'auto'` in 1.4. You can set `parser='auto'` to silence this warning. Therefore, an `ImportError` will be raised from 1.4 if the dataset is dense and pandas is not installed. Note that the pandas parser may return different data types. See the Notes Section in fetch_openml's API doc for details.\n",
      "  warn(\n"
     ]
    }
   ],
   "source": [
    "from sklearn.datasets import fetch_openml\n",
    "from sklearn.linear_model import LinearRegression\n",
    "from sklearn.linear_model import Ridge\n",
    "from sklearn.linear_model import Lasso\n",
    "from sklearn.linear_model import ElasticNet\n",
    "from sklearn.model_selection import train_test_split\n",
    "from sklearn.metrics import r2_score, mean_squared_error\n",
    "from evaluate_model import evaluate_score\n",
    "import evaluate_model\n",
    "import pandas as pd\n",
    "import numpy as np\n",
    "\n",
    "boston = fetch_openml('boston')\n",
    "X = boston.data.values\n",
    "y = boston.target\n",
    "\n",
    "X_train, X_test, y_train, y_test = train_test_split(X, y, test_size=0.3, random_state=42)\n",
    "\n",
    "model_LR = LinearRegression()\n",
    "reg = model_LR.fit(X_train, y_train)\n",
    "y_pred = reg.predict(X_test)\n",
    "\n",
    "evaluate_score(y_test, y_pred)\n",
    "\n",
    "comp_df = pd.DataFrame(index=boston.feature_names + [\"R2 Scores\"])"
   ]
  },
  {
   "cell_type": "code",
   "execution_count": null,
   "metadata": {},
   "outputs": [],
   "source": [
    "LR_coef = pd.Series(model_LR.coef_, index=boston.feature_names)\n",
    "LR_coef = np.abs(LR_coef).sort_values(ascending=False)\n",
    "comp_df[\"LR\"] = np.append(LR_coef, evaluate_model.r2)"
   ]
  },
  {
   "cell_type": "code",
   "execution_count": null,
   "metadata": {},
   "outputs": [
    {
     "name": "stdout",
     "output_type": "stream",
     "text": [
      "                  LR  Ridge(alpha=0.01)  Ridge(alpha=10.01)  \\\n",
      "CRIM       15.417061          -0.128427           -0.128427   \n",
      "ZN          4.057199           0.036952            0.036952   \n",
      "INDUS       3.119835           0.017914            0.017914   \n",
      "CHAS        1.385998           2.932695            2.932695   \n",
      "NOX         0.910685          -7.848060           -7.848060   \n",
      "RM          0.547113           4.063574            4.063574   \n",
      "AGE         0.242727          -0.017242           -0.017242   \n",
      "DIS         0.133470          -1.271761           -1.271761   \n",
      "RAD         0.049523           0.225494            0.225494   \n",
      "TAX         0.035809          -0.009381           -0.009381   \n",
      "PTRATIO     0.011794          -0.827105           -0.827105   \n",
      "B           0.010821           0.011988            0.011988   \n",
      "LSTAT       0.008702          -0.563474           -0.563474   \n",
      "R2 Scores   0.711226           0.704159            0.704159   \n",
      "\n",
      "           Ridge(alpha=20.01)  Ridge(alpha=30.01)  Ridge(alpha=40.01)  \\\n",
      "CRIM                -0.128427           -0.128427           -0.128427   \n",
      "ZN                   0.036952            0.036952            0.036952   \n",
      "INDUS                0.017914            0.017914            0.017914   \n",
      "CHAS                 2.932695            2.932695            2.932695   \n",
      "NOX                 -7.848060           -7.848060           -7.848060   \n",
      "RM                   4.063574            4.063574            4.063574   \n",
      "AGE                 -0.017242           -0.017242           -0.017242   \n",
      "DIS                 -1.271761           -1.271761           -1.271761   \n",
      "RAD                  0.225494            0.225494            0.225494   \n",
      "TAX                 -0.009381           -0.009381           -0.009381   \n",
      "PTRATIO             -0.827105           -0.827105           -0.827105   \n",
      "B                    0.011988            0.011988            0.011988   \n",
      "LSTAT               -0.563474           -0.563474           -0.563474   \n",
      "R2 Scores            0.704159            0.704159            0.704159   \n",
      "\n",
      "           Ridge(alpha=50.01)  Ridge(alpha=60.01)  Ridge(alpha=70.01)  \\\n",
      "CRIM                -0.128427           -0.128427           -0.128427   \n",
      "ZN                   0.036952            0.036952            0.036952   \n",
      "INDUS                0.017914            0.017914            0.017914   \n",
      "CHAS                 2.932695            2.932695            2.932695   \n",
      "NOX                 -7.848060           -7.848060           -7.848060   \n",
      "RM                   4.063574            4.063574            4.063574   \n",
      "AGE                 -0.017242           -0.017242           -0.017242   \n",
      "DIS                 -1.271761           -1.271761           -1.271761   \n",
      "RAD                  0.225494            0.225494            0.225494   \n",
      "TAX                 -0.009381           -0.009381           -0.009381   \n",
      "PTRATIO             -0.827105           -0.827105           -0.827105   \n",
      "B                    0.011988            0.011988            0.011988   \n",
      "LSTAT               -0.563474           -0.563474           -0.563474   \n",
      "R2 Scores            0.704159            0.704159            0.704159   \n",
      "\n",
      "           Ridge(alpha=80.01)  ...  ElasticNet(alpha=0.01)  \\\n",
      "CRIM                -0.128427  ...               -0.126728   \n",
      "ZN                   0.036952  ...                0.037480   \n",
      "INDUS                0.017914  ...                0.006215   \n",
      "CHAS                 2.932695  ...                2.752447   \n",
      "NOX                 -7.848060  ...               -5.040865   \n",
      "RM                   4.063574  ...                4.037592   \n",
      "AGE                 -0.017242  ...               -0.019204   \n",
      "DIS                 -1.271761  ...               -1.228029   \n",
      "RAD                  0.225494  ...                0.220358   \n",
      "TAX                 -0.009381  ...               -0.009672   \n",
      "PTRATIO             -0.827105  ...               -0.797485   \n",
      "B                    0.011988  ...                0.012071   \n",
      "LSTAT               -0.563474  ...               -0.572178   \n",
      "R2 Scores            0.704159  ...                0.700477   \n",
      "\n",
      "           ElasticNet(alpha=10.01)  ElasticNet(alpha=20.01)  \\\n",
      "CRIM                     -0.000000                -0.000000   \n",
      "ZN                        0.028747                 0.025022   \n",
      "INDUS                    -0.000000                -0.000000   \n",
      "CHAS                      0.000000                 0.000000   \n",
      "NOX                       0.000000                -0.000000   \n",
      "RM                        0.000000                 0.000000   \n",
      "AGE                       0.014601                 0.000000   \n",
      "DIS                      -0.000000                -0.000000   \n",
      "RAD                       0.000000                 0.000000   \n",
      "TAX                      -0.007927                -0.010860   \n",
      "PTRATIO                  -0.000000                -0.000000   \n",
      "B                         0.010128                 0.011353   \n",
      "LSTAT                    -0.677536                -0.482426   \n",
      "R2 Scores                 0.519266                 0.485799   \n",
      "\n",
      "           ElasticNet(alpha=30.01)  ElasticNet(alpha=40.01)  \\\n",
      "CRIM                     -0.000000                -0.000000   \n",
      "ZN                        0.025746                 0.024417   \n",
      "INDUS                    -0.000000                -0.000000   \n",
      "CHAS                      0.000000                 0.000000   \n",
      "NOX                      -0.000000                -0.000000   \n",
      "RM                        0.000000                 0.000000   \n",
      "AGE                      -0.000000                -0.000000   \n",
      "DIS                      -0.000000                -0.000000   \n",
      "RAD                       0.000000                 0.000000   \n",
      "TAX                      -0.013666                -0.016007   \n",
      "PTRATIO                  -0.000000                -0.000000   \n",
      "B                         0.012255                 0.012896   \n",
      "LSTAT                    -0.339131                -0.222853   \n",
      "R2 Scores                 0.446994                 0.400609   \n",
      "\n",
      "           ElasticNet(alpha=50.01)  ElasticNet(alpha=60.01)  \\\n",
      "CRIM                     -0.000000                -0.000000   \n",
      "ZN                        0.021622                 0.017758   \n",
      "INDUS                    -0.000000                -0.000000   \n",
      "CHAS                      0.000000                 0.000000   \n",
      "NOX                      -0.000000                -0.000000   \n",
      "RM                        0.000000                 0.000000   \n",
      "AGE                      -0.000000                -0.000000   \n",
      "DIS                      -0.000000                -0.000000   \n",
      "RAD                       0.000000                 0.000000   \n",
      "TAX                      -0.018002                -0.019730   \n",
      "PTRATIO                  -0.000000                -0.000000   \n",
      "B                         0.013343                 0.013641   \n",
      "LSTAT                    -0.126576                -0.045523   \n",
      "R2 Scores                 0.350984                 0.300298   \n",
      "\n",
      "           ElasticNet(alpha=70.01)  ElasticNet(alpha=80.01)  \\\n",
      "CRIM                     -0.000000                -0.000000   \n",
      "ZN                        0.011372                 0.001810   \n",
      "INDUS                    -0.000000                -0.000000   \n",
      "CHAS                      0.000000                 0.000000   \n",
      "NOX                      -0.000000                -0.000000   \n",
      "RM                        0.000000                 0.000000   \n",
      "AGE                      -0.000000                -0.000000   \n",
      "DIS                      -0.000000                 0.000000   \n",
      "RAD                       0.000000                 0.000000   \n",
      "TAX                      -0.020841                -0.021158   \n",
      "PTRATIO                  -0.000000                -0.000000   \n",
      "B                         0.013595                 0.013105   \n",
      "LSTAT                    -0.000000                -0.000000   \n",
      "R2 Scores                 0.263175                 0.249453   \n",
      "\n",
      "           ElasticNet(alpha=90.01)  \n",
      "CRIM                     -0.000000  \n",
      "ZN                        0.000000  \n",
      "INDUS                    -0.000000  \n",
      "CHAS                      0.000000  \n",
      "NOX                      -0.000000  \n",
      "RM                        0.000000  \n",
      "AGE                      -0.000000  \n",
      "DIS                       0.000000  \n",
      "RAD                       0.000000  \n",
      "TAX                      -0.021177  \n",
      "PTRATIO                  -0.000000  \n",
      "B                         0.012502  \n",
      "LSTAT                    -0.000000  \n",
      "R2 Scores                 0.246649  \n",
      "\n",
      "[14 rows x 31 columns]\n"
     ]
    }
   ],
   "source": [
    "alpha_list = [i for i in np.arange(0.01, 100, 10)]\n",
    "for alpha in alpha_list:\n",
    "    model = Ridge()\n",
    "    reg = model.fit(X_train, y_train)\n",
    "    y_pred = reg.predict(X_test)\n",
    "    evaluate_score(y_test, y_pred)\n",
    "    col_name = f\"Ridge(alpha={alpha:.2f})\"\n",
    "    comp_df[col_name] = np.append(model.coef_, evaluate_model.r2)\n",
    "for alpha in alpha_list:\n",
    "    model = Lasso()\n",
    "    reg = model.fit(X_train, y_train)\n",
    "    y_pred = reg.predict(X_test)\n",
    "    evaluate_score(y_test, y_pred)\n",
    "    col_name = f\"Lasso(alpha={alpha:.2f})\"\n",
    "    comp_df[col_name] = np.append(model.coef_, evaluate_model.r2)\n",
    "for alpha in alpha_list:\n",
    "    model = ElasticNet(alpha=alpha, l1_ratio=0.5)\n",
    "    reg = model.fit(X_train, y_train)\n",
    "    y_pred = reg.predict(X_test)\n",
    "    evaluate_score(y_test, y_pred)\n",
    "    col_name = f\"ElasticNet(alpha={alpha:.2f})\"\n",
    "    comp_df[col_name] = np.append(model.coef_, evaluate_model.r2)\n",
    "print(comp_df)"
   ]
  }
 ],
 "metadata": {
  "kernelspec": {
   "display_name": "base",
   "language": "python",
   "name": "python3"
  },
  "language_info": {
   "codemirror_mode": {
    "name": "ipython",
    "version": 3
   },
   "file_extension": ".py",
   "mimetype": "text/x-python",
   "name": "python",
   "nbconvert_exporter": "python",
   "pygments_lexer": "ipython3",
   "version": "3.9.16"
  },
  "vscode": {
   "interpreter": {
    "hash": "7f3124b86b953d827ebe31858c9d7d57fd1033c1acdaf6cbd0987152aea75cb0"
   }
  }
 },
 "nbformat": 4,
 "nbformat_minor": 4
}
